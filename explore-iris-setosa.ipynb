{
 "cells": [
  {
   "cell_type": "code",
   "execution_count": 72,
   "id": "4d119205",
   "metadata": {},
   "outputs": [],
   "source": [
    "import pandas as pd\n",
    "import numpy as np\n",
    "import matplotlib.pyplot as plt\n",
    "import seaborn as sns"
   ]
  },
  {
   "cell_type": "markdown",
   "id": "2d9a851e",
   "metadata": {},
   "source": [
    "### Read Data"
   ]
  },
  {
   "cell_type": "code",
   "execution_count": 73,
   "id": "c64f62f8",
   "metadata": {},
   "outputs": [],
   "source": [
    "data = pd.read_csv('Iris.csv')"
   ]
  },
  {
   "cell_type": "code",
   "execution_count": 74,
   "id": "48d2c58f",
   "metadata": {},
   "outputs": [
    {
     "data": {
      "text/html": [
       "<div>\n",
       "<style scoped>\n",
       "    .dataframe tbody tr th:only-of-type {\n",
       "        vertical-align: middle;\n",
       "    }\n",
       "\n",
       "    .dataframe tbody tr th {\n",
       "        vertical-align: top;\n",
       "    }\n",
       "\n",
       "    .dataframe thead th {\n",
       "        text-align: right;\n",
       "    }\n",
       "</style>\n",
       "<table border=\"1\" class=\"dataframe\">\n",
       "  <thead>\n",
       "    <tr style=\"text-align: right;\">\n",
       "      <th></th>\n",
       "      <th>Id</th>\n",
       "      <th>SepalLengthCm</th>\n",
       "      <th>SepalWidthCm</th>\n",
       "      <th>PetalLengthCm</th>\n",
       "      <th>PetalWidthCm</th>\n",
       "      <th>Species</th>\n",
       "    </tr>\n",
       "  </thead>\n",
       "  <tbody>\n",
       "    <tr>\n",
       "      <th>0</th>\n",
       "      <td>1</td>\n",
       "      <td>5.1</td>\n",
       "      <td>3.5</td>\n",
       "      <td>1.4</td>\n",
       "      <td>0.2</td>\n",
       "      <td>Iris-setosa</td>\n",
       "    </tr>\n",
       "    <tr>\n",
       "      <th>1</th>\n",
       "      <td>2</td>\n",
       "      <td>4.9</td>\n",
       "      <td>3.0</td>\n",
       "      <td>1.4</td>\n",
       "      <td>0.2</td>\n",
       "      <td>Iris-setosa</td>\n",
       "    </tr>\n",
       "    <tr>\n",
       "      <th>2</th>\n",
       "      <td>3</td>\n",
       "      <td>4.7</td>\n",
       "      <td>3.2</td>\n",
       "      <td>1.3</td>\n",
       "      <td>0.2</td>\n",
       "      <td>Iris-setosa</td>\n",
       "    </tr>\n",
       "    <tr>\n",
       "      <th>3</th>\n",
       "      <td>4</td>\n",
       "      <td>4.6</td>\n",
       "      <td>3.1</td>\n",
       "      <td>1.5</td>\n",
       "      <td>0.2</td>\n",
       "      <td>Iris-setosa</td>\n",
       "    </tr>\n",
       "    <tr>\n",
       "      <th>4</th>\n",
       "      <td>5</td>\n",
       "      <td>5.0</td>\n",
       "      <td>3.6</td>\n",
       "      <td>1.4</td>\n",
       "      <td>0.2</td>\n",
       "      <td>Iris-setosa</td>\n",
       "    </tr>\n",
       "  </tbody>\n",
       "</table>\n",
       "</div>"
      ],
      "text/plain": [
       "   Id  SepalLengthCm  SepalWidthCm  PetalLengthCm  PetalWidthCm      Species\n",
       "0   1            5.1           3.5            1.4           0.2  Iris-setosa\n",
       "1   2            4.9           3.0            1.4           0.2  Iris-setosa\n",
       "2   3            4.7           3.2            1.3           0.2  Iris-setosa\n",
       "3   4            4.6           3.1            1.5           0.2  Iris-setosa\n",
       "4   5            5.0           3.6            1.4           0.2  Iris-setosa"
      ]
     },
     "execution_count": 74,
     "metadata": {},
     "output_type": "execute_result"
    }
   ],
   "source": [
    "data.head()"
   ]
  },
  {
   "cell_type": "code",
   "execution_count": 75,
   "id": "0004c361",
   "metadata": {},
   "outputs": [
    {
     "data": {
      "text/html": [
       "<div>\n",
       "<style scoped>\n",
       "    .dataframe tbody tr th:only-of-type {\n",
       "        vertical-align: middle;\n",
       "    }\n",
       "\n",
       "    .dataframe tbody tr th {\n",
       "        vertical-align: top;\n",
       "    }\n",
       "\n",
       "    .dataframe thead th {\n",
       "        text-align: right;\n",
       "    }\n",
       "</style>\n",
       "<table border=\"1\" class=\"dataframe\">\n",
       "  <thead>\n",
       "    <tr style=\"text-align: right;\">\n",
       "      <th></th>\n",
       "      <th>Id</th>\n",
       "      <th>SepalLengthCm</th>\n",
       "      <th>SepalWidthCm</th>\n",
       "      <th>PetalLengthCm</th>\n",
       "      <th>PetalWidthCm</th>\n",
       "    </tr>\n",
       "  </thead>\n",
       "  <tbody>\n",
       "    <tr>\n",
       "      <th>Id</th>\n",
       "      <td>1.000000</td>\n",
       "      <td>0.716676</td>\n",
       "      <td>-0.397729</td>\n",
       "      <td>0.882747</td>\n",
       "      <td>0.899759</td>\n",
       "    </tr>\n",
       "    <tr>\n",
       "      <th>SepalLengthCm</th>\n",
       "      <td>0.716676</td>\n",
       "      <td>1.000000</td>\n",
       "      <td>-0.109369</td>\n",
       "      <td>0.871754</td>\n",
       "      <td>0.817954</td>\n",
       "    </tr>\n",
       "    <tr>\n",
       "      <th>SepalWidthCm</th>\n",
       "      <td>-0.397729</td>\n",
       "      <td>-0.109369</td>\n",
       "      <td>1.000000</td>\n",
       "      <td>-0.420516</td>\n",
       "      <td>-0.356544</td>\n",
       "    </tr>\n",
       "    <tr>\n",
       "      <th>PetalLengthCm</th>\n",
       "      <td>0.882747</td>\n",
       "      <td>0.871754</td>\n",
       "      <td>-0.420516</td>\n",
       "      <td>1.000000</td>\n",
       "      <td>0.962757</td>\n",
       "    </tr>\n",
       "    <tr>\n",
       "      <th>PetalWidthCm</th>\n",
       "      <td>0.899759</td>\n",
       "      <td>0.817954</td>\n",
       "      <td>-0.356544</td>\n",
       "      <td>0.962757</td>\n",
       "      <td>1.000000</td>\n",
       "    </tr>\n",
       "  </tbody>\n",
       "</table>\n",
       "</div>"
      ],
      "text/plain": [
       "                     Id  SepalLengthCm  SepalWidthCm  PetalLengthCm  \\\n",
       "Id             1.000000       0.716676     -0.397729       0.882747   \n",
       "SepalLengthCm  0.716676       1.000000     -0.109369       0.871754   \n",
       "SepalWidthCm  -0.397729      -0.109369      1.000000      -0.420516   \n",
       "PetalLengthCm  0.882747       0.871754     -0.420516       1.000000   \n",
       "PetalWidthCm   0.899759       0.817954     -0.356544       0.962757   \n",
       "\n",
       "               PetalWidthCm  \n",
       "Id                 0.899759  \n",
       "SepalLengthCm      0.817954  \n",
       "SepalWidthCm      -0.356544  \n",
       "PetalLengthCm      0.962757  \n",
       "PetalWidthCm       1.000000  "
      ]
     },
     "execution_count": 75,
     "metadata": {},
     "output_type": "execute_result"
    }
   ],
   "source": [
    "data.corr()"
   ]
  },
  {
   "cell_type": "markdown",
   "id": "f79d8e73",
   "metadata": {},
   "source": [
    "### Only using 2 variables\n",
    "\n",
    "Drop `SepalLengthCm` and `SepalWidthCm` cols"
   ]
  },
  {
   "cell_type": "code",
   "execution_count": 76,
   "id": "62529161",
   "metadata": {},
   "outputs": [],
   "source": [
    "DROP_COLS = [\"Id\", \"SepalLengthCm\", \"SepalWidthCm\"]"
   ]
  },
  {
   "cell_type": "code",
   "execution_count": 77,
   "id": "1e3041b6",
   "metadata": {},
   "outputs": [],
   "source": [
    "def drop_columns(cols_name):\n",
    "    data.drop(cols_name, axis=1, inplace=True)"
   ]
  },
  {
   "cell_type": "code",
   "execution_count": 78,
   "id": "00149e71",
   "metadata": {},
   "outputs": [],
   "source": [
    "drop_columns(DROP_COLS)"
   ]
  },
  {
   "cell_type": "code",
   "execution_count": 79,
   "id": "e9fc75d2",
   "metadata": {},
   "outputs": [
    {
     "data": {
      "text/html": [
       "<div>\n",
       "<style scoped>\n",
       "    .dataframe tbody tr th:only-of-type {\n",
       "        vertical-align: middle;\n",
       "    }\n",
       "\n",
       "    .dataframe tbody tr th {\n",
       "        vertical-align: top;\n",
       "    }\n",
       "\n",
       "    .dataframe thead th {\n",
       "        text-align: right;\n",
       "    }\n",
       "</style>\n",
       "<table border=\"1\" class=\"dataframe\">\n",
       "  <thead>\n",
       "    <tr style=\"text-align: right;\">\n",
       "      <th></th>\n",
       "      <th>PetalLengthCm</th>\n",
       "      <th>PetalWidthCm</th>\n",
       "      <th>Species</th>\n",
       "    </tr>\n",
       "  </thead>\n",
       "  <tbody>\n",
       "    <tr>\n",
       "      <th>0</th>\n",
       "      <td>1.4</td>\n",
       "      <td>0.2</td>\n",
       "      <td>Iris-setosa</td>\n",
       "    </tr>\n",
       "    <tr>\n",
       "      <th>1</th>\n",
       "      <td>1.4</td>\n",
       "      <td>0.2</td>\n",
       "      <td>Iris-setosa</td>\n",
       "    </tr>\n",
       "    <tr>\n",
       "      <th>2</th>\n",
       "      <td>1.3</td>\n",
       "      <td>0.2</td>\n",
       "      <td>Iris-setosa</td>\n",
       "    </tr>\n",
       "    <tr>\n",
       "      <th>3</th>\n",
       "      <td>1.5</td>\n",
       "      <td>0.2</td>\n",
       "      <td>Iris-setosa</td>\n",
       "    </tr>\n",
       "    <tr>\n",
       "      <th>4</th>\n",
       "      <td>1.4</td>\n",
       "      <td>0.2</td>\n",
       "      <td>Iris-setosa</td>\n",
       "    </tr>\n",
       "  </tbody>\n",
       "</table>\n",
       "</div>"
      ],
      "text/plain": [
       "   PetalLengthCm  PetalWidthCm      Species\n",
       "0            1.4           0.2  Iris-setosa\n",
       "1            1.4           0.2  Iris-setosa\n",
       "2            1.3           0.2  Iris-setosa\n",
       "3            1.5           0.2  Iris-setosa\n",
       "4            1.4           0.2  Iris-setosa"
      ]
     },
     "execution_count": 79,
     "metadata": {},
     "output_type": "execute_result"
    }
   ],
   "source": [
    "data.head()"
   ]
  },
  {
   "cell_type": "code",
   "execution_count": 80,
   "id": "424ac6e7",
   "metadata": {},
   "outputs": [
    {
     "data": {
      "text/plain": [
       "Iris-setosa        50\n",
       "Iris-versicolor    50\n",
       "Iris-virginica     50\n",
       "Name: Species, dtype: int64"
      ]
     },
     "execution_count": 80,
     "metadata": {},
     "output_type": "execute_result"
    }
   ],
   "source": [
    "data['Species'].value_counts()"
   ]
  },
  {
   "cell_type": "markdown",
   "id": "fe54a296",
   "metadata": {},
   "source": [
    "### Only Pick Virginica\n",
    "\n",
    "Nanti sisa nya akan di convert jadi Non-Virginica"
   ]
  },
  {
   "cell_type": "code",
   "execution_count": 81,
   "id": "af27162b",
   "metadata": {},
   "outputs": [
    {
     "name": "stderr",
     "output_type": "stream",
     "text": [
      "/tmp/ipykernel_220/1573446183.py:1: SettingWithCopyWarning: \n",
      "A value is trying to be set on a copy of a slice from a DataFrame\n",
      "\n",
      "See the caveats in the documentation: https://pandas.pydata.org/pandas-docs/stable/user_guide/indexing.html#returning-a-view-versus-a-copy\n",
      "  data[\"Species\"][data[\"Species\"] != \"Iris-setosa\"] = \"Non-setosa\"\n"
     ]
    }
   ],
   "source": [
    "data[\"Species\"][data[\"Species\"] != \"Iris-setosa\"] = \"Non-setosa\""
   ]
  },
  {
   "cell_type": "code",
   "execution_count": 82,
   "id": "ed0fcd7c",
   "metadata": {},
   "outputs": [
    {
     "data": {
      "text/html": [
       "<div>\n",
       "<style scoped>\n",
       "    .dataframe tbody tr th:only-of-type {\n",
       "        vertical-align: middle;\n",
       "    }\n",
       "\n",
       "    .dataframe tbody tr th {\n",
       "        vertical-align: top;\n",
       "    }\n",
       "\n",
       "    .dataframe thead th {\n",
       "        text-align: right;\n",
       "    }\n",
       "</style>\n",
       "<table border=\"1\" class=\"dataframe\">\n",
       "  <thead>\n",
       "    <tr style=\"text-align: right;\">\n",
       "      <th></th>\n",
       "      <th>PetalLengthCm</th>\n",
       "      <th>PetalWidthCm</th>\n",
       "      <th>Species</th>\n",
       "    </tr>\n",
       "  </thead>\n",
       "  <tbody>\n",
       "    <tr>\n",
       "      <th>0</th>\n",
       "      <td>1.4</td>\n",
       "      <td>0.2</td>\n",
       "      <td>Iris-setosa</td>\n",
       "    </tr>\n",
       "    <tr>\n",
       "      <th>1</th>\n",
       "      <td>1.4</td>\n",
       "      <td>0.2</td>\n",
       "      <td>Iris-setosa</td>\n",
       "    </tr>\n",
       "    <tr>\n",
       "      <th>2</th>\n",
       "      <td>1.3</td>\n",
       "      <td>0.2</td>\n",
       "      <td>Iris-setosa</td>\n",
       "    </tr>\n",
       "    <tr>\n",
       "      <th>3</th>\n",
       "      <td>1.5</td>\n",
       "      <td>0.2</td>\n",
       "      <td>Iris-setosa</td>\n",
       "    </tr>\n",
       "    <tr>\n",
       "      <th>4</th>\n",
       "      <td>1.4</td>\n",
       "      <td>0.2</td>\n",
       "      <td>Iris-setosa</td>\n",
       "    </tr>\n",
       "    <tr>\n",
       "      <th>...</th>\n",
       "      <td>...</td>\n",
       "      <td>...</td>\n",
       "      <td>...</td>\n",
       "    </tr>\n",
       "    <tr>\n",
       "      <th>145</th>\n",
       "      <td>5.2</td>\n",
       "      <td>2.3</td>\n",
       "      <td>Non-setosa</td>\n",
       "    </tr>\n",
       "    <tr>\n",
       "      <th>146</th>\n",
       "      <td>5.0</td>\n",
       "      <td>1.9</td>\n",
       "      <td>Non-setosa</td>\n",
       "    </tr>\n",
       "    <tr>\n",
       "      <th>147</th>\n",
       "      <td>5.2</td>\n",
       "      <td>2.0</td>\n",
       "      <td>Non-setosa</td>\n",
       "    </tr>\n",
       "    <tr>\n",
       "      <th>148</th>\n",
       "      <td>5.4</td>\n",
       "      <td>2.3</td>\n",
       "      <td>Non-setosa</td>\n",
       "    </tr>\n",
       "    <tr>\n",
       "      <th>149</th>\n",
       "      <td>5.1</td>\n",
       "      <td>1.8</td>\n",
       "      <td>Non-setosa</td>\n",
       "    </tr>\n",
       "  </tbody>\n",
       "</table>\n",
       "<p>150 rows × 3 columns</p>\n",
       "</div>"
      ],
      "text/plain": [
       "     PetalLengthCm  PetalWidthCm      Species\n",
       "0              1.4           0.2  Iris-setosa\n",
       "1              1.4           0.2  Iris-setosa\n",
       "2              1.3           0.2  Iris-setosa\n",
       "3              1.5           0.2  Iris-setosa\n",
       "4              1.4           0.2  Iris-setosa\n",
       "..             ...           ...          ...\n",
       "145            5.2           2.3   Non-setosa\n",
       "146            5.0           1.9   Non-setosa\n",
       "147            5.2           2.0   Non-setosa\n",
       "148            5.4           2.3   Non-setosa\n",
       "149            5.1           1.8   Non-setosa\n",
       "\n",
       "[150 rows x 3 columns]"
      ]
     },
     "execution_count": 82,
     "metadata": {},
     "output_type": "execute_result"
    }
   ],
   "source": [
    "data"
   ]
  },
  {
   "cell_type": "code",
   "execution_count": 83,
   "id": "13b2bb27",
   "metadata": {
    "scrolled": true
   },
   "outputs": [
    {
     "data": {
      "text/plain": [
       "Non-setosa     100\n",
       "Iris-setosa     50\n",
       "Name: Species, dtype: int64"
      ]
     },
     "execution_count": 83,
     "metadata": {},
     "output_type": "execute_result"
    }
   ],
   "source": [
    "data[\"Species\"].value_counts()"
   ]
  },
  {
   "cell_type": "markdown",
   "id": "ec006c9f",
   "metadata": {},
   "source": [
    "### Create Visualization"
   ]
  },
  {
   "cell_type": "code",
   "execution_count": 84,
   "id": "d574285e",
   "metadata": {},
   "outputs": [
    {
     "data": {
      "image/png": "[encoded data removed]",
      "text/plain": [
       "<Figure size 864x648 with 1 Axes>"
      ]
     },
     "metadata": {
      "needs_background": "light"
     },
     "output_type": "display_data"
    }
   ],
   "source": [
    "plt.figure(figsize=(12, 9))\n",
    "sns.scatterplot(data=data,\n",
    "                x=\"PetalLengthCm\",\n",
    "                y=\"PetalWidthCm\",\n",
    "                hue=\"Species\")\n",
    "\n",
    "plt.show()"
   ]
  },
  {
   "cell_type": "markdown",
   "id": "28835024",
   "metadata": {},
   "source": [
    "### Split Input Output "
   ]
  },
  {
   "cell_type": "code",
   "execution_count": 85,
   "id": "93901f14",
   "metadata": {},
   "outputs": [],
   "source": [
    "def split_input_output(data, output_col):\n",
    "    X = data.drop(columns=output_col)\n",
    "    y = data[output_col]\n",
    "    \n",
    "    return X, y"
   ]
  },
  {
   "cell_type": "code",
   "execution_count": 86,
   "id": "224495af",
   "metadata": {},
   "outputs": [],
   "source": [
    "X, y = split_input_output(data=data,\n",
    "                          output_col=\"Species\")"
   ]
  },
  {
   "cell_type": "code",
   "execution_count": 87,
   "id": "0b6c7f18",
   "metadata": {},
   "outputs": [
    {
     "data": {
      "text/html": [
       "<div>\n",
       "<style scoped>\n",
       "    .dataframe tbody tr th:only-of-type {\n",
       "        vertical-align: middle;\n",
       "    }\n",
       "\n",
       "    .dataframe tbody tr th {\n",
       "        vertical-align: top;\n",
       "    }\n",
       "\n",
       "    .dataframe thead th {\n",
       "        text-align: right;\n",
       "    }\n",
       "</style>\n",
       "<table border=\"1\" class=\"dataframe\">\n",
       "  <thead>\n",
       "    <tr style=\"text-align: right;\">\n",
       "      <th></th>\n",
       "      <th>PetalLengthCm</th>\n",
       "      <th>PetalWidthCm</th>\n",
       "    </tr>\n",
       "  </thead>\n",
       "  <tbody>\n",
       "    <tr>\n",
       "      <th>0</th>\n",
       "      <td>1.4</td>\n",
       "      <td>0.2</td>\n",
       "    </tr>\n",
       "    <tr>\n",
       "      <th>1</th>\n",
       "      <td>1.4</td>\n",
       "      <td>0.2</td>\n",
       "    </tr>\n",
       "    <tr>\n",
       "      <th>2</th>\n",
       "      <td>1.3</td>\n",
       "      <td>0.2</td>\n",
       "    </tr>\n",
       "    <tr>\n",
       "      <th>3</th>\n",
       "      <td>1.5</td>\n",
       "      <td>0.2</td>\n",
       "    </tr>\n",
       "    <tr>\n",
       "      <th>4</th>\n",
       "      <td>1.4</td>\n",
       "      <td>0.2</td>\n",
       "    </tr>\n",
       "  </tbody>\n",
       "</table>\n",
       "</div>"
      ],
      "text/plain": [
       "   PetalLengthCm  PetalWidthCm\n",
       "0            1.4           0.2\n",
       "1            1.4           0.2\n",
       "2            1.3           0.2\n",
       "3            1.5           0.2\n",
       "4            1.4           0.2"
      ]
     },
     "execution_count": 87,
     "metadata": {},
     "output_type": "execute_result"
    }
   ],
   "source": [
    "X.head()"
   ]
  },
  {
   "cell_type": "code",
   "execution_count": 88,
   "id": "64224b9d",
   "metadata": {},
   "outputs": [
    {
     "data": {
      "text/plain": [
       "(150, 2)"
      ]
     },
     "execution_count": 88,
     "metadata": {},
     "output_type": "execute_result"
    }
   ],
   "source": [
    "X.shape"
   ]
  },
  {
   "cell_type": "code",
   "execution_count": 89,
   "id": "a8770b02",
   "metadata": {},
   "outputs": [
    {
     "data": {
      "text/plain": [
       "0    Iris-setosa\n",
       "1    Iris-setosa\n",
       "2    Iris-setosa\n",
       "3    Iris-setosa\n",
       "4    Iris-setosa\n",
       "Name: Species, dtype: object"
      ]
     },
     "execution_count": 89,
     "metadata": {},
     "output_type": "execute_result"
    }
   ],
   "source": [
    "y.head()"
   ]
  },
  {
   "cell_type": "code",
   "execution_count": 90,
   "id": "dd387bf3",
   "metadata": {},
   "outputs": [
    {
     "data": {
      "text/plain": [
       "(150,)"
      ]
     },
     "execution_count": 90,
     "metadata": {},
     "output_type": "execute_result"
    }
   ],
   "source": [
    "y.shape"
   ]
  },
  {
   "cell_type": "code",
   "execution_count": 91,
   "id": "dda74e24",
   "metadata": {},
   "outputs": [
    {
     "data": {
      "text/plain": [
       "Non-setosa     100\n",
       "Iris-setosa     50\n",
       "Name: Species, dtype: int64"
      ]
     },
     "execution_count": 91,
     "metadata": {},
     "output_type": "execute_result"
    }
   ],
   "source": [
    "y.value_counts()"
   ]
  },
  {
   "cell_type": "markdown",
   "id": "7c586d10",
   "metadata": {},
   "source": [
    "### Train Test Split "
   ]
  },
  {
   "cell_type": "code",
   "execution_count": 92,
   "id": "f898ed01",
   "metadata": {},
   "outputs": [],
   "source": [
    "from sklearn.model_selection import train_test_split"
   ]
  },
  {
   "cell_type": "code",
   "execution_count": 93,
   "id": "4c46ebc1",
   "metadata": {},
   "outputs": [],
   "source": [
    "X_train, X_test, y_train, y_test = train_test_split(X,\n",
    "                                                    y,\n",
    "                                                    test_size=0.2,\n",
    "                                                    stratify=y,\n",
    "                                                    random_state=42)"
   ]
  },
  {
   "cell_type": "code",
   "execution_count": 94,
   "id": "776a0f48",
   "metadata": {},
   "outputs": [
    {
     "name": "stdout",
     "output_type": "stream",
     "text": [
      "Train Data Shape: ((120, 2), (120,))\n",
      "Test Data Shape: ((30, 2), (30,))\n"
     ]
    }
   ],
   "source": [
    "print(f\"Train Data Shape: {X_train.shape, y_train.shape}\")\n",
    "print(f\"Test Data Shape: {X_test.shape, y_test.shape}\")"
   ]
  },
  {
   "cell_type": "code",
   "execution_count": 95,
   "id": "9f8852ae",
   "metadata": {},
   "outputs": [
    {
     "data": {
      "text/plain": [
       "Non-setosa     80\n",
       "Iris-setosa    40\n",
       "Name: Species, dtype: int64"
      ]
     },
     "execution_count": 95,
     "metadata": {},
     "output_type": "execute_result"
    }
   ],
   "source": [
    "y_train.value_counts()"
   ]
  },
  {
   "cell_type": "code",
   "execution_count": 96,
   "id": "48582b9c",
   "metadata": {},
   "outputs": [
    {
     "data": {
      "text/plain": [
       "Non-setosa     20\n",
       "Iris-setosa    10\n",
       "Name: Species, dtype: int64"
      ]
     },
     "execution_count": 96,
     "metadata": {},
     "output_type": "execute_result"
    }
   ],
   "source": [
    "y_test.value_counts()"
   ]
  },
  {
   "cell_type": "markdown",
   "id": "2915ca4e",
   "metadata": {},
   "source": [
    "### Preprocessing"
   ]
  },
  {
   "cell_type": "code",
   "execution_count": 97,
   "id": "19f96a66",
   "metadata": {},
   "outputs": [
    {
     "data": {
      "text/plain": [
       "Non-setosa     80\n",
       "Iris-setosa    40\n",
       "Name: Species, dtype: int64"
      ]
     },
     "execution_count": 97,
     "metadata": {},
     "output_type": "execute_result"
    }
   ],
   "source": [
    "y_train.value_counts()"
   ]
  },
  {
   "cell_type": "code",
   "execution_count": 98,
   "id": "fc91feea",
   "metadata": {},
   "outputs": [],
   "source": [
    "def convert_class(y_train, y_test, class_name):\n",
    "    y_train = y_train.apply(lambda x: 1 if x == class_name else 0)\n",
    "    y_test = y_test.apply(lambda x: 1 if x == class_name else 0)\n",
    "    \n",
    "    return y_train, y_test"
   ]
  },
  {
   "cell_type": "code",
   "execution_count": 99,
   "id": "c9a3ac72",
   "metadata": {},
   "outputs": [],
   "source": [
    "y_train, y_test = convert_class(y_train=y_train,\n",
    "                                y_test=y_test,\n",
    "                                class_name=\"Iris-setosa\")"
   ]
  },
  {
   "cell_type": "code",
   "execution_count": 100,
   "id": "e4a13d6d",
   "metadata": {},
   "outputs": [
    {
     "data": {
      "text/plain": [
       "0    80\n",
       "1    40\n",
       "Name: Species, dtype: int64"
      ]
     },
     "execution_count": 100,
     "metadata": {},
     "output_type": "execute_result"
    }
   ],
   "source": [
    "y_train.value_counts()"
   ]
  },
  {
   "cell_type": "code",
   "execution_count": 101,
   "id": "ca0c270a",
   "metadata": {},
   "outputs": [
    {
     "data": {
      "text/plain": [
       "0    80\n",
       "1    40\n",
       "Name: Species, dtype: int64"
      ]
     },
     "execution_count": 101,
     "metadata": {},
     "output_type": "execute_result"
    }
   ],
   "source": [
    "y_train.value_counts()"
   ]
  },
  {
   "cell_type": "code",
   "execution_count": 102,
   "id": "1b1dc0c3",
   "metadata": {},
   "outputs": [
    {
     "data": {
      "text/plain": [
       "0    20\n",
       "1    10\n",
       "Name: Species, dtype: int64"
      ]
     },
     "execution_count": 102,
     "metadata": {},
     "output_type": "execute_result"
    }
   ],
   "source": [
    "y_test.value_counts()"
   ]
  },
  {
   "attachments": {
    "image.png": {
     "image/png": "[encoded data removed]"
    }
   },
   "cell_type": "markdown",
   "id": "23da76b2",
   "metadata": {},
   "source": [
    "Coba bandingkan model yang pake di Scaling dan tanpa di Scaling\n",
    "\n",
    "![image.png](attachment:image.png)\n",
    "\n",
    "Setelah melakukan eksperimen menggunakan scaling dan tidak menggunakan scaling didapatkan hasil:\n",
    "- Secara overall, bentuk dari Decision Boundary nya masih sama, cuma beda scale atau range data nya aja\n",
    "- Apakah karena range data nya tidak begitu jauh sehingga tidak begitu berpengaruh\n",
    "- Tetapi menariknya adalah hasil metrics accuracy tanpa di scaling jauh lebih bagus daripada yang menggunakan scaling "
   ]
  },
  {
   "cell_type": "code",
   "execution_count": 103,
   "id": "db7fda15",
   "metadata": {},
   "outputs": [],
   "source": [
    "from sklearn.preprocessing import StandardScaler\n",
    "\n",
    "scaler = StandardScaler()"
   ]
  },
  {
   "cell_type": "code",
   "execution_count": 104,
   "id": "ad756912",
   "metadata": {},
   "outputs": [],
   "source": [
    "X_train_scaled = scaler.fit_transform(X_train)\n",
    "X_test_scaled = scaler.transform(X_test)"
   ]
  },
  {
   "cell_type": "code",
   "execution_count": 105,
   "id": "227c8094",
   "metadata": {},
   "outputs": [],
   "source": [
    "X_train_scaled = pd.DataFrame(data = X_train_scaled, columns = X_train.columns, index = X_train.index)"
   ]
  },
  {
   "cell_type": "code",
   "execution_count": 106,
   "id": "d1dddcf5",
   "metadata": {},
   "outputs": [
    {
     "data": {
      "text/html": [
       "<div>\n",
       "<style scoped>\n",
       "    .dataframe tbody tr th:only-of-type {\n",
       "        vertical-align: middle;\n",
       "    }\n",
       "\n",
       "    .dataframe tbody tr th {\n",
       "        vertical-align: top;\n",
       "    }\n",
       "\n",
       "    .dataframe thead th {\n",
       "        text-align: right;\n",
       "    }\n",
       "</style>\n",
       "<table border=\"1\" class=\"dataframe\">\n",
       "  <thead>\n",
       "    <tr style=\"text-align: right;\">\n",
       "      <th></th>\n",
       "      <th>PetalLengthCm</th>\n",
       "      <th>PetalWidthCm</th>\n",
       "    </tr>\n",
       "  </thead>\n",
       "  <tbody>\n",
       "    <tr>\n",
       "      <th>8</th>\n",
       "      <td>-1.350397</td>\n",
       "      <td>-1.323361</td>\n",
       "    </tr>\n",
       "    <tr>\n",
       "      <th>144</th>\n",
       "      <td>1.091105</td>\n",
       "      <td>1.710258</td>\n",
       "    </tr>\n",
       "    <tr>\n",
       "      <th>119</th>\n",
       "      <td>0.693652</td>\n",
       "      <td>0.391293</td>\n",
       "    </tr>\n",
       "    <tr>\n",
       "      <th>31</th>\n",
       "      <td>-1.293618</td>\n",
       "      <td>-1.059568</td>\n",
       "    </tr>\n",
       "    <tr>\n",
       "      <th>19</th>\n",
       "      <td>-1.293618</td>\n",
       "      <td>-1.191465</td>\n",
       "    </tr>\n",
       "    <tr>\n",
       "      <th>...</th>\n",
       "      <td>...</td>\n",
       "      <td>...</td>\n",
       "    </tr>\n",
       "    <tr>\n",
       "      <th>132</th>\n",
       "      <td>1.034326</td>\n",
       "      <td>1.314568</td>\n",
       "    </tr>\n",
       "    <tr>\n",
       "      <th>3</th>\n",
       "      <td>-1.293618</td>\n",
       "      <td>-1.323361</td>\n",
       "    </tr>\n",
       "    <tr>\n",
       "      <th>122</th>\n",
       "      <td>1.658897</td>\n",
       "      <td>1.050775</td>\n",
       "    </tr>\n",
       "    <tr>\n",
       "      <th>143</th>\n",
       "      <td>1.204664</td>\n",
       "      <td>1.446465</td>\n",
       "    </tr>\n",
       "    <tr>\n",
       "      <th>24</th>\n",
       "      <td>-1.066501</td>\n",
       "      <td>-1.323361</td>\n",
       "    </tr>\n",
       "  </tbody>\n",
       "</table>\n",
       "<p>120 rows × 2 columns</p>\n",
       "</div>"
      ],
      "text/plain": [
       "     PetalLengthCm  PetalWidthCm\n",
       "8        -1.350397     -1.323361\n",
       "144       1.091105      1.710258\n",
       "119       0.693652      0.391293\n",
       "31       -1.293618     -1.059568\n",
       "19       -1.293618     -1.191465\n",
       "..             ...           ...\n",
       "132       1.034326      1.314568\n",
       "3        -1.293618     -1.323361\n",
       "122       1.658897      1.050775\n",
       "143       1.204664      1.446465\n",
       "24       -1.066501     -1.323361\n",
       "\n",
       "[120 rows x 2 columns]"
      ]
     },
     "execution_count": 106,
     "metadata": {},
     "output_type": "execute_result"
    }
   ],
   "source": [
    "X_train_scaled"
   ]
  },
  {
   "cell_type": "code",
   "execution_count": 107,
   "id": "cb7c8cc5",
   "metadata": {},
   "outputs": [],
   "source": [
    "X_test_scaled = pd.DataFrame(data = X_test_scaled, columns = X_test.columns, index = X_test.index)"
   ]
  },
  {
   "cell_type": "code",
   "execution_count": 108,
   "id": "1a251954",
   "metadata": {},
   "outputs": [
    {
     "data": {
      "text/html": [
       "<div>\n",
       "<style scoped>\n",
       "    .dataframe tbody tr th:only-of-type {\n",
       "        vertical-align: middle;\n",
       "    }\n",
       "\n",
       "    .dataframe tbody tr th {\n",
       "        vertical-align: top;\n",
       "    }\n",
       "\n",
       "    .dataframe thead th {\n",
       "        text-align: right;\n",
       "    }\n",
       "</style>\n",
       "<table border=\"1\" class=\"dataframe\">\n",
       "  <thead>\n",
       "    <tr style=\"text-align: right;\">\n",
       "      <th></th>\n",
       "      <th>PetalLengthCm</th>\n",
       "      <th>PetalWidthCm</th>\n",
       "    </tr>\n",
       "  </thead>\n",
       "  <tbody>\n",
       "    <tr>\n",
       "      <th>84</th>\n",
       "      <td>0.409756</td>\n",
       "      <td>0.391293</td>\n",
       "    </tr>\n",
       "    <tr>\n",
       "      <th>103</th>\n",
       "      <td>1.034326</td>\n",
       "      <td>0.786982</td>\n",
       "    </tr>\n",
       "    <tr>\n",
       "      <th>109</th>\n",
       "      <td>1.318222</td>\n",
       "      <td>1.710258</td>\n",
       "    </tr>\n",
       "    <tr>\n",
       "      <th>42</th>\n",
       "      <td>-1.407176</td>\n",
       "      <td>-1.323361</td>\n",
       "    </tr>\n",
       "    <tr>\n",
       "      <th>51</th>\n",
       "      <td>0.409756</td>\n",
       "      <td>0.391293</td>\n",
       "    </tr>\n",
       "    <tr>\n",
       "      <th>53</th>\n",
       "      <td>0.125860</td>\n",
       "      <td>0.127500</td>\n",
       "    </tr>\n",
       "    <tr>\n",
       "      <th>146</th>\n",
       "      <td>0.693652</td>\n",
       "      <td>0.918879</td>\n",
       "    </tr>\n",
       "    <tr>\n",
       "      <th>38</th>\n",
       "      <td>-1.407176</td>\n",
       "      <td>-1.323361</td>\n",
       "    </tr>\n",
       "    <tr>\n",
       "      <th>120</th>\n",
       "      <td>1.091105</td>\n",
       "      <td>1.446465</td>\n",
       "    </tr>\n",
       "    <tr>\n",
       "      <th>57</th>\n",
       "      <td>-0.271593</td>\n",
       "      <td>-0.268190</td>\n",
       "    </tr>\n",
       "    <tr>\n",
       "      <th>7</th>\n",
       "      <td>-1.293618</td>\n",
       "      <td>-1.323361</td>\n",
       "    </tr>\n",
       "    <tr>\n",
       "      <th>14</th>\n",
       "      <td>-1.463955</td>\n",
       "      <td>-1.323361</td>\n",
       "    </tr>\n",
       "    <tr>\n",
       "      <th>49</th>\n",
       "      <td>-1.350397</td>\n",
       "      <td>-1.323361</td>\n",
       "    </tr>\n",
       "    <tr>\n",
       "      <th>99</th>\n",
       "      <td>0.182639</td>\n",
       "      <td>0.127500</td>\n",
       "    </tr>\n",
       "    <tr>\n",
       "      <th>93</th>\n",
       "      <td>-0.271593</td>\n",
       "      <td>-0.268190</td>\n",
       "    </tr>\n",
       "    <tr>\n",
       "      <th>18</th>\n",
       "      <td>-1.180059</td>\n",
       "      <td>-1.191465</td>\n",
       "    </tr>\n",
       "    <tr>\n",
       "      <th>127</th>\n",
       "      <td>0.636872</td>\n",
       "      <td>0.786982</td>\n",
       "    </tr>\n",
       "    <tr>\n",
       "      <th>28</th>\n",
       "      <td>-1.350397</td>\n",
       "      <td>-1.323361</td>\n",
       "    </tr>\n",
       "    <tr>\n",
       "      <th>139</th>\n",
       "      <td>0.920768</td>\n",
       "      <td>1.182672</td>\n",
       "    </tr>\n",
       "    <tr>\n",
       "      <th>20</th>\n",
       "      <td>-1.180059</td>\n",
       "      <td>-1.323361</td>\n",
       "    </tr>\n",
       "    <tr>\n",
       "      <th>55</th>\n",
       "      <td>0.409756</td>\n",
       "      <td>0.127500</td>\n",
       "    </tr>\n",
       "    <tr>\n",
       "      <th>102</th>\n",
       "      <td>1.204664</td>\n",
       "      <td>1.182672</td>\n",
       "    </tr>\n",
       "    <tr>\n",
       "      <th>10</th>\n",
       "      <td>-1.293618</td>\n",
       "      <td>-1.323361</td>\n",
       "    </tr>\n",
       "    <tr>\n",
       "      <th>22</th>\n",
       "      <td>-1.577513</td>\n",
       "      <td>-1.323361</td>\n",
       "    </tr>\n",
       "    <tr>\n",
       "      <th>130</th>\n",
       "      <td>1.318222</td>\n",
       "      <td>0.918879</td>\n",
       "    </tr>\n",
       "    <tr>\n",
       "      <th>96</th>\n",
       "      <td>0.239419</td>\n",
       "      <td>0.127500</td>\n",
       "    </tr>\n",
       "    <tr>\n",
       "      <th>141</th>\n",
       "      <td>0.750431</td>\n",
       "      <td>1.446465</td>\n",
       "    </tr>\n",
       "    <tr>\n",
       "      <th>58</th>\n",
       "      <td>0.466535</td>\n",
       "      <td>0.127500</td>\n",
       "    </tr>\n",
       "    <tr>\n",
       "      <th>133</th>\n",
       "      <td>0.750431</td>\n",
       "      <td>0.391293</td>\n",
       "    </tr>\n",
       "    <tr>\n",
       "      <th>85</th>\n",
       "      <td>0.409756</td>\n",
       "      <td>0.523189</td>\n",
       "    </tr>\n",
       "  </tbody>\n",
       "</table>\n",
       "</div>"
      ],
      "text/plain": [
       "     PetalLengthCm  PetalWidthCm\n",
       "84        0.409756      0.391293\n",
       "103       1.034326      0.786982\n",
       "109       1.318222      1.710258\n",
       "42       -1.407176     -1.323361\n",
       "51        0.409756      0.391293\n",
       "53        0.125860      0.127500\n",
       "146       0.693652      0.918879\n",
       "38       -1.407176     -1.323361\n",
       "120       1.091105      1.446465\n",
       "57       -0.271593     -0.268190\n",
       "7        -1.293618     -1.323361\n",
       "14       -1.463955     -1.323361\n",
       "49       -1.350397     -1.323361\n",
       "99        0.182639      0.127500\n",
       "93       -0.271593     -0.268190\n",
       "18       -1.180059     -1.191465\n",
       "127       0.636872      0.786982\n",
       "28       -1.350397     -1.323361\n",
       "139       0.920768      1.182672\n",
       "20       -1.180059     -1.323361\n",
       "55        0.409756      0.127500\n",
       "102       1.204664      1.182672\n",
       "10       -1.293618     -1.323361\n",
       "22       -1.577513     -1.323361\n",
       "130       1.318222      0.918879\n",
       "96        0.239419      0.127500\n",
       "141       0.750431      1.446465\n",
       "58        0.466535      0.127500\n",
       "133       0.750431      0.391293\n",
       "85        0.409756      0.523189"
      ]
     },
     "execution_count": 108,
     "metadata": {},
     "output_type": "execute_result"
    }
   ],
   "source": [
    "X_test_scaled"
   ]
  },
  {
   "cell_type": "markdown",
   "id": "ac60a8db",
   "metadata": {},
   "source": [
    "### Modelling with Logistic Regression "
   ]
  },
  {
   "cell_type": "code",
   "execution_count": 109,
   "id": "0d1bf098",
   "metadata": {},
   "outputs": [],
   "source": [
    "from sklearn.linear_model import LogisticRegression"
   ]
  },
  {
   "cell_type": "code",
   "execution_count": 110,
   "id": "a3b7ba56",
   "metadata": {},
   "outputs": [],
   "source": [
    "logreg = LogisticRegression()"
   ]
  },
  {
   "cell_type": "code",
   "execution_count": 111,
   "id": "49c339f5",
   "metadata": {},
   "outputs": [
    {
     "data": {
      "text/plain": [
       "LogisticRegression()"
      ]
     },
     "execution_count": 111,
     "metadata": {},
     "output_type": "execute_result"
    }
   ],
   "source": [
    "logreg.fit(X_train_scaled, y_train)"
   ]
  },
  {
   "cell_type": "code",
   "execution_count": 112,
   "id": "6e8f30a0",
   "metadata": {},
   "outputs": [],
   "source": [
    "y_pred_train_proba = logreg.predict_proba(X_train_scaled)"
   ]
  },
  {
   "cell_type": "markdown",
   "id": "732bd3c6",
   "metadata": {},
   "source": [
    "Fungsi logistic di kasus ini cuma nge prediksi / nge hitung kelas 1 aja. Karena untuk dapetin kelas 0 tinggal 1 - proba_kelas_1"
   ]
  },
  {
   "cell_type": "code",
   "execution_count": 113,
   "id": "c8b9f4a6",
   "metadata": {},
   "outputs": [
    {
     "data": {
      "text/plain": [
       "array([[3.22892841e-02, 9.67710716e-01],\n",
       "       [9.99841983e-01, 1.58017024e-04],\n",
       "       [9.93680714e-01, 6.31928592e-03],\n",
       "       [6.20605434e-02, 9.37939457e-01],\n",
       "       [4.78817473e-02, 9.52118253e-01],\n",
       "       [6.20605434e-02, 9.37939457e-01],\n",
       "       [9.21517280e-01, 7.84827200e-02],\n",
       "       [8.72103966e-01, 1.27896034e-01],\n",
       "       [9.78690886e-01, 2.13091137e-02],\n",
       "       [9.98590231e-01, 1.40976944e-03],\n",
       "       [2.82305287e-02, 9.71769471e-01],\n",
       "       [9.72293987e-01, 2.77060127e-02],\n",
       "       [9.99378904e-01, 6.21095653e-04],\n",
       "       [9.81492630e-01, 1.85073695e-02],\n",
       "       [4.19479830e-02, 9.58052017e-01],\n",
       "       [9.21708999e-01, 7.82910015e-02],\n",
       "       [3.69094107e-02, 9.63090589e-01],\n",
       "       [4.19479830e-02, 9.58052017e-01],\n",
       "       [9.99761858e-01, 2.38141621e-04],\n",
       "       [9.96811739e-01, 3.18826084e-03],\n",
       "       [8.38615809e-01, 1.61384191e-01],\n",
       "       [7.04555929e-02, 9.29544407e-01],\n",
       "       [4.19479830e-02, 9.58052017e-01],\n",
       "       [9.75728269e-01, 2.42717311e-02],\n",
       "       [9.99860582e-01, 1.39417586e-04],\n",
       "       [9.87611180e-01, 1.23888205e-02],\n",
       "       [9.92767751e-01, 7.23224899e-03],\n",
       "       [9.99530368e-01, 4.69631861e-04],\n",
       "       [9.87611180e-01, 1.23888205e-02],\n",
       "       [9.89139508e-01, 1.08604917e-02],\n",
       "       [6.20605434e-02, 9.37939457e-01],\n",
       "       [9.99907494e-01, 9.25063835e-05],\n",
       "       [9.95798288e-01, 4.20171206e-03],\n",
       "       [9.81444362e-01, 1.85556375e-02],\n",
       "       [9.96349461e-01, 3.65053869e-03],\n",
       "       [9.96349461e-01, 3.65053869e-03],\n",
       "       [9.99059214e-01, 9.40786026e-04],\n",
       "       [4.20547656e-02, 9.57945234e-01],\n",
       "       [9.99457764e-01, 5.42235809e-04],\n",
       "       [4.80028780e-02, 9.51997122e-01],\n",
       "       [9.99841142e-01, 1.58857819e-04],\n",
       "       [3.22892841e-02, 9.67710716e-01],\n",
       "       [4.20547656e-02, 9.57945234e-01],\n",
       "       [9.96339796e-01, 3.66020394e-03],\n",
       "       [2.47969792e-02, 9.75203021e-01],\n",
       "       [3.69094107e-02, 9.63090589e-01],\n",
       "       [2.47328850e-02, 9.75267115e-01],\n",
       "       [4.20547656e-02, 9.57945234e-01],\n",
       "       [9.89167980e-01, 1.08320199e-02],\n",
       "       [9.98586490e-01, 1.41351039e-03],\n",
       "       [9.98772362e-01, 1.22763762e-03],\n",
       "       [3.22892841e-02, 9.67710716e-01],\n",
       "       [9.63955217e-01, 3.60447829e-02],\n",
       "       [9.90531026e-01, 9.46897389e-03],\n",
       "       [9.58925255e-01, 4.10747450e-02],\n",
       "       [3.22892841e-02, 9.67710716e-01],\n",
       "       [9.99529121e-01, 4.70879250e-04],\n",
       "       [2.83034239e-02, 9.71696576e-01],\n",
       "       [9.98150876e-01, 1.84912426e-03],\n",
       "       [9.39356167e-01, 6.06438330e-02],\n",
       "       [9.99460633e-01, 5.39366982e-04],\n",
       "       [9.64047312e-01, 3.59526877e-02],\n",
       "       [9.68389521e-01, 3.16104787e-02],\n",
       "       [9.85796727e-01, 1.42032732e-02],\n",
       "       [9.99588916e-01, 4.11084374e-04],\n",
       "       [9.99761858e-01, 2.38141621e-04],\n",
       "       [9.99522834e-01, 4.77166043e-04],\n",
       "       [9.99894873e-01, 1.05126731e-04],\n",
       "       [3.68151907e-02, 9.63184809e-01],\n",
       "       [1.02525878e-01, 8.97474122e-01],\n",
       "       [3.22892841e-02, 9.67710716e-01],\n",
       "       [9.87578667e-01, 1.24213330e-02],\n",
       "       [9.98155767e-01, 1.84423255e-03],\n",
       "       [9.46649209e-01, 5.33507912e-02],\n",
       "       [9.11111299e-01, 8.88887009e-02],\n",
       "       [9.87578667e-01, 1.24213330e-02],\n",
       "       [9.31308656e-01, 6.86913439e-02],\n",
       "       [2.82305287e-02, 9.71769471e-01],\n",
       "       [9.68308183e-01, 3.16918167e-02],\n",
       "       [9.58820600e-01, 4.11794003e-02],\n",
       "       [1.15991251e-01, 8.84008749e-01],\n",
       "       [9.92786780e-01, 7.21321957e-03],\n",
       "       [2.82305287e-02, 9.71769471e-01],\n",
       "       [9.99685865e-01, 3.14135128e-04],\n",
       "       [9.81444362e-01, 1.85556375e-02],\n",
       "       [9.11325991e-01, 8.86740086e-02],\n",
       "       [4.19479830e-02, 9.58052017e-01],\n",
       "       [9.98586490e-01, 1.41351039e-03],\n",
       "       [9.98389677e-01, 1.61032258e-03],\n",
       "       [1.02281946e-01, 8.97718054e-01],\n",
       "       [1.65909670e-02, 9.83409033e-01],\n",
       "       [9.98593962e-01, 1.40603837e-03],\n",
       "       [9.99282901e-01, 7.17098737e-04],\n",
       "       [9.97568500e-01, 2.43150015e-03],\n",
       "       [7.76090924e-01, 2.23909076e-01],\n",
       "       [9.72293987e-01, 2.77060127e-02],\n",
       "       [7.98895303e-02, 9.20110470e-01],\n",
       "       [9.98150876e-01, 1.84912426e-03],\n",
       "       [9.99759318e-01, 2.40682420e-04],\n",
       "       [9.99946418e-01, 5.35818633e-05],\n",
       "       [9.58925255e-01, 4.10747450e-02],\n",
       "       [3.68151907e-02, 9.63184809e-01],\n",
       "       [9.96349461e-01, 3.65053869e-03],\n",
       "       [9.96310647e-01, 3.68935294e-03],\n",
       "       [9.98372520e-01, 1.62747972e-03],\n",
       "       [9.87611180e-01, 1.23888205e-02],\n",
       "       [9.99526616e-01, 4.73383971e-04],\n",
       "       [3.68151907e-02, 9.63184809e-01],\n",
       "       [8.38615809e-01, 1.61384191e-01],\n",
       "       [9.92805760e-01, 7.19423985e-03],\n",
       "       [9.92767751e-01, 7.23224899e-03],\n",
       "       [4.19479830e-02, 9.58052017e-01],\n",
       "       [2.82305287e-02, 9.71769471e-01],\n",
       "       [2.83034239e-02, 9.71696576e-01],\n",
       "       [3.22892841e-02, 9.67710716e-01],\n",
       "       [9.99587824e-01, 4.12176319e-04],\n",
       "       [3.68151907e-02, 9.63184809e-01],\n",
       "       [9.99839873e-01, 1.60127407e-04],\n",
       "       [9.99791553e-01, 2.08447256e-04],\n",
       "       [6.17523074e-02, 9.38247693e-01]])"
      ]
     },
     "execution_count": 113,
     "metadata": {},
     "output_type": "execute_result"
    }
   ],
   "source": [
    "y_pred_train_proba"
   ]
  },
  {
   "cell_type": "code",
   "execution_count": 114,
   "id": "e111648b",
   "metadata": {},
   "outputs": [],
   "source": [
    "y_pred_train = logreg.predict(X_train_scaled)"
   ]
  },
  {
   "cell_type": "code",
   "execution_count": 115,
   "id": "de5da4df",
   "metadata": {},
   "outputs": [
    {
     "data": {
      "text/plain": [
       "array([1, 0, 0, 1, 1, 1, 0, 0, 0, 0, 1, 0, 0, 0, 1, 0, 1, 1, 0, 0, 0, 1,\n",
       "       1, 0, 0, 0, 0, 0, 0, 0, 1, 0, 0, 0, 0, 0, 0, 1, 0, 1, 0, 1, 1, 0,\n",
       "       1, 1, 1, 1, 0, 0, 0, 1, 0, 0, 0, 1, 0, 1, 0, 0, 0, 0, 0, 0, 0, 0,\n",
       "       0, 0, 1, 1, 1, 0, 0, 0, 0, 0, 0, 1, 0, 0, 1, 0, 1, 0, 0, 0, 1, 0,\n",
       "       0, 1, 1, 0, 0, 0, 0, 0, 1, 0, 0, 0, 0, 1, 0, 0, 0, 0, 0, 1, 0, 0,\n",
       "       0, 1, 1, 1, 1, 0, 1, 0, 0, 1])"
      ]
     },
     "execution_count": 115,
     "metadata": {},
     "output_type": "execute_result"
    }
   ],
   "source": [
    "y_pred_train"
   ]
  },
  {
   "cell_type": "code",
   "execution_count": 116,
   "id": "518c1712",
   "metadata": {},
   "outputs": [],
   "source": [
    "from sklearn.metrics import accuracy_score\n",
    "from sklearn.metrics import confusion_matrix\n",
    "from sklearn.metrics import classification_report"
   ]
  },
  {
   "cell_type": "code",
   "execution_count": 117,
   "id": "1be1e503",
   "metadata": {},
   "outputs": [
    {
     "data": {
      "text/plain": [
       "1.0"
      ]
     },
     "execution_count": 117,
     "metadata": {},
     "output_type": "execute_result"
    }
   ],
   "source": [
    "acc_train = accuracy_score(y_train, y_pred_train)\n",
    "acc_train"
   ]
  },
  {
   "cell_type": "markdown",
   "id": "260e076d",
   "metadata": {},
   "source": [
    "Precision Recall, dll pelajari lagi"
   ]
  },
  {
   "cell_type": "code",
   "execution_count": 118,
   "id": "1c317503",
   "metadata": {},
   "outputs": [
    {
     "name": "stdout",
     "output_type": "stream",
     "text": [
      "              precision    recall  f1-score   support\n",
      "\n",
      "           0       1.00      1.00      1.00        80\n",
      "           1       1.00      1.00      1.00        40\n",
      "\n",
      "    accuracy                           1.00       120\n",
      "   macro avg       1.00      1.00      1.00       120\n",
      "weighted avg       1.00      1.00      1.00       120\n",
      "\n"
     ]
    }
   ],
   "source": [
    "print(classification_report(y_train, y_pred_train))"
   ]
  },
  {
   "cell_type": "code",
   "execution_count": 119,
   "id": "c57f7d61",
   "metadata": {},
   "outputs": [],
   "source": [
    "y_pred_test_proba = logreg.predict_proba(X_test_scaled)"
   ]
  },
  {
   "cell_type": "code",
   "execution_count": 120,
   "id": "f8c6059c",
   "metadata": {},
   "outputs": [
    {
     "data": {
      "text/plain": [
       "array([[9.87611180e-01, 1.23888205e-02],\n",
       "       [9.98765837e-01, 1.23416275e-03],\n",
       "       [9.99908227e-01, 9.17728874e-05],\n",
       "       [2.83034239e-02, 9.71696576e-01],\n",
       "       [9.87611180e-01, 1.23888205e-02],\n",
       "       [9.58925255e-01, 4.10747450e-02],\n",
       "       [9.97882352e-01, 2.11764818e-03],\n",
       "       [2.83034239e-02, 9.71696576e-01],\n",
       "       [9.99726488e-01, 2.73512416e-04],\n",
       "       [7.98386260e-01, 2.01613740e-01],\n",
       "       [3.68151907e-02, 9.63184809e-01],\n",
       "       [2.47969792e-02, 9.75203021e-01],\n",
       "       [3.22892841e-02, 9.67710716e-01],\n",
       "       [9.63955217e-01, 3.60447829e-02],\n",
       "       [7.98386260e-01, 2.01613740e-01],\n",
       "       [6.19062462e-02, 9.38093754e-01],\n",
       "       [9.96811739e-01, 3.18826084e-03],\n",
       "       [3.22892841e-02, 9.67710716e-01],\n",
       "       [9.99288584e-01, 7.11416284e-04],\n",
       "       [4.77609069e-02, 9.52239093e-01],\n",
       "       [9.78746162e-01, 2.12538383e-02],\n",
       "       [9.99639211e-01, 3.60789044e-04],\n",
       "       [3.68151907e-02, 9.63184809e-01],\n",
       "       [1.90090156e-02, 9.80990984e-01],\n",
       "       [9.99524098e-01, 4.75902009e-04],\n",
       "       [9.68389521e-01, 3.16104787e-02],\n",
       "       [9.99382190e-01, 6.17809858e-04],\n",
       "       [9.81395971e-01, 1.86040290e-02],\n",
       "       [9.94479070e-01, 5.52092985e-03],\n",
       "       [9.90555885e-01, 9.44411521e-03]])"
      ]
     },
     "execution_count": 120,
     "metadata": {},
     "output_type": "execute_result"
    }
   ],
   "source": [
    "y_pred_test_proba"
   ]
  },
  {
   "cell_type": "code",
   "execution_count": 121,
   "id": "5428e5c5",
   "metadata": {},
   "outputs": [],
   "source": [
    "y_pred_test = logreg.predict(X_test_scaled)"
   ]
  },
  {
   "cell_type": "code",
   "execution_count": 122,
   "id": "9d7e9a8d",
   "metadata": {},
   "outputs": [
    {
     "data": {
      "text/plain": [
       "array([0, 0, 0, 1, 0, 0, 0, 1, 0, 0, 1, 1, 1, 0, 0, 1, 0, 1, 0, 1, 0, 0,\n",
       "       1, 1, 0, 0, 0, 0, 0, 0])"
      ]
     },
     "execution_count": 122,
     "metadata": {},
     "output_type": "execute_result"
    }
   ],
   "source": [
    "y_pred_test"
   ]
  },
  {
   "cell_type": "code",
   "execution_count": 123,
   "id": "c32b7408",
   "metadata": {},
   "outputs": [
    {
     "data": {
      "text/plain": [
       "1.0"
      ]
     },
     "execution_count": 123,
     "metadata": {},
     "output_type": "execute_result"
    }
   ],
   "source": [
    "acc_test = accuracy_score(y_test, y_pred_test)\n",
    "acc_test"
   ]
  },
  {
   "cell_type": "code",
   "execution_count": 124,
   "id": "2ab2effd",
   "metadata": {},
   "outputs": [
    {
     "name": "stdout",
     "output_type": "stream",
     "text": [
      "              precision    recall  f1-score   support\n",
      "\n",
      "           0       1.00      1.00      1.00        20\n",
      "           1       1.00      1.00      1.00        10\n",
      "\n",
      "    accuracy                           1.00        30\n",
      "   macro avg       1.00      1.00      1.00        30\n",
      "weighted avg       1.00      1.00      1.00        30\n",
      "\n"
     ]
    }
   ],
   "source": [
    "print(classification_report(y_test, y_pred_test))"
   ]
  },
  {
   "cell_type": "markdown",
   "id": "c4fd59bf",
   "metadata": {},
   "source": [
    "### Get Coefficient and Intercept"
   ]
  },
  {
   "cell_type": "code",
   "execution_count": 125,
   "id": "8de4bcb6",
   "metadata": {},
   "outputs": [
    {
     "data": {
      "text/plain": [
       "array([[-2.39283449, -2.08026681]])"
      ]
     },
     "execution_count": 125,
     "metadata": {},
     "output_type": "execute_result"
    }
   ],
   "source": [
    "logreg.coef_"
   ]
  },
  {
   "cell_type": "code",
   "execution_count": 126,
   "id": "1ef2335b",
   "metadata": {},
   "outputs": [
    {
     "data": {
      "text/plain": [
       "array([-2.58402274])"
      ]
     },
     "execution_count": 126,
     "metadata": {},
     "output_type": "execute_result"
    }
   ],
   "source": [
    "logreg.intercept_"
   ]
  },
  {
   "cell_type": "code",
   "execution_count": 127,
   "id": "1912c26d",
   "metadata": {},
   "outputs": [
    {
     "name": "stdout",
     "output_type": "stream",
     "text": [
      "intercept  -2.5840227419047093\n",
      "classes [0 1]\n"
     ]
    },
    {
     "data": {
      "text/html": [
       "<div>\n",
       "<style scoped>\n",
       "    .dataframe tbody tr th:only-of-type {\n",
       "        vertical-align: middle;\n",
       "    }\n",
       "\n",
       "    .dataframe tbody tr th {\n",
       "        vertical-align: top;\n",
       "    }\n",
       "\n",
       "    .dataframe thead th {\n",
       "        text-align: right;\n",
       "    }\n",
       "</style>\n",
       "<table border=\"1\" class=\"dataframe\">\n",
       "  <thead>\n",
       "    <tr style=\"text-align: right;\">\n",
       "      <th></th>\n",
       "      <th>coeff</th>\n",
       "    </tr>\n",
       "  </thead>\n",
       "  <tbody>\n",
       "    <tr>\n",
       "      <th>PetalLengthCm</th>\n",
       "      <td>-2.392834</td>\n",
       "    </tr>\n",
       "    <tr>\n",
       "      <th>PetalWidthCm</th>\n",
       "      <td>-2.080267</td>\n",
       "    </tr>\n",
       "  </tbody>\n",
       "</table>\n",
       "</div>"
      ],
      "text/plain": [
       "                  coeff\n",
       "PetalLengthCm -2.392834\n",
       "PetalWidthCm  -2.080267"
      ]
     },
     "execution_count": 127,
     "metadata": {},
     "output_type": "execute_result"
    }
   ],
   "source": [
    "print('intercept ', logreg.intercept_[0])\n",
    "print('classes', logreg.classes_)\n",
    "pd.DataFrame({'coeff': logreg.coef_[0]}, \n",
    "             index=X.columns)"
   ]
  },
  {
   "cell_type": "code",
   "execution_count": 129,
   "id": "78c6a0ab",
   "metadata": {},
   "outputs": [],
   "source": [
    "coef_1, coef_2 = logreg.coef_[0]"
   ]
  },
  {
   "cell_type": "code",
   "execution_count": 130,
   "id": "e64e8803",
   "metadata": {},
   "outputs": [],
   "source": [
    "itc = logreg.intercept_[0]"
   ]
  },
  {
   "cell_type": "code",
   "execution_count": 131,
   "id": "6ac44793",
   "metadata": {},
   "outputs": [],
   "source": [
    "m_boundary = -coef_1 / coef_2"
   ]
  },
  {
   "cell_type": "code",
   "execution_count": 132,
   "id": "71aaa563",
   "metadata": {},
   "outputs": [
    {
     "data": {
      "text/plain": [
       "-1.150253646860135"
      ]
     },
     "execution_count": 132,
     "metadata": {},
     "output_type": "execute_result"
    }
   ],
   "source": [
    "m_boundary"
   ]
  },
  {
   "cell_type": "code",
   "execution_count": 133,
   "id": "4c55f201",
   "metadata": {},
   "outputs": [],
   "source": [
    "c_boundary = -itc / coef_2"
   ]
  },
  {
   "cell_type": "code",
   "execution_count": 134,
   "id": "cd0571ad",
   "metadata": {},
   "outputs": [
    {
     "data": {
      "text/plain": [
       "-1.242159286244222"
      ]
     },
     "execution_count": 134,
     "metadata": {},
     "output_type": "execute_result"
    }
   ],
   "source": [
    "c_boundary"
   ]
  },
  {
   "cell_type": "code",
   "execution_count": 135,
   "id": "d4e7d358",
   "metadata": {},
   "outputs": [
    {
     "name": "stdout",
     "output_type": "stream",
     "text": [
      "-1.150253646860135 -1.242159286244222\n"
     ]
    }
   ],
   "source": [
    "print(m_boundary, c_boundary)"
   ]
  },
  {
   "cell_type": "code",
   "execution_count": 136,
   "id": "a2a3bfa1",
   "metadata": {},
   "outputs": [
    {
     "data": {
      "image/png": "[encoded data removed]",
      "text/plain": [
       "<Figure size 864x648 with 1 Axes>"
      ]
     },
     "metadata": {
      "needs_background": "light"
     },
     "output_type": "display_data"
    }
   ],
   "source": [
    "plt.figure(figsize=(12, 9))\n",
    "\n",
    "data_scaled = X_train_scaled.copy()\n",
    "data_scaled[\"Species\"] = y_train\n",
    "\n",
    "sns.scatterplot(data=data_scaled,\n",
    "                x=\"PetalLengthCm\",\n",
    "                y=\"PetalWidthCm\",\n",
    "                hue=\"Species\")\n",
    "\n",
    "\n",
    "x_support = np.linspace(data_scaled[\"PetalLengthCm\"].min(), \n",
    "                        data_scaled[\"PetalLengthCm\"].max(), 101)\n",
    "y_support = m_boundary*x_support + c_boundary\n",
    "\n",
    "plt.plot(x_support, y_support, \"--r\")\n",
    "# plt.set_ylim(-6, 6)\n",
    "\n",
    "plt.show()"
   ]
  },
  {
   "cell_type": "code",
   "execution_count": 137,
   "id": "704d47c1",
   "metadata": {
    "scrolled": false
   },
   "outputs": [
    {
     "data": {
      "image/png": "[encoded data removed]",
      "text/plain": [
       "<Figure size 864x648 with 1 Axes>"
      ]
     },
     "metadata": {
      "needs_background": "light"
     },
     "output_type": "display_data"
    }
   ],
   "source": [
    "plt.figure(figsize=(12, 9))\n",
    "\n",
    "data_scaled = X_test_scaled.copy()\n",
    "data_scaled[\"Species\"] = y_test\n",
    "\n",
    "sns.scatterplot(data=data_scaled,\n",
    "                x=\"PetalLengthCm\",\n",
    "                y=\"PetalWidthCm\",\n",
    "                hue=\"Species\")\n",
    "\n",
    "\n",
    "x_support = np.linspace(data_scaled[\"PetalLengthCm\"].min(), \n",
    "                        data_scaled[\"PetalLengthCm\"].max(), 101)\n",
    "y_support = m_boundary*x_support + c_boundary\n",
    "\n",
    "plt.plot(x_support, y_support, \"--r\")\n",
    "# plt.set_ylim(-6, 6)\n",
    "\n",
    "plt.show()"
   ]
  },
  {
   "cell_type": "markdown",
   "id": "adee4343",
   "metadata": {},
   "source": [
    "### Without Scaling"
   ]
  },
  {
   "cell_type": "code",
   "execution_count": 150,
   "id": "ae9c8152",
   "metadata": {},
   "outputs": [],
   "source": [
    "X, y = split_input_output(data=data,\n",
    "                          output_col=\"Species\")"
   ]
  },
  {
   "cell_type": "markdown",
   "id": "7e63b10d",
   "metadata": {},
   "source": [
    "### Train Test Split "
   ]
  },
  {
   "cell_type": "code",
   "execution_count": 151,
   "id": "bd78b543",
   "metadata": {},
   "outputs": [],
   "source": [
    "from sklearn.model_selection import train_test_split"
   ]
  },
  {
   "cell_type": "code",
   "execution_count": 152,
   "id": "7a17588f",
   "metadata": {},
   "outputs": [],
   "source": [
    "X_train, X_test, y_train, y_test = train_test_split(X,\n",
    "                                                    y,\n",
    "                                                    test_size=0.2,\n",
    "                                                    stratify=y,\n",
    "                                                    random_state=42)"
   ]
  },
  {
   "cell_type": "code",
   "execution_count": 153,
   "id": "ce30aac6",
   "metadata": {},
   "outputs": [
    {
     "name": "stdout",
     "output_type": "stream",
     "text": [
      "Train Data Shape: ((120, 2), (120,))\n",
      "Test Data Shape: ((30, 2), (30,))\n"
     ]
    }
   ],
   "source": [
    "print(f\"Train Data Shape: {X_train.shape, y_train.shape}\")\n",
    "print(f\"Test Data Shape: {X_test.shape, y_test.shape}\")"
   ]
  },
  {
   "cell_type": "code",
   "execution_count": 154,
   "id": "fa91a295",
   "metadata": {},
   "outputs": [
    {
     "data": {
      "text/plain": [
       "Non-setosa     80\n",
       "Iris-setosa    40\n",
       "Name: Species, dtype: int64"
      ]
     },
     "execution_count": 154,
     "metadata": {},
     "output_type": "execute_result"
    }
   ],
   "source": [
    "y_train.value_counts()"
   ]
  },
  {
   "cell_type": "code",
   "execution_count": 155,
   "id": "9ded20c5",
   "metadata": {},
   "outputs": [
    {
     "data": {
      "text/plain": [
       "Non-setosa     20\n",
       "Iris-setosa    10\n",
       "Name: Species, dtype: int64"
      ]
     },
     "execution_count": 155,
     "metadata": {},
     "output_type": "execute_result"
    }
   ],
   "source": [
    "y_test.value_counts()"
   ]
  },
  {
   "cell_type": "markdown",
   "id": "97bdec06",
   "metadata": {},
   "source": [
    "### Preprocessing"
   ]
  },
  {
   "cell_type": "code",
   "execution_count": 156,
   "id": "759e245c",
   "metadata": {},
   "outputs": [],
   "source": [
    "y_train, y_test = convert_class(y_train=y_train,\n",
    "                                y_test=y_test,\n",
    "                                class_name=\"Iris-setosa\")"
   ]
  },
  {
   "cell_type": "code",
   "execution_count": 157,
   "id": "7eeaf9ab",
   "metadata": {},
   "outputs": [
    {
     "data": {
      "text/plain": [
       "0    80\n",
       "1    40\n",
       "Name: Species, dtype: int64"
      ]
     },
     "execution_count": 157,
     "metadata": {},
     "output_type": "execute_result"
    }
   ],
   "source": [
    "y_train.value_counts()"
   ]
  },
  {
   "cell_type": "code",
   "execution_count": 158,
   "id": "1dedc6f0",
   "metadata": {},
   "outputs": [
    {
     "data": {
      "text/plain": [
       "0    20\n",
       "1    10\n",
       "Name: Species, dtype: int64"
      ]
     },
     "execution_count": 158,
     "metadata": {},
     "output_type": "execute_result"
    }
   ],
   "source": [
    "y_test.value_counts()"
   ]
  },
  {
   "cell_type": "markdown",
   "id": "738be466",
   "metadata": {},
   "source": [
    "### Modeling "
   ]
  },
  {
   "cell_type": "code",
   "execution_count": 159,
   "id": "a1e2d3e8",
   "metadata": {},
   "outputs": [],
   "source": [
    "logreg2 = LogisticRegression()"
   ]
  },
  {
   "cell_type": "code",
   "execution_count": 160,
   "id": "06359565",
   "metadata": {},
   "outputs": [
    {
     "data": {
      "text/plain": [
       "LogisticRegression()"
      ]
     },
     "execution_count": 160,
     "metadata": {},
     "output_type": "execute_result"
    }
   ],
   "source": [
    "logreg2.fit(X_train, y_train)"
   ]
  },
  {
   "cell_type": "code",
   "execution_count": 161,
   "id": "a4020bf2",
   "metadata": {},
   "outputs": [],
   "source": [
    "y_pred_train_proba = logreg2.predict_proba(X_train)"
   ]
  },
  {
   "cell_type": "code",
   "execution_count": 162,
   "id": "d90ebb8f",
   "metadata": {},
   "outputs": [
    {
     "data": {
      "text/plain": [
       "array([[2.04261373e-02, 9.79573863e-01],\n",
       "       [9.99879629e-01, 1.20371439e-04],\n",
       "       [9.98153817e-01, 1.84618330e-03],\n",
       "       [3.16085164e-02, 9.68391484e-01],\n",
       "       [2.86546467e-02, 9.71345353e-01],\n",
       "       [3.16085164e-02, 9.68391484e-01],\n",
       "       [9.72747799e-01, 2.72522008e-02],\n",
       "       [9.30336739e-01, 6.96632608e-02],\n",
       "       [9.94790143e-01, 5.20985724e-03],\n",
       "       [9.99409972e-01, 5.90027514e-04],\n",
       "       [2.35297277e-02, 9.76470272e-01],\n",
       "       [9.87507047e-01, 1.24929528e-02],\n",
       "       [9.99705113e-01, 2.94887138e-04],\n",
       "       [9.86959291e-01, 1.30407087e-02],\n",
       "       [3.29664183e-02, 9.67033582e-01],\n",
       "       [9.60250185e-01, 3.97498154e-02],\n",
       "       [1.77244823e-02, 9.82275518e-01],\n",
       "       [3.29664183e-02, 9.67033582e-01],\n",
       "       [9.99829716e-01, 1.70284103e-04],\n",
       "       [9.98257130e-01, 1.74287030e-03],\n",
       "       [8.90933793e-01, 1.09066207e-01],\n",
       "       [4.00623793e-02, 9.59937621e-01],\n",
       "       [3.29664183e-02, 9.67033582e-01],\n",
       "       [9.90202655e-01, 9.79734511e-03],\n",
       "       [9.99980247e-01, 1.97528152e-05],\n",
       "       [9.93718784e-01, 6.28121597e-03],\n",
       "       [9.97640652e-01, 2.35934831e-03],\n",
       "       [9.99418301e-01, 5.81698902e-04],\n",
       "       [9.93718784e-01, 6.28121597e-03],\n",
       "       [9.96665431e-01, 3.33456857e-03],\n",
       "       [3.16085164e-02, 9.68391484e-01],\n",
       "       [9.99986038e-01, 1.39623713e-05],\n",
       "       [9.98694317e-01, 1.30568252e-03],\n",
       "       [9.91136889e-01, 8.86311127e-03],\n",
       "       [9.97772617e-01, 2.22738251e-03],\n",
       "       [9.97772617e-01, 2.22738251e-03],\n",
       "       [9.99808894e-01, 1.91106060e-04],\n",
       "       [2.25514628e-02, 9.77448537e-01],\n",
       "       [9.99769355e-01, 2.30644531e-04],\n",
       "       [1.95743197e-02, 9.80425680e-01],\n",
       "       [9.99944862e-01, 5.51382524e-05],\n",
       "       [2.04261373e-02, 9.79573863e-01],\n",
       "       [2.25514628e-02, 9.77448537e-01],\n",
       "       [9.98491455e-01, 1.50854470e-03],\n",
       "       [1.25939994e-02, 9.87406001e-01],\n",
       "       [1.77244823e-02, 9.82275518e-01],\n",
       "       [1.84973191e-02, 9.81502681e-01],\n",
       "       [2.25514628e-02, 9.77448537e-01],\n",
       "       [9.95080760e-01, 4.91923965e-03],\n",
       "       [9.99600602e-01, 3.99397830e-04],\n",
       "       [9.99318225e-01, 6.81775218e-04],\n",
       "       [2.04261373e-02, 9.79573863e-01],\n",
       "       [9.79736460e-01, 2.02635400e-02],\n",
       "       [9.96148560e-01, 3.85144044e-03],\n",
       "       [9.74236144e-01, 2.57638559e-02],\n",
       "       [2.04261373e-02, 9.79573863e-01],\n",
       "       [9.99606241e-01, 3.93759016e-04],\n",
       "       [1.60465995e-02, 9.83953401e-01],\n",
       "       [9.99035748e-01, 9.64252483e-04],\n",
       "       [9.63936539e-01, 3.60634608e-02],\n",
       "       [9.99496588e-01, 5.03411862e-04],\n",
       "       [9.70346081e-01, 2.96539191e-02],\n",
       "       [9.84081702e-01, 1.59182979e-02],\n",
       "       [9.94559956e-01, 5.44004358e-03],\n",
       "       [9.99692017e-01, 3.07983323e-04],\n",
       "       [9.99829716e-01, 1.70284103e-04],\n",
       "       [9.99944072e-01, 5.59281293e-05],\n",
       "       [9.99942412e-01, 5.75876018e-05],\n",
       "       [2.59694185e-02, 9.74030581e-01],\n",
       "       [5.57509918e-02, 9.44249008e-01],\n",
       "       [2.04261373e-02, 9.79573863e-01],\n",
       "       [9.95740320e-01, 4.25967953e-03],\n",
       "       [9.98575901e-01, 1.42409910e-03],\n",
       "       [9.71571551e-01, 2.84284494e-02],\n",
       "       [9.65417448e-01, 3.45825523e-02],\n",
       "       [9.95740320e-01, 4.25967953e-03],\n",
       "       [9.33984119e-01, 6.60158805e-02],\n",
       "       [2.35297277e-02, 9.76470272e-01],\n",
       "       [9.89171022e-01, 1.08289778e-02],\n",
       "       [9.82416995e-01, 1.75830049e-02],\n",
       "       [4.86089568e-02, 9.51391043e-01],\n",
       "       [9.96517811e-01, 3.48218934e-03],\n",
       "       [2.35297277e-02, 9.76470272e-01],\n",
       "       [9.99872481e-01, 1.27519043e-04],\n",
       "       [9.91136889e-01, 8.86311127e-03],\n",
       "       [9.49731917e-01, 5.02680833e-02],\n",
       "       [3.29664183e-02, 9.67033582e-01],\n",
       "       [9.99600602e-01, 3.99397830e-04],\n",
       "       [9.98885874e-01, 1.11412630e-03],\n",
       "       [8.02398390e-02, 9.19760161e-01],\n",
       "       [8.93506429e-03, 9.91064936e-01],\n",
       "       [9.99128436e-01, 8.71564031e-04],\n",
       "       [9.99883097e-01, 1.16902968e-04],\n",
       "       [9.98933212e-01, 1.06678757e-03],\n",
       "       [7.25632518e-01, 2.74367482e-01],\n",
       "       [9.87507047e-01, 1.24929528e-02],\n",
       "       [5.06589919e-02, 9.49341008e-01],\n",
       "       [9.99035748e-01, 9.64252483e-04],\n",
       "       [9.99964270e-01, 3.57301610e-05],\n",
       "       [9.99992281e-01, 7.71878570e-06],\n",
       "       [9.74236144e-01, 2.57638559e-02],\n",
       "       [2.59694185e-02, 9.74030581e-01],\n",
       "       [9.97772617e-01, 2.22738251e-03],\n",
       "       [9.99531875e-01, 4.68125498e-04],\n",
       "       [9.99766052e-01, 2.33948016e-04],\n",
       "       [9.93718784e-01, 6.28121597e-03],\n",
       "       [9.99819605e-01, 1.80394966e-04],\n",
       "       [2.59694185e-02, 9.74030581e-01],\n",
       "       [8.90933793e-01, 1.09066207e-01],\n",
       "       [9.94863348e-01, 5.13665197e-03],\n",
       "       [9.97640652e-01, 2.35934831e-03],\n",
       "       [3.29664183e-02, 9.67033582e-01],\n",
       "       [2.35297277e-02, 9.76470272e-01],\n",
       "       [1.60465995e-02, 9.83953401e-01],\n",
       "       [2.04261373e-02, 9.79573863e-01],\n",
       "       [9.99791541e-01, 2.08459187e-04],\n",
       "       [2.59694185e-02, 9.74030581e-01],\n",
       "       [9.99982907e-01, 1.70931199e-05],\n",
       "       [9.99909860e-01, 9.01402891e-05],\n",
       "       [6.65206741e-02, 9.33479326e-01]])"
      ]
     },
     "execution_count": 162,
     "metadata": {},
     "output_type": "execute_result"
    }
   ],
   "source": [
    "y_pred_train_proba"
   ]
  },
  {
   "cell_type": "code",
   "execution_count": 163,
   "id": "7daa253a",
   "metadata": {},
   "outputs": [],
   "source": [
    "y_pred_train = logreg2.predict(X_train)"
   ]
  },
  {
   "cell_type": "code",
   "execution_count": 164,
   "id": "04919d00",
   "metadata": {},
   "outputs": [
    {
     "data": {
      "text/plain": [
       "array([1, 0, 0, 1, 1, 1, 0, 0, 0, 0, 1, 0, 0, 0, 1, 0, 1, 1, 0, 0, 0, 1,\n",
       "       1, 0, 0, 0, 0, 0, 0, 0, 1, 0, 0, 0, 0, 0, 0, 1, 0, 1, 0, 1, 1, 0,\n",
       "       1, 1, 1, 1, 0, 0, 0, 1, 0, 0, 0, 1, 0, 1, 0, 0, 0, 0, 0, 0, 0, 0,\n",
       "       0, 0, 1, 1, 1, 0, 0, 0, 0, 0, 0, 1, 0, 0, 1, 0, 1, 0, 0, 0, 1, 0,\n",
       "       0, 1, 1, 0, 0, 0, 0, 0, 1, 0, 0, 0, 0, 1, 0, 0, 0, 0, 0, 1, 0, 0,\n",
       "       0, 1, 1, 1, 1, 0, 1, 0, 0, 1])"
      ]
     },
     "execution_count": 164,
     "metadata": {},
     "output_type": "execute_result"
    }
   ],
   "source": [
    "y_pred_train"
   ]
  },
  {
   "cell_type": "code",
   "execution_count": 165,
   "id": "e4d49429",
   "metadata": {},
   "outputs": [],
   "source": [
    "from sklearn.metrics import accuracy_score\n",
    "from sklearn.metrics import confusion_matrix\n",
    "from sklearn.metrics import classification_report"
   ]
  },
  {
   "cell_type": "code",
   "execution_count": 166,
   "id": "2321e739",
   "metadata": {},
   "outputs": [
    {
     "data": {
      "text/plain": [
       "1.0"
      ]
     },
     "execution_count": 166,
     "metadata": {},
     "output_type": "execute_result"
    }
   ],
   "source": [
    "acc_train = accuracy_score(y_train, y_pred_train)\n",
    "acc_train"
   ]
  },
  {
   "cell_type": "code",
   "execution_count": 167,
   "id": "1b3b8589",
   "metadata": {},
   "outputs": [
    {
     "name": "stdout",
     "output_type": "stream",
     "text": [
      "              precision    recall  f1-score   support\n",
      "\n",
      "           0       1.00      1.00      1.00        80\n",
      "           1       1.00      1.00      1.00        40\n",
      "\n",
      "    accuracy                           1.00       120\n",
      "   macro avg       1.00      1.00      1.00       120\n",
      "weighted avg       1.00      1.00      1.00       120\n",
      "\n"
     ]
    }
   ],
   "source": [
    "print(classification_report(y_train, y_pred_train))"
   ]
  },
  {
   "cell_type": "code",
   "execution_count": 168,
   "id": "4e9e3d84",
   "metadata": {},
   "outputs": [],
   "source": [
    "y_pred_test_proba = logreg2.predict_proba(X_test)"
   ]
  },
  {
   "cell_type": "code",
   "execution_count": 169,
   "id": "b194aaf8",
   "metadata": {},
   "outputs": [
    {
     "data": {
      "text/plain": [
       "array([[9.93718784e-01, 6.28121597e-03],\n",
       "       [9.99687606e-01, 3.12394172e-04],\n",
       "       [9.99954960e-01, 4.50395317e-05],\n",
       "       [1.60465995e-02, 9.83953401e-01],\n",
       "       [9.93718784e-01, 6.28121597e-03],\n",
       "       [9.74236144e-01, 2.57638559e-02],\n",
       "       [9.98767421e-01, 1.23257876e-03],\n",
       "       [1.60465995e-02, 9.83953401e-01],\n",
       "       [9.99852641e-01, 1.47358518e-04],\n",
       "       [8.33238671e-01, 1.66761329e-01],\n",
       "       [2.59694185e-02, 9.74030581e-01],\n",
       "       [1.25939994e-02, 9.87406001e-01],\n",
       "       [2.04261373e-02, 9.79573863e-01],\n",
       "       [9.79736460e-01, 2.02635400e-02],\n",
       "       [8.33238671e-01, 1.66761329e-01],\n",
       "       [4.60094070e-02, 9.53990593e-01],\n",
       "       [9.98257130e-01, 1.74287030e-03],\n",
       "       [2.04261373e-02, 9.79573863e-01],\n",
       "       [9.99622983e-01, 3.77016820e-04],\n",
       "       [4.17677950e-02, 9.58232205e-01],\n",
       "       [9.92321153e-01, 7.67884662e-03],\n",
       "       [9.99889650e-01, 1.10350343e-04],\n",
       "       [2.59694185e-02, 9.74030581e-01],\n",
       "       [7.74126057e-03, 9.92258739e-01],\n",
       "       [9.99917364e-01, 8.26357718e-05],\n",
       "       [9.84081702e-01, 1.59182979e-02],\n",
       "       [9.99356419e-01, 6.43580847e-04],\n",
       "       [9.93984348e-01, 6.01565212e-03],\n",
       "       [9.98555528e-01, 1.44447155e-03],\n",
       "       [9.94319658e-01, 5.68034213e-03]])"
      ]
     },
     "execution_count": 169,
     "metadata": {},
     "output_type": "execute_result"
    }
   ],
   "source": [
    "y_pred_test_proba"
   ]
  },
  {
   "cell_type": "code",
   "execution_count": 170,
   "id": "83d67304",
   "metadata": {},
   "outputs": [],
   "source": [
    "y_pred_test = logreg2.predict(X_test)"
   ]
  },
  {
   "cell_type": "code",
   "execution_count": 171,
   "id": "53cf60ce",
   "metadata": {},
   "outputs": [
    {
     "data": {
      "text/plain": [
       "array([0, 0, 0, 1, 0, 0, 0, 1, 0, 0, 1, 1, 1, 0, 0, 1, 0, 1, 0, 1, 0, 0,\n",
       "       1, 1, 0, 0, 0, 0, 0, 0])"
      ]
     },
     "execution_count": 171,
     "metadata": {},
     "output_type": "execute_result"
    }
   ],
   "source": [
    "y_pred_test"
   ]
  },
  {
   "cell_type": "code",
   "execution_count": 172,
   "id": "af85b846",
   "metadata": {},
   "outputs": [
    {
     "data": {
      "text/plain": [
       "1.0"
      ]
     },
     "execution_count": 172,
     "metadata": {},
     "output_type": "execute_result"
    }
   ],
   "source": [
    "acc_test = accuracy_score(y_test, y_pred_test)\n",
    "acc_test"
   ]
  },
  {
   "cell_type": "code",
   "execution_count": 173,
   "id": "5fa2b3f5",
   "metadata": {},
   "outputs": [
    {
     "name": "stdout",
     "output_type": "stream",
     "text": [
      "              precision    recall  f1-score   support\n",
      "\n",
      "           0       1.00      1.00      1.00        20\n",
      "           1       1.00      1.00      1.00        10\n",
      "\n",
      "    accuracy                           1.00        30\n",
      "   macro avg       1.00      1.00      1.00        30\n",
      "weighted avg       1.00      1.00      1.00        30\n",
      "\n"
     ]
    }
   ],
   "source": [
    "print(classification_report(y_test, y_pred_test))"
   ]
  },
  {
   "cell_type": "markdown",
   "id": "a5f00063",
   "metadata": {},
   "source": [
    "### Get Coefficient and Intercept"
   ]
  },
  {
   "cell_type": "code",
   "execution_count": 174,
   "id": "f48594ca",
   "metadata": {},
   "outputs": [
    {
     "data": {
      "text/plain": [
       "array([[-2.45779259, -1.01156612]])"
      ]
     },
     "execution_count": 174,
     "metadata": {},
     "output_type": "execute_result"
    }
   ],
   "source": [
    "logreg2.coef_"
   ]
  },
  {
   "cell_type": "code",
   "execution_count": 175,
   "id": "2a8ad13f",
   "metadata": {},
   "outputs": [
    {
     "data": {
      "text/plain": [
       "array([7.51352518])"
      ]
     },
     "execution_count": 175,
     "metadata": {},
     "output_type": "execute_result"
    }
   ],
   "source": [
    "logreg2.intercept_"
   ]
  },
  {
   "cell_type": "code",
   "execution_count": 176,
   "id": "958d56ab",
   "metadata": {},
   "outputs": [
    {
     "name": "stdout",
     "output_type": "stream",
     "text": [
      "intercept  7.513525176732887\n",
      "classes [0 1]\n"
     ]
    },
    {
     "data": {
      "text/html": [
       "<div>\n",
       "<style scoped>\n",
       "    .dataframe tbody tr th:only-of-type {\n",
       "        vertical-align: middle;\n",
       "    }\n",
       "\n",
       "    .dataframe tbody tr th {\n",
       "        vertical-align: top;\n",
       "    }\n",
       "\n",
       "    .dataframe thead th {\n",
       "        text-align: right;\n",
       "    }\n",
       "</style>\n",
       "<table border=\"1\" class=\"dataframe\">\n",
       "  <thead>\n",
       "    <tr style=\"text-align: right;\">\n",
       "      <th></th>\n",
       "      <th>coeff</th>\n",
       "    </tr>\n",
       "  </thead>\n",
       "  <tbody>\n",
       "    <tr>\n",
       "      <th>PetalLengthCm</th>\n",
       "      <td>-2.457793</td>\n",
       "    </tr>\n",
       "    <tr>\n",
       "      <th>PetalWidthCm</th>\n",
       "      <td>-1.011566</td>\n",
       "    </tr>\n",
       "  </tbody>\n",
       "</table>\n",
       "</div>"
      ],
      "text/plain": [
       "                  coeff\n",
       "PetalLengthCm -2.457793\n",
       "PetalWidthCm  -1.011566"
      ]
     },
     "execution_count": 176,
     "metadata": {},
     "output_type": "execute_result"
    }
   ],
   "source": [
    "print('intercept ', logreg2.intercept_[0])\n",
    "print('classes', logreg2.classes_)\n",
    "pd.DataFrame({'coeff': logreg2.coef_[0]}, \n",
    "             index=X.columns)"
   ]
  },
  {
   "cell_type": "code",
   "execution_count": 183,
   "id": "2374bdef",
   "metadata": {},
   "outputs": [],
   "source": [
    "coef_1, coef_2 = logreg2.coef_[0]"
   ]
  },
  {
   "cell_type": "code",
   "execution_count": 184,
   "id": "6df7a3b5",
   "metadata": {},
   "outputs": [],
   "source": [
    "itc = logreg2.intercept_[0]"
   ]
  },
  {
   "cell_type": "code",
   "execution_count": 185,
   "id": "627c60f3",
   "metadata": {},
   "outputs": [],
   "source": [
    "m_boundary = -coef_1 / coef_2"
   ]
  },
  {
   "cell_type": "code",
   "execution_count": 186,
   "id": "1dc89af8",
   "metadata": {},
   "outputs": [
    {
     "data": {
      "text/plain": [
       "-2.4296905048710324"
      ]
     },
     "execution_count": 186,
     "metadata": {},
     "output_type": "execute_result"
    }
   ],
   "source": [
    "m_boundary"
   ]
  },
  {
   "cell_type": "code",
   "execution_count": 187,
   "id": "061988bd",
   "metadata": {},
   "outputs": [],
   "source": [
    "c_boundary = -itc / coef_2"
   ]
  },
  {
   "cell_type": "code",
   "execution_count": 188,
   "id": "6f37259a",
   "metadata": {},
   "outputs": [
    {
     "data": {
      "text/plain": [
       "7.427616487355918"
      ]
     },
     "execution_count": 188,
     "metadata": {},
     "output_type": "execute_result"
    }
   ],
   "source": [
    "c_boundary"
   ]
  },
  {
   "cell_type": "code",
   "execution_count": 189,
   "id": "dd51b518",
   "metadata": {},
   "outputs": [
    {
     "name": "stdout",
     "output_type": "stream",
     "text": [
      "-2.4296905048710324 7.427616487355918\n"
     ]
    }
   ],
   "source": [
    "print(m_boundary, c_boundary)"
   ]
  },
  {
   "cell_type": "code",
   "execution_count": 191,
   "id": "2b9befc2",
   "metadata": {},
   "outputs": [
    {
     "data": {
      "image/png": "[encoded data removed]",
      "text/plain": [
       "<Figure size 864x648 with 1 Axes>"
      ]
     },
     "metadata": {
      "needs_background": "light"
     },
     "output_type": "display_data"
    }
   ],
   "source": [
    "plt.figure(figsize=(12, 9))\n",
    "\n",
    "data_scaled = X_train.copy()\n",
    "data_scaled[\"Species\"] = y_train\n",
    "\n",
    "sns.scatterplot(data=data_scaled,\n",
    "                x=\"PetalLengthCm\",\n",
    "                y=\"PetalWidthCm\",\n",
    "                hue=\"Species\")\n",
    "\n",
    "\n",
    "x_support = np.linspace(data_scaled[\"PetalLengthCm\"].min(), \n",
    "                        data_scaled[\"PetalLengthCm\"].max(), 101)\n",
    "y_support = m_boundary*x_support + c_boundary\n",
    "\n",
    "plt.plot(x_support, y_support, \"--r\")\n",
    "# plt.set_ylim(-6, 6)\n",
    "\n",
    "plt.show()"
   ]
  },
  {
   "cell_type": "code",
   "execution_count": 199,
   "id": "99a381fc",
   "metadata": {
    "scrolled": false
   },
   "outputs": [
    {
     "data": {
      "image/png": "[encoded data removed]",
      "text/plain": [
       "<Figure size 864x648 with 1 Axes>"
      ]
     },
     "metadata": {
      "needs_background": "light"
     },
     "output_type": "display_data"
    }
   ],
   "source": [
    "plt.figure(figsize=(12, 9))\n",
    "\n",
    "data_scaled = X_test.copy()\n",
    "data_scaled[\"Species\"] = y_test\n",
    "\n",
    "sns.scatterplot(data=data_scaled,\n",
    "                x=\"PetalLengthCm\",\n",
    "                y=\"PetalWidthCm\",\n",
    "                hue=\"Species\")\n",
    "\n",
    "\n",
    "x_support = np.linspace(data_scaled[\"PetalLengthCm\"].min(), \n",
    "                        data_scaled[\"PetalLengthCm\"].max(), 101)\n",
    "y_support = m_boundary*x_support + c_boundary\n",
    "\n",
    "plt.plot(x_support, y_support, \"--r\")\n",
    "# plt.set_ylim(-6, 6)\n",
    "\n",
    "plt.show()"
   ]
  }
 ],
 "metadata": {
  "kernelspec": {
   "display_name": "Python 3 (ipykernel)",
   "language": "python",
   "name": "python3"
  },
  "language_info": {
   "codemirror_mode": {
    "name": "ipython",
    "version": 3
   },
   "file_extension": ".py",
   "mimetype": "text/x-python",
   "name": "python",
   "nbconvert_exporter": "python",
   "pygments_lexer": "ipython3",
   "version": "3.9.12"
  }
 },
 "nbformat": 4,
 "nbformat_minor": 5
}
