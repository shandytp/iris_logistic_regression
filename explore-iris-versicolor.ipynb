{
 "cells": [
  {
   "cell_type": "code",
   "execution_count": 1,
   "id": "4d119205",
   "metadata": {},
   "outputs": [],
   "source": [
    "import pandas as pd\n",
    "import numpy as np\n",
    "import matplotlib.pyplot as plt\n",
    "import seaborn as sns"
   ]
  },
  {
   "cell_type": "markdown",
   "id": "2d9a851e",
   "metadata": {},
   "source": [
    "### Read Data"
   ]
  },
  {
   "cell_type": "code",
   "execution_count": 23,
   "id": "c64f62f8",
   "metadata": {},
   "outputs": [],
   "source": [
    "data = pd.read_csv('Iris.csv')"
   ]
  },
  {
   "cell_type": "code",
   "execution_count": 24,
   "id": "48d2c58f",
   "metadata": {},
   "outputs": [
    {
     "data": {
      "text/html": [
       "<div>\n",
       "<style scoped>\n",
       "    .dataframe tbody tr th:only-of-type {\n",
       "        vertical-align: middle;\n",
       "    }\n",
       "\n",
       "    .dataframe tbody tr th {\n",
       "        vertical-align: top;\n",
       "    }\n",
       "\n",
       "    .dataframe thead th {\n",
       "        text-align: right;\n",
       "    }\n",
       "</style>\n",
       "<table border=\"1\" class=\"dataframe\">\n",
       "  <thead>\n",
       "    <tr style=\"text-align: right;\">\n",
       "      <th></th>\n",
       "      <th>Id</th>\n",
       "      <th>SepalLengthCm</th>\n",
       "      <th>SepalWidthCm</th>\n",
       "      <th>PetalLengthCm</th>\n",
       "      <th>PetalWidthCm</th>\n",
       "      <th>Species</th>\n",
       "    </tr>\n",
       "  </thead>\n",
       "  <tbody>\n",
       "    <tr>\n",
       "      <th>0</th>\n",
       "      <td>1</td>\n",
       "      <td>5.1</td>\n",
       "      <td>3.5</td>\n",
       "      <td>1.4</td>\n",
       "      <td>0.2</td>\n",
       "      <td>Iris-setosa</td>\n",
       "    </tr>\n",
       "    <tr>\n",
       "      <th>1</th>\n",
       "      <td>2</td>\n",
       "      <td>4.9</td>\n",
       "      <td>3.0</td>\n",
       "      <td>1.4</td>\n",
       "      <td>0.2</td>\n",
       "      <td>Iris-setosa</td>\n",
       "    </tr>\n",
       "    <tr>\n",
       "      <th>2</th>\n",
       "      <td>3</td>\n",
       "      <td>4.7</td>\n",
       "      <td>3.2</td>\n",
       "      <td>1.3</td>\n",
       "      <td>0.2</td>\n",
       "      <td>Iris-setosa</td>\n",
       "    </tr>\n",
       "    <tr>\n",
       "      <th>3</th>\n",
       "      <td>4</td>\n",
       "      <td>4.6</td>\n",
       "      <td>3.1</td>\n",
       "      <td>1.5</td>\n",
       "      <td>0.2</td>\n",
       "      <td>Iris-setosa</td>\n",
       "    </tr>\n",
       "    <tr>\n",
       "      <th>4</th>\n",
       "      <td>5</td>\n",
       "      <td>5.0</td>\n",
       "      <td>3.6</td>\n",
       "      <td>1.4</td>\n",
       "      <td>0.2</td>\n",
       "      <td>Iris-setosa</td>\n",
       "    </tr>\n",
       "  </tbody>\n",
       "</table>\n",
       "</div>"
      ],
      "text/plain": [
       "   Id  SepalLengthCm  SepalWidthCm  PetalLengthCm  PetalWidthCm      Species\n",
       "0   1            5.1           3.5            1.4           0.2  Iris-setosa\n",
       "1   2            4.9           3.0            1.4           0.2  Iris-setosa\n",
       "2   3            4.7           3.2            1.3           0.2  Iris-setosa\n",
       "3   4            4.6           3.1            1.5           0.2  Iris-setosa\n",
       "4   5            5.0           3.6            1.4           0.2  Iris-setosa"
      ]
     },
     "execution_count": 24,
     "metadata": {},
     "output_type": "execute_result"
    }
   ],
   "source": [
    "data.head()"
   ]
  },
  {
   "cell_type": "code",
   "execution_count": 25,
   "id": "0004c361",
   "metadata": {},
   "outputs": [
    {
     "data": {
      "text/html": [
       "<div>\n",
       "<style scoped>\n",
       "    .dataframe tbody tr th:only-of-type {\n",
       "        vertical-align: middle;\n",
       "    }\n",
       "\n",
       "    .dataframe tbody tr th {\n",
       "        vertical-align: top;\n",
       "    }\n",
       "\n",
       "    .dataframe thead th {\n",
       "        text-align: right;\n",
       "    }\n",
       "</style>\n",
       "<table border=\"1\" class=\"dataframe\">\n",
       "  <thead>\n",
       "    <tr style=\"text-align: right;\">\n",
       "      <th></th>\n",
       "      <th>Id</th>\n",
       "      <th>SepalLengthCm</th>\n",
       "      <th>SepalWidthCm</th>\n",
       "      <th>PetalLengthCm</th>\n",
       "      <th>PetalWidthCm</th>\n",
       "    </tr>\n",
       "  </thead>\n",
       "  <tbody>\n",
       "    <tr>\n",
       "      <th>Id</th>\n",
       "      <td>1.000000</td>\n",
       "      <td>0.716676</td>\n",
       "      <td>-0.397729</td>\n",
       "      <td>0.882747</td>\n",
       "      <td>0.899759</td>\n",
       "    </tr>\n",
       "    <tr>\n",
       "      <th>SepalLengthCm</th>\n",
       "      <td>0.716676</td>\n",
       "      <td>1.000000</td>\n",
       "      <td>-0.109369</td>\n",
       "      <td>0.871754</td>\n",
       "      <td>0.817954</td>\n",
       "    </tr>\n",
       "    <tr>\n",
       "      <th>SepalWidthCm</th>\n",
       "      <td>-0.397729</td>\n",
       "      <td>-0.109369</td>\n",
       "      <td>1.000000</td>\n",
       "      <td>-0.420516</td>\n",
       "      <td>-0.356544</td>\n",
       "    </tr>\n",
       "    <tr>\n",
       "      <th>PetalLengthCm</th>\n",
       "      <td>0.882747</td>\n",
       "      <td>0.871754</td>\n",
       "      <td>-0.420516</td>\n",
       "      <td>1.000000</td>\n",
       "      <td>0.962757</td>\n",
       "    </tr>\n",
       "    <tr>\n",
       "      <th>PetalWidthCm</th>\n",
       "      <td>0.899759</td>\n",
       "      <td>0.817954</td>\n",
       "      <td>-0.356544</td>\n",
       "      <td>0.962757</td>\n",
       "      <td>1.000000</td>\n",
       "    </tr>\n",
       "  </tbody>\n",
       "</table>\n",
       "</div>"
      ],
      "text/plain": [
       "                     Id  SepalLengthCm  SepalWidthCm  PetalLengthCm  \\\n",
       "Id             1.000000       0.716676     -0.397729       0.882747   \n",
       "SepalLengthCm  0.716676       1.000000     -0.109369       0.871754   \n",
       "SepalWidthCm  -0.397729      -0.109369      1.000000      -0.420516   \n",
       "PetalLengthCm  0.882747       0.871754     -0.420516       1.000000   \n",
       "PetalWidthCm   0.899759       0.817954     -0.356544       0.962757   \n",
       "\n",
       "               PetalWidthCm  \n",
       "Id                 0.899759  \n",
       "SepalLengthCm      0.817954  \n",
       "SepalWidthCm      -0.356544  \n",
       "PetalLengthCm      0.962757  \n",
       "PetalWidthCm       1.000000  "
      ]
     },
     "execution_count": 25,
     "metadata": {},
     "output_type": "execute_result"
    }
   ],
   "source": [
    "data.corr()"
   ]
  },
  {
   "cell_type": "markdown",
   "id": "f79d8e73",
   "metadata": {},
   "source": [
    "### Only using 2 variables\n",
    "\n",
    "Drop `SepalLengthCm` and `SepalWidthCm` cols"
   ]
  },
  {
   "cell_type": "code",
   "execution_count": 26,
   "id": "62529161",
   "metadata": {},
   "outputs": [],
   "source": [
    "DROP_COLS = [\"Id\", \"SepalLengthCm\", \"SepalWidthCm\"]"
   ]
  },
  {
   "cell_type": "code",
   "execution_count": 27,
   "id": "1e3041b6",
   "metadata": {},
   "outputs": [],
   "source": [
    "def drop_columns(cols_name):\n",
    "    data.drop(cols_name, axis=1, inplace=True)"
   ]
  },
  {
   "cell_type": "code",
   "execution_count": 28,
   "id": "00149e71",
   "metadata": {},
   "outputs": [],
   "source": [
    "drop_columns(DROP_COLS)"
   ]
  },
  {
   "cell_type": "code",
   "execution_count": 29,
   "id": "e9fc75d2",
   "metadata": {},
   "outputs": [
    {
     "data": {
      "text/html": [
       "<div>\n",
       "<style scoped>\n",
       "    .dataframe tbody tr th:only-of-type {\n",
       "        vertical-align: middle;\n",
       "    }\n",
       "\n",
       "    .dataframe tbody tr th {\n",
       "        vertical-align: top;\n",
       "    }\n",
       "\n",
       "    .dataframe thead th {\n",
       "        text-align: right;\n",
       "    }\n",
       "</style>\n",
       "<table border=\"1\" class=\"dataframe\">\n",
       "  <thead>\n",
       "    <tr style=\"text-align: right;\">\n",
       "      <th></th>\n",
       "      <th>PetalLengthCm</th>\n",
       "      <th>PetalWidthCm</th>\n",
       "      <th>Species</th>\n",
       "    </tr>\n",
       "  </thead>\n",
       "  <tbody>\n",
       "    <tr>\n",
       "      <th>0</th>\n",
       "      <td>1.4</td>\n",
       "      <td>0.2</td>\n",
       "      <td>Iris-setosa</td>\n",
       "    </tr>\n",
       "    <tr>\n",
       "      <th>1</th>\n",
       "      <td>1.4</td>\n",
       "      <td>0.2</td>\n",
       "      <td>Iris-setosa</td>\n",
       "    </tr>\n",
       "    <tr>\n",
       "      <th>2</th>\n",
       "      <td>1.3</td>\n",
       "      <td>0.2</td>\n",
       "      <td>Iris-setosa</td>\n",
       "    </tr>\n",
       "    <tr>\n",
       "      <th>3</th>\n",
       "      <td>1.5</td>\n",
       "      <td>0.2</td>\n",
       "      <td>Iris-setosa</td>\n",
       "    </tr>\n",
       "    <tr>\n",
       "      <th>4</th>\n",
       "      <td>1.4</td>\n",
       "      <td>0.2</td>\n",
       "      <td>Iris-setosa</td>\n",
       "    </tr>\n",
       "  </tbody>\n",
       "</table>\n",
       "</div>"
      ],
      "text/plain": [
       "   PetalLengthCm  PetalWidthCm      Species\n",
       "0            1.4           0.2  Iris-setosa\n",
       "1            1.4           0.2  Iris-setosa\n",
       "2            1.3           0.2  Iris-setosa\n",
       "3            1.5           0.2  Iris-setosa\n",
       "4            1.4           0.2  Iris-setosa"
      ]
     },
     "execution_count": 29,
     "metadata": {},
     "output_type": "execute_result"
    }
   ],
   "source": [
    "data.head()"
   ]
  },
  {
   "cell_type": "code",
   "execution_count": 30,
   "id": "424ac6e7",
   "metadata": {},
   "outputs": [
    {
     "data": {
      "text/plain": [
       "Iris-setosa        50\n",
       "Iris-versicolor    50\n",
       "Iris-virginica     50\n",
       "Name: Species, dtype: int64"
      ]
     },
     "execution_count": 30,
     "metadata": {},
     "output_type": "execute_result"
    }
   ],
   "source": [
    "data['Species'].value_counts()"
   ]
  },
  {
   "cell_type": "markdown",
   "id": "fe54a296",
   "metadata": {},
   "source": [
    "### Only Pick Versicolor\n",
    "\n",
    "Nanti sisa nya akan di convert jadi Non-Versicolor"
   ]
  },
  {
   "cell_type": "code",
   "execution_count": 31,
   "id": "af27162b",
   "metadata": {},
   "outputs": [
    {
     "name": "stderr",
     "output_type": "stream",
     "text": [
      "/tmp/ipykernel_243/2584635057.py:1: SettingWithCopyWarning: \n",
      "A value is trying to be set on a copy of a slice from a DataFrame\n",
      "\n",
      "See the caveats in the documentation: https://pandas.pydata.org/pandas-docs/stable/user_guide/indexing.html#returning-a-view-versus-a-copy\n",
      "  data[\"Species\"][data[\"Species\"] != \"Iris-versicolor\"] = \"Non-versicolor\"\n"
     ]
    }
   ],
   "source": [
    "data[\"Species\"][data[\"Species\"] != \"Iris-versicolor\"] = \"Non-versicolor\""
   ]
  },
  {
   "cell_type": "code",
   "execution_count": 32,
   "id": "ed0fcd7c",
   "metadata": {},
   "outputs": [
    {
     "data": {
      "text/html": [
       "<div>\n",
       "<style scoped>\n",
       "    .dataframe tbody tr th:only-of-type {\n",
       "        vertical-align: middle;\n",
       "    }\n",
       "\n",
       "    .dataframe tbody tr th {\n",
       "        vertical-align: top;\n",
       "    }\n",
       "\n",
       "    .dataframe thead th {\n",
       "        text-align: right;\n",
       "    }\n",
       "</style>\n",
       "<table border=\"1\" class=\"dataframe\">\n",
       "  <thead>\n",
       "    <tr style=\"text-align: right;\">\n",
       "      <th></th>\n",
       "      <th>PetalLengthCm</th>\n",
       "      <th>PetalWidthCm</th>\n",
       "      <th>Species</th>\n",
       "    </tr>\n",
       "  </thead>\n",
       "  <tbody>\n",
       "    <tr>\n",
       "      <th>0</th>\n",
       "      <td>1.4</td>\n",
       "      <td>0.2</td>\n",
       "      <td>Non-versicolor</td>\n",
       "    </tr>\n",
       "    <tr>\n",
       "      <th>1</th>\n",
       "      <td>1.4</td>\n",
       "      <td>0.2</td>\n",
       "      <td>Non-versicolor</td>\n",
       "    </tr>\n",
       "    <tr>\n",
       "      <th>2</th>\n",
       "      <td>1.3</td>\n",
       "      <td>0.2</td>\n",
       "      <td>Non-versicolor</td>\n",
       "    </tr>\n",
       "    <tr>\n",
       "      <th>3</th>\n",
       "      <td>1.5</td>\n",
       "      <td>0.2</td>\n",
       "      <td>Non-versicolor</td>\n",
       "    </tr>\n",
       "    <tr>\n",
       "      <th>4</th>\n",
       "      <td>1.4</td>\n",
       "      <td>0.2</td>\n",
       "      <td>Non-versicolor</td>\n",
       "    </tr>\n",
       "    <tr>\n",
       "      <th>...</th>\n",
       "      <td>...</td>\n",
       "      <td>...</td>\n",
       "      <td>...</td>\n",
       "    </tr>\n",
       "    <tr>\n",
       "      <th>145</th>\n",
       "      <td>5.2</td>\n",
       "      <td>2.3</td>\n",
       "      <td>Non-versicolor</td>\n",
       "    </tr>\n",
       "    <tr>\n",
       "      <th>146</th>\n",
       "      <td>5.0</td>\n",
       "      <td>1.9</td>\n",
       "      <td>Non-versicolor</td>\n",
       "    </tr>\n",
       "    <tr>\n",
       "      <th>147</th>\n",
       "      <td>5.2</td>\n",
       "      <td>2.0</td>\n",
       "      <td>Non-versicolor</td>\n",
       "    </tr>\n",
       "    <tr>\n",
       "      <th>148</th>\n",
       "      <td>5.4</td>\n",
       "      <td>2.3</td>\n",
       "      <td>Non-versicolor</td>\n",
       "    </tr>\n",
       "    <tr>\n",
       "      <th>149</th>\n",
       "      <td>5.1</td>\n",
       "      <td>1.8</td>\n",
       "      <td>Non-versicolor</td>\n",
       "    </tr>\n",
       "  </tbody>\n",
       "</table>\n",
       "<p>150 rows × 3 columns</p>\n",
       "</div>"
      ],
      "text/plain": [
       "     PetalLengthCm  PetalWidthCm         Species\n",
       "0              1.4           0.2  Non-versicolor\n",
       "1              1.4           0.2  Non-versicolor\n",
       "2              1.3           0.2  Non-versicolor\n",
       "3              1.5           0.2  Non-versicolor\n",
       "4              1.4           0.2  Non-versicolor\n",
       "..             ...           ...             ...\n",
       "145            5.2           2.3  Non-versicolor\n",
       "146            5.0           1.9  Non-versicolor\n",
       "147            5.2           2.0  Non-versicolor\n",
       "148            5.4           2.3  Non-versicolor\n",
       "149            5.1           1.8  Non-versicolor\n",
       "\n",
       "[150 rows x 3 columns]"
      ]
     },
     "execution_count": 32,
     "metadata": {},
     "output_type": "execute_result"
    }
   ],
   "source": [
    "data"
   ]
  },
  {
   "cell_type": "code",
   "execution_count": 33,
   "id": "13b2bb27",
   "metadata": {
    "scrolled": true
   },
   "outputs": [
    {
     "data": {
      "text/plain": [
       "Non-versicolor     100\n",
       "Iris-versicolor     50\n",
       "Name: Species, dtype: int64"
      ]
     },
     "execution_count": 33,
     "metadata": {},
     "output_type": "execute_result"
    }
   ],
   "source": [
    "data[\"Species\"].value_counts()"
   ]
  },
  {
   "cell_type": "markdown",
   "id": "ec006c9f",
   "metadata": {},
   "source": [
    "### Create Visualization"
   ]
  },
  {
   "cell_type": "code",
   "execution_count": 34,
   "id": "d574285e",
   "metadata": {},
   "outputs": [
    {
     "data": {
      "image/png": "[encoded data removed]",
      "text/plain": [
       "<Figure size 864x648 with 1 Axes>"
      ]
     },
     "metadata": {
      "needs_background": "light"
     },
     "output_type": "display_data"
    }
   ],
   "source": [
    "plt.figure(figsize=(12, 9))\n",
    "sns.scatterplot(data=data,\n",
    "                x=\"PetalLengthCm\",\n",
    "                y=\"PetalWidthCm\",\n",
    "                hue=\"Species\")\n",
    "\n",
    "plt.show()"
   ]
  },
  {
   "cell_type": "markdown",
   "id": "28835024",
   "metadata": {},
   "source": [
    "### Split Input Output "
   ]
  },
  {
   "cell_type": "code",
   "execution_count": 35,
   "id": "93901f14",
   "metadata": {},
   "outputs": [],
   "source": [
    "def split_input_output(data, output_col):\n",
    "    X = data.drop(columns=output_col)\n",
    "    y = data[output_col]\n",
    "    \n",
    "    return X, y"
   ]
  },
  {
   "cell_type": "code",
   "execution_count": 36,
   "id": "224495af",
   "metadata": {},
   "outputs": [],
   "source": [
    "X, y = split_input_output(data=data,\n",
    "                          output_col=\"Species\")"
   ]
  },
  {
   "cell_type": "code",
   "execution_count": 37,
   "id": "0b6c7f18",
   "metadata": {},
   "outputs": [
    {
     "data": {
      "text/html": [
       "<div>\n",
       "<style scoped>\n",
       "    .dataframe tbody tr th:only-of-type {\n",
       "        vertical-align: middle;\n",
       "    }\n",
       "\n",
       "    .dataframe tbody tr th {\n",
       "        vertical-align: top;\n",
       "    }\n",
       "\n",
       "    .dataframe thead th {\n",
       "        text-align: right;\n",
       "    }\n",
       "</style>\n",
       "<table border=\"1\" class=\"dataframe\">\n",
       "  <thead>\n",
       "    <tr style=\"text-align: right;\">\n",
       "      <th></th>\n",
       "      <th>PetalLengthCm</th>\n",
       "      <th>PetalWidthCm</th>\n",
       "    </tr>\n",
       "  </thead>\n",
       "  <tbody>\n",
       "    <tr>\n",
       "      <th>0</th>\n",
       "      <td>1.4</td>\n",
       "      <td>0.2</td>\n",
       "    </tr>\n",
       "    <tr>\n",
       "      <th>1</th>\n",
       "      <td>1.4</td>\n",
       "      <td>0.2</td>\n",
       "    </tr>\n",
       "    <tr>\n",
       "      <th>2</th>\n",
       "      <td>1.3</td>\n",
       "      <td>0.2</td>\n",
       "    </tr>\n",
       "    <tr>\n",
       "      <th>3</th>\n",
       "      <td>1.5</td>\n",
       "      <td>0.2</td>\n",
       "    </tr>\n",
       "    <tr>\n",
       "      <th>4</th>\n",
       "      <td>1.4</td>\n",
       "      <td>0.2</td>\n",
       "    </tr>\n",
       "  </tbody>\n",
       "</table>\n",
       "</div>"
      ],
      "text/plain": [
       "   PetalLengthCm  PetalWidthCm\n",
       "0            1.4           0.2\n",
       "1            1.4           0.2\n",
       "2            1.3           0.2\n",
       "3            1.5           0.2\n",
       "4            1.4           0.2"
      ]
     },
     "execution_count": 37,
     "metadata": {},
     "output_type": "execute_result"
    }
   ],
   "source": [
    "X.head()"
   ]
  },
  {
   "cell_type": "code",
   "execution_count": 38,
   "id": "64224b9d",
   "metadata": {},
   "outputs": [
    {
     "data": {
      "text/plain": [
       "(150, 2)"
      ]
     },
     "execution_count": 38,
     "metadata": {},
     "output_type": "execute_result"
    }
   ],
   "source": [
    "X.shape"
   ]
  },
  {
   "cell_type": "code",
   "execution_count": 39,
   "id": "a8770b02",
   "metadata": {},
   "outputs": [
    {
     "data": {
      "text/plain": [
       "0    Non-versicolor\n",
       "1    Non-versicolor\n",
       "2    Non-versicolor\n",
       "3    Non-versicolor\n",
       "4    Non-versicolor\n",
       "Name: Species, dtype: object"
      ]
     },
     "execution_count": 39,
     "metadata": {},
     "output_type": "execute_result"
    }
   ],
   "source": [
    "y.head()"
   ]
  },
  {
   "cell_type": "code",
   "execution_count": 40,
   "id": "dd387bf3",
   "metadata": {},
   "outputs": [
    {
     "data": {
      "text/plain": [
       "(150,)"
      ]
     },
     "execution_count": 40,
     "metadata": {},
     "output_type": "execute_result"
    }
   ],
   "source": [
    "y.shape"
   ]
  },
  {
   "cell_type": "code",
   "execution_count": 41,
   "id": "dda74e24",
   "metadata": {},
   "outputs": [
    {
     "data": {
      "text/plain": [
       "Non-versicolor     100\n",
       "Iris-versicolor     50\n",
       "Name: Species, dtype: int64"
      ]
     },
     "execution_count": 41,
     "metadata": {},
     "output_type": "execute_result"
    }
   ],
   "source": [
    "y.value_counts()"
   ]
  },
  {
   "cell_type": "markdown",
   "id": "7c586d10",
   "metadata": {},
   "source": [
    "### Train Test Split "
   ]
  },
  {
   "cell_type": "code",
   "execution_count": 42,
   "id": "f898ed01",
   "metadata": {},
   "outputs": [],
   "source": [
    "from sklearn.model_selection import train_test_split"
   ]
  },
  {
   "cell_type": "code",
   "execution_count": 43,
   "id": "4c46ebc1",
   "metadata": {},
   "outputs": [],
   "source": [
    "X_train, X_test, y_train, y_test = train_test_split(X,\n",
    "                                                    y,\n",
    "                                                    test_size=0.2,\n",
    "                                                    stratify=y,\n",
    "                                                    random_state=42)"
   ]
  },
  {
   "cell_type": "code",
   "execution_count": 44,
   "id": "776a0f48",
   "metadata": {},
   "outputs": [
    {
     "name": "stdout",
     "output_type": "stream",
     "text": [
      "Train Data Shape: ((120, 2), (120,))\n",
      "Test Data Shape: ((30, 2), (30,))\n"
     ]
    }
   ],
   "source": [
    "print(f\"Train Data Shape: {X_train.shape, y_train.shape}\")\n",
    "print(f\"Test Data Shape: {X_test.shape, y_test.shape}\")"
   ]
  },
  {
   "cell_type": "code",
   "execution_count": 45,
   "id": "9f8852ae",
   "metadata": {},
   "outputs": [
    {
     "data": {
      "text/plain": [
       "Non-versicolor     80\n",
       "Iris-versicolor    40\n",
       "Name: Species, dtype: int64"
      ]
     },
     "execution_count": 45,
     "metadata": {},
     "output_type": "execute_result"
    }
   ],
   "source": [
    "y_train.value_counts()"
   ]
  },
  {
   "cell_type": "code",
   "execution_count": 46,
   "id": "48582b9c",
   "metadata": {},
   "outputs": [
    {
     "data": {
      "text/plain": [
       "Non-versicolor     20\n",
       "Iris-versicolor    10\n",
       "Name: Species, dtype: int64"
      ]
     },
     "execution_count": 46,
     "metadata": {},
     "output_type": "execute_result"
    }
   ],
   "source": [
    "y_test.value_counts()"
   ]
  },
  {
   "cell_type": "markdown",
   "id": "2915ca4e",
   "metadata": {},
   "source": [
    "### Preprocessing"
   ]
  },
  {
   "cell_type": "code",
   "execution_count": 47,
   "id": "19f96a66",
   "metadata": {},
   "outputs": [
    {
     "data": {
      "text/plain": [
       "Non-versicolor     80\n",
       "Iris-versicolor    40\n",
       "Name: Species, dtype: int64"
      ]
     },
     "execution_count": 47,
     "metadata": {},
     "output_type": "execute_result"
    }
   ],
   "source": [
    "y_train.value_counts()"
   ]
  },
  {
   "cell_type": "code",
   "execution_count": 48,
   "id": "fc91feea",
   "metadata": {},
   "outputs": [],
   "source": [
    "def convert_class(y_train, y_test, class_name):\n",
    "    y_train = y_train.apply(lambda x: 1 if x == class_name else 0)\n",
    "    y_test = y_test.apply(lambda x: 1 if x == class_name else 0)\n",
    "    \n",
    "    return y_train, y_test"
   ]
  },
  {
   "cell_type": "code",
   "execution_count": 49,
   "id": "c9a3ac72",
   "metadata": {},
   "outputs": [],
   "source": [
    "y_train, y_test = convert_class(y_train=y_train,\n",
    "                                y_test=y_test,\n",
    "                                class_name=\"Iris-versicolor\")"
   ]
  },
  {
   "cell_type": "code",
   "execution_count": 50,
   "id": "e4a13d6d",
   "metadata": {},
   "outputs": [
    {
     "data": {
      "text/plain": [
       "0    80\n",
       "1    40\n",
       "Name: Species, dtype: int64"
      ]
     },
     "execution_count": 50,
     "metadata": {},
     "output_type": "execute_result"
    }
   ],
   "source": [
    "y_train.value_counts()"
   ]
  },
  {
   "cell_type": "code",
   "execution_count": 51,
   "id": "ca0c270a",
   "metadata": {},
   "outputs": [
    {
     "data": {
      "text/plain": [
       "0    80\n",
       "1    40\n",
       "Name: Species, dtype: int64"
      ]
     },
     "execution_count": 51,
     "metadata": {},
     "output_type": "execute_result"
    }
   ],
   "source": [
    "y_train.value_counts()"
   ]
  },
  {
   "cell_type": "code",
   "execution_count": 52,
   "id": "1b1dc0c3",
   "metadata": {},
   "outputs": [
    {
     "data": {
      "text/plain": [
       "0    20\n",
       "1    10\n",
       "Name: Species, dtype: int64"
      ]
     },
     "execution_count": 52,
     "metadata": {},
     "output_type": "execute_result"
    }
   ],
   "source": [
    "y_test.value_counts()"
   ]
  },
  {
   "attachments": {
    "image.png": {
     "image/png": "[encoded data removed]"
    }
   },
   "cell_type": "markdown",
   "id": "23da76b2",
   "metadata": {},
   "source": [
    "Coba bandingkan model yang pake di Scaling dan tanpa di Scaling\n",
    "\n",
    "![image.png](attachment:image.png)\n",
    "\n",
    "Setelah melakukan eksperimen menggunakan scaling dan tidak menggunakan scaling didapatkan hasil:\n",
    "- Secara overall, bentuk dari Decision Boundary nya masih sama, cuma beda scale atau range data nya aja\n",
    "- Apakah karena range data nya tidak begitu jauh sehingga tidak begitu berpengaruh\n",
    "- Tetapi menariknya adalah hasil metrics accuracy tanpa di scaling jauh lebih bagus daripada yang menggunakan scaling "
   ]
  },
  {
   "cell_type": "code",
   "execution_count": 53,
   "id": "db7fda15",
   "metadata": {},
   "outputs": [],
   "source": [
    "from sklearn.preprocessing import StandardScaler\n",
    "\n",
    "scaler = StandardScaler()"
   ]
  },
  {
   "cell_type": "code",
   "execution_count": 54,
   "id": "ad756912",
   "metadata": {},
   "outputs": [],
   "source": [
    "X_train_scaled = scaler.fit_transform(X_train)\n",
    "X_test_scaled = scaler.transform(X_test)"
   ]
  },
  {
   "cell_type": "code",
   "execution_count": 55,
   "id": "227c8094",
   "metadata": {},
   "outputs": [],
   "source": [
    "X_train_scaled = pd.DataFrame(data = X_train_scaled, columns = X_train.columns, index = X_train.index)"
   ]
  },
  {
   "cell_type": "code",
   "execution_count": 56,
   "id": "d1dddcf5",
   "metadata": {},
   "outputs": [
    {
     "data": {
      "text/html": [
       "<div>\n",
       "<style scoped>\n",
       "    .dataframe tbody tr th:only-of-type {\n",
       "        vertical-align: middle;\n",
       "    }\n",
       "\n",
       "    .dataframe tbody tr th {\n",
       "        vertical-align: top;\n",
       "    }\n",
       "\n",
       "    .dataframe thead th {\n",
       "        text-align: right;\n",
       "    }\n",
       "</style>\n",
       "<table border=\"1\" class=\"dataframe\">\n",
       "  <thead>\n",
       "    <tr style=\"text-align: right;\">\n",
       "      <th></th>\n",
       "      <th>PetalLengthCm</th>\n",
       "      <th>PetalWidthCm</th>\n",
       "    </tr>\n",
       "  </thead>\n",
       "  <tbody>\n",
       "    <tr>\n",
       "      <th>58</th>\n",
       "      <td>0.467126</td>\n",
       "      <td>0.134871</td>\n",
       "    </tr>\n",
       "    <tr>\n",
       "      <th>144</th>\n",
       "      <td>1.088705</td>\n",
       "      <td>1.713850</td>\n",
       "    </tr>\n",
       "    <tr>\n",
       "      <th>119</th>\n",
       "      <td>0.693155</td>\n",
       "      <td>0.398034</td>\n",
       "    </tr>\n",
       "    <tr>\n",
       "      <th>81</th>\n",
       "      <td>-0.041439</td>\n",
       "      <td>-0.259874</td>\n",
       "    </tr>\n",
       "    <tr>\n",
       "      <th>69</th>\n",
       "      <td>0.071576</td>\n",
       "      <td>-0.128292</td>\n",
       "    </tr>\n",
       "    <tr>\n",
       "      <th>...</th>\n",
       "      <td>...</td>\n",
       "      <td>...</td>\n",
       "    </tr>\n",
       "    <tr>\n",
       "      <th>132</th>\n",
       "      <td>1.032198</td>\n",
       "      <td>1.319105</td>\n",
       "    </tr>\n",
       "    <tr>\n",
       "      <th>53</th>\n",
       "      <td>0.128083</td>\n",
       "      <td>0.134871</td>\n",
       "    </tr>\n",
       "    <tr>\n",
       "      <th>122</th>\n",
       "      <td>1.653777</td>\n",
       "      <td>1.055942</td>\n",
       "    </tr>\n",
       "    <tr>\n",
       "      <th>143</th>\n",
       "      <td>1.201720</td>\n",
       "      <td>1.450687</td>\n",
       "    </tr>\n",
       "    <tr>\n",
       "      <th>74</th>\n",
       "      <td>0.297605</td>\n",
       "      <td>0.134871</td>\n",
       "    </tr>\n",
       "  </tbody>\n",
       "</table>\n",
       "<p>120 rows × 2 columns</p>\n",
       "</div>"
      ],
      "text/plain": [
       "     PetalLengthCm  PetalWidthCm\n",
       "58        0.467126      0.134871\n",
       "144       1.088705      1.713850\n",
       "119       0.693155      0.398034\n",
       "81       -0.041439     -0.259874\n",
       "69        0.071576     -0.128292\n",
       "..             ...           ...\n",
       "132       1.032198      1.319105\n",
       "53        0.128083      0.134871\n",
       "122       1.653777      1.055942\n",
       "143       1.201720      1.450687\n",
       "74        0.297605      0.134871\n",
       "\n",
       "[120 rows x 2 columns]"
      ]
     },
     "execution_count": 56,
     "metadata": {},
     "output_type": "execute_result"
    }
   ],
   "source": [
    "X_train_scaled"
   ]
  },
  {
   "cell_type": "code",
   "execution_count": 57,
   "id": "cb7c8cc5",
   "metadata": {},
   "outputs": [],
   "source": [
    "X_test_scaled = pd.DataFrame(data = X_test_scaled, columns = X_test.columns, index = X_test.index)"
   ]
  },
  {
   "cell_type": "code",
   "execution_count": 58,
   "id": "1a251954",
   "metadata": {},
   "outputs": [
    {
     "data": {
      "text/html": [
       "<div>\n",
       "<style scoped>\n",
       "    .dataframe tbody tr th:only-of-type {\n",
       "        vertical-align: middle;\n",
       "    }\n",
       "\n",
       "    .dataframe tbody tr th {\n",
       "        vertical-align: top;\n",
       "    }\n",
       "\n",
       "    .dataframe thead th {\n",
       "        text-align: right;\n",
       "    }\n",
       "</style>\n",
       "<table border=\"1\" class=\"dataframe\">\n",
       "  <thead>\n",
       "    <tr style=\"text-align: right;\">\n",
       "      <th></th>\n",
       "      <th>PetalLengthCm</th>\n",
       "      <th>PetalWidthCm</th>\n",
       "    </tr>\n",
       "  </thead>\n",
       "  <tbody>\n",
       "    <tr>\n",
       "      <th>34</th>\n",
       "      <td>-1.284597</td>\n",
       "      <td>-1.444108</td>\n",
       "    </tr>\n",
       "    <tr>\n",
       "      <th>103</th>\n",
       "      <td>1.032198</td>\n",
       "      <td>0.792779</td>\n",
       "    </tr>\n",
       "    <tr>\n",
       "      <th>109</th>\n",
       "      <td>1.314734</td>\n",
       "      <td>1.713850</td>\n",
       "    </tr>\n",
       "    <tr>\n",
       "      <th>92</th>\n",
       "      <td>0.128083</td>\n",
       "      <td>0.003290</td>\n",
       "    </tr>\n",
       "    <tr>\n",
       "      <th>1</th>\n",
       "      <td>-1.341104</td>\n",
       "      <td>-1.312526</td>\n",
       "    </tr>\n",
       "    <tr>\n",
       "      <th>3</th>\n",
       "      <td>-1.284597</td>\n",
       "      <td>-1.312526</td>\n",
       "    </tr>\n",
       "    <tr>\n",
       "      <th>146</th>\n",
       "      <td>0.693155</td>\n",
       "      <td>0.924360</td>\n",
       "    </tr>\n",
       "    <tr>\n",
       "      <th>88</th>\n",
       "      <td>0.184590</td>\n",
       "      <td>0.134871</td>\n",
       "    </tr>\n",
       "    <tr>\n",
       "      <th>120</th>\n",
       "      <td>1.088705</td>\n",
       "      <td>1.450687</td>\n",
       "    </tr>\n",
       "    <tr>\n",
       "      <th>7</th>\n",
       "      <td>-1.284597</td>\n",
       "      <td>-1.312526</td>\n",
       "    </tr>\n",
       "    <tr>\n",
       "      <th>57</th>\n",
       "      <td>-0.267467</td>\n",
       "      <td>-0.259874</td>\n",
       "    </tr>\n",
       "    <tr>\n",
       "      <th>64</th>\n",
       "      <td>-0.097946</td>\n",
       "      <td>0.134871</td>\n",
       "    </tr>\n",
       "    <tr>\n",
       "      <th>99</th>\n",
       "      <td>0.184590</td>\n",
       "      <td>0.134871</td>\n",
       "    </tr>\n",
       "    <tr>\n",
       "      <th>49</th>\n",
       "      <td>-1.341104</td>\n",
       "      <td>-1.312526</td>\n",
       "    </tr>\n",
       "    <tr>\n",
       "      <th>43</th>\n",
       "      <td>-1.228090</td>\n",
       "      <td>-0.786200</td>\n",
       "    </tr>\n",
       "    <tr>\n",
       "      <th>68</th>\n",
       "      <td>0.410619</td>\n",
       "      <td>0.398034</td>\n",
       "    </tr>\n",
       "    <tr>\n",
       "      <th>127</th>\n",
       "      <td>0.636648</td>\n",
       "      <td>0.792779</td>\n",
       "    </tr>\n",
       "    <tr>\n",
       "      <th>78</th>\n",
       "      <td>0.410619</td>\n",
       "      <td>0.398034</td>\n",
       "    </tr>\n",
       "    <tr>\n",
       "      <th>139</th>\n",
       "      <td>0.919184</td>\n",
       "      <td>1.187524</td>\n",
       "    </tr>\n",
       "    <tr>\n",
       "      <th>70</th>\n",
       "      <td>0.580141</td>\n",
       "      <td>0.792779</td>\n",
       "    </tr>\n",
       "    <tr>\n",
       "      <th>5</th>\n",
       "      <td>-1.171583</td>\n",
       "      <td>-1.049363</td>\n",
       "    </tr>\n",
       "    <tr>\n",
       "      <th>102</th>\n",
       "      <td>1.201720</td>\n",
       "      <td>1.187524</td>\n",
       "    </tr>\n",
       "    <tr>\n",
       "      <th>60</th>\n",
       "      <td>-0.154453</td>\n",
       "      <td>-0.259874</td>\n",
       "    </tr>\n",
       "    <tr>\n",
       "      <th>72</th>\n",
       "      <td>0.636648</td>\n",
       "      <td>0.398034</td>\n",
       "    </tr>\n",
       "    <tr>\n",
       "      <th>130</th>\n",
       "      <td>1.314734</td>\n",
       "      <td>0.924360</td>\n",
       "    </tr>\n",
       "    <tr>\n",
       "      <th>46</th>\n",
       "      <td>-1.228090</td>\n",
       "      <td>-1.312526</td>\n",
       "    </tr>\n",
       "    <tr>\n",
       "      <th>141</th>\n",
       "      <td>0.749662</td>\n",
       "      <td>1.450687</td>\n",
       "    </tr>\n",
       "    <tr>\n",
       "      <th>8</th>\n",
       "      <td>-1.341104</td>\n",
       "      <td>-1.312526</td>\n",
       "    </tr>\n",
       "    <tr>\n",
       "      <th>133</th>\n",
       "      <td>0.749662</td>\n",
       "      <td>0.398034</td>\n",
       "    </tr>\n",
       "    <tr>\n",
       "      <th>35</th>\n",
       "      <td>-1.454119</td>\n",
       "      <td>-1.312526</td>\n",
       "    </tr>\n",
       "  </tbody>\n",
       "</table>\n",
       "</div>"
      ],
      "text/plain": [
       "     PetalLengthCm  PetalWidthCm\n",
       "34       -1.284597     -1.444108\n",
       "103       1.032198      0.792779\n",
       "109       1.314734      1.713850\n",
       "92        0.128083      0.003290\n",
       "1        -1.341104     -1.312526\n",
       "3        -1.284597     -1.312526\n",
       "146       0.693155      0.924360\n",
       "88        0.184590      0.134871\n",
       "120       1.088705      1.450687\n",
       "7        -1.284597     -1.312526\n",
       "57       -0.267467     -0.259874\n",
       "64       -0.097946      0.134871\n",
       "99        0.184590      0.134871\n",
       "49       -1.341104     -1.312526\n",
       "43       -1.228090     -0.786200\n",
       "68        0.410619      0.398034\n",
       "127       0.636648      0.792779\n",
       "78        0.410619      0.398034\n",
       "139       0.919184      1.187524\n",
       "70        0.580141      0.792779\n",
       "5        -1.171583     -1.049363\n",
       "102       1.201720      1.187524\n",
       "60       -0.154453     -0.259874\n",
       "72        0.636648      0.398034\n",
       "130       1.314734      0.924360\n",
       "46       -1.228090     -1.312526\n",
       "141       0.749662      1.450687\n",
       "8        -1.341104     -1.312526\n",
       "133       0.749662      0.398034\n",
       "35       -1.454119     -1.312526"
      ]
     },
     "execution_count": 58,
     "metadata": {},
     "output_type": "execute_result"
    }
   ],
   "source": [
    "X_test_scaled"
   ]
  },
  {
   "cell_type": "markdown",
   "id": "ac60a8db",
   "metadata": {},
   "source": [
    "### Modelling with Logistic Regression "
   ]
  },
  {
   "cell_type": "code",
   "execution_count": 59,
   "id": "0d1bf098",
   "metadata": {},
   "outputs": [],
   "source": [
    "from sklearn.linear_model import LogisticRegression"
   ]
  },
  {
   "cell_type": "code",
   "execution_count": 60,
   "id": "a3b7ba56",
   "metadata": {},
   "outputs": [],
   "source": [
    "logreg = LogisticRegression()"
   ]
  },
  {
   "cell_type": "code",
   "execution_count": 61,
   "id": "49c339f5",
   "metadata": {},
   "outputs": [
    {
     "data": {
      "text/plain": [
       "LogisticRegression()"
      ]
     },
     "execution_count": 61,
     "metadata": {},
     "output_type": "execute_result"
    }
   ],
   "source": [
    "logreg.fit(X_train_scaled, y_train)"
   ]
  },
  {
   "cell_type": "code",
   "execution_count": 62,
   "id": "6e8f30a0",
   "metadata": {},
   "outputs": [],
   "source": [
    "y_pred_train_proba = logreg.predict_proba(X_train_scaled)"
   ]
  },
  {
   "cell_type": "markdown",
   "id": "732bd3c6",
   "metadata": {},
   "source": [
    "Fungsi logistic di kasus ini cuma nge prediksi / nge hitung kelas 1 aja. Karena untuk dapetin kelas 0 tinggal 1 - proba_kelas_1"
   ]
  },
  {
   "cell_type": "code",
   "execution_count": 63,
   "id": "c8b9f4a6",
   "metadata": {},
   "outputs": [
    {
     "data": {
      "text/plain": [
       "array([[0.55130447, 0.44869553],\n",
       "       [0.73337882, 0.26662118],\n",
       "       [0.5411022 , 0.4588978 ],\n",
       "       [0.62495983, 0.37504017],\n",
       "       [0.62012368, 0.37987632],\n",
       "       [0.66638492, 0.33361508],\n",
       "       [0.79957284, 0.20042716],\n",
       "       [0.80907875, 0.19092125],\n",
       "       [0.80587935, 0.19412065],\n",
       "       [0.61949467, 0.38050533],\n",
       "       [0.71387252, 0.28612748],\n",
       "       [0.77595174, 0.22404826],\n",
       "       [0.64753483, 0.35246517],\n",
       "       [0.74654127, 0.25345873],\n",
       "       [0.62945993, 0.37054007],\n",
       "       [0.7862785 , 0.2137215 ],\n",
       "       [0.55639001, 0.44360999],\n",
       "       [0.62464695, 0.37535305],\n",
       "       [0.72140168, 0.27859832],\n",
       "       [0.66149507, 0.33850493],\n",
       "       [0.74654127, 0.25345873],\n",
       "       [0.54620819, 0.45379181],\n",
       "       [0.66209252, 0.33790748],\n",
       "       [0.73494171, 0.26505829],\n",
       "       [0.42980091, 0.57019909],\n",
       "       [0.83285727, 0.16714273],\n",
       "       [0.78971665, 0.21028335],\n",
       "       [0.7951695 , 0.2048305 ],\n",
       "       [0.77595174, 0.22404826],\n",
       "       [0.79625426, 0.20374574],\n",
       "       [0.62464695, 0.37535305],\n",
       "       [0.44466385, 0.55533615],\n",
       "       [0.77595174, 0.22404826],\n",
       "       [0.74654127, 0.25345873],\n",
       "       [0.6793864 , 0.3206136 ],\n",
       "       [0.6793864 , 0.3206136 ],\n",
       "       [0.48526891, 0.51473109],\n",
       "       [0.63393766, 0.36606234],\n",
       "       [0.62883713, 0.37116287],\n",
       "       [0.63870042, 0.36129958],\n",
       "       [0.59990752, 0.40009248],\n",
       "       [0.63870042, 0.36129958],\n",
       "       [0.54653898, 0.45346102],\n",
       "       [0.76155784, 0.23844216],\n",
       "       [0.67064991, 0.32935009],\n",
       "       [0.58597254, 0.41402746],\n",
       "       [0.56652468, 0.43347532],\n",
       "       [0.5959222 , 0.4040778 ],\n",
       "       [0.77595174, 0.22404826],\n",
       "       [0.54587735, 0.45412265],\n",
       "       [0.67035504, 0.32964496],\n",
       "       [0.5661969 , 0.4338031 ],\n",
       "       [0.78971665, 0.21028335],\n",
       "       [0.78971665, 0.21028335],\n",
       "       [0.80907875, 0.19092125],\n",
       "       [0.61038032, 0.38961968],\n",
       "       [0.74134972, 0.25865028],\n",
       "       [0.60054803, 0.39945197],\n",
       "       [0.65687138, 0.34312862],\n",
       "       [0.73494171, 0.26505829],\n",
       "       [0.75657358, 0.24342642],\n",
       "       [0.73494171, 0.26505829],\n",
       "       [0.75400305, 0.24599695],\n",
       "       [0.8122377 , 0.1877623 ],\n",
       "       [0.72551918, 0.27448082],\n",
       "       [0.72140168, 0.27859832],\n",
       "       [0.3860637 , 0.6139363 ],\n",
       "       [0.68327534, 0.31672466],\n",
       "       [0.66638492, 0.33361508],\n",
       "       [0.49588892, 0.50411108],\n",
       "       [0.61980922, 0.38019078],\n",
       "       [0.77595174, 0.22404826],\n",
       "       [0.72166984, 0.27833016],\n",
       "       [0.78971665, 0.21028335],\n",
       "       [0.75041576, 0.24958424],\n",
       "       [0.79311405, 0.20688595],\n",
       "       [0.80285075, 0.19714925],\n",
       "       [0.63870042, 0.36129958],\n",
       "       [0.8122377 , 0.1877623 ],\n",
       "       [0.79957284, 0.20042716],\n",
       "       [0.69732926, 0.30267074],\n",
       "       [0.79957284, 0.20042716],\n",
       "       [0.65282296, 0.34717704],\n",
       "       [0.6240209 , 0.3759791 ],\n",
       "       [0.80907875, 0.19092125],\n",
       "       [0.74654127, 0.25345873],\n",
       "       [0.63900835, 0.36099165],\n",
       "       [0.54587735, 0.45412265],\n",
       "       [0.70511392, 0.29488608],\n",
       "       [0.62945993, 0.37054007],\n",
       "       [0.5661969 , 0.4338031 ],\n",
       "       [0.68799896, 0.31200104],\n",
       "       [0.44499345, 0.55500655],\n",
       "       [0.62433398, 0.37566602],\n",
       "       [0.76155784, 0.23844216],\n",
       "       [0.69789235, 0.30210765],\n",
       "       [0.57124491, 0.42875509],\n",
       "       [0.65687138, 0.34312862],\n",
       "       [0.43485187, 0.56514813],\n",
       "       [0.43958757, 0.56041243],\n",
       "       [0.76155784, 0.23844216],\n",
       "       [0.77188373, 0.22811627],\n",
       "       [0.73091314, 0.26908686],\n",
       "       [0.38638008, 0.61361992],\n",
       "       [0.41538754, 0.58461246],\n",
       "       [0.75780049, 0.24219951],\n",
       "       [0.60974533, 0.39025467],\n",
       "       [0.61006287, 0.38993713],\n",
       "       [0.76155784, 0.23844216],\n",
       "       [0.70109632, 0.29890368],\n",
       "       [0.82723932, 0.17276068],\n",
       "       [0.69268381, 0.30731619],\n",
       "       [0.59095668, 0.40904332],\n",
       "       [0.56113511, 0.43886489],\n",
       "       [0.55606057, 0.44393943],\n",
       "       [0.66119616, 0.33880384],\n",
       "       [0.66638492, 0.33361508],\n",
       "       [0.37635443, 0.62364557],\n",
       "       [0.63808422, 0.36191578],\n",
       "       [0.61038032, 0.38961968]])"
      ]
     },
     "execution_count": 63,
     "metadata": {},
     "output_type": "execute_result"
    }
   ],
   "source": [
    "y_pred_train_proba"
   ]
  },
  {
   "cell_type": "code",
   "execution_count": 64,
   "id": "e111648b",
   "metadata": {},
   "outputs": [],
   "source": [
    "y_pred_train = logreg.predict(X_train_scaled)"
   ]
  },
  {
   "cell_type": "code",
   "execution_count": 65,
   "id": "de5da4df",
   "metadata": {},
   "outputs": [
    {
     "data": {
      "text/plain": [
       "array([0, 0, 0, 0, 0, 0, 0, 0, 0, 0, 0, 0, 0, 0, 0, 0, 0, 0, 0, 0, 0, 0,\n",
       "       0, 0, 1, 0, 0, 0, 0, 0, 0, 1, 0, 0, 0, 0, 1, 0, 0, 0, 0, 0, 0, 0,\n",
       "       0, 0, 0, 0, 0, 0, 0, 0, 0, 0, 0, 0, 0, 0, 0, 0, 0, 0, 0, 0, 0, 0,\n",
       "       1, 0, 0, 1, 0, 0, 0, 0, 0, 0, 0, 0, 0, 0, 0, 0, 0, 0, 0, 0, 0, 0,\n",
       "       0, 0, 0, 0, 1, 0, 0, 0, 0, 0, 1, 1, 0, 0, 0, 1, 1, 0, 0, 0, 0, 0,\n",
       "       0, 0, 0, 0, 0, 0, 0, 1, 0, 0])"
      ]
     },
     "execution_count": 65,
     "metadata": {},
     "output_type": "execute_result"
    }
   ],
   "source": [
    "y_pred_train"
   ]
  },
  {
   "cell_type": "code",
   "execution_count": 66,
   "id": "518c1712",
   "metadata": {},
   "outputs": [],
   "source": [
    "from sklearn.metrics import accuracy_score\n",
    "from sklearn.metrics import confusion_matrix\n",
    "from sklearn.metrics import classification_report"
   ]
  },
  {
   "cell_type": "code",
   "execution_count": 67,
   "id": "1be1e503",
   "metadata": {},
   "outputs": [
    {
     "data": {
      "text/plain": [
       "0.5916666666666667"
      ]
     },
     "execution_count": 67,
     "metadata": {},
     "output_type": "execute_result"
    }
   ],
   "source": [
    "acc_train = accuracy_score(y_train, y_pred_train)\n",
    "acc_train"
   ]
  },
  {
   "cell_type": "markdown",
   "id": "260e076d",
   "metadata": {},
   "source": [
    "Precision Recall, dll pelajari lagi"
   ]
  },
  {
   "cell_type": "code",
   "execution_count": 68,
   "id": "1c317503",
   "metadata": {},
   "outputs": [
    {
     "name": "stdout",
     "output_type": "stream",
     "text": [
      "              precision    recall  f1-score   support\n",
      "\n",
      "           0       0.64      0.88      0.74        80\n",
      "           1       0.09      0.03      0.04        40\n",
      "\n",
      "    accuracy                           0.59       120\n",
      "   macro avg       0.37      0.45      0.39       120\n",
      "weighted avg       0.46      0.59      0.51       120\n",
      "\n"
     ]
    }
   ],
   "source": [
    "print(classification_report(y_train, y_pred_train))"
   ]
  },
  {
   "cell_type": "code",
   "execution_count": 69,
   "id": "c57f7d61",
   "metadata": {},
   "outputs": [],
   "source": [
    "y_pred_test_proba = logreg.predict_proba(X_test_scaled)"
   ]
  },
  {
   "cell_type": "code",
   "execution_count": 70,
   "id": "f8c6059c",
   "metadata": {},
   "outputs": [
    {
     "data": {
      "text/plain": [
       "array([[0.73494171, 0.26505829],\n",
       "       [0.52573662, 0.47426338],\n",
       "       [0.66549418, 0.33450582],\n",
       "       [0.63424733, 0.36575267],\n",
       "       [0.77595174, 0.22404826],\n",
       "       [0.76155784, 0.23844216],\n",
       "       [0.67488697, 0.32511303],\n",
       "       [0.64814382, 0.35185618],\n",
       "       [0.67459406, 0.32540594],\n",
       "       [0.76155784, 0.23844216],\n",
       "       [0.69732926, 0.30267074],\n",
       "       [0.734161  , 0.265839  ],\n",
       "       [0.64814382, 0.35185618],\n",
       "       [0.77595174, 0.22404826],\n",
       "       [0.83832823, 0.16167177],\n",
       "       [0.63870042, 0.36129958],\n",
       "       [0.66149507, 0.33850493],\n",
       "       [0.63870042, 0.36129958],\n",
       "       [0.66579122, 0.33420878],\n",
       "       [0.6793864 , 0.3206136 ],\n",
       "       [0.78279959, 0.21720041],\n",
       "       [0.57059101, 0.42940899],\n",
       "       [0.66209252, 0.33790748],\n",
       "       [0.56113511, 0.43886489],\n",
       "       [0.45995795, 0.54004205],\n",
       "       [0.74654127, 0.25345873],\n",
       "       [0.77117796, 0.22882204],\n",
       "       [0.77595174, 0.22404826],\n",
       "       [0.52093554, 0.47906446],\n",
       "       [0.80285075, 0.19714925]])"
      ]
     },
     "execution_count": 70,
     "metadata": {},
     "output_type": "execute_result"
    }
   ],
   "source": [
    "y_pred_test_proba"
   ]
  },
  {
   "cell_type": "code",
   "execution_count": 71,
   "id": "5428e5c5",
   "metadata": {},
   "outputs": [],
   "source": [
    "y_pred_test = logreg.predict(X_test_scaled)"
   ]
  },
  {
   "cell_type": "code",
   "execution_count": 72,
   "id": "9d7e9a8d",
   "metadata": {},
   "outputs": [
    {
     "data": {
      "text/plain": [
       "array([0, 0, 0, 0, 0, 0, 0, 0, 0, 0, 0, 0, 0, 0, 0, 0, 0, 0, 0, 0, 0, 0,\n",
       "       0, 0, 1, 0, 0, 0, 0, 0])"
      ]
     },
     "execution_count": 72,
     "metadata": {},
     "output_type": "execute_result"
    }
   ],
   "source": [
    "y_pred_test"
   ]
  },
  {
   "cell_type": "code",
   "execution_count": 73,
   "id": "c32b7408",
   "metadata": {},
   "outputs": [
    {
     "data": {
      "text/plain": [
       "0.6333333333333333"
      ]
     },
     "execution_count": 73,
     "metadata": {},
     "output_type": "execute_result"
    }
   ],
   "source": [
    "acc_test = accuracy_score(y_test, y_pred_test)\n",
    "acc_test"
   ]
  },
  {
   "cell_type": "code",
   "execution_count": 74,
   "id": "2ab2effd",
   "metadata": {},
   "outputs": [
    {
     "name": "stdout",
     "output_type": "stream",
     "text": [
      "              precision    recall  f1-score   support\n",
      "\n",
      "           0       0.66      0.95      0.78        20\n",
      "           1       0.00      0.00      0.00        10\n",
      "\n",
      "    accuracy                           0.63        30\n",
      "   macro avg       0.33      0.47      0.39        30\n",
      "weighted avg       0.44      0.63      0.52        30\n",
      "\n"
     ]
    }
   ],
   "source": [
    "print(classification_report(y_test, y_pred_test))"
   ]
  },
  {
   "cell_type": "markdown",
   "id": "c4fd59bf",
   "metadata": {},
   "source": [
    "### Get Coefficient and Intercept"
   ]
  },
  {
   "cell_type": "code",
   "execution_count": 75,
   "id": "8de4bcb6",
   "metadata": {},
   "outputs": [
    {
     "data": {
      "text/plain": [
       "array([[ 1.43325954, -1.07460291]])"
      ]
     },
     "execution_count": 75,
     "metadata": {},
     "output_type": "execute_result"
    }
   ],
   "source": [
    "logreg.coef_"
   ]
  },
  {
   "cell_type": "code",
   "execution_count": 76,
   "id": "1ef2335b",
   "metadata": {},
   "outputs": [
    {
     "data": {
      "text/plain": [
       "array([-0.73052285])"
      ]
     },
     "execution_count": 76,
     "metadata": {},
     "output_type": "execute_result"
    }
   ],
   "source": [
    "logreg.intercept_"
   ]
  },
  {
   "cell_type": "code",
   "execution_count": 77,
   "id": "1912c26d",
   "metadata": {},
   "outputs": [
    {
     "name": "stdout",
     "output_type": "stream",
     "text": [
      "intercept  -0.7305228464554575\n",
      "classes [0 1]\n"
     ]
    },
    {
     "data": {
      "text/html": [
       "<div>\n",
       "<style scoped>\n",
       "    .dataframe tbody tr th:only-of-type {\n",
       "        vertical-align: middle;\n",
       "    }\n",
       "\n",
       "    .dataframe tbody tr th {\n",
       "        vertical-align: top;\n",
       "    }\n",
       "\n",
       "    .dataframe thead th {\n",
       "        text-align: right;\n",
       "    }\n",
       "</style>\n",
       "<table border=\"1\" class=\"dataframe\">\n",
       "  <thead>\n",
       "    <tr style=\"text-align: right;\">\n",
       "      <th></th>\n",
       "      <th>coeff</th>\n",
       "    </tr>\n",
       "  </thead>\n",
       "  <tbody>\n",
       "    <tr>\n",
       "      <th>PetalLengthCm</th>\n",
       "      <td>1.433260</td>\n",
       "    </tr>\n",
       "    <tr>\n",
       "      <th>PetalWidthCm</th>\n",
       "      <td>-1.074603</td>\n",
       "    </tr>\n",
       "  </tbody>\n",
       "</table>\n",
       "</div>"
      ],
      "text/plain": [
       "                  coeff\n",
       "PetalLengthCm  1.433260\n",
       "PetalWidthCm  -1.074603"
      ]
     },
     "execution_count": 77,
     "metadata": {},
     "output_type": "execute_result"
    }
   ],
   "source": [
    "print('intercept ', logreg.intercept_[0])\n",
    "print('classes', logreg.classes_)\n",
    "pd.DataFrame({'coeff': logreg.coef_[0]}, \n",
    "             index=X.columns)"
   ]
  },
  {
   "cell_type": "code",
   "execution_count": 78,
   "id": "78c6a0ab",
   "metadata": {},
   "outputs": [],
   "source": [
    "coef_1, coef_2 = logreg.coef_[0]"
   ]
  },
  {
   "cell_type": "code",
   "execution_count": 79,
   "id": "e64e8803",
   "metadata": {},
   "outputs": [],
   "source": [
    "itc = logreg.intercept_[0]"
   ]
  },
  {
   "cell_type": "code",
   "execution_count": 80,
   "id": "6ac44793",
   "metadata": {},
   "outputs": [],
   "source": [
    "m_boundary = -coef_1 / coef_2"
   ]
  },
  {
   "cell_type": "code",
   "execution_count": 81,
   "id": "71aaa563",
   "metadata": {},
   "outputs": [
    {
     "data": {
      "text/plain": [
       "1.3337573572072732"
      ]
     },
     "execution_count": 81,
     "metadata": {},
     "output_type": "execute_result"
    }
   ],
   "source": [
    "m_boundary"
   ]
  },
  {
   "cell_type": "code",
   "execution_count": 82,
   "id": "4c55f201",
   "metadata": {},
   "outputs": [],
   "source": [
    "c_boundary = -itc / coef_2"
   ]
  },
  {
   "cell_type": "code",
   "execution_count": 83,
   "id": "cd0571ad",
   "metadata": {},
   "outputs": [
    {
     "data": {
      "text/plain": [
       "-0.6798072475007869"
      ]
     },
     "execution_count": 83,
     "metadata": {},
     "output_type": "execute_result"
    }
   ],
   "source": [
    "c_boundary"
   ]
  },
  {
   "cell_type": "code",
   "execution_count": 84,
   "id": "d4e7d358",
   "metadata": {},
   "outputs": [
    {
     "name": "stdout",
     "output_type": "stream",
     "text": [
      "1.3337573572072732 -0.6798072475007869\n"
     ]
    }
   ],
   "source": [
    "print(m_boundary, c_boundary)"
   ]
  },
  {
   "cell_type": "code",
   "execution_count": 85,
   "id": "a2a3bfa1",
   "metadata": {},
   "outputs": [
    {
     "data": {
      "image/png": "[encoded data removed]",
      "text/plain": [
       "<Figure size 864x648 with 1 Axes>"
      ]
     },
     "metadata": {
      "needs_background": "light"
     },
     "output_type": "display_data"
    }
   ],
   "source": [
    "plt.figure(figsize=(12, 9))\n",
    "\n",
    "data_scaled = X_train_scaled.copy()\n",
    "data_scaled[\"Species\"] = y_train\n",
    "\n",
    "sns.scatterplot(data=data_scaled,\n",
    "                x=\"PetalLengthCm\",\n",
    "                y=\"PetalWidthCm\",\n",
    "                hue=\"Species\")\n",
    "\n",
    "\n",
    "x_support = np.linspace(data_scaled[\"PetalLengthCm\"].min(), \n",
    "                        data_scaled[\"PetalLengthCm\"].max(), 101)\n",
    "y_support = m_boundary*x_support + c_boundary\n",
    "\n",
    "plt.plot(x_support, y_support, \"--r\")\n",
    "# plt.set_ylim(-6, 6)\n",
    "\n",
    "plt.show()"
   ]
  },
  {
   "cell_type": "code",
   "execution_count": 86,
   "id": "704d47c1",
   "metadata": {
    "scrolled": false
   },
   "outputs": [
    {
     "data": {
      "image/png": "[encoded data removed]",
      "text/plain": [
       "<Figure size 864x648 with 1 Axes>"
      ]
     },
     "metadata": {
      "needs_background": "light"
     },
     "output_type": "display_data"
    }
   ],
   "source": [
    "plt.figure(figsize=(12, 9))\n",
    "\n",
    "data_scaled = X_test_scaled.copy()\n",
    "data_scaled[\"Species\"] = y_test\n",
    "\n",
    "sns.scatterplot(data=data_scaled,\n",
    "                x=\"PetalLengthCm\",\n",
    "                y=\"PetalWidthCm\",\n",
    "                hue=\"Species\")\n",
    "\n",
    "\n",
    "x_support = np.linspace(data_scaled[\"PetalLengthCm\"].min(), \n",
    "                        data_scaled[\"PetalLengthCm\"].max(), 101)\n",
    "y_support = m_boundary*x_support + c_boundary\n",
    "\n",
    "plt.plot(x_support, y_support, \"--r\")\n",
    "# plt.set_ylim(-6, 6)\n",
    "\n",
    "plt.show()"
   ]
  },
  {
   "cell_type": "markdown",
   "id": "adee4343",
   "metadata": {},
   "source": [
    "### Without Scaling"
   ]
  },
  {
   "cell_type": "code",
   "execution_count": 87,
   "id": "ae9c8152",
   "metadata": {},
   "outputs": [],
   "source": [
    "X, y = split_input_output(data=data,\n",
    "                          output_col=\"Species\")"
   ]
  },
  {
   "cell_type": "markdown",
   "id": "7e63b10d",
   "metadata": {},
   "source": [
    "### Train Test Split "
   ]
  },
  {
   "cell_type": "code",
   "execution_count": 88,
   "id": "bd78b543",
   "metadata": {},
   "outputs": [],
   "source": [
    "from sklearn.model_selection import train_test_split"
   ]
  },
  {
   "cell_type": "code",
   "execution_count": 89,
   "id": "7a17588f",
   "metadata": {},
   "outputs": [],
   "source": [
    "X_train, X_test, y_train, y_test = train_test_split(X,\n",
    "                                                    y,\n",
    "                                                    test_size=0.2,\n",
    "                                                    stratify=y,\n",
    "                                                    random_state=42)"
   ]
  },
  {
   "cell_type": "code",
   "execution_count": 90,
   "id": "ce30aac6",
   "metadata": {},
   "outputs": [
    {
     "name": "stdout",
     "output_type": "stream",
     "text": [
      "Train Data Shape: ((120, 2), (120,))\n",
      "Test Data Shape: ((30, 2), (30,))\n"
     ]
    }
   ],
   "source": [
    "print(f\"Train Data Shape: {X_train.shape, y_train.shape}\")\n",
    "print(f\"Test Data Shape: {X_test.shape, y_test.shape}\")"
   ]
  },
  {
   "cell_type": "code",
   "execution_count": 91,
   "id": "fa91a295",
   "metadata": {},
   "outputs": [
    {
     "data": {
      "text/plain": [
       "Non-versicolor     80\n",
       "Iris-versicolor    40\n",
       "Name: Species, dtype: int64"
      ]
     },
     "execution_count": 91,
     "metadata": {},
     "output_type": "execute_result"
    }
   ],
   "source": [
    "y_train.value_counts()"
   ]
  },
  {
   "cell_type": "code",
   "execution_count": 92,
   "id": "9ded20c5",
   "metadata": {},
   "outputs": [
    {
     "data": {
      "text/plain": [
       "Non-versicolor     20\n",
       "Iris-versicolor    10\n",
       "Name: Species, dtype: int64"
      ]
     },
     "execution_count": 92,
     "metadata": {},
     "output_type": "execute_result"
    }
   ],
   "source": [
    "y_test.value_counts()"
   ]
  },
  {
   "cell_type": "markdown",
   "id": "97bdec06",
   "metadata": {},
   "source": [
    "### Preprocessing"
   ]
  },
  {
   "cell_type": "code",
   "execution_count": 93,
   "id": "759e245c",
   "metadata": {},
   "outputs": [],
   "source": [
    "y_train, y_test = convert_class(y_train=y_train,\n",
    "                                y_test=y_test,\n",
    "                                class_name=\"Iris-versicolor\")"
   ]
  },
  {
   "cell_type": "code",
   "execution_count": 94,
   "id": "7eeaf9ab",
   "metadata": {},
   "outputs": [
    {
     "data": {
      "text/plain": [
       "0    80\n",
       "1    40\n",
       "Name: Species, dtype: int64"
      ]
     },
     "execution_count": 94,
     "metadata": {},
     "output_type": "execute_result"
    }
   ],
   "source": [
    "y_train.value_counts()"
   ]
  },
  {
   "cell_type": "code",
   "execution_count": 95,
   "id": "1dedc6f0",
   "metadata": {},
   "outputs": [
    {
     "data": {
      "text/plain": [
       "0    20\n",
       "1    10\n",
       "Name: Species, dtype: int64"
      ]
     },
     "execution_count": 95,
     "metadata": {},
     "output_type": "execute_result"
    }
   ],
   "source": [
    "y_test.value_counts()"
   ]
  },
  {
   "cell_type": "markdown",
   "id": "738be466",
   "metadata": {},
   "source": [
    "### Modeling "
   ]
  },
  {
   "cell_type": "code",
   "execution_count": 96,
   "id": "a1e2d3e8",
   "metadata": {},
   "outputs": [],
   "source": [
    "logreg2 = LogisticRegression()"
   ]
  },
  {
   "cell_type": "code",
   "execution_count": 97,
   "id": "06359565",
   "metadata": {},
   "outputs": [
    {
     "data": {
      "text/plain": [
       "LogisticRegression()"
      ]
     },
     "execution_count": 97,
     "metadata": {},
     "output_type": "execute_result"
    }
   ],
   "source": [
    "logreg2.fit(X_train, y_train)"
   ]
  },
  {
   "cell_type": "code",
   "execution_count": 98,
   "id": "a4020bf2",
   "metadata": {},
   "outputs": [],
   "source": [
    "y_pred_train_proba = logreg2.predict_proba(X_train)"
   ]
  },
  {
   "cell_type": "code",
   "execution_count": 99,
   "id": "d90ebb8f",
   "metadata": {},
   "outputs": [
    {
     "data": {
      "text/plain": [
       "array([[0.54538602, 0.45461398],\n",
       "       [0.73017444, 0.26982556],\n",
       "       [0.53323132, 0.46676868],\n",
       "       [0.62501585, 0.37498415],\n",
       "       [0.61926541, 0.38073459],\n",
       "       [0.66662737, 0.33337263],\n",
       "       [0.8097696 , 0.1902304 ],\n",
       "       [0.81894353, 0.18105647],\n",
       "       [0.81528811, 0.18471189],\n",
       "       [0.6132621 , 0.3867379 ],\n",
       "       [0.71585056, 0.28414944],\n",
       "       [0.78628353, 0.21371647],\n",
       "       [0.64162634, 0.35837366],\n",
       "       [0.75627395, 0.24372605],\n",
       "       [0.62777001, 0.37222999],\n",
       "       [0.79630518, 0.20369482],\n",
       "       [0.55144406, 0.44855594],\n",
       "       [0.62203626, 0.37796374],\n",
       "       [0.71805121, 0.28194879],\n",
       "       [0.65831975, 0.34168025],\n",
       "       [0.75627395, 0.24372605],\n",
       "       [0.53931452, 0.46068548],\n",
       "       [0.66400684, 0.33599316],\n",
       "       [0.7449137 , 0.2550863 ],\n",
       "       [0.41234826, 0.58765174],\n",
       "       [0.84284024, 0.15715976],\n",
       "       [0.80024422, 0.19975578],\n",
       "       [0.79585499, 0.20414501],\n",
       "       [0.78628353, 0.21371647],\n",
       "       [0.80597285, 0.19402715],\n",
       "       [0.62203626, 0.37796374],\n",
       "       [0.42712916, 0.57287084],\n",
       "       [0.78628353, 0.21371647],\n",
       "       [0.75627395, 0.24372605],\n",
       "       [0.67720785, 0.32279215],\n",
       "       [0.67720785, 0.32279215],\n",
       "       [0.47238505, 0.52761495],\n",
       "       [0.6305159 , 0.3694841 ],\n",
       "       [0.62181891, 0.37818109],\n",
       "       [0.63619625, 0.36380375],\n",
       "       [0.58981433, 0.41018567],\n",
       "       [0.63619625, 0.36380375],\n",
       "       [0.54246656, 0.45753344],\n",
       "       [0.77162559, 0.22837441],\n",
       "       [0.66923765, 0.33076235],\n",
       "       [0.58124632, 0.41875368],\n",
       "       [0.56351272, 0.43648728],\n",
       "       [0.59310479, 0.40689521],\n",
       "       [0.78628353, 0.21371647],\n",
       "       [0.53615933, 0.46384067],\n",
       "       [0.66642191, 0.33357809],\n",
       "       [0.56038817, 0.43961183],\n",
       "       [0.80024422, 0.19975578],\n",
       "       [0.80024422, 0.19975578],\n",
       "       [0.81894353, 0.18105647],\n",
       "       [0.60766502, 0.39233498],\n",
       "       [0.73970415, 0.26029585],\n",
       "       [0.59594181, 0.40405819],\n",
       "       [0.65279632, 0.34720368],\n",
       "       [0.7449137 , 0.2550863 ],\n",
       "       [0.75576242, 0.24423758],\n",
       "       [0.7449137 , 0.2550863 ],\n",
       "       [0.76288994, 0.23711006],\n",
       "       [0.82254235, 0.17745765],\n",
       "       [0.72297708, 0.27702292],\n",
       "       [0.71805121, 0.28194879],\n",
       "       [0.36903863, 0.63096137],\n",
       "       [0.67700574, 0.32299426],\n",
       "       [0.66662737, 0.33337263],\n",
       "       [0.48776355, 0.51223645],\n",
       "       [0.61626818, 0.38373182],\n",
       "       [0.78628353, 0.21371647],\n",
       "       [0.72061385, 0.27938615],\n",
       "       [0.80024422, 0.19975578],\n",
       "       [0.76075453, 0.23924547],\n",
       "       [0.80412582, 0.19587418],\n",
       "       [0.81350924, 0.18649076],\n",
       "       [0.63619625, 0.36380375],\n",
       "       [0.82254235, 0.17745765],\n",
       "       [0.8097696 , 0.1902304 ],\n",
       "       [0.70088381, 0.29911619],\n",
       "       [0.8097696 , 0.1902304 ],\n",
       "       [0.65300581, 0.34699419],\n",
       "       [0.61604956, 0.38395044],\n",
       "       [0.81894353, 0.18105647],\n",
       "       [0.75627395, 0.24372605],\n",
       "       [0.63912897, 0.36087103],\n",
       "       [0.53615933, 0.46384067],\n",
       "       [0.70315231, 0.29684769],\n",
       "       [0.62777001, 0.37222999],\n",
       "       [0.56038817, 0.43961183],\n",
       "       [0.68507637, 0.31492363],\n",
       "       [0.43023787, 0.56976213],\n",
       "       [0.61904743, 0.38095257],\n",
       "       [0.77162559, 0.22837441],\n",
       "       [0.70617863, 0.29382137],\n",
       "       [0.56640523, 0.43359477],\n",
       "       [0.65279632, 0.34720368],\n",
       "       [0.41828822, 0.58171178],\n",
       "       [0.42115455, 0.57884545],\n",
       "       [0.77162559, 0.22837441],\n",
       "       [0.77778749, 0.22221251],\n",
       "       [0.74023775, 0.25976225],\n",
       "       [0.3719991 , 0.6280009 ],\n",
       "       [0.40076816, 0.59923184],\n",
       "       [0.76728632, 0.23271368],\n",
       "       [0.60159648, 0.39840352],\n",
       "       [0.60463478, 0.39536522],\n",
       "       [0.77162559, 0.22837441],\n",
       "       [0.70068998, 0.29931002],\n",
       "       [0.8379813 , 0.1620187 ],\n",
       "       [0.69303677, 0.30696323],\n",
       "       [0.5871882 , 0.4128118 ],\n",
       "       [0.5543533 , 0.4456467 ],\n",
       "       [0.54830237, 0.45169763],\n",
       "       [0.65545892, 0.34454108],\n",
       "       [0.66662737, 0.33337263],\n",
       "       [0.35772157, 0.64227843],\n",
       "       [0.63030053, 0.36969947],\n",
       "       [0.60766502, 0.39233498]])"
      ]
     },
     "execution_count": 99,
     "metadata": {},
     "output_type": "execute_result"
    }
   ],
   "source": [
    "y_pred_train_proba"
   ]
  },
  {
   "cell_type": "code",
   "execution_count": 100,
   "id": "7daa253a",
   "metadata": {},
   "outputs": [],
   "source": [
    "y_pred_train = logreg2.predict(X_train)"
   ]
  },
  {
   "cell_type": "code",
   "execution_count": 101,
   "id": "04919d00",
   "metadata": {},
   "outputs": [
    {
     "data": {
      "text/plain": [
       "array([0, 0, 0, 0, 0, 0, 0, 0, 0, 0, 0, 0, 0, 0, 0, 0, 0, 0, 0, 0, 0, 0,\n",
       "       0, 0, 1, 0, 0, 0, 0, 0, 0, 1, 0, 0, 0, 0, 1, 0, 0, 0, 0, 0, 0, 0,\n",
       "       0, 0, 0, 0, 0, 0, 0, 0, 0, 0, 0, 0, 0, 0, 0, 0, 0, 0, 0, 0, 0, 0,\n",
       "       1, 0, 0, 1, 0, 0, 0, 0, 0, 0, 0, 0, 0, 0, 0, 0, 0, 0, 0, 0, 0, 0,\n",
       "       0, 0, 0, 0, 1, 0, 0, 0, 0, 0, 1, 1, 0, 0, 0, 1, 1, 0, 0, 0, 0, 0,\n",
       "       0, 0, 0, 0, 0, 0, 0, 1, 0, 0])"
      ]
     },
     "execution_count": 101,
     "metadata": {},
     "output_type": "execute_result"
    }
   ],
   "source": [
    "y_pred_train"
   ]
  },
  {
   "cell_type": "code",
   "execution_count": 102,
   "id": "e4d49429",
   "metadata": {},
   "outputs": [],
   "source": [
    "from sklearn.metrics import accuracy_score\n",
    "from sklearn.metrics import confusion_matrix\n",
    "from sklearn.metrics import classification_report"
   ]
  },
  {
   "cell_type": "code",
   "execution_count": 103,
   "id": "2321e739",
   "metadata": {},
   "outputs": [
    {
     "data": {
      "text/plain": [
       "0.5916666666666667"
      ]
     },
     "execution_count": 103,
     "metadata": {},
     "output_type": "execute_result"
    }
   ],
   "source": [
    "acc_train = accuracy_score(y_train, y_pred_train)\n",
    "acc_train"
   ]
  },
  {
   "cell_type": "code",
   "execution_count": 104,
   "id": "1b3b8589",
   "metadata": {},
   "outputs": [
    {
     "name": "stdout",
     "output_type": "stream",
     "text": [
      "              precision    recall  f1-score   support\n",
      "\n",
      "           0       0.64      0.88      0.74        80\n",
      "           1       0.09      0.03      0.04        40\n",
      "\n",
      "    accuracy                           0.59       120\n",
      "   macro avg       0.37      0.45      0.39       120\n",
      "weighted avg       0.46      0.59      0.51       120\n",
      "\n"
     ]
    }
   ],
   "source": [
    "print(classification_report(y_train, y_pred_train))"
   ]
  },
  {
   "cell_type": "code",
   "execution_count": 105,
   "id": "4e9e3d84",
   "metadata": {},
   "outputs": [],
   "source": [
    "y_pred_test_proba = logreg2.predict_proba(X_test)"
   ]
  },
  {
   "cell_type": "code",
   "execution_count": 106,
   "id": "b194aaf8",
   "metadata": {},
   "outputs": [
    {
     "data": {
      "text/plain": [
       "array([[0.7449137 , 0.2550863 ],\n",
       "       [0.51492958, 0.48507042],\n",
       "       [0.6581118 , 0.3418882 ],\n",
       "       [0.63346803, 0.36653197],\n",
       "       [0.78628353, 0.21371647],\n",
       "       [0.77162559, 0.22837441],\n",
       "       [0.67183754, 0.32816246],\n",
       "       [0.64744248, 0.35255752],\n",
       "       [0.66903299, 0.33096701],\n",
       "       [0.77162559, 0.22837441],\n",
       "       [0.70088381, 0.29911619],\n",
       "       [0.73761074, 0.26238926],\n",
       "       [0.64744248, 0.35255752],\n",
       "       [0.78628353, 0.21371647],\n",
       "       [0.84757996, 0.15242004],\n",
       "       [0.63619625, 0.36380375],\n",
       "       [0.65831975, 0.34168025],\n",
       "       [0.63619625, 0.36380375],\n",
       "       [0.660962  , 0.339038  ],\n",
       "       [0.67720785, 0.32279215],\n",
       "       [0.79230862, 0.20769138],\n",
       "       [0.56016043, 0.43983957],\n",
       "       [0.66400684, 0.33599316],\n",
       "       [0.5543533 , 0.4456467 ],\n",
       "       [0.44517424, 0.55482576],\n",
       "       [0.75627395, 0.24372605],\n",
       "       [0.77113653, 0.22886347],\n",
       "       [0.78628353, 0.21371647],\n",
       "       [0.51198954, 0.48801046],\n",
       "       [0.81350924, 0.18649076]])"
      ]
     },
     "execution_count": 106,
     "metadata": {},
     "output_type": "execute_result"
    }
   ],
   "source": [
    "y_pred_test_proba"
   ]
  },
  {
   "cell_type": "code",
   "execution_count": 107,
   "id": "83d67304",
   "metadata": {},
   "outputs": [],
   "source": [
    "y_pred_test = logreg2.predict(X_test)"
   ]
  },
  {
   "cell_type": "code",
   "execution_count": 108,
   "id": "53cf60ce",
   "metadata": {},
   "outputs": [
    {
     "data": {
      "text/plain": [
       "array([0, 0, 0, 0, 0, 0, 0, 0, 0, 0, 0, 0, 0, 0, 0, 0, 0, 0, 0, 0, 0, 0,\n",
       "       0, 0, 1, 0, 0, 0, 0, 0])"
      ]
     },
     "execution_count": 108,
     "metadata": {},
     "output_type": "execute_result"
    }
   ],
   "source": [
    "y_pred_test"
   ]
  },
  {
   "cell_type": "code",
   "execution_count": 109,
   "id": "af85b846",
   "metadata": {},
   "outputs": [
    {
     "data": {
      "text/plain": [
       "0.6333333333333333"
      ]
     },
     "execution_count": 109,
     "metadata": {},
     "output_type": "execute_result"
    }
   ],
   "source": [
    "acc_test = accuracy_score(y_test, y_pred_test)\n",
    "acc_test"
   ]
  },
  {
   "cell_type": "code",
   "execution_count": 110,
   "id": "5fa2b3f5",
   "metadata": {},
   "outputs": [
    {
     "name": "stdout",
     "output_type": "stream",
     "text": [
      "              precision    recall  f1-score   support\n",
      "\n",
      "           0       0.66      0.95      0.78        20\n",
      "           1       0.00      0.00      0.00        10\n",
      "\n",
      "    accuracy                           0.63        30\n",
      "   macro avg       0.33      0.47      0.39        30\n",
      "weighted avg       0.44      0.63      0.52        30\n",
      "\n"
     ]
    }
   ],
   "source": [
    "print(classification_report(y_test, y_pred_test))"
   ]
  },
  {
   "cell_type": "markdown",
   "id": "a5f00063",
   "metadata": {},
   "source": [
    "### Get Coefficient and Intercept"
   ]
  },
  {
   "cell_type": "code",
   "execution_count": 111,
   "id": "f48594ca",
   "metadata": {},
   "outputs": [
    {
     "data": {
      "text/plain": [
       "array([[ 0.85154194, -1.45846562]])"
      ]
     },
     "execution_count": 111,
     "metadata": {},
     "output_type": "execute_result"
    }
   ],
   "source": [
    "logreg2.coef_"
   ]
  },
  {
   "cell_type": "code",
   "execution_count": 112,
   "id": "2a8ad13f",
   "metadata": {},
   "outputs": [
    {
     "data": {
      "text/plain": [
       "array([-2.20313281])"
      ]
     },
     "execution_count": 112,
     "metadata": {},
     "output_type": "execute_result"
    }
   ],
   "source": [
    "logreg2.intercept_"
   ]
  },
  {
   "cell_type": "code",
   "execution_count": 113,
   "id": "958d56ab",
   "metadata": {},
   "outputs": [
    {
     "name": "stdout",
     "output_type": "stream",
     "text": [
      "intercept  -2.2031328077766346\n",
      "classes [0 1]\n"
     ]
    },
    {
     "data": {
      "text/html": [
       "<div>\n",
       "<style scoped>\n",
       "    .dataframe tbody tr th:only-of-type {\n",
       "        vertical-align: middle;\n",
       "    }\n",
       "\n",
       "    .dataframe tbody tr th {\n",
       "        vertical-align: top;\n",
       "    }\n",
       "\n",
       "    .dataframe thead th {\n",
       "        text-align: right;\n",
       "    }\n",
       "</style>\n",
       "<table border=\"1\" class=\"dataframe\">\n",
       "  <thead>\n",
       "    <tr style=\"text-align: right;\">\n",
       "      <th></th>\n",
       "      <th>coeff</th>\n",
       "    </tr>\n",
       "  </thead>\n",
       "  <tbody>\n",
       "    <tr>\n",
       "      <th>PetalLengthCm</th>\n",
       "      <td>0.851542</td>\n",
       "    </tr>\n",
       "    <tr>\n",
       "      <th>PetalWidthCm</th>\n",
       "      <td>-1.458466</td>\n",
       "    </tr>\n",
       "  </tbody>\n",
       "</table>\n",
       "</div>"
      ],
      "text/plain": [
       "                  coeff\n",
       "PetalLengthCm  0.851542\n",
       "PetalWidthCm  -1.458466"
      ]
     },
     "execution_count": 113,
     "metadata": {},
     "output_type": "execute_result"
    }
   ],
   "source": [
    "print('intercept ', logreg2.intercept_[0])\n",
    "print('classes', logreg2.classes_)\n",
    "pd.DataFrame({'coeff': logreg2.coef_[0]}, \n",
    "             index=X.columns)"
   ]
  },
  {
   "cell_type": "code",
   "execution_count": 114,
   "id": "2374bdef",
   "metadata": {},
   "outputs": [],
   "source": [
    "coef_1, coef_2 = logreg2.coef_[0]"
   ]
  },
  {
   "cell_type": "code",
   "execution_count": 115,
   "id": "6df7a3b5",
   "metadata": {},
   "outputs": [],
   "source": [
    "itc = logreg2.intercept_[0]"
   ]
  },
  {
   "cell_type": "code",
   "execution_count": 116,
   "id": "627c60f3",
   "metadata": {},
   "outputs": [],
   "source": [
    "m_boundary = -coef_1 / coef_2"
   ]
  },
  {
   "cell_type": "code",
   "execution_count": 117,
   "id": "1dc89af8",
   "metadata": {},
   "outputs": [
    {
     "data": {
      "text/plain": [
       "0.5838615110373471"
      ]
     },
     "execution_count": 117,
     "metadata": {},
     "output_type": "execute_result"
    }
   ],
   "source": [
    "m_boundary"
   ]
  },
  {
   "cell_type": "code",
   "execution_count": 118,
   "id": "061988bd",
   "metadata": {},
   "outputs": [],
   "source": [
    "c_boundary = -itc / coef_2"
   ]
  },
  {
   "cell_type": "code",
   "execution_count": 119,
   "id": "6f37259a",
   "metadata": {},
   "outputs": [
    {
     "data": {
      "text/plain": [
       "-1.5105826170358465"
      ]
     },
     "execution_count": 119,
     "metadata": {},
     "output_type": "execute_result"
    }
   ],
   "source": [
    "c_boundary"
   ]
  },
  {
   "cell_type": "code",
   "execution_count": 120,
   "id": "dd51b518",
   "metadata": {},
   "outputs": [
    {
     "name": "stdout",
     "output_type": "stream",
     "text": [
      "0.5838615110373471 -1.5105826170358465\n"
     ]
    }
   ],
   "source": [
    "print(m_boundary, c_boundary)"
   ]
  },
  {
   "cell_type": "code",
   "execution_count": 121,
   "id": "2b9befc2",
   "metadata": {},
   "outputs": [
    {
     "data": {
      "image/png": "[encoded data removed]",
      "text/plain": [
       "<Figure size 864x648 with 1 Axes>"
      ]
     },
     "metadata": {
      "needs_background": "light"
     },
     "output_type": "display_data"
    }
   ],
   "source": [
    "plt.figure(figsize=(12, 9))\n",
    "\n",
    "data_scaled = X_train.copy()\n",
    "data_scaled[\"Species\"] = y_train\n",
    "\n",
    "sns.scatterplot(data=data_scaled,\n",
    "                x=\"PetalLengthCm\",\n",
    "                y=\"PetalWidthCm\",\n",
    "                hue=\"Species\")\n",
    "\n",
    "\n",
    "x_support = np.linspace(data_scaled[\"PetalLengthCm\"].min(), \n",
    "                        data_scaled[\"PetalLengthCm\"].max(), 101)\n",
    "y_support = m_boundary*x_support + c_boundary\n",
    "\n",
    "plt.plot(x_support, y_support, \"--r\")\n",
    "# plt.set_ylim(-6, 6)\n",
    "\n",
    "plt.show()"
   ]
  },
  {
   "cell_type": "code",
   "execution_count": 122,
   "id": "99a381fc",
   "metadata": {
    "scrolled": false
   },
   "outputs": [
    {
     "data": {
      "image/png": "[encoded data removed]",
      "text/plain": [
       "<Figure size 864x648 with 1 Axes>"
      ]
     },
     "metadata": {
      "needs_background": "light"
     },
     "output_type": "display_data"
    }
   ],
   "source": [
    "plt.figure(figsize=(12, 9))\n",
    "\n",
    "data_scaled = X_test.copy()\n",
    "data_scaled[\"Species\"] = y_test\n",
    "\n",
    "sns.scatterplot(data=data_scaled,\n",
    "                x=\"PetalLengthCm\",\n",
    "                y=\"PetalWidthCm\",\n",
    "                hue=\"Species\")\n",
    "\n",
    "\n",
    "x_support = np.linspace(data_scaled[\"PetalLengthCm\"].min(), \n",
    "                        data_scaled[\"PetalLengthCm\"].max(), 101)\n",
    "y_support = m_boundary*x_support + c_boundary\n",
    "\n",
    "plt.plot(x_support, y_support, \"--r\")\n",
    "# plt.set_ylim(-6, 6)\n",
    "\n",
    "plt.show()"
   ]
  }
 ],
 "metadata": {
  "kernelspec": {
   "display_name": "Python 3 (ipykernel)",
   "language": "python",
   "name": "python3"
  },
  "language_info": {
   "codemirror_mode": {
    "name": "ipython",
    "version": 3
   },
   "file_extension": ".py",
   "mimetype": "text/x-python",
   "name": "python",
   "nbconvert_exporter": "python",
   "pygments_lexer": "ipython3",
   "version": "3.9.12"
  }
 },
 "nbformat": 4,
 "nbformat_minor": 5
}
