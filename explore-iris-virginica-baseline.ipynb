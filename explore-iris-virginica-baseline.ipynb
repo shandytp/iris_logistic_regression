{
 "cells": [
  {
   "cell_type": "code",
   "execution_count": 1,
   "id": "4d119205",
   "metadata": {},
   "outputs": [],
   "source": [
    "import pandas as pd\n",
    "import numpy as np\n",
    "import matplotlib.pyplot as plt\n",
    "import seaborn as sns"
   ]
  },
  {
   "cell_type": "markdown",
   "id": "2d9a851e",
   "metadata": {},
   "source": [
    "### Read Data"
   ]
  },
  {
   "cell_type": "code",
   "execution_count": 2,
   "id": "c64f62f8",
   "metadata": {},
   "outputs": [],
   "source": [
    "data = pd.read_csv('Iris.csv')"
   ]
  },
  {
   "cell_type": "code",
   "execution_count": 3,
   "id": "48d2c58f",
   "metadata": {},
   "outputs": [
    {
     "data": {
      "text/html": [
       "<div>\n",
       "<style scoped>\n",
       "    .dataframe tbody tr th:only-of-type {\n",
       "        vertical-align: middle;\n",
       "    }\n",
       "\n",
       "    .dataframe tbody tr th {\n",
       "        vertical-align: top;\n",
       "    }\n",
       "\n",
       "    .dataframe thead th {\n",
       "        text-align: right;\n",
       "    }\n",
       "</style>\n",
       "<table border=\"1\" class=\"dataframe\">\n",
       "  <thead>\n",
       "    <tr style=\"text-align: right;\">\n",
       "      <th></th>\n",
       "      <th>Id</th>\n",
       "      <th>SepalLengthCm</th>\n",
       "      <th>SepalWidthCm</th>\n",
       "      <th>PetalLengthCm</th>\n",
       "      <th>PetalWidthCm</th>\n",
       "      <th>Species</th>\n",
       "    </tr>\n",
       "  </thead>\n",
       "  <tbody>\n",
       "    <tr>\n",
       "      <th>0</th>\n",
       "      <td>1</td>\n",
       "      <td>5.1</td>\n",
       "      <td>3.5</td>\n",
       "      <td>1.4</td>\n",
       "      <td>0.2</td>\n",
       "      <td>Iris-setosa</td>\n",
       "    </tr>\n",
       "    <tr>\n",
       "      <th>1</th>\n",
       "      <td>2</td>\n",
       "      <td>4.9</td>\n",
       "      <td>3.0</td>\n",
       "      <td>1.4</td>\n",
       "      <td>0.2</td>\n",
       "      <td>Iris-setosa</td>\n",
       "    </tr>\n",
       "    <tr>\n",
       "      <th>2</th>\n",
       "      <td>3</td>\n",
       "      <td>4.7</td>\n",
       "      <td>3.2</td>\n",
       "      <td>1.3</td>\n",
       "      <td>0.2</td>\n",
       "      <td>Iris-setosa</td>\n",
       "    </tr>\n",
       "    <tr>\n",
       "      <th>3</th>\n",
       "      <td>4</td>\n",
       "      <td>4.6</td>\n",
       "      <td>3.1</td>\n",
       "      <td>1.5</td>\n",
       "      <td>0.2</td>\n",
       "      <td>Iris-setosa</td>\n",
       "    </tr>\n",
       "    <tr>\n",
       "      <th>4</th>\n",
       "      <td>5</td>\n",
       "      <td>5.0</td>\n",
       "      <td>3.6</td>\n",
       "      <td>1.4</td>\n",
       "      <td>0.2</td>\n",
       "      <td>Iris-setosa</td>\n",
       "    </tr>\n",
       "  </tbody>\n",
       "</table>\n",
       "</div>"
      ],
      "text/plain": [
       "   Id  SepalLengthCm  SepalWidthCm  PetalLengthCm  PetalWidthCm      Species\n",
       "0   1            5.1           3.5            1.4           0.2  Iris-setosa\n",
       "1   2            4.9           3.0            1.4           0.2  Iris-setosa\n",
       "2   3            4.7           3.2            1.3           0.2  Iris-setosa\n",
       "3   4            4.6           3.1            1.5           0.2  Iris-setosa\n",
       "4   5            5.0           3.6            1.4           0.2  Iris-setosa"
      ]
     },
     "execution_count": 3,
     "metadata": {},
     "output_type": "execute_result"
    }
   ],
   "source": [
    "data.head()"
   ]
  },
  {
   "cell_type": "code",
   "execution_count": 4,
   "id": "0004c361",
   "metadata": {},
   "outputs": [
    {
     "name": "stderr",
     "output_type": "stream",
     "text": [
      "/tmp/ipykernel_27656/2627137660.py:1: FutureWarning: The default value of numeric_only in DataFrame.corr is deprecated. In a future version, it will default to False. Select only valid columns or specify the value of numeric_only to silence this warning.\n",
      "  data.corr()\n"
     ]
    },
    {
     "data": {
      "text/html": [
       "<div>\n",
       "<style scoped>\n",
       "    .dataframe tbody tr th:only-of-type {\n",
       "        vertical-align: middle;\n",
       "    }\n",
       "\n",
       "    .dataframe tbody tr th {\n",
       "        vertical-align: top;\n",
       "    }\n",
       "\n",
       "    .dataframe thead th {\n",
       "        text-align: right;\n",
       "    }\n",
       "</style>\n",
       "<table border=\"1\" class=\"dataframe\">\n",
       "  <thead>\n",
       "    <tr style=\"text-align: right;\">\n",
       "      <th></th>\n",
       "      <th>Id</th>\n",
       "      <th>SepalLengthCm</th>\n",
       "      <th>SepalWidthCm</th>\n",
       "      <th>PetalLengthCm</th>\n",
       "      <th>PetalWidthCm</th>\n",
       "    </tr>\n",
       "  </thead>\n",
       "  <tbody>\n",
       "    <tr>\n",
       "      <th>Id</th>\n",
       "      <td>1.000000</td>\n",
       "      <td>0.716676</td>\n",
       "      <td>-0.397729</td>\n",
       "      <td>0.882747</td>\n",
       "      <td>0.899759</td>\n",
       "    </tr>\n",
       "    <tr>\n",
       "      <th>SepalLengthCm</th>\n",
       "      <td>0.716676</td>\n",
       "      <td>1.000000</td>\n",
       "      <td>-0.109369</td>\n",
       "      <td>0.871754</td>\n",
       "      <td>0.817954</td>\n",
       "    </tr>\n",
       "    <tr>\n",
       "      <th>SepalWidthCm</th>\n",
       "      <td>-0.397729</td>\n",
       "      <td>-0.109369</td>\n",
       "      <td>1.000000</td>\n",
       "      <td>-0.420516</td>\n",
       "      <td>-0.356544</td>\n",
       "    </tr>\n",
       "    <tr>\n",
       "      <th>PetalLengthCm</th>\n",
       "      <td>0.882747</td>\n",
       "      <td>0.871754</td>\n",
       "      <td>-0.420516</td>\n",
       "      <td>1.000000</td>\n",
       "      <td>0.962757</td>\n",
       "    </tr>\n",
       "    <tr>\n",
       "      <th>PetalWidthCm</th>\n",
       "      <td>0.899759</td>\n",
       "      <td>0.817954</td>\n",
       "      <td>-0.356544</td>\n",
       "      <td>0.962757</td>\n",
       "      <td>1.000000</td>\n",
       "    </tr>\n",
       "  </tbody>\n",
       "</table>\n",
       "</div>"
      ],
      "text/plain": [
       "                     Id  SepalLengthCm  SepalWidthCm  PetalLengthCm  \\\n",
       "Id             1.000000       0.716676     -0.397729       0.882747   \n",
       "SepalLengthCm  0.716676       1.000000     -0.109369       0.871754   \n",
       "SepalWidthCm  -0.397729      -0.109369      1.000000      -0.420516   \n",
       "PetalLengthCm  0.882747       0.871754     -0.420516       1.000000   \n",
       "PetalWidthCm   0.899759       0.817954     -0.356544       0.962757   \n",
       "\n",
       "               PetalWidthCm  \n",
       "Id                 0.899759  \n",
       "SepalLengthCm      0.817954  \n",
       "SepalWidthCm      -0.356544  \n",
       "PetalLengthCm      0.962757  \n",
       "PetalWidthCm       1.000000  "
      ]
     },
     "execution_count": 4,
     "metadata": {},
     "output_type": "execute_result"
    }
   ],
   "source": [
    "data.corr()"
   ]
  },
  {
   "cell_type": "markdown",
   "id": "f79d8e73",
   "metadata": {},
   "source": [
    "### Only using 2 variables\n",
    "\n",
    "Drop `SepalLengthCm` and `SepalWidthCm` cols"
   ]
  },
  {
   "cell_type": "code",
   "execution_count": 5,
   "id": "62529161",
   "metadata": {},
   "outputs": [],
   "source": [
    "DROP_COLS = [\"Id\", \"SepalLengthCm\", \"SepalWidthCm\"]"
   ]
  },
  {
   "cell_type": "code",
   "execution_count": 6,
   "id": "1e3041b6",
   "metadata": {},
   "outputs": [],
   "source": [
    "def drop_columns(cols_name):\n",
    "    data.drop(cols_name, axis=1, inplace=True)"
   ]
  },
  {
   "cell_type": "code",
   "execution_count": 7,
   "id": "00149e71",
   "metadata": {},
   "outputs": [],
   "source": [
    "drop_columns(DROP_COLS)"
   ]
  },
  {
   "cell_type": "code",
   "execution_count": 8,
   "id": "e9fc75d2",
   "metadata": {},
   "outputs": [
    {
     "data": {
      "text/html": [
       "<div>\n",
       "<style scoped>\n",
       "    .dataframe tbody tr th:only-of-type {\n",
       "        vertical-align: middle;\n",
       "    }\n",
       "\n",
       "    .dataframe tbody tr th {\n",
       "        vertical-align: top;\n",
       "    }\n",
       "\n",
       "    .dataframe thead th {\n",
       "        text-align: right;\n",
       "    }\n",
       "</style>\n",
       "<table border=\"1\" class=\"dataframe\">\n",
       "  <thead>\n",
       "    <tr style=\"text-align: right;\">\n",
       "      <th></th>\n",
       "      <th>PetalLengthCm</th>\n",
       "      <th>PetalWidthCm</th>\n",
       "      <th>Species</th>\n",
       "    </tr>\n",
       "  </thead>\n",
       "  <tbody>\n",
       "    <tr>\n",
       "      <th>0</th>\n",
       "      <td>1.4</td>\n",
       "      <td>0.2</td>\n",
       "      <td>Iris-setosa</td>\n",
       "    </tr>\n",
       "    <tr>\n",
       "      <th>1</th>\n",
       "      <td>1.4</td>\n",
       "      <td>0.2</td>\n",
       "      <td>Iris-setosa</td>\n",
       "    </tr>\n",
       "    <tr>\n",
       "      <th>2</th>\n",
       "      <td>1.3</td>\n",
       "      <td>0.2</td>\n",
       "      <td>Iris-setosa</td>\n",
       "    </tr>\n",
       "    <tr>\n",
       "      <th>3</th>\n",
       "      <td>1.5</td>\n",
       "      <td>0.2</td>\n",
       "      <td>Iris-setosa</td>\n",
       "    </tr>\n",
       "    <tr>\n",
       "      <th>4</th>\n",
       "      <td>1.4</td>\n",
       "      <td>0.2</td>\n",
       "      <td>Iris-setosa</td>\n",
       "    </tr>\n",
       "  </tbody>\n",
       "</table>\n",
       "</div>"
      ],
      "text/plain": [
       "   PetalLengthCm  PetalWidthCm      Species\n",
       "0            1.4           0.2  Iris-setosa\n",
       "1            1.4           0.2  Iris-setosa\n",
       "2            1.3           0.2  Iris-setosa\n",
       "3            1.5           0.2  Iris-setosa\n",
       "4            1.4           0.2  Iris-setosa"
      ]
     },
     "execution_count": 8,
     "metadata": {},
     "output_type": "execute_result"
    }
   ],
   "source": [
    "data.head()"
   ]
  },
  {
   "cell_type": "code",
   "execution_count": 9,
   "id": "424ac6e7",
   "metadata": {},
   "outputs": [
    {
     "data": {
      "text/plain": [
       "Iris-setosa        50\n",
       "Iris-versicolor    50\n",
       "Iris-virginica     50\n",
       "Name: Species, dtype: int64"
      ]
     },
     "execution_count": 9,
     "metadata": {},
     "output_type": "execute_result"
    }
   ],
   "source": [
    "data['Species'].value_counts()"
   ]
  },
  {
   "cell_type": "markdown",
   "id": "fe54a296",
   "metadata": {},
   "source": [
    "### Only Pick Virginica\n",
    "\n",
    "Nanti sisa nya akan di convert jadi Non-Virginica"
   ]
  },
  {
   "cell_type": "code",
   "execution_count": 10,
   "id": "af27162b",
   "metadata": {},
   "outputs": [
    {
     "name": "stderr",
     "output_type": "stream",
     "text": [
      "/tmp/ipykernel_27656/4184929900.py:1: SettingWithCopyWarning: \n",
      "A value is trying to be set on a copy of a slice from a DataFrame\n",
      "\n",
      "See the caveats in the documentation: https://pandas.pydata.org/pandas-docs/stable/user_guide/indexing.html#returning-a-view-versus-a-copy\n",
      "  data[\"Species\"][data[\"Species\"] != \"Iris-virginica\"] = \"Non-virginica\"\n"
     ]
    }
   ],
   "source": [
    "data[\"Species\"][data[\"Species\"] != \"Iris-virginica\"] = \"Non-virginica\""
   ]
  },
  {
   "cell_type": "code",
   "execution_count": 11,
   "id": "ed0fcd7c",
   "metadata": {},
   "outputs": [
    {
     "data": {
      "text/html": [
       "<div>\n",
       "<style scoped>\n",
       "    .dataframe tbody tr th:only-of-type {\n",
       "        vertical-align: middle;\n",
       "    }\n",
       "\n",
       "    .dataframe tbody tr th {\n",
       "        vertical-align: top;\n",
       "    }\n",
       "\n",
       "    .dataframe thead th {\n",
       "        text-align: right;\n",
       "    }\n",
       "</style>\n",
       "<table border=\"1\" class=\"dataframe\">\n",
       "  <thead>\n",
       "    <tr style=\"text-align: right;\">\n",
       "      <th></th>\n",
       "      <th>PetalLengthCm</th>\n",
       "      <th>PetalWidthCm</th>\n",
       "      <th>Species</th>\n",
       "    </tr>\n",
       "  </thead>\n",
       "  <tbody>\n",
       "    <tr>\n",
       "      <th>0</th>\n",
       "      <td>1.4</td>\n",
       "      <td>0.2</td>\n",
       "      <td>Non-virginica</td>\n",
       "    </tr>\n",
       "    <tr>\n",
       "      <th>1</th>\n",
       "      <td>1.4</td>\n",
       "      <td>0.2</td>\n",
       "      <td>Non-virginica</td>\n",
       "    </tr>\n",
       "    <tr>\n",
       "      <th>2</th>\n",
       "      <td>1.3</td>\n",
       "      <td>0.2</td>\n",
       "      <td>Non-virginica</td>\n",
       "    </tr>\n",
       "    <tr>\n",
       "      <th>3</th>\n",
       "      <td>1.5</td>\n",
       "      <td>0.2</td>\n",
       "      <td>Non-virginica</td>\n",
       "    </tr>\n",
       "    <tr>\n",
       "      <th>4</th>\n",
       "      <td>1.4</td>\n",
       "      <td>0.2</td>\n",
       "      <td>Non-virginica</td>\n",
       "    </tr>\n",
       "    <tr>\n",
       "      <th>...</th>\n",
       "      <td>...</td>\n",
       "      <td>...</td>\n",
       "      <td>...</td>\n",
       "    </tr>\n",
       "    <tr>\n",
       "      <th>145</th>\n",
       "      <td>5.2</td>\n",
       "      <td>2.3</td>\n",
       "      <td>Iris-virginica</td>\n",
       "    </tr>\n",
       "    <tr>\n",
       "      <th>146</th>\n",
       "      <td>5.0</td>\n",
       "      <td>1.9</td>\n",
       "      <td>Iris-virginica</td>\n",
       "    </tr>\n",
       "    <tr>\n",
       "      <th>147</th>\n",
       "      <td>5.2</td>\n",
       "      <td>2.0</td>\n",
       "      <td>Iris-virginica</td>\n",
       "    </tr>\n",
       "    <tr>\n",
       "      <th>148</th>\n",
       "      <td>5.4</td>\n",
       "      <td>2.3</td>\n",
       "      <td>Iris-virginica</td>\n",
       "    </tr>\n",
       "    <tr>\n",
       "      <th>149</th>\n",
       "      <td>5.1</td>\n",
       "      <td>1.8</td>\n",
       "      <td>Iris-virginica</td>\n",
       "    </tr>\n",
       "  </tbody>\n",
       "</table>\n",
       "<p>150 rows × 3 columns</p>\n",
       "</div>"
      ],
      "text/plain": [
       "     PetalLengthCm  PetalWidthCm         Species\n",
       "0              1.4           0.2   Non-virginica\n",
       "1              1.4           0.2   Non-virginica\n",
       "2              1.3           0.2   Non-virginica\n",
       "3              1.5           0.2   Non-virginica\n",
       "4              1.4           0.2   Non-virginica\n",
       "..             ...           ...             ...\n",
       "145            5.2           2.3  Iris-virginica\n",
       "146            5.0           1.9  Iris-virginica\n",
       "147            5.2           2.0  Iris-virginica\n",
       "148            5.4           2.3  Iris-virginica\n",
       "149            5.1           1.8  Iris-virginica\n",
       "\n",
       "[150 rows x 3 columns]"
      ]
     },
     "execution_count": 11,
     "metadata": {},
     "output_type": "execute_result"
    }
   ],
   "source": [
    "data"
   ]
  },
  {
   "cell_type": "code",
   "execution_count": 12,
   "id": "13b2bb27",
   "metadata": {
    "scrolled": true
   },
   "outputs": [
    {
     "data": {
      "text/plain": [
       "Non-virginica     100\n",
       "Iris-virginica     50\n",
       "Name: Species, dtype: int64"
      ]
     },
     "execution_count": 12,
     "metadata": {},
     "output_type": "execute_result"
    }
   ],
   "source": [
    "data[\"Species\"].value_counts()"
   ]
  },
  {
   "cell_type": "markdown",
   "id": "ec006c9f",
   "metadata": {},
   "source": [
    "### Create Visualization"
   ]
  },
  {
   "cell_type": "code",
   "execution_count": 13,
   "id": "d574285e",
   "metadata": {},
   "outputs": [
    {
     "data": {
      "image/png": "[encoded data removed]",
      "text/plain": [
       "<Figure size 1200x900 with 1 Axes>"
      ]
     },
     "metadata": {},
     "output_type": "display_data"
    }
   ],
   "source": [
    "plt.figure(figsize=(12, 9))\n",
    "sns.scatterplot(data=data,\n",
    "                x=\"PetalLengthCm\",\n",
    "                y=\"PetalWidthCm\",\n",
    "                hue=\"Species\")\n",
    "\n",
    "plt.show()"
   ]
  },
  {
   "cell_type": "markdown",
   "id": "28835024",
   "metadata": {},
   "source": [
    "### Split Input Output "
   ]
  },
  {
   "cell_type": "code",
   "execution_count": 14,
   "id": "93901f14",
   "metadata": {},
   "outputs": [],
   "source": [
    "def split_input_output(data, output_col):\n",
    "    X = data.drop(columns=output_col)\n",
    "    y = data[output_col]\n",
    "    \n",
    "    return X, y"
   ]
  },
  {
   "cell_type": "code",
   "execution_count": 15,
   "id": "224495af",
   "metadata": {},
   "outputs": [],
   "source": [
    "X, y = split_input_output(data=data,\n",
    "                          output_col=\"Species\")"
   ]
  },
  {
   "cell_type": "code",
   "execution_count": 16,
   "id": "0b6c7f18",
   "metadata": {},
   "outputs": [
    {
     "data": {
      "text/html": [
       "<div>\n",
       "<style scoped>\n",
       "    .dataframe tbody tr th:only-of-type {\n",
       "        vertical-align: middle;\n",
       "    }\n",
       "\n",
       "    .dataframe tbody tr th {\n",
       "        vertical-align: top;\n",
       "    }\n",
       "\n",
       "    .dataframe thead th {\n",
       "        text-align: right;\n",
       "    }\n",
       "</style>\n",
       "<table border=\"1\" class=\"dataframe\">\n",
       "  <thead>\n",
       "    <tr style=\"text-align: right;\">\n",
       "      <th></th>\n",
       "      <th>PetalLengthCm</th>\n",
       "      <th>PetalWidthCm</th>\n",
       "    </tr>\n",
       "  </thead>\n",
       "  <tbody>\n",
       "    <tr>\n",
       "      <th>0</th>\n",
       "      <td>1.4</td>\n",
       "      <td>0.2</td>\n",
       "    </tr>\n",
       "    <tr>\n",
       "      <th>1</th>\n",
       "      <td>1.4</td>\n",
       "      <td>0.2</td>\n",
       "    </tr>\n",
       "    <tr>\n",
       "      <th>2</th>\n",
       "      <td>1.3</td>\n",
       "      <td>0.2</td>\n",
       "    </tr>\n",
       "    <tr>\n",
       "      <th>3</th>\n",
       "      <td>1.5</td>\n",
       "      <td>0.2</td>\n",
       "    </tr>\n",
       "    <tr>\n",
       "      <th>4</th>\n",
       "      <td>1.4</td>\n",
       "      <td>0.2</td>\n",
       "    </tr>\n",
       "  </tbody>\n",
       "</table>\n",
       "</div>"
      ],
      "text/plain": [
       "   PetalLengthCm  PetalWidthCm\n",
       "0            1.4           0.2\n",
       "1            1.4           0.2\n",
       "2            1.3           0.2\n",
       "3            1.5           0.2\n",
       "4            1.4           0.2"
      ]
     },
     "execution_count": 16,
     "metadata": {},
     "output_type": "execute_result"
    }
   ],
   "source": [
    "X.head()"
   ]
  },
  {
   "cell_type": "code",
   "execution_count": 17,
   "id": "64224b9d",
   "metadata": {},
   "outputs": [
    {
     "data": {
      "text/plain": [
       "(150, 2)"
      ]
     },
     "execution_count": 17,
     "metadata": {},
     "output_type": "execute_result"
    }
   ],
   "source": [
    "X.shape"
   ]
  },
  {
   "cell_type": "code",
   "execution_count": 18,
   "id": "a8770b02",
   "metadata": {},
   "outputs": [
    {
     "data": {
      "text/plain": [
       "0    Non-virginica\n",
       "1    Non-virginica\n",
       "2    Non-virginica\n",
       "3    Non-virginica\n",
       "4    Non-virginica\n",
       "Name: Species, dtype: object"
      ]
     },
     "execution_count": 18,
     "metadata": {},
     "output_type": "execute_result"
    }
   ],
   "source": [
    "y.head()"
   ]
  },
  {
   "cell_type": "code",
   "execution_count": 19,
   "id": "dd387bf3",
   "metadata": {},
   "outputs": [
    {
     "data": {
      "text/plain": [
       "(150,)"
      ]
     },
     "execution_count": 19,
     "metadata": {},
     "output_type": "execute_result"
    }
   ],
   "source": [
    "y.shape"
   ]
  },
  {
   "cell_type": "code",
   "execution_count": 20,
   "id": "dda74e24",
   "metadata": {},
   "outputs": [
    {
     "data": {
      "text/plain": [
       "Non-virginica     100\n",
       "Iris-virginica     50\n",
       "Name: Species, dtype: int64"
      ]
     },
     "execution_count": 20,
     "metadata": {},
     "output_type": "execute_result"
    }
   ],
   "source": [
    "y.value_counts()"
   ]
  },
  {
   "cell_type": "markdown",
   "id": "574f179c",
   "metadata": {},
   "source": [
    "### Baseline Model "
   ]
  },
  {
   "cell_type": "code",
   "execution_count": 21,
   "id": "037449bc",
   "metadata": {},
   "outputs": [],
   "source": [
    "from sklearn.dummy import DummyClassifier"
   ]
  },
  {
   "cell_type": "code",
   "execution_count": 22,
   "id": "05bd148f",
   "metadata": {},
   "outputs": [],
   "source": [
    "dummy_clf = DummyClassifier(strategy=\"most_frequent\")"
   ]
  },
  {
   "cell_type": "code",
   "execution_count": 24,
   "id": "f651dda7",
   "metadata": {},
   "outputs": [
    {
     "data": {
      "text/html": [
       "<style>#sk-container-id-1 {color: black;background-color: white;}#sk-container-id-1 pre{padding: 0;}#sk-container-id-1 div.sk-toggleable {background-color: white;}#sk-container-id-1 label.sk-toggleable__label {cursor: pointer;display: block;width: 100%;margin-bottom: 0;padding: 0.3em;box-sizing: border-box;text-align: center;}#sk-container-id-1 label.sk-toggleable__label-arrow:before {content: \"▸\";float: left;margin-right: 0.25em;color: #696969;}#sk-container-id-1 label.sk-toggleable__label-arrow:hover:before {color: black;}#sk-container-id-1 div.sk-estimator:hover label.sk-toggleable__label-arrow:before {color: black;}#sk-container-id-1 div.sk-toggleable__content {max-height: 0;max-width: 0;overflow: hidden;text-align: left;background-color: #f0f8ff;}#sk-container-id-1 div.sk-toggleable__content pre {margin: 0.2em;color: black;border-radius: 0.25em;background-color: #f0f8ff;}#sk-container-id-1 input.sk-toggleable__control:checked~div.sk-toggleable__content {max-height: 200px;max-width: 100%;overflow: auto;}#sk-container-id-1 input.sk-toggleable__control:checked~label.sk-toggleable__label-arrow:before {content: \"▾\";}#sk-container-id-1 div.sk-estimator input.sk-toggleable__control:checked~label.sk-toggleable__label {background-color: #d4ebff;}#sk-container-id-1 div.sk-label input.sk-toggleable__control:checked~label.sk-toggleable__label {background-color: #d4ebff;}#sk-container-id-1 input.sk-hidden--visually {border: 0;clip: rect(1px 1px 1px 1px);clip: rect(1px, 1px, 1px, 1px);height: 1px;margin: -1px;overflow: hidden;padding: 0;position: absolute;width: 1px;}#sk-container-id-1 div.sk-estimator {font-family: monospace;background-color: #f0f8ff;border: 1px dotted black;border-radius: 0.25em;box-sizing: border-box;margin-bottom: 0.5em;}#sk-container-id-1 div.sk-estimator:hover {background-color: #d4ebff;}#sk-container-id-1 div.sk-parallel-item::after {content: \"\";width: 100%;border-bottom: 1px solid gray;flex-grow: 1;}#sk-container-id-1 div.sk-label:hover label.sk-toggleable__label {background-color: #d4ebff;}#sk-container-id-1 div.sk-serial::before {content: \"\";position: absolute;border-left: 1px solid gray;box-sizing: border-box;top: 0;bottom: 0;left: 50%;z-index: 0;}#sk-container-id-1 div.sk-serial {display: flex;flex-direction: column;align-items: center;background-color: white;padding-right: 0.2em;padding-left: 0.2em;position: relative;}#sk-container-id-1 div.sk-item {position: relative;z-index: 1;}#sk-container-id-1 div.sk-parallel {display: flex;align-items: stretch;justify-content: center;background-color: white;position: relative;}#sk-container-id-1 div.sk-item::before, #sk-container-id-1 div.sk-parallel-item::before {content: \"\";position: absolute;border-left: 1px solid gray;box-sizing: border-box;top: 0;bottom: 0;left: 50%;z-index: -1;}#sk-container-id-1 div.sk-parallel-item {display: flex;flex-direction: column;z-index: 1;position: relative;background-color: white;}#sk-container-id-1 div.sk-parallel-item:first-child::after {align-self: flex-end;width: 50%;}#sk-container-id-1 div.sk-parallel-item:last-child::after {align-self: flex-start;width: 50%;}#sk-container-id-1 div.sk-parallel-item:only-child::after {width: 0;}#sk-container-id-1 div.sk-dashed-wrapped {border: 1px dashed gray;margin: 0 0.4em 0.5em 0.4em;box-sizing: border-box;padding-bottom: 0.4em;background-color: white;}#sk-container-id-1 div.sk-label label {font-family: monospace;font-weight: bold;display: inline-block;line-height: 1.2em;}#sk-container-id-1 div.sk-label-container {text-align: center;}#sk-container-id-1 div.sk-container {/* jupyter's `normalize.less` sets `[hidden] { display: none; }` but bootstrap.min.css set `[hidden] { display: none !important; }` so we also need the `!important` here to be able to override the default hidden behavior on the sphinx rendered scikit-learn.org. See: https://github.com/scikit-learn/scikit-learn/issues/21755 */display: inline-block !important;position: relative;}#sk-container-id-1 div.sk-text-repr-fallback {display: none;}</style><div id=\"sk-container-id-1\" class=\"sk-top-container\"><div class=\"sk-text-repr-fallback\"><pre>DummyClassifier(strategy=&#x27;most_frequent&#x27;)</pre><b>In a Jupyter environment, please rerun this cell to show the HTML representation or trust the notebook. <br />On GitHub, the HTML representation is unable to render, please try loading this page with nbviewer.org.</b></div><div class=\"sk-container\" hidden><div class=\"sk-item\"><div class=\"sk-estimator sk-toggleable\"><input class=\"sk-toggleable__control sk-hidden--visually\" id=\"sk-estimator-id-1\" type=\"checkbox\" checked><label for=\"sk-estimator-id-1\" class=\"sk-toggleable__label sk-toggleable__label-arrow\">DummyClassifier</label><div class=\"sk-toggleable__content\"><pre>DummyClassifier(strategy=&#x27;most_frequent&#x27;)</pre></div></div></div></div></div>"
      ],
      "text/plain": [
       "DummyClassifier(strategy='most_frequent')"
      ]
     },
     "execution_count": 24,
     "metadata": {},
     "output_type": "execute_result"
    }
   ],
   "source": [
    "dummy_clf.fit(X, y)"
   ]
  },
  {
   "cell_type": "code",
   "execution_count": 26,
   "id": "5fcd4f13",
   "metadata": {
    "scrolled": true
   },
   "outputs": [
    {
     "data": {
      "text/plain": [
       "array(['Non-virginica', 'Non-virginica', 'Non-virginica', 'Non-virginica',\n",
       "       'Non-virginica', 'Non-virginica', 'Non-virginica', 'Non-virginica',\n",
       "       'Non-virginica', 'Non-virginica', 'Non-virginica', 'Non-virginica',\n",
       "       'Non-virginica', 'Non-virginica', 'Non-virginica', 'Non-virginica',\n",
       "       'Non-virginica', 'Non-virginica', 'Non-virginica', 'Non-virginica',\n",
       "       'Non-virginica', 'Non-virginica', 'Non-virginica', 'Non-virginica',\n",
       "       'Non-virginica', 'Non-virginica', 'Non-virginica', 'Non-virginica',\n",
       "       'Non-virginica', 'Non-virginica', 'Non-virginica', 'Non-virginica',\n",
       "       'Non-virginica', 'Non-virginica', 'Non-virginica', 'Non-virginica',\n",
       "       'Non-virginica', 'Non-virginica', 'Non-virginica', 'Non-virginica',\n",
       "       'Non-virginica', 'Non-virginica', 'Non-virginica', 'Non-virginica',\n",
       "       'Non-virginica', 'Non-virginica', 'Non-virginica', 'Non-virginica',\n",
       "       'Non-virginica', 'Non-virginica', 'Non-virginica', 'Non-virginica',\n",
       "       'Non-virginica', 'Non-virginica', 'Non-virginica', 'Non-virginica',\n",
       "       'Non-virginica', 'Non-virginica', 'Non-virginica', 'Non-virginica',\n",
       "       'Non-virginica', 'Non-virginica', 'Non-virginica', 'Non-virginica',\n",
       "       'Non-virginica', 'Non-virginica', 'Non-virginica', 'Non-virginica',\n",
       "       'Non-virginica', 'Non-virginica', 'Non-virginica', 'Non-virginica',\n",
       "       'Non-virginica', 'Non-virginica', 'Non-virginica', 'Non-virginica',\n",
       "       'Non-virginica', 'Non-virginica', 'Non-virginica', 'Non-virginica',\n",
       "       'Non-virginica', 'Non-virginica', 'Non-virginica', 'Non-virginica',\n",
       "       'Non-virginica', 'Non-virginica', 'Non-virginica', 'Non-virginica',\n",
       "       'Non-virginica', 'Non-virginica', 'Non-virginica', 'Non-virginica',\n",
       "       'Non-virginica', 'Non-virginica', 'Non-virginica', 'Non-virginica',\n",
       "       'Non-virginica', 'Non-virginica', 'Non-virginica', 'Non-virginica',\n",
       "       'Non-virginica', 'Non-virginica', 'Non-virginica', 'Non-virginica',\n",
       "       'Non-virginica', 'Non-virginica', 'Non-virginica', 'Non-virginica',\n",
       "       'Non-virginica', 'Non-virginica', 'Non-virginica', 'Non-virginica',\n",
       "       'Non-virginica', 'Non-virginica', 'Non-virginica', 'Non-virginica',\n",
       "       'Non-virginica', 'Non-virginica', 'Non-virginica', 'Non-virginica',\n",
       "       'Non-virginica', 'Non-virginica', 'Non-virginica', 'Non-virginica',\n",
       "       'Non-virginica', 'Non-virginica', 'Non-virginica', 'Non-virginica',\n",
       "       'Non-virginica', 'Non-virginica', 'Non-virginica', 'Non-virginica',\n",
       "       'Non-virginica', 'Non-virginica', 'Non-virginica', 'Non-virginica',\n",
       "       'Non-virginica', 'Non-virginica', 'Non-virginica', 'Non-virginica',\n",
       "       'Non-virginica', 'Non-virginica', 'Non-virginica', 'Non-virginica',\n",
       "       'Non-virginica', 'Non-virginica', 'Non-virginica', 'Non-virginica',\n",
       "       'Non-virginica', 'Non-virginica'], dtype='<U13')"
      ]
     },
     "execution_count": 26,
     "metadata": {},
     "output_type": "execute_result"
    }
   ],
   "source": [
    "dummy_clf.predict(X)"
   ]
  },
  {
   "cell_type": "code",
   "execution_count": 27,
   "id": "29c8e9d4",
   "metadata": {},
   "outputs": [
    {
     "data": {
      "text/plain": [
       "0.6666666666666666"
      ]
     },
     "execution_count": 27,
     "metadata": {},
     "output_type": "execute_result"
    }
   ],
   "source": [
    "dummy_clf.score(X, y)"
   ]
  },
  {
   "cell_type": "markdown",
   "id": "7c586d10",
   "metadata": {},
   "source": [
    "### Train Test Split "
   ]
  },
  {
   "cell_type": "code",
   "execution_count": 28,
   "id": "f898ed01",
   "metadata": {},
   "outputs": [],
   "source": [
    "from sklearn.model_selection import train_test_split"
   ]
  },
  {
   "cell_type": "code",
   "execution_count": 29,
   "id": "4c46ebc1",
   "metadata": {},
   "outputs": [],
   "source": [
    "X_train, X_test, y_train, y_test = train_test_split(X,\n",
    "                                                    y,\n",
    "                                                    test_size=0.2,\n",
    "                                                    stratify=y,\n",
    "                                                    random_state=42)"
   ]
  },
  {
   "cell_type": "code",
   "execution_count": 30,
   "id": "776a0f48",
   "metadata": {},
   "outputs": [
    {
     "name": "stdout",
     "output_type": "stream",
     "text": [
      "Train Data Shape: ((120, 2), (120,))\n",
      "Test Data Shape: ((30, 2), (30,))\n"
     ]
    }
   ],
   "source": [
    "print(f\"Train Data Shape: {X_train.shape, y_train.shape}\")\n",
    "print(f\"Test Data Shape: {X_test.shape, y_test.shape}\")"
   ]
  },
  {
   "cell_type": "code",
   "execution_count": 31,
   "id": "9f8852ae",
   "metadata": {},
   "outputs": [
    {
     "data": {
      "text/plain": [
       "Non-virginica     80\n",
       "Iris-virginica    40\n",
       "Name: Species, dtype: int64"
      ]
     },
     "execution_count": 31,
     "metadata": {},
     "output_type": "execute_result"
    }
   ],
   "source": [
    "y_train.value_counts()"
   ]
  },
  {
   "cell_type": "code",
   "execution_count": 32,
   "id": "48582b9c",
   "metadata": {},
   "outputs": [
    {
     "data": {
      "text/plain": [
       "Non-virginica     20\n",
       "Iris-virginica    10\n",
       "Name: Species, dtype: int64"
      ]
     },
     "execution_count": 32,
     "metadata": {},
     "output_type": "execute_result"
    }
   ],
   "source": [
    "y_test.value_counts()"
   ]
  },
  {
   "cell_type": "markdown",
   "id": "2915ca4e",
   "metadata": {},
   "source": [
    "### Preprocessing"
   ]
  },
  {
   "cell_type": "code",
   "execution_count": 33,
   "id": "19f96a66",
   "metadata": {},
   "outputs": [
    {
     "data": {
      "text/plain": [
       "Non-virginica     80\n",
       "Iris-virginica    40\n",
       "Name: Species, dtype: int64"
      ]
     },
     "execution_count": 33,
     "metadata": {},
     "output_type": "execute_result"
    }
   ],
   "source": [
    "y_train.value_counts()"
   ]
  },
  {
   "cell_type": "code",
   "execution_count": 34,
   "id": "fc91feea",
   "metadata": {},
   "outputs": [],
   "source": [
    "def convert_class(y_train, y_test, class_name):\n",
    "    y_train = y_train.apply(lambda x: 1 if x == class_name else 0)\n",
    "    y_test = y_test.apply(lambda x: 1 if x == class_name else 0)\n",
    "    \n",
    "    return y_train, y_test"
   ]
  },
  {
   "cell_type": "code",
   "execution_count": 35,
   "id": "c9a3ac72",
   "metadata": {},
   "outputs": [],
   "source": [
    "y_train, y_test = convert_class(y_train=y_train,\n",
    "                                y_test=y_test,\n",
    "                                class_name=\"Iris-virginica\")"
   ]
  },
  {
   "cell_type": "code",
   "execution_count": 36,
   "id": "e4a13d6d",
   "metadata": {},
   "outputs": [
    {
     "data": {
      "text/plain": [
       "0    80\n",
       "1    40\n",
       "Name: Species, dtype: int64"
      ]
     },
     "execution_count": 36,
     "metadata": {},
     "output_type": "execute_result"
    }
   ],
   "source": [
    "y_train.value_counts()"
   ]
  },
  {
   "cell_type": "code",
   "execution_count": 37,
   "id": "ca0c270a",
   "metadata": {},
   "outputs": [
    {
     "data": {
      "text/plain": [
       "0    80\n",
       "1    40\n",
       "Name: Species, dtype: int64"
      ]
     },
     "execution_count": 37,
     "metadata": {},
     "output_type": "execute_result"
    }
   ],
   "source": [
    "y_train.value_counts()"
   ]
  },
  {
   "cell_type": "code",
   "execution_count": 38,
   "id": "1b1dc0c3",
   "metadata": {},
   "outputs": [
    {
     "data": {
      "text/plain": [
       "0    20\n",
       "1    10\n",
       "Name: Species, dtype: int64"
      ]
     },
     "execution_count": 38,
     "metadata": {},
     "output_type": "execute_result"
    }
   ],
   "source": [
    "y_test.value_counts()"
   ]
  },
  {
   "cell_type": "markdown",
   "id": "ac60a8db",
   "metadata": {},
   "source": [
    "### Modelling with Logistic Regression "
   ]
  },
  {
   "cell_type": "code",
   "execution_count": 39,
   "id": "0d1bf098",
   "metadata": {},
   "outputs": [],
   "source": [
    "from sklearn.linear_model import LogisticRegression"
   ]
  },
  {
   "cell_type": "code",
   "execution_count": 40,
   "id": "a3b7ba56",
   "metadata": {},
   "outputs": [],
   "source": [
    "logreg = LogisticRegression()"
   ]
  },
  {
   "cell_type": "code",
   "execution_count": 41,
   "id": "49c339f5",
   "metadata": {},
   "outputs": [
    {
     "data": {
      "text/html": [
       "<style>#sk-container-id-2 {color: black;background-color: white;}#sk-container-id-2 pre{padding: 0;}#sk-container-id-2 div.sk-toggleable {background-color: white;}#sk-container-id-2 label.sk-toggleable__label {cursor: pointer;display: block;width: 100%;margin-bottom: 0;padding: 0.3em;box-sizing: border-box;text-align: center;}#sk-container-id-2 label.sk-toggleable__label-arrow:before {content: \"▸\";float: left;margin-right: 0.25em;color: #696969;}#sk-container-id-2 label.sk-toggleable__label-arrow:hover:before {color: black;}#sk-container-id-2 div.sk-estimator:hover label.sk-toggleable__label-arrow:before {color: black;}#sk-container-id-2 div.sk-toggleable__content {max-height: 0;max-width: 0;overflow: hidden;text-align: left;background-color: #f0f8ff;}#sk-container-id-2 div.sk-toggleable__content pre {margin: 0.2em;color: black;border-radius: 0.25em;background-color: #f0f8ff;}#sk-container-id-2 input.sk-toggleable__control:checked~div.sk-toggleable__content {max-height: 200px;max-width: 100%;overflow: auto;}#sk-container-id-2 input.sk-toggleable__control:checked~label.sk-toggleable__label-arrow:before {content: \"▾\";}#sk-container-id-2 div.sk-estimator input.sk-toggleable__control:checked~label.sk-toggleable__label {background-color: #d4ebff;}#sk-container-id-2 div.sk-label input.sk-toggleable__control:checked~label.sk-toggleable__label {background-color: #d4ebff;}#sk-container-id-2 input.sk-hidden--visually {border: 0;clip: rect(1px 1px 1px 1px);clip: rect(1px, 1px, 1px, 1px);height: 1px;margin: -1px;overflow: hidden;padding: 0;position: absolute;width: 1px;}#sk-container-id-2 div.sk-estimator {font-family: monospace;background-color: #f0f8ff;border: 1px dotted black;border-radius: 0.25em;box-sizing: border-box;margin-bottom: 0.5em;}#sk-container-id-2 div.sk-estimator:hover {background-color: #d4ebff;}#sk-container-id-2 div.sk-parallel-item::after {content: \"\";width: 100%;border-bottom: 1px solid gray;flex-grow: 1;}#sk-container-id-2 div.sk-label:hover label.sk-toggleable__label {background-color: #d4ebff;}#sk-container-id-2 div.sk-serial::before {content: \"\";position: absolute;border-left: 1px solid gray;box-sizing: border-box;top: 0;bottom: 0;left: 50%;z-index: 0;}#sk-container-id-2 div.sk-serial {display: flex;flex-direction: column;align-items: center;background-color: white;padding-right: 0.2em;padding-left: 0.2em;position: relative;}#sk-container-id-2 div.sk-item {position: relative;z-index: 1;}#sk-container-id-2 div.sk-parallel {display: flex;align-items: stretch;justify-content: center;background-color: white;position: relative;}#sk-container-id-2 div.sk-item::before, #sk-container-id-2 div.sk-parallel-item::before {content: \"\";position: absolute;border-left: 1px solid gray;box-sizing: border-box;top: 0;bottom: 0;left: 50%;z-index: -1;}#sk-container-id-2 div.sk-parallel-item {display: flex;flex-direction: column;z-index: 1;position: relative;background-color: white;}#sk-container-id-2 div.sk-parallel-item:first-child::after {align-self: flex-end;width: 50%;}#sk-container-id-2 div.sk-parallel-item:last-child::after {align-self: flex-start;width: 50%;}#sk-container-id-2 div.sk-parallel-item:only-child::after {width: 0;}#sk-container-id-2 div.sk-dashed-wrapped {border: 1px dashed gray;margin: 0 0.4em 0.5em 0.4em;box-sizing: border-box;padding-bottom: 0.4em;background-color: white;}#sk-container-id-2 div.sk-label label {font-family: monospace;font-weight: bold;display: inline-block;line-height: 1.2em;}#sk-container-id-2 div.sk-label-container {text-align: center;}#sk-container-id-2 div.sk-container {/* jupyter's `normalize.less` sets `[hidden] { display: none; }` but bootstrap.min.css set `[hidden] { display: none !important; }` so we also need the `!important` here to be able to override the default hidden behavior on the sphinx rendered scikit-learn.org. See: https://github.com/scikit-learn/scikit-learn/issues/21755 */display: inline-block !important;position: relative;}#sk-container-id-2 div.sk-text-repr-fallback {display: none;}</style><div id=\"sk-container-id-2\" class=\"sk-top-container\"><div class=\"sk-text-repr-fallback\"><pre>LogisticRegression()</pre><b>In a Jupyter environment, please rerun this cell to show the HTML representation or trust the notebook. <br />On GitHub, the HTML representation is unable to render, please try loading this page with nbviewer.org.</b></div><div class=\"sk-container\" hidden><div class=\"sk-item\"><div class=\"sk-estimator sk-toggleable\"><input class=\"sk-toggleable__control sk-hidden--visually\" id=\"sk-estimator-id-2\" type=\"checkbox\" checked><label for=\"sk-estimator-id-2\" class=\"sk-toggleable__label sk-toggleable__label-arrow\">LogisticRegression</label><div class=\"sk-toggleable__content\"><pre>LogisticRegression()</pre></div></div></div></div></div>"
      ],
      "text/plain": [
       "LogisticRegression()"
      ]
     },
     "execution_count": 41,
     "metadata": {},
     "output_type": "execute_result"
    }
   ],
   "source": [
    "logreg.fit(X_train, y_train)"
   ]
  },
  {
   "cell_type": "code",
   "execution_count": 42,
   "id": "6e8f30a0",
   "metadata": {},
   "outputs": [],
   "source": [
    "y_pred_train_proba = logreg.predict_proba(X_train)"
   ]
  },
  {
   "cell_type": "code",
   "execution_count": 43,
   "id": "c8b9f4a6",
   "metadata": {},
   "outputs": [
    {
     "data": {
      "text/plain": [
       "array([[4.99149131e-02, 9.50085087e-01],\n",
       "       [9.27157414e-01, 7.28425863e-02],\n",
       "       [9.78127099e-01, 2.18729013e-02],\n",
       "       [6.48517904e-03, 9.93514821e-01],\n",
       "       [4.76443763e-01, 5.23556237e-01],\n",
       "       [2.91712141e-01, 7.08287859e-01],\n",
       "       [9.99995958e-01, 4.04230193e-06],\n",
       "       [9.99993401e-01, 6.59915191e-06],\n",
       "       [9.99985798e-01, 1.42018564e-05],\n",
       "       [8.92466194e-01, 1.07533806e-01],\n",
       "       [5.10763352e-03, 9.94892366e-01],\n",
       "       [9.99996736e-01, 3.26413720e-06],\n",
       "       [9.76749441e-01, 2.32505589e-02],\n",
       "       [9.99994328e-01, 5.67240160e-06],\n",
       "       [2.78970655e-01, 7.21029345e-01],\n",
       "       [9.99994671e-01, 5.32878252e-06],\n",
       "       [2.46858378e-02, 9.75314162e-01],\n",
       "       [2.93449337e-02, 9.70655066e-01],\n",
       "       [6.75821465e-01, 3.24178535e-01],\n",
       "       [7.98362850e-01, 2.01637150e-01],\n",
       "       [9.99994328e-01, 5.67240160e-06],\n",
       "       [4.54344008e-01, 5.45655992e-01],\n",
       "       [7.45650126e-02, 9.25434987e-01],\n",
       "       [9.99996525e-01, 3.47462098e-06],\n",
       "       [8.47469892e-01, 1.52530108e-01],\n",
       "       [9.99996203e-01, 3.79742960e-06],\n",
       "       [9.99997524e-01, 2.47610434e-06],\n",
       "       [9.85250419e-01, 1.47495807e-02],\n",
       "       [9.99996736e-01, 3.26413720e-06],\n",
       "       [9.99991301e-01, 8.69935431e-06],\n",
       "       [6.69957223e-02, 9.33004278e-01],\n",
       "       [9.69574942e-01, 3.04250580e-02],\n",
       "       [9.99996736e-01, 3.26413720e-06],\n",
       "       [9.99994328e-01, 5.67240160e-06],\n",
       "       [6.61983159e-01, 3.38016841e-01],\n",
       "       [9.43754093e-01, 5.62459070e-02],\n",
       "       [8.08235209e-01, 1.91764791e-01],\n",
       "       [7.02580174e-01, 2.97419826e-01],\n",
       "       [7.83682049e-01, 2.16317951e-01],\n",
       "       [1.07426455e-01, 8.92573545e-01],\n",
       "       [7.45249503e-01, 2.54750497e-01],\n",
       "       [2.26902809e-01, 7.73097191e-01],\n",
       "       [1.85447381e-03, 9.98145526e-01],\n",
       "       [9.99995697e-01, 4.30296447e-06],\n",
       "       [7.81194161e-03, 9.92188058e-01],\n",
       "       [1.10941354e-01, 8.89058646e-01],\n",
       "       [5.95937478e-02, 9.40406252e-01],\n",
       "       [8.64737469e-02, 9.13526253e-01],\n",
       "       [9.99996736e-01, 3.26413720e-06],\n",
       "       [8.79870359e-01, 1.20129641e-01],\n",
       "       [9.06150488e-01, 9.38495115e-02],\n",
       "       [6.72224205e-03, 9.93277758e-01],\n",
       "       [9.99997524e-01, 2.47610434e-06],\n",
       "       [9.99997524e-01, 2.47610434e-06],\n",
       "       [9.99993401e-01, 6.59915191e-06],\n",
       "       [1.52385507e-01, 8.47614493e-01],\n",
       "       [8.55373474e-01, 1.44626526e-01],\n",
       "       [2.46858378e-02, 9.75314162e-01],\n",
       "       [7.83682049e-01, 2.16317951e-01],\n",
       "       [9.99996525e-01, 3.47462098e-06],\n",
       "       [9.40343506e-01, 5.96564945e-02],\n",
       "       [9.99996525e-01, 3.47462098e-06],\n",
       "       [9.99980071e-01, 1.99288189e-05],\n",
       "       [9.99996934e-01, 3.06640396e-06],\n",
       "       [9.98143454e-01, 1.85654642e-03],\n",
       "       [9.00699645e-01, 9.93003555e-02],\n",
       "       [9.96571060e-01, 3.42893977e-03],\n",
       "       [7.20804191e-01, 2.79195809e-01],\n",
       "       [7.70975857e-02, 9.22902414e-01],\n",
       "       [3.87117766e-01, 6.12882234e-01],\n",
       "       [2.18489720e-02, 9.78151028e-01],\n",
       "       [9.99996736e-01, 3.26413720e-06],\n",
       "       [9.56745748e-01, 4.32542525e-02],\n",
       "       [9.99997524e-01, 2.47610434e-06],\n",
       "       [9.99997364e-01, 2.63577295e-06],\n",
       "       [9.99998849e-01, 1.15055987e-06],\n",
       "       [9.99998122e-01, 1.87831919e-06],\n",
       "       [1.76777634e-01, 8.23222366e-01],\n",
       "       [9.99996934e-01, 3.06640396e-06],\n",
       "       [9.99995958e-01, 4.04230193e-06],\n",
       "       [1.34977900e-02, 9.86502210e-01],\n",
       "       [9.99995958e-01, 4.04230193e-06],\n",
       "       [3.73667695e-02, 9.62633231e-01],\n",
       "       [7.33204910e-01, 2.66795090e-01],\n",
       "       [9.99993401e-01, 6.59915191e-06],\n",
       "       [9.99994328e-01, 5.67240160e-06],\n",
       "       [1.81818790e-02, 9.81818121e-01],\n",
       "       [7.83682049e-01, 2.16317951e-01],\n",
       "       [7.20804191e-01, 2.79195809e-01],\n",
       "       [1.52672645e-02, 9.84732736e-01],\n",
       "       [2.38051332e-01, 7.61948668e-01],\n",
       "       [9.94056228e-01, 5.94377208e-03],\n",
       "       [8.55373474e-01, 1.44626526e-01],\n",
       "       [9.43754093e-01, 5.62459070e-02],\n",
       "       [9.99995697e-01, 4.30296447e-06],\n",
       "       [9.99987005e-01, 1.29946088e-05],\n",
       "       [3.02393227e-03, 9.96976068e-01],\n",
       "       [9.64779176e-01, 3.52208238e-02],\n",
       "       [9.89716016e-01, 1.02839843e-02],\n",
       "       [7.83682049e-01, 2.16317951e-01],\n",
       "       [9.99995697e-01, 4.30296447e-06],\n",
       "       [5.16569882e-02, 9.48343012e-01],\n",
       "       [9.99992522e-01, 7.47766479e-06],\n",
       "       [7.83682049e-01, 2.16317951e-01],\n",
       "       [9.94056228e-01, 5.94377208e-03],\n",
       "       [9.99990740e-01, 9.26031799e-06],\n",
       "       [9.06150488e-01, 9.38495115e-02],\n",
       "       [3.87117766e-01, 6.12882234e-01],\n",
       "       [9.99995697e-01, 4.30296447e-06],\n",
       "       [6.27338301e-01, 3.72661699e-01],\n",
       "       [9.99998919e-01, 1.08086171e-06],\n",
       "       [1.44488140e-01, 8.55511860e-01],\n",
       "       [1.07426455e-01, 8.92573545e-01],\n",
       "       [2.05526146e-02, 9.79447385e-01],\n",
       "       [4.08394957e-01, 5.91605043e-01],\n",
       "       [9.73053129e-01, 2.69468706e-02],\n",
       "       [8.36610969e-02, 9.16338903e-01],\n",
       "       [5.45378541e-01, 4.54621459e-01],\n",
       "       [9.96571060e-01, 3.42893977e-03],\n",
       "       [3.51828169e-02, 9.64817183e-01]])"
      ]
     },
     "execution_count": 43,
     "metadata": {},
     "output_type": "execute_result"
    }
   ],
   "source": [
    "y_pred_train_proba"
   ]
  },
  {
   "cell_type": "code",
   "execution_count": 44,
   "id": "e111648b",
   "metadata": {},
   "outputs": [],
   "source": [
    "y_pred_train = logreg.predict(X_train)"
   ]
  },
  {
   "cell_type": "code",
   "execution_count": 45,
   "id": "de5da4df",
   "metadata": {},
   "outputs": [
    {
     "data": {
      "text/plain": [
       "array([1, 0, 0, 1, 1, 1, 0, 0, 0, 0, 1, 0, 0, 0, 1, 0, 1, 1, 0, 0, 0, 1,\n",
       "       1, 0, 0, 0, 0, 0, 0, 0, 1, 0, 0, 0, 0, 0, 0, 0, 0, 1, 0, 1, 1, 0,\n",
       "       1, 1, 1, 1, 0, 0, 0, 1, 0, 0, 0, 1, 0, 1, 0, 0, 0, 0, 0, 0, 0, 0,\n",
       "       0, 0, 1, 1, 1, 0, 0, 0, 0, 0, 0, 1, 0, 0, 1, 0, 1, 0, 0, 0, 1, 0,\n",
       "       0, 1, 1, 0, 0, 0, 0, 0, 1, 0, 0, 0, 0, 1, 0, 0, 0, 0, 0, 1, 0, 0,\n",
       "       0, 1, 1, 1, 1, 0, 1, 0, 0, 1])"
      ]
     },
     "execution_count": 45,
     "metadata": {},
     "output_type": "execute_result"
    }
   ],
   "source": [
    "y_pred_train"
   ]
  },
  {
   "cell_type": "code",
   "execution_count": 46,
   "id": "518c1712",
   "metadata": {},
   "outputs": [],
   "source": [
    "from sklearn.metrics import accuracy_score\n",
    "from sklearn.metrics import confusion_matrix\n",
    "from sklearn.metrics import classification_report"
   ]
  },
  {
   "cell_type": "code",
   "execution_count": 47,
   "id": "1be1e503",
   "metadata": {},
   "outputs": [
    {
     "data": {
      "text/plain": [
       "0.9916666666666667"
      ]
     },
     "execution_count": 47,
     "metadata": {},
     "output_type": "execute_result"
    }
   ],
   "source": [
    "acc_train = accuracy_score(y_train, y_pred_train)\n",
    "acc_train"
   ]
  },
  {
   "cell_type": "markdown",
   "id": "260e076d",
   "metadata": {},
   "source": [
    "Precision Recall, dll pelajari lagi"
   ]
  },
  {
   "cell_type": "code",
   "execution_count": 48,
   "id": "1c317503",
   "metadata": {},
   "outputs": [
    {
     "name": "stdout",
     "output_type": "stream",
     "text": [
      "              precision    recall  f1-score   support\n",
      "\n",
      "           0       0.99      1.00      0.99        80\n",
      "           1       1.00      0.97      0.99        40\n",
      "\n",
      "    accuracy                           0.99       120\n",
      "   macro avg       0.99      0.99      0.99       120\n",
      "weighted avg       0.99      0.99      0.99       120\n",
      "\n"
     ]
    }
   ],
   "source": [
    "print(classification_report(y_train, y_pred_train))"
   ]
  },
  {
   "cell_type": "code",
   "execution_count": 49,
   "id": "c57f7d61",
   "metadata": {},
   "outputs": [],
   "source": [
    "y_pred_test_proba = logreg.predict_proba(X_test)"
   ]
  },
  {
   "cell_type": "code",
   "execution_count": 50,
   "id": "f8c6059c",
   "metadata": {},
   "outputs": [
    {
     "data": {
      "text/plain": [
       "array([[9.99996525e-01, 3.47462098e-06],\n",
       "       [9.56745748e-01, 4.32542525e-02],\n",
       "       [9.59259239e-01, 4.07407610e-02],\n",
       "       [2.26902809e-01, 7.73097191e-01],\n",
       "       [9.99996736e-01, 3.26413720e-06],\n",
       "       [9.99995697e-01, 4.30296447e-06],\n",
       "       [9.27157414e-01, 7.28425863e-02],\n",
       "       [4.54344008e-01, 5.45655992e-01],\n",
       "       [4.54344008e-01, 5.45655992e-01],\n",
       "       [9.99995697e-01, 4.30296447e-06],\n",
       "       [1.30249174e-02, 9.86975083e-01],\n",
       "       [9.15394774e-02, 9.08460523e-01],\n",
       "       [2.66576238e-01, 7.33423762e-01],\n",
       "       [9.99996736e-01, 3.26413720e-06],\n",
       "       [9.99986658e-01, 1.33415524e-05],\n",
       "       [8.62564892e-04, 9.99137435e-01],\n",
       "       [3.72400112e-01, 6.27599888e-01],\n",
       "       [4.58663920e-02, 9.54133608e-01],\n",
       "       [9.56745748e-01, 4.32542525e-02],\n",
       "       [2.32251582e-02, 9.76774842e-01],\n",
       "       [9.99988532e-01, 1.14679456e-05],\n",
       "       [5.45378541e-01, 4.54621459e-01],\n",
       "       [1.91591403e-01, 8.08408597e-01],\n",
       "       [2.84126995e-03, 9.97158730e-01],\n",
       "       [9.83319618e-01, 1.66803823e-02],\n",
       "       [9.99994328e-01, 5.67240160e-06],\n",
       "       [7.72900825e-01, 2.27099175e-01],\n",
       "       [9.99996736e-01, 3.26413720e-06],\n",
       "       [3.57915236e-01, 6.42084764e-01],\n",
       "       [9.99998122e-01, 1.87831919e-06]])"
      ]
     },
     "execution_count": 50,
     "metadata": {},
     "output_type": "execute_result"
    }
   ],
   "source": [
    "y_pred_test_proba"
   ]
  },
  {
   "cell_type": "code",
   "execution_count": 51,
   "id": "5428e5c5",
   "metadata": {},
   "outputs": [],
   "source": [
    "y_pred_test = logreg.predict(X_test)"
   ]
  },
  {
   "cell_type": "code",
   "execution_count": 52,
   "id": "9d7e9a8d",
   "metadata": {},
   "outputs": [
    {
     "data": {
      "text/plain": [
       "array([0, 0, 0, 1, 0, 0, 0, 1, 1, 0, 1, 1, 1, 0, 0, 1, 1, 1, 0, 1, 0, 0,\n",
       "       1, 1, 0, 0, 0, 0, 1, 0])"
      ]
     },
     "execution_count": 52,
     "metadata": {},
     "output_type": "execute_result"
    }
   ],
   "source": [
    "y_pred_test"
   ]
  },
  {
   "cell_type": "code",
   "execution_count": 53,
   "id": "c32b7408",
   "metadata": {},
   "outputs": [
    {
     "data": {
      "text/plain": [
       "0.9"
      ]
     },
     "execution_count": 53,
     "metadata": {},
     "output_type": "execute_result"
    }
   ],
   "source": [
    "acc_test = accuracy_score(y_test, y_pred_test)\n",
    "acc_test"
   ]
  },
  {
   "cell_type": "code",
   "execution_count": 54,
   "id": "2ab2effd",
   "metadata": {},
   "outputs": [
    {
     "name": "stdout",
     "output_type": "stream",
     "text": [
      "              precision    recall  f1-score   support\n",
      "\n",
      "           0       1.00      0.85      0.92        20\n",
      "           1       0.77      1.00      0.87        10\n",
      "\n",
      "    accuracy                           0.90        30\n",
      "   macro avg       0.88      0.93      0.89        30\n",
      "weighted avg       0.92      0.90      0.90        30\n",
      "\n"
     ]
    }
   ],
   "source": [
    "print(classification_report(y_test, y_pred_test))"
   ]
  }
 ],
 "metadata": {
  "kernelspec": {
   "display_name": "Python 3 (ipykernel)",
   "language": "python",
   "name": "python3"
  },
  "language_info": {
   "codemirror_mode": {
    "name": "ipython",
    "version": 3
   },
   "file_extension": ".py",
   "mimetype": "text/x-python",
   "name": "python",
   "nbconvert_exporter": "python",
   "pygments_lexer": "ipython3",
   "version": "3.10.8"
  }
 },
 "nbformat": 4,
 "nbformat_minor": 5
}
