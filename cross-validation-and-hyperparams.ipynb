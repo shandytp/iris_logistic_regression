{
 "cells": [
  {
   "cell_type": "markdown",
   "id": "5dac679e",
   "metadata": {},
   "source": [
    "Referensi: https://www.kaggle.com/code/abdokamr/cross-validation-hyperparameters-tuning\n",
    "\n",
    "## TODO BESOK:\n",
    "- Pake dataset yang agak besar, biar keliatan signifikan perbedaannya\n",
    "\n",
    "**Flow nya:**\n",
    "- Gather data\n",
    "- Preprocess Data\n",
    "- Baseline model\n",
    "- Basic Model Logistic Regression\n",
    "- Cross validation\n",
    "- Cross Validation + Hyperparameter Tuning"
   ]
  },
  {
   "cell_type": "code",
   "execution_count": 80,
   "id": "4d119205",
   "metadata": {},
   "outputs": [],
   "source": [
    "import pandas as pd\n",
    "import numpy as np\n",
    "import matplotlib.pyplot as plt\n",
    "import seaborn as sns\n",
    "import warnings as wrn\n",
    "wrn.filterwarnings(\"ignore\")"
   ]
  },
  {
   "cell_type": "markdown",
   "id": "2d9a851e",
   "metadata": {},
   "source": [
    "### Read Data"
   ]
  },
  {
   "cell_type": "code",
   "execution_count": 2,
   "id": "c64f62f8",
   "metadata": {},
   "outputs": [],
   "source": [
    "data = pd.read_csv('Iris.csv')"
   ]
  },
  {
   "cell_type": "code",
   "execution_count": 3,
   "id": "48d2c58f",
   "metadata": {},
   "outputs": [
    {
     "data": {
      "text/html": [
       "<div>\n",
       "<style scoped>\n",
       "    .dataframe tbody tr th:only-of-type {\n",
       "        vertical-align: middle;\n",
       "    }\n",
       "\n",
       "    .dataframe tbody tr th {\n",
       "        vertical-align: top;\n",
       "    }\n",
       "\n",
       "    .dataframe thead th {\n",
       "        text-align: right;\n",
       "    }\n",
       "</style>\n",
       "<table border=\"1\" class=\"dataframe\">\n",
       "  <thead>\n",
       "    <tr style=\"text-align: right;\">\n",
       "      <th></th>\n",
       "      <th>Id</th>\n",
       "      <th>SepalLengthCm</th>\n",
       "      <th>SepalWidthCm</th>\n",
       "      <th>PetalLengthCm</th>\n",
       "      <th>PetalWidthCm</th>\n",
       "      <th>Species</th>\n",
       "    </tr>\n",
       "  </thead>\n",
       "  <tbody>\n",
       "    <tr>\n",
       "      <th>0</th>\n",
       "      <td>1</td>\n",
       "      <td>5.1</td>\n",
       "      <td>3.5</td>\n",
       "      <td>1.4</td>\n",
       "      <td>0.2</td>\n",
       "      <td>Iris-setosa</td>\n",
       "    </tr>\n",
       "    <tr>\n",
       "      <th>1</th>\n",
       "      <td>2</td>\n",
       "      <td>4.9</td>\n",
       "      <td>3.0</td>\n",
       "      <td>1.4</td>\n",
       "      <td>0.2</td>\n",
       "      <td>Iris-setosa</td>\n",
       "    </tr>\n",
       "    <tr>\n",
       "      <th>2</th>\n",
       "      <td>3</td>\n",
       "      <td>4.7</td>\n",
       "      <td>3.2</td>\n",
       "      <td>1.3</td>\n",
       "      <td>0.2</td>\n",
       "      <td>Iris-setosa</td>\n",
       "    </tr>\n",
       "    <tr>\n",
       "      <th>3</th>\n",
       "      <td>4</td>\n",
       "      <td>4.6</td>\n",
       "      <td>3.1</td>\n",
       "      <td>1.5</td>\n",
       "      <td>0.2</td>\n",
       "      <td>Iris-setosa</td>\n",
       "    </tr>\n",
       "    <tr>\n",
       "      <th>4</th>\n",
       "      <td>5</td>\n",
       "      <td>5.0</td>\n",
       "      <td>3.6</td>\n",
       "      <td>1.4</td>\n",
       "      <td>0.2</td>\n",
       "      <td>Iris-setosa</td>\n",
       "    </tr>\n",
       "  </tbody>\n",
       "</table>\n",
       "</div>"
      ],
      "text/plain": [
       "   Id  SepalLengthCm  SepalWidthCm  PetalLengthCm  PetalWidthCm      Species\n",
       "0   1            5.1           3.5            1.4           0.2  Iris-setosa\n",
       "1   2            4.9           3.0            1.4           0.2  Iris-setosa\n",
       "2   3            4.7           3.2            1.3           0.2  Iris-setosa\n",
       "3   4            4.6           3.1            1.5           0.2  Iris-setosa\n",
       "4   5            5.0           3.6            1.4           0.2  Iris-setosa"
      ]
     },
     "execution_count": 3,
     "metadata": {},
     "output_type": "execute_result"
    }
   ],
   "source": [
    "data.head()"
   ]
  },
  {
   "cell_type": "code",
   "execution_count": 4,
   "id": "0004c361",
   "metadata": {},
   "outputs": [
    {
     "name": "stderr",
     "output_type": "stream",
     "text": [
      "/tmp/ipykernel_28852/2627137660.py:1: FutureWarning: The default value of numeric_only in DataFrame.corr is deprecated. In a future version, it will default to False. Select only valid columns or specify the value of numeric_only to silence this warning.\n",
      "  data.corr()\n"
     ]
    },
    {
     "data": {
      "text/html": [
       "<div>\n",
       "<style scoped>\n",
       "    .dataframe tbody tr th:only-of-type {\n",
       "        vertical-align: middle;\n",
       "    }\n",
       "\n",
       "    .dataframe tbody tr th {\n",
       "        vertical-align: top;\n",
       "    }\n",
       "\n",
       "    .dataframe thead th {\n",
       "        text-align: right;\n",
       "    }\n",
       "</style>\n",
       "<table border=\"1\" class=\"dataframe\">\n",
       "  <thead>\n",
       "    <tr style=\"text-align: right;\">\n",
       "      <th></th>\n",
       "      <th>Id</th>\n",
       "      <th>SepalLengthCm</th>\n",
       "      <th>SepalWidthCm</th>\n",
       "      <th>PetalLengthCm</th>\n",
       "      <th>PetalWidthCm</th>\n",
       "    </tr>\n",
       "  </thead>\n",
       "  <tbody>\n",
       "    <tr>\n",
       "      <th>Id</th>\n",
       "      <td>1.000000</td>\n",
       "      <td>0.716676</td>\n",
       "      <td>-0.397729</td>\n",
       "      <td>0.882747</td>\n",
       "      <td>0.899759</td>\n",
       "    </tr>\n",
       "    <tr>\n",
       "      <th>SepalLengthCm</th>\n",
       "      <td>0.716676</td>\n",
       "      <td>1.000000</td>\n",
       "      <td>-0.109369</td>\n",
       "      <td>0.871754</td>\n",
       "      <td>0.817954</td>\n",
       "    </tr>\n",
       "    <tr>\n",
       "      <th>SepalWidthCm</th>\n",
       "      <td>-0.397729</td>\n",
       "      <td>-0.109369</td>\n",
       "      <td>1.000000</td>\n",
       "      <td>-0.420516</td>\n",
       "      <td>-0.356544</td>\n",
       "    </tr>\n",
       "    <tr>\n",
       "      <th>PetalLengthCm</th>\n",
       "      <td>0.882747</td>\n",
       "      <td>0.871754</td>\n",
       "      <td>-0.420516</td>\n",
       "      <td>1.000000</td>\n",
       "      <td>0.962757</td>\n",
       "    </tr>\n",
       "    <tr>\n",
       "      <th>PetalWidthCm</th>\n",
       "      <td>0.899759</td>\n",
       "      <td>0.817954</td>\n",
       "      <td>-0.356544</td>\n",
       "      <td>0.962757</td>\n",
       "      <td>1.000000</td>\n",
       "    </tr>\n",
       "  </tbody>\n",
       "</table>\n",
       "</div>"
      ],
      "text/plain": [
       "                     Id  SepalLengthCm  SepalWidthCm  PetalLengthCm  \\\n",
       "Id             1.000000       0.716676     -0.397729       0.882747   \n",
       "SepalLengthCm  0.716676       1.000000     -0.109369       0.871754   \n",
       "SepalWidthCm  -0.397729      -0.109369      1.000000      -0.420516   \n",
       "PetalLengthCm  0.882747       0.871754     -0.420516       1.000000   \n",
       "PetalWidthCm   0.899759       0.817954     -0.356544       0.962757   \n",
       "\n",
       "               PetalWidthCm  \n",
       "Id                 0.899759  \n",
       "SepalLengthCm      0.817954  \n",
       "SepalWidthCm      -0.356544  \n",
       "PetalLengthCm      0.962757  \n",
       "PetalWidthCm       1.000000  "
      ]
     },
     "execution_count": 4,
     "metadata": {},
     "output_type": "execute_result"
    }
   ],
   "source": [
    "data.corr()"
   ]
  },
  {
   "cell_type": "markdown",
   "id": "f79d8e73",
   "metadata": {},
   "source": [
    "### Only using 2 variables\n",
    "\n",
    "Drop `SepalLengthCm` and `SepalWidthCm` cols"
   ]
  },
  {
   "cell_type": "code",
   "execution_count": 5,
   "id": "62529161",
   "metadata": {},
   "outputs": [],
   "source": [
    "DROP_COLS = [\"Id\", \"SepalLengthCm\", \"SepalWidthCm\"]"
   ]
  },
  {
   "cell_type": "code",
   "execution_count": 6,
   "id": "1e3041b6",
   "metadata": {},
   "outputs": [],
   "source": [
    "def drop_columns(cols_name):\n",
    "    data.drop(cols_name, axis=1, inplace=True)"
   ]
  },
  {
   "cell_type": "code",
   "execution_count": 7,
   "id": "00149e71",
   "metadata": {},
   "outputs": [],
   "source": [
    "drop_columns(DROP_COLS)"
   ]
  },
  {
   "cell_type": "code",
   "execution_count": 8,
   "id": "e9fc75d2",
   "metadata": {},
   "outputs": [
    {
     "data": {
      "text/html": [
       "<div>\n",
       "<style scoped>\n",
       "    .dataframe tbody tr th:only-of-type {\n",
       "        vertical-align: middle;\n",
       "    }\n",
       "\n",
       "    .dataframe tbody tr th {\n",
       "        vertical-align: top;\n",
       "    }\n",
       "\n",
       "    .dataframe thead th {\n",
       "        text-align: right;\n",
       "    }\n",
       "</style>\n",
       "<table border=\"1\" class=\"dataframe\">\n",
       "  <thead>\n",
       "    <tr style=\"text-align: right;\">\n",
       "      <th></th>\n",
       "      <th>PetalLengthCm</th>\n",
       "      <th>PetalWidthCm</th>\n",
       "      <th>Species</th>\n",
       "    </tr>\n",
       "  </thead>\n",
       "  <tbody>\n",
       "    <tr>\n",
       "      <th>0</th>\n",
       "      <td>1.4</td>\n",
       "      <td>0.2</td>\n",
       "      <td>Iris-setosa</td>\n",
       "    </tr>\n",
       "    <tr>\n",
       "      <th>1</th>\n",
       "      <td>1.4</td>\n",
       "      <td>0.2</td>\n",
       "      <td>Iris-setosa</td>\n",
       "    </tr>\n",
       "    <tr>\n",
       "      <th>2</th>\n",
       "      <td>1.3</td>\n",
       "      <td>0.2</td>\n",
       "      <td>Iris-setosa</td>\n",
       "    </tr>\n",
       "    <tr>\n",
       "      <th>3</th>\n",
       "      <td>1.5</td>\n",
       "      <td>0.2</td>\n",
       "      <td>Iris-setosa</td>\n",
       "    </tr>\n",
       "    <tr>\n",
       "      <th>4</th>\n",
       "      <td>1.4</td>\n",
       "      <td>0.2</td>\n",
       "      <td>Iris-setosa</td>\n",
       "    </tr>\n",
       "  </tbody>\n",
       "</table>\n",
       "</div>"
      ],
      "text/plain": [
       "   PetalLengthCm  PetalWidthCm      Species\n",
       "0            1.4           0.2  Iris-setosa\n",
       "1            1.4           0.2  Iris-setosa\n",
       "2            1.3           0.2  Iris-setosa\n",
       "3            1.5           0.2  Iris-setosa\n",
       "4            1.4           0.2  Iris-setosa"
      ]
     },
     "execution_count": 8,
     "metadata": {},
     "output_type": "execute_result"
    }
   ],
   "source": [
    "data.head()"
   ]
  },
  {
   "cell_type": "code",
   "execution_count": 9,
   "id": "424ac6e7",
   "metadata": {},
   "outputs": [
    {
     "data": {
      "text/plain": [
       "Iris-setosa        50\n",
       "Iris-versicolor    50\n",
       "Iris-virginica     50\n",
       "Name: Species, dtype: int64"
      ]
     },
     "execution_count": 9,
     "metadata": {},
     "output_type": "execute_result"
    }
   ],
   "source": [
    "data['Species'].value_counts()"
   ]
  },
  {
   "cell_type": "markdown",
   "id": "fe54a296",
   "metadata": {},
   "source": [
    "### Only Pick Virginica\n",
    "\n",
    "Nanti sisa nya akan di convert jadi Non-Virginica"
   ]
  },
  {
   "cell_type": "code",
   "execution_count": 10,
   "id": "af27162b",
   "metadata": {},
   "outputs": [
    {
     "name": "stderr",
     "output_type": "stream",
     "text": [
      "/tmp/ipykernel_28852/4184929900.py:1: SettingWithCopyWarning: \n",
      "A value is trying to be set on a copy of a slice from a DataFrame\n",
      "\n",
      "See the caveats in the documentation: https://pandas.pydata.org/pandas-docs/stable/user_guide/indexing.html#returning-a-view-versus-a-copy\n",
      "  data[\"Species\"][data[\"Species\"] != \"Iris-virginica\"] = \"Non-virginica\"\n"
     ]
    }
   ],
   "source": [
    "data[\"Species\"][data[\"Species\"] != \"Iris-virginica\"] = \"Non-virginica\""
   ]
  },
  {
   "cell_type": "code",
   "execution_count": 11,
   "id": "ed0fcd7c",
   "metadata": {},
   "outputs": [
    {
     "data": {
      "text/html": [
       "<div>\n",
       "<style scoped>\n",
       "    .dataframe tbody tr th:only-of-type {\n",
       "        vertical-align: middle;\n",
       "    }\n",
       "\n",
       "    .dataframe tbody tr th {\n",
       "        vertical-align: top;\n",
       "    }\n",
       "\n",
       "    .dataframe thead th {\n",
       "        text-align: right;\n",
       "    }\n",
       "</style>\n",
       "<table border=\"1\" class=\"dataframe\">\n",
       "  <thead>\n",
       "    <tr style=\"text-align: right;\">\n",
       "      <th></th>\n",
       "      <th>PetalLengthCm</th>\n",
       "      <th>PetalWidthCm</th>\n",
       "      <th>Species</th>\n",
       "    </tr>\n",
       "  </thead>\n",
       "  <tbody>\n",
       "    <tr>\n",
       "      <th>0</th>\n",
       "      <td>1.4</td>\n",
       "      <td>0.2</td>\n",
       "      <td>Non-virginica</td>\n",
       "    </tr>\n",
       "    <tr>\n",
       "      <th>1</th>\n",
       "      <td>1.4</td>\n",
       "      <td>0.2</td>\n",
       "      <td>Non-virginica</td>\n",
       "    </tr>\n",
       "    <tr>\n",
       "      <th>2</th>\n",
       "      <td>1.3</td>\n",
       "      <td>0.2</td>\n",
       "      <td>Non-virginica</td>\n",
       "    </tr>\n",
       "    <tr>\n",
       "      <th>3</th>\n",
       "      <td>1.5</td>\n",
       "      <td>0.2</td>\n",
       "      <td>Non-virginica</td>\n",
       "    </tr>\n",
       "    <tr>\n",
       "      <th>4</th>\n",
       "      <td>1.4</td>\n",
       "      <td>0.2</td>\n",
       "      <td>Non-virginica</td>\n",
       "    </tr>\n",
       "    <tr>\n",
       "      <th>...</th>\n",
       "      <td>...</td>\n",
       "      <td>...</td>\n",
       "      <td>...</td>\n",
       "    </tr>\n",
       "    <tr>\n",
       "      <th>145</th>\n",
       "      <td>5.2</td>\n",
       "      <td>2.3</td>\n",
       "      <td>Iris-virginica</td>\n",
       "    </tr>\n",
       "    <tr>\n",
       "      <th>146</th>\n",
       "      <td>5.0</td>\n",
       "      <td>1.9</td>\n",
       "      <td>Iris-virginica</td>\n",
       "    </tr>\n",
       "    <tr>\n",
       "      <th>147</th>\n",
       "      <td>5.2</td>\n",
       "      <td>2.0</td>\n",
       "      <td>Iris-virginica</td>\n",
       "    </tr>\n",
       "    <tr>\n",
       "      <th>148</th>\n",
       "      <td>5.4</td>\n",
       "      <td>2.3</td>\n",
       "      <td>Iris-virginica</td>\n",
       "    </tr>\n",
       "    <tr>\n",
       "      <th>149</th>\n",
       "      <td>5.1</td>\n",
       "      <td>1.8</td>\n",
       "      <td>Iris-virginica</td>\n",
       "    </tr>\n",
       "  </tbody>\n",
       "</table>\n",
       "<p>150 rows × 3 columns</p>\n",
       "</div>"
      ],
      "text/plain": [
       "     PetalLengthCm  PetalWidthCm         Species\n",
       "0              1.4           0.2   Non-virginica\n",
       "1              1.4           0.2   Non-virginica\n",
       "2              1.3           0.2   Non-virginica\n",
       "3              1.5           0.2   Non-virginica\n",
       "4              1.4           0.2   Non-virginica\n",
       "..             ...           ...             ...\n",
       "145            5.2           2.3  Iris-virginica\n",
       "146            5.0           1.9  Iris-virginica\n",
       "147            5.2           2.0  Iris-virginica\n",
       "148            5.4           2.3  Iris-virginica\n",
       "149            5.1           1.8  Iris-virginica\n",
       "\n",
       "[150 rows x 3 columns]"
      ]
     },
     "execution_count": 11,
     "metadata": {},
     "output_type": "execute_result"
    }
   ],
   "source": [
    "data"
   ]
  },
  {
   "cell_type": "code",
   "execution_count": 12,
   "id": "13b2bb27",
   "metadata": {
    "scrolled": true
   },
   "outputs": [
    {
     "data": {
      "text/plain": [
       "Non-virginica     100\n",
       "Iris-virginica     50\n",
       "Name: Species, dtype: int64"
      ]
     },
     "execution_count": 12,
     "metadata": {},
     "output_type": "execute_result"
    }
   ],
   "source": [
    "data[\"Species\"].value_counts()"
   ]
  },
  {
   "cell_type": "markdown",
   "id": "ec006c9f",
   "metadata": {},
   "source": [
    "### Create Visualization"
   ]
  },
  {
   "cell_type": "code",
   "execution_count": 13,
   "id": "d574285e",
   "metadata": {},
   "outputs": [
    {
     "data": {
      "image/png": "[encoded data removed]",
      "text/plain": [
       "<Figure size 1200x900 with 1 Axes>"
      ]
     },
     "metadata": {},
     "output_type": "display_data"
    }
   ],
   "source": [
    "plt.figure(figsize=(12, 9))\n",
    "sns.scatterplot(data=data,\n",
    "                x=\"PetalLengthCm\",\n",
    "                y=\"PetalWidthCm\",\n",
    "                hue=\"Species\")\n",
    "\n",
    "plt.show()"
   ]
  },
  {
   "cell_type": "markdown",
   "id": "28835024",
   "metadata": {},
   "source": [
    "### Split Input Output "
   ]
  },
  {
   "cell_type": "code",
   "execution_count": 14,
   "id": "93901f14",
   "metadata": {},
   "outputs": [],
   "source": [
    "def split_input_output(data, output_col):\n",
    "    X = data.drop(columns=output_col)\n",
    "    y = data[output_col]\n",
    "    \n",
    "    return X, y"
   ]
  },
  {
   "cell_type": "code",
   "execution_count": 15,
   "id": "224495af",
   "metadata": {},
   "outputs": [],
   "source": [
    "X, y = split_input_output(data=data,\n",
    "                          output_col=\"Species\")"
   ]
  },
  {
   "cell_type": "code",
   "execution_count": 16,
   "id": "0b6c7f18",
   "metadata": {},
   "outputs": [
    {
     "data": {
      "text/html": [
       "<div>\n",
       "<style scoped>\n",
       "    .dataframe tbody tr th:only-of-type {\n",
       "        vertical-align: middle;\n",
       "    }\n",
       "\n",
       "    .dataframe tbody tr th {\n",
       "        vertical-align: top;\n",
       "    }\n",
       "\n",
       "    .dataframe thead th {\n",
       "        text-align: right;\n",
       "    }\n",
       "</style>\n",
       "<table border=\"1\" class=\"dataframe\">\n",
       "  <thead>\n",
       "    <tr style=\"text-align: right;\">\n",
       "      <th></th>\n",
       "      <th>PetalLengthCm</th>\n",
       "      <th>PetalWidthCm</th>\n",
       "    </tr>\n",
       "  </thead>\n",
       "  <tbody>\n",
       "    <tr>\n",
       "      <th>0</th>\n",
       "      <td>1.4</td>\n",
       "      <td>0.2</td>\n",
       "    </tr>\n",
       "    <tr>\n",
       "      <th>1</th>\n",
       "      <td>1.4</td>\n",
       "      <td>0.2</td>\n",
       "    </tr>\n",
       "    <tr>\n",
       "      <th>2</th>\n",
       "      <td>1.3</td>\n",
       "      <td>0.2</td>\n",
       "    </tr>\n",
       "    <tr>\n",
       "      <th>3</th>\n",
       "      <td>1.5</td>\n",
       "      <td>0.2</td>\n",
       "    </tr>\n",
       "    <tr>\n",
       "      <th>4</th>\n",
       "      <td>1.4</td>\n",
       "      <td>0.2</td>\n",
       "    </tr>\n",
       "  </tbody>\n",
       "</table>\n",
       "</div>"
      ],
      "text/plain": [
       "   PetalLengthCm  PetalWidthCm\n",
       "0            1.4           0.2\n",
       "1            1.4           0.2\n",
       "2            1.3           0.2\n",
       "3            1.5           0.2\n",
       "4            1.4           0.2"
      ]
     },
     "execution_count": 16,
     "metadata": {},
     "output_type": "execute_result"
    }
   ],
   "source": [
    "X.head()"
   ]
  },
  {
   "cell_type": "code",
   "execution_count": 17,
   "id": "64224b9d",
   "metadata": {},
   "outputs": [
    {
     "data": {
      "text/plain": [
       "(150, 2)"
      ]
     },
     "execution_count": 17,
     "metadata": {},
     "output_type": "execute_result"
    }
   ],
   "source": [
    "X.shape"
   ]
  },
  {
   "cell_type": "code",
   "execution_count": 18,
   "id": "a8770b02",
   "metadata": {},
   "outputs": [
    {
     "data": {
      "text/plain": [
       "0    Non-virginica\n",
       "1    Non-virginica\n",
       "2    Non-virginica\n",
       "3    Non-virginica\n",
       "4    Non-virginica\n",
       "Name: Species, dtype: object"
      ]
     },
     "execution_count": 18,
     "metadata": {},
     "output_type": "execute_result"
    }
   ],
   "source": [
    "y.head()"
   ]
  },
  {
   "cell_type": "code",
   "execution_count": 19,
   "id": "dd387bf3",
   "metadata": {},
   "outputs": [
    {
     "data": {
      "text/plain": [
       "(150,)"
      ]
     },
     "execution_count": 19,
     "metadata": {},
     "output_type": "execute_result"
    }
   ],
   "source": [
    "y.shape"
   ]
  },
  {
   "cell_type": "code",
   "execution_count": 20,
   "id": "dda74e24",
   "metadata": {},
   "outputs": [
    {
     "data": {
      "text/plain": [
       "Non-virginica     100\n",
       "Iris-virginica     50\n",
       "Name: Species, dtype: int64"
      ]
     },
     "execution_count": 20,
     "metadata": {},
     "output_type": "execute_result"
    }
   ],
   "source": [
    "y.value_counts()"
   ]
  },
  {
   "cell_type": "markdown",
   "id": "7c586d10",
   "metadata": {},
   "source": [
    "### Train Test Split "
   ]
  },
  {
   "cell_type": "code",
   "execution_count": 21,
   "id": "f898ed01",
   "metadata": {},
   "outputs": [],
   "source": [
    "from sklearn.model_selection import train_test_split"
   ]
  },
  {
   "cell_type": "code",
   "execution_count": 22,
   "id": "4c46ebc1",
   "metadata": {},
   "outputs": [],
   "source": [
    "X_train, X_test, y_train, y_test = train_test_split(X,\n",
    "                                                    y,\n",
    "                                                    test_size=0.2,\n",
    "                                                    stratify=y,\n",
    "                                                    random_state=42)"
   ]
  },
  {
   "cell_type": "code",
   "execution_count": 23,
   "id": "776a0f48",
   "metadata": {},
   "outputs": [
    {
     "name": "stdout",
     "output_type": "stream",
     "text": [
      "Train Data Shape: ((120, 2), (120,))\n",
      "Test Data Shape: ((30, 2), (30,))\n"
     ]
    }
   ],
   "source": [
    "print(f\"Train Data Shape: {X_train.shape, y_train.shape}\")\n",
    "print(f\"Test Data Shape: {X_test.shape, y_test.shape}\")"
   ]
  },
  {
   "cell_type": "code",
   "execution_count": 24,
   "id": "9f8852ae",
   "metadata": {},
   "outputs": [
    {
     "data": {
      "text/plain": [
       "Non-virginica     80\n",
       "Iris-virginica    40\n",
       "Name: Species, dtype: int64"
      ]
     },
     "execution_count": 24,
     "metadata": {},
     "output_type": "execute_result"
    }
   ],
   "source": [
    "y_train.value_counts()"
   ]
  },
  {
   "cell_type": "code",
   "execution_count": 25,
   "id": "48582b9c",
   "metadata": {},
   "outputs": [
    {
     "data": {
      "text/plain": [
       "Non-virginica     20\n",
       "Iris-virginica    10\n",
       "Name: Species, dtype: int64"
      ]
     },
     "execution_count": 25,
     "metadata": {},
     "output_type": "execute_result"
    }
   ],
   "source": [
    "y_test.value_counts()"
   ]
  },
  {
   "cell_type": "markdown",
   "id": "2915ca4e",
   "metadata": {},
   "source": [
    "### Preprocessing"
   ]
  },
  {
   "cell_type": "code",
   "execution_count": 26,
   "id": "19f96a66",
   "metadata": {},
   "outputs": [
    {
     "data": {
      "text/plain": [
       "Non-virginica     80\n",
       "Iris-virginica    40\n",
       "Name: Species, dtype: int64"
      ]
     },
     "execution_count": 26,
     "metadata": {},
     "output_type": "execute_result"
    }
   ],
   "source": [
    "y_train.value_counts()"
   ]
  },
  {
   "cell_type": "code",
   "execution_count": 27,
   "id": "fc91feea",
   "metadata": {},
   "outputs": [],
   "source": [
    "def convert_class(y_train, y_test, class_name):\n",
    "    y_train = y_train.apply(lambda x: 1 if x == class_name else 0)\n",
    "    y_test = y_test.apply(lambda x: 1 if x == class_name else 0)\n",
    "    \n",
    "    return y_train, y_test"
   ]
  },
  {
   "cell_type": "code",
   "execution_count": 28,
   "id": "c9a3ac72",
   "metadata": {},
   "outputs": [],
   "source": [
    "y_train, y_test = convert_class(y_train=y_train,\n",
    "                                y_test=y_test,\n",
    "                                class_name=\"Iris-virginica\")"
   ]
  },
  {
   "cell_type": "code",
   "execution_count": 29,
   "id": "e4a13d6d",
   "metadata": {},
   "outputs": [
    {
     "data": {
      "text/plain": [
       "0    80\n",
       "1    40\n",
       "Name: Species, dtype: int64"
      ]
     },
     "execution_count": 29,
     "metadata": {},
     "output_type": "execute_result"
    }
   ],
   "source": [
    "y_train.value_counts()"
   ]
  },
  {
   "cell_type": "code",
   "execution_count": 30,
   "id": "ca0c270a",
   "metadata": {},
   "outputs": [
    {
     "data": {
      "text/plain": [
       "0    80\n",
       "1    40\n",
       "Name: Species, dtype: int64"
      ]
     },
     "execution_count": 30,
     "metadata": {},
     "output_type": "execute_result"
    }
   ],
   "source": [
    "y_train.value_counts()"
   ]
  },
  {
   "cell_type": "code",
   "execution_count": 31,
   "id": "1b1dc0c3",
   "metadata": {},
   "outputs": [
    {
     "data": {
      "text/plain": [
       "0    20\n",
       "1    10\n",
       "Name: Species, dtype: int64"
      ]
     },
     "execution_count": 31,
     "metadata": {},
     "output_type": "execute_result"
    }
   ],
   "source": [
    "y_test.value_counts()"
   ]
  },
  {
   "cell_type": "markdown",
   "id": "ac60a8db",
   "metadata": {},
   "source": [
    "### Modelling with Logistic Regression "
   ]
  },
  {
   "cell_type": "code",
   "execution_count": 33,
   "id": "0d1bf098",
   "metadata": {},
   "outputs": [],
   "source": [
    "from sklearn.linear_model import LogisticRegression"
   ]
  },
  {
   "cell_type": "code",
   "execution_count": 34,
   "id": "a3b7ba56",
   "metadata": {},
   "outputs": [],
   "source": [
    "logreg = LogisticRegression()"
   ]
  },
  {
   "cell_type": "code",
   "execution_count": 35,
   "id": "49c339f5",
   "metadata": {},
   "outputs": [
    {
     "data": {
      "text/html": [
       "<style>#sk-container-id-1 {color: black;background-color: white;}#sk-container-id-1 pre{padding: 0;}#sk-container-id-1 div.sk-toggleable {background-color: white;}#sk-container-id-1 label.sk-toggleable__label {cursor: pointer;display: block;width: 100%;margin-bottom: 0;padding: 0.3em;box-sizing: border-box;text-align: center;}#sk-container-id-1 label.sk-toggleable__label-arrow:before {content: \"▸\";float: left;margin-right: 0.25em;color: #696969;}#sk-container-id-1 label.sk-toggleable__label-arrow:hover:before {color: black;}#sk-container-id-1 div.sk-estimator:hover label.sk-toggleable__label-arrow:before {color: black;}#sk-container-id-1 div.sk-toggleable__content {max-height: 0;max-width: 0;overflow: hidden;text-align: left;background-color: #f0f8ff;}#sk-container-id-1 div.sk-toggleable__content pre {margin: 0.2em;color: black;border-radius: 0.25em;background-color: #f0f8ff;}#sk-container-id-1 input.sk-toggleable__control:checked~div.sk-toggleable__content {max-height: 200px;max-width: 100%;overflow: auto;}#sk-container-id-1 input.sk-toggleable__control:checked~label.sk-toggleable__label-arrow:before {content: \"▾\";}#sk-container-id-1 div.sk-estimator input.sk-toggleable__control:checked~label.sk-toggleable__label {background-color: #d4ebff;}#sk-container-id-1 div.sk-label input.sk-toggleable__control:checked~label.sk-toggleable__label {background-color: #d4ebff;}#sk-container-id-1 input.sk-hidden--visually {border: 0;clip: rect(1px 1px 1px 1px);clip: rect(1px, 1px, 1px, 1px);height: 1px;margin: -1px;overflow: hidden;padding: 0;position: absolute;width: 1px;}#sk-container-id-1 div.sk-estimator {font-family: monospace;background-color: #f0f8ff;border: 1px dotted black;border-radius: 0.25em;box-sizing: border-box;margin-bottom: 0.5em;}#sk-container-id-1 div.sk-estimator:hover {background-color: #d4ebff;}#sk-container-id-1 div.sk-parallel-item::after {content: \"\";width: 100%;border-bottom: 1px solid gray;flex-grow: 1;}#sk-container-id-1 div.sk-label:hover label.sk-toggleable__label {background-color: #d4ebff;}#sk-container-id-1 div.sk-serial::before {content: \"\";position: absolute;border-left: 1px solid gray;box-sizing: border-box;top: 0;bottom: 0;left: 50%;z-index: 0;}#sk-container-id-1 div.sk-serial {display: flex;flex-direction: column;align-items: center;background-color: white;padding-right: 0.2em;padding-left: 0.2em;position: relative;}#sk-container-id-1 div.sk-item {position: relative;z-index: 1;}#sk-container-id-1 div.sk-parallel {display: flex;align-items: stretch;justify-content: center;background-color: white;position: relative;}#sk-container-id-1 div.sk-item::before, #sk-container-id-1 div.sk-parallel-item::before {content: \"\";position: absolute;border-left: 1px solid gray;box-sizing: border-box;top: 0;bottom: 0;left: 50%;z-index: -1;}#sk-container-id-1 div.sk-parallel-item {display: flex;flex-direction: column;z-index: 1;position: relative;background-color: white;}#sk-container-id-1 div.sk-parallel-item:first-child::after {align-self: flex-end;width: 50%;}#sk-container-id-1 div.sk-parallel-item:last-child::after {align-self: flex-start;width: 50%;}#sk-container-id-1 div.sk-parallel-item:only-child::after {width: 0;}#sk-container-id-1 div.sk-dashed-wrapped {border: 1px dashed gray;margin: 0 0.4em 0.5em 0.4em;box-sizing: border-box;padding-bottom: 0.4em;background-color: white;}#sk-container-id-1 div.sk-label label {font-family: monospace;font-weight: bold;display: inline-block;line-height: 1.2em;}#sk-container-id-1 div.sk-label-container {text-align: center;}#sk-container-id-1 div.sk-container {/* jupyter's `normalize.less` sets `[hidden] { display: none; }` but bootstrap.min.css set `[hidden] { display: none !important; }` so we also need the `!important` here to be able to override the default hidden behavior on the sphinx rendered scikit-learn.org. See: https://github.com/scikit-learn/scikit-learn/issues/21755 */display: inline-block !important;position: relative;}#sk-container-id-1 div.sk-text-repr-fallback {display: none;}</style><div id=\"sk-container-id-1\" class=\"sk-top-container\"><div class=\"sk-text-repr-fallback\"><pre>LogisticRegression()</pre><b>In a Jupyter environment, please rerun this cell to show the HTML representation or trust the notebook. <br />On GitHub, the HTML representation is unable to render, please try loading this page with nbviewer.org.</b></div><div class=\"sk-container\" hidden><div class=\"sk-item\"><div class=\"sk-estimator sk-toggleable\"><input class=\"sk-toggleable__control sk-hidden--visually\" id=\"sk-estimator-id-1\" type=\"checkbox\" checked><label for=\"sk-estimator-id-1\" class=\"sk-toggleable__label sk-toggleable__label-arrow\">LogisticRegression</label><div class=\"sk-toggleable__content\"><pre>LogisticRegression()</pre></div></div></div></div></div>"
      ],
      "text/plain": [
       "LogisticRegression()"
      ]
     },
     "execution_count": 35,
     "metadata": {},
     "output_type": "execute_result"
    }
   ],
   "source": [
    "logreg.fit(X_train, y_train)"
   ]
  },
  {
   "cell_type": "code",
   "execution_count": 36,
   "id": "6e8f30a0",
   "metadata": {},
   "outputs": [],
   "source": [
    "y_pred_train_proba = logreg.predict_proba(X_train)"
   ]
  },
  {
   "cell_type": "code",
   "execution_count": 37,
   "id": "c8b9f4a6",
   "metadata": {},
   "outputs": [
    {
     "data": {
      "text/plain": [
       "array([[4.99149131e-02, 9.50085087e-01],\n",
       "       [9.27157414e-01, 7.28425863e-02],\n",
       "       [9.78127099e-01, 2.18729013e-02],\n",
       "       [6.48517904e-03, 9.93514821e-01],\n",
       "       [4.76443763e-01, 5.23556237e-01],\n",
       "       [2.91712141e-01, 7.08287859e-01],\n",
       "       [9.99995958e-01, 4.04230193e-06],\n",
       "       [9.99993401e-01, 6.59915191e-06],\n",
       "       [9.99985798e-01, 1.42018564e-05],\n",
       "       [8.92466194e-01, 1.07533806e-01],\n",
       "       [5.10763352e-03, 9.94892366e-01],\n",
       "       [9.99996736e-01, 3.26413720e-06],\n",
       "       [9.76749441e-01, 2.32505589e-02],\n",
       "       [9.99994328e-01, 5.67240160e-06],\n",
       "       [2.78970655e-01, 7.21029345e-01],\n",
       "       [9.99994671e-01, 5.32878252e-06],\n",
       "       [2.46858378e-02, 9.75314162e-01],\n",
       "       [2.93449337e-02, 9.70655066e-01],\n",
       "       [6.75821465e-01, 3.24178535e-01],\n",
       "       [7.98362850e-01, 2.01637150e-01],\n",
       "       [9.99994328e-01, 5.67240160e-06],\n",
       "       [4.54344008e-01, 5.45655992e-01],\n",
       "       [7.45650126e-02, 9.25434987e-01],\n",
       "       [9.99996525e-01, 3.47462098e-06],\n",
       "       [8.47469892e-01, 1.52530108e-01],\n",
       "       [9.99996203e-01, 3.79742960e-06],\n",
       "       [9.99997524e-01, 2.47610434e-06],\n",
       "       [9.85250419e-01, 1.47495807e-02],\n",
       "       [9.99996736e-01, 3.26413720e-06],\n",
       "       [9.99991301e-01, 8.69935431e-06],\n",
       "       [6.69957223e-02, 9.33004278e-01],\n",
       "       [9.69574942e-01, 3.04250580e-02],\n",
       "       [9.99996736e-01, 3.26413720e-06],\n",
       "       [9.99994328e-01, 5.67240160e-06],\n",
       "       [6.61983159e-01, 3.38016841e-01],\n",
       "       [9.43754093e-01, 5.62459070e-02],\n",
       "       [8.08235209e-01, 1.91764791e-01],\n",
       "       [7.02580174e-01, 2.97419826e-01],\n",
       "       [7.83682049e-01, 2.16317951e-01],\n",
       "       [1.07426455e-01, 8.92573545e-01],\n",
       "       [7.45249503e-01, 2.54750497e-01],\n",
       "       [2.26902809e-01, 7.73097191e-01],\n",
       "       [1.85447381e-03, 9.98145526e-01],\n",
       "       [9.99995697e-01, 4.30296447e-06],\n",
       "       [7.81194161e-03, 9.92188058e-01],\n",
       "       [1.10941354e-01, 8.89058646e-01],\n",
       "       [5.95937478e-02, 9.40406252e-01],\n",
       "       [8.64737469e-02, 9.13526253e-01],\n",
       "       [9.99996736e-01, 3.26413720e-06],\n",
       "       [8.79870359e-01, 1.20129641e-01],\n",
       "       [9.06150488e-01, 9.38495115e-02],\n",
       "       [6.72224205e-03, 9.93277758e-01],\n",
       "       [9.99997524e-01, 2.47610434e-06],\n",
       "       [9.99997524e-01, 2.47610434e-06],\n",
       "       [9.99993401e-01, 6.59915191e-06],\n",
       "       [1.52385507e-01, 8.47614493e-01],\n",
       "       [8.55373474e-01, 1.44626526e-01],\n",
       "       [2.46858378e-02, 9.75314162e-01],\n",
       "       [7.83682049e-01, 2.16317951e-01],\n",
       "       [9.99996525e-01, 3.47462098e-06],\n",
       "       [9.40343506e-01, 5.96564945e-02],\n",
       "       [9.99996525e-01, 3.47462098e-06],\n",
       "       [9.99980071e-01, 1.99288189e-05],\n",
       "       [9.99996934e-01, 3.06640396e-06],\n",
       "       [9.98143454e-01, 1.85654642e-03],\n",
       "       [9.00699645e-01, 9.93003555e-02],\n",
       "       [9.96571060e-01, 3.42893977e-03],\n",
       "       [7.20804191e-01, 2.79195809e-01],\n",
       "       [7.70975857e-02, 9.22902414e-01],\n",
       "       [3.87117766e-01, 6.12882234e-01],\n",
       "       [2.18489720e-02, 9.78151028e-01],\n",
       "       [9.99996736e-01, 3.26413720e-06],\n",
       "       [9.56745748e-01, 4.32542525e-02],\n",
       "       [9.99997524e-01, 2.47610434e-06],\n",
       "       [9.99997364e-01, 2.63577295e-06],\n",
       "       [9.99998849e-01, 1.15055987e-06],\n",
       "       [9.99998122e-01, 1.87831919e-06],\n",
       "       [1.76777634e-01, 8.23222366e-01],\n",
       "       [9.99996934e-01, 3.06640396e-06],\n",
       "       [9.99995958e-01, 4.04230193e-06],\n",
       "       [1.34977900e-02, 9.86502210e-01],\n",
       "       [9.99995958e-01, 4.04230193e-06],\n",
       "       [3.73667695e-02, 9.62633231e-01],\n",
       "       [7.33204910e-01, 2.66795090e-01],\n",
       "       [9.99993401e-01, 6.59915191e-06],\n",
       "       [9.99994328e-01, 5.67240160e-06],\n",
       "       [1.81818790e-02, 9.81818121e-01],\n",
       "       [7.83682049e-01, 2.16317951e-01],\n",
       "       [7.20804191e-01, 2.79195809e-01],\n",
       "       [1.52672645e-02, 9.84732736e-01],\n",
       "       [2.38051332e-01, 7.61948668e-01],\n",
       "       [9.94056228e-01, 5.94377208e-03],\n",
       "       [8.55373474e-01, 1.44626526e-01],\n",
       "       [9.43754093e-01, 5.62459070e-02],\n",
       "       [9.99995697e-01, 4.30296447e-06],\n",
       "       [9.99987005e-01, 1.29946088e-05],\n",
       "       [3.02393227e-03, 9.96976068e-01],\n",
       "       [9.64779176e-01, 3.52208238e-02],\n",
       "       [9.89716016e-01, 1.02839843e-02],\n",
       "       [7.83682049e-01, 2.16317951e-01],\n",
       "       [9.99995697e-01, 4.30296447e-06],\n",
       "       [5.16569882e-02, 9.48343012e-01],\n",
       "       [9.99992522e-01, 7.47766479e-06],\n",
       "       [7.83682049e-01, 2.16317951e-01],\n",
       "       [9.94056228e-01, 5.94377208e-03],\n",
       "       [9.99990740e-01, 9.26031799e-06],\n",
       "       [9.06150488e-01, 9.38495115e-02],\n",
       "       [3.87117766e-01, 6.12882234e-01],\n",
       "       [9.99995697e-01, 4.30296447e-06],\n",
       "       [6.27338301e-01, 3.72661699e-01],\n",
       "       [9.99998919e-01, 1.08086171e-06],\n",
       "       [1.44488140e-01, 8.55511860e-01],\n",
       "       [1.07426455e-01, 8.92573545e-01],\n",
       "       [2.05526146e-02, 9.79447385e-01],\n",
       "       [4.08394957e-01, 5.91605043e-01],\n",
       "       [9.73053129e-01, 2.69468706e-02],\n",
       "       [8.36610969e-02, 9.16338903e-01],\n",
       "       [5.45378541e-01, 4.54621459e-01],\n",
       "       [9.96571060e-01, 3.42893977e-03],\n",
       "       [3.51828169e-02, 9.64817183e-01]])"
      ]
     },
     "execution_count": 37,
     "metadata": {},
     "output_type": "execute_result"
    }
   ],
   "source": [
    "y_pred_train_proba"
   ]
  },
  {
   "cell_type": "code",
   "execution_count": 38,
   "id": "e111648b",
   "metadata": {},
   "outputs": [],
   "source": [
    "y_pred_train = logreg.predict(X_train)"
   ]
  },
  {
   "cell_type": "code",
   "execution_count": 39,
   "id": "de5da4df",
   "metadata": {},
   "outputs": [
    {
     "data": {
      "text/plain": [
       "array([1, 0, 0, 1, 1, 1, 0, 0, 0, 0, 1, 0, 0, 0, 1, 0, 1, 1, 0, 0, 0, 1,\n",
       "       1, 0, 0, 0, 0, 0, 0, 0, 1, 0, 0, 0, 0, 0, 0, 0, 0, 1, 0, 1, 1, 0,\n",
       "       1, 1, 1, 1, 0, 0, 0, 1, 0, 0, 0, 1, 0, 1, 0, 0, 0, 0, 0, 0, 0, 0,\n",
       "       0, 0, 1, 1, 1, 0, 0, 0, 0, 0, 0, 1, 0, 0, 1, 0, 1, 0, 0, 0, 1, 0,\n",
       "       0, 1, 1, 0, 0, 0, 0, 0, 1, 0, 0, 0, 0, 1, 0, 0, 0, 0, 0, 1, 0, 0,\n",
       "       0, 1, 1, 1, 1, 0, 1, 0, 0, 1])"
      ]
     },
     "execution_count": 39,
     "metadata": {},
     "output_type": "execute_result"
    }
   ],
   "source": [
    "y_pred_train"
   ]
  },
  {
   "cell_type": "code",
   "execution_count": 72,
   "id": "518c1712",
   "metadata": {},
   "outputs": [],
   "source": [
    "from sklearn.metrics import accuracy_score\n",
    "from sklearn.metrics import confusion_matrix\n",
    "from sklearn.metrics import classification_report\n",
    "from sklearn.metrics import make_scorer"
   ]
  },
  {
   "cell_type": "code",
   "execution_count": 41,
   "id": "1be1e503",
   "metadata": {
    "scrolled": true
   },
   "outputs": [
    {
     "data": {
      "text/plain": [
       "0.9916666666666667"
      ]
     },
     "execution_count": 41,
     "metadata": {},
     "output_type": "execute_result"
    }
   ],
   "source": [
    "acc_train = accuracy_score(y_train, y_pred_train)\n",
    "acc_train"
   ]
  },
  {
   "cell_type": "code",
   "execution_count": 43,
   "id": "6b1962b3",
   "metadata": {},
   "outputs": [],
   "source": [
    "y_pred_test = logreg.predict(X_test)"
   ]
  },
  {
   "cell_type": "code",
   "execution_count": 44,
   "id": "ccf43a83",
   "metadata": {},
   "outputs": [
    {
     "data": {
      "text/plain": [
       "array([0, 0, 0, 1, 0, 0, 0, 1, 1, 0, 1, 1, 1, 0, 0, 1, 1, 1, 0, 1, 0, 0,\n",
       "       1, 1, 0, 0, 0, 0, 1, 0])"
      ]
     },
     "execution_count": 44,
     "metadata": {},
     "output_type": "execute_result"
    }
   ],
   "source": [
    "y_pred_test"
   ]
  },
  {
   "cell_type": "code",
   "execution_count": 45,
   "id": "9f81b3e3",
   "metadata": {
    "scrolled": true
   },
   "outputs": [
    {
     "data": {
      "text/plain": [
       "0.9"
      ]
     },
     "execution_count": 45,
     "metadata": {},
     "output_type": "execute_result"
    }
   ],
   "source": [
    "acc_test = accuracy_score(y_test, y_pred_test)\n",
    "acc_test"
   ]
  },
  {
   "cell_type": "code",
   "execution_count": 46,
   "id": "1592055e",
   "metadata": {},
   "outputs": [
    {
     "name": "stdout",
     "output_type": "stream",
     "text": [
      "Logistic Regression training accuracy 0.9916666666666667\n",
      "Logistic Regression test accuracy 0.9\n"
     ]
    }
   ],
   "source": [
    "print(f\"Logistic Regression training accuracy {acc_train}\")\n",
    "print(f\"Logistic Regression test accuracy {acc_test}\")"
   ]
  },
  {
   "cell_type": "code",
   "execution_count": 47,
   "id": "91f687f9",
   "metadata": {},
   "outputs": [
    {
     "name": "stdout",
     "output_type": "stream",
     "text": [
      "              precision    recall  f1-score   support\n",
      "\n",
      "           0       1.00      0.85      0.92        20\n",
      "           1       0.77      1.00      0.87        10\n",
      "\n",
      "    accuracy                           0.90        30\n",
      "   macro avg       0.88      0.93      0.89        30\n",
      "weighted avg       0.92      0.90      0.90        30\n",
      "\n"
     ]
    }
   ],
   "source": [
    "print(classification_report(y_test, y_pred_test))"
   ]
  },
  {
   "cell_type": "markdown",
   "id": "516d9ac7",
   "metadata": {},
   "source": [
    "### Cross Validation and Hyperparameter Tuning "
   ]
  },
  {
   "cell_type": "markdown",
   "id": "32bc855f",
   "metadata": {},
   "source": [
    "#### Without Hyperparameter Tuning "
   ]
  },
  {
   "cell_type": "code",
   "execution_count": 55,
   "id": "4b08fe44",
   "metadata": {},
   "outputs": [],
   "source": [
    "from sklearn.model_selection import cross_val_score, KFold"
   ]
  },
  {
   "cell_type": "code",
   "execution_count": 56,
   "id": "664ba2da",
   "metadata": {},
   "outputs": [
    {
     "data": {
      "text/plain": [
       "KFold(n_splits=5, random_state=None, shuffle=False)"
      ]
     },
     "execution_count": 56,
     "metadata": {},
     "output_type": "execute_result"
    }
   ],
   "source": [
    "k_folds = KFold(n_splits = 5)\n",
    "k_folds"
   ]
  },
  {
   "cell_type": "code",
   "execution_count": 61,
   "id": "57b1546e",
   "metadata": {},
   "outputs": [
    {
     "data": {
      "text/plain": [
       "array([1.        , 0.95833333, 1.        , 1.        , 1.        ])"
      ]
     },
     "execution_count": 61,
     "metadata": {},
     "output_type": "execute_result"
    }
   ],
   "source": [
    "val_scores = cross_val_score(estimator= logreg, X= X_train, y= y_train, cv=5)\n",
    "val_scores"
   ]
  },
  {
   "cell_type": "code",
   "execution_count": 62,
   "id": "a2e317cd",
   "metadata": {},
   "outputs": [
    {
     "data": {
      "text/plain": [
       "0.9916666666666668"
      ]
     },
     "execution_count": 62,
     "metadata": {},
     "output_type": "execute_result"
    }
   ],
   "source": [
    "val_scores.mean()"
   ]
  },
  {
   "cell_type": "markdown",
   "id": "884244f8",
   "metadata": {},
   "source": [
    "#### With Hyperparameter Tuning GridSearch and RandomSearch "
   ]
  },
  {
   "cell_type": "code",
   "execution_count": 54,
   "id": "0b75c79d",
   "metadata": {},
   "outputs": [],
   "source": [
    "from sklearn.model_selection import GridSearchCV, RandomizedSearchCV"
   ]
  },
  {
   "cell_type": "code",
   "execution_count": 66,
   "id": "53e94534",
   "metadata": {},
   "outputs": [
    {
     "data": {
      "text/plain": [
       "array([ 0.5,  1. ,  1.5,  2. ,  2.5,  3. ,  3.5,  4. ,  4.5,  5. ,  5.5,\n",
       "        6. ,  6.5,  7. ,  7.5,  8. ,  8.5,  9. ,  9.5, 10. ])"
      ]
     },
     "execution_count": 66,
     "metadata": {},
     "output_type": "execute_result"
    }
   ],
   "source": [
    "np.linspace(0.5, 10, 20)"
   ]
  },
  {
   "cell_type": "code",
   "execution_count": 105,
   "id": "e25e0980",
   "metadata": {},
   "outputs": [],
   "source": [
    "PARAMS = {\n",
    "    \"penalty\": ['l1', 'l2'],\n",
    "    \"C\": np.linspace(0.5, 10, 20),\n",
    "    \"solver\": [\"linear\", \"saga\"],\n",
    "    \"max_iter\": [100, 500, 1000, 5000, 10000]\n",
    "}"
   ]
  },
  {
   "cell_type": "code",
   "execution_count": 87,
   "id": "dc752594",
   "metadata": {
    "scrolled": true
   },
   "outputs": [
    {
     "data": {
      "text/plain": [
       "{'penalty': ['l1', 'l2'],\n",
       " 'C': array([ 0.5  ,  2.875,  5.25 ,  7.625, 10.   ]),\n",
       " 'solver': ['linear', 'saga'],\n",
       " 'max_iter': [100, 500, 5000, 10000]}"
      ]
     },
     "execution_count": 87,
     "metadata": {},
     "output_type": "execute_result"
    }
   ],
   "source": [
    "PARAMS"
   ]
  },
  {
   "cell_type": "code",
   "execution_count": 88,
   "id": "7fcc99b2",
   "metadata": {},
   "outputs": [],
   "source": [
    "scorer = make_scorer(accuracy_score)"
   ]
  },
  {
   "cell_type": "code",
   "execution_count": 89,
   "id": "7053fc22",
   "metadata": {},
   "outputs": [],
   "source": [
    "def generate_best_models(method, \n",
    "                         classifier, \n",
    "                         parameters, \n",
    "                         scorer,\n",
    "                         X, y):\n",
    "    \n",
    "    if method == \"Grid\":\n",
    "        search_obj = GridSearchCV(classifier, parameters, scoring=scorer, verbose=1)\n",
    "    \n",
    "    elif method == \"Random\":\n",
    "        search_obj = RandomizedSearchCV(classifier, parameters, scoring=scorer, verbose=1)\n",
    "    \n",
    "    else:\n",
    "        raise Exception(\"Method doesn't exists\")\n",
    "        \n",
    "    fit_obj = search_obj.fit(X, y)\n",
    "    best_clf = fit_obj.best_estimator_\n",
    "    \n",
    "    return best_clf"
   ]
  },
  {
   "cell_type": "code",
   "execution_count": 90,
   "id": "eb25db2b",
   "metadata": {
    "scrolled": true
   },
   "outputs": [
    {
     "name": "stdout",
     "output_type": "stream",
     "text": [
      "Fitting 5 folds for each of 80 candidates, totalling 400 fits\n"
     ]
    }
   ],
   "source": [
    "%time\n",
    "\n",
    "best_clf_grid = generate_best_models(method = \"Grid\",\n",
    "                                     classifier=logreg,\n",
    "                                     parameters=PARAMS,\n",
    "                                     scorer=scorer,\n",
    "                                     X=X_train,\n",
    "                                     y=y_train)"
   ]
  },
  {
   "cell_type": "code",
   "execution_count": 115,
   "id": "6153ac45",
   "metadata": {},
   "outputs": [
    {
     "data": {
      "text/html": [
       "<style>#sk-container-id-12 {color: black;background-color: white;}#sk-container-id-12 pre{padding: 0;}#sk-container-id-12 div.sk-toggleable {background-color: white;}#sk-container-id-12 label.sk-toggleable__label {cursor: pointer;display: block;width: 100%;margin-bottom: 0;padding: 0.3em;box-sizing: border-box;text-align: center;}#sk-container-id-12 label.sk-toggleable__label-arrow:before {content: \"▸\";float: left;margin-right: 0.25em;color: #696969;}#sk-container-id-12 label.sk-toggleable__label-arrow:hover:before {color: black;}#sk-container-id-12 div.sk-estimator:hover label.sk-toggleable__label-arrow:before {color: black;}#sk-container-id-12 div.sk-toggleable__content {max-height: 0;max-width: 0;overflow: hidden;text-align: left;background-color: #f0f8ff;}#sk-container-id-12 div.sk-toggleable__content pre {margin: 0.2em;color: black;border-radius: 0.25em;background-color: #f0f8ff;}#sk-container-id-12 input.sk-toggleable__control:checked~div.sk-toggleable__content {max-height: 200px;max-width: 100%;overflow: auto;}#sk-container-id-12 input.sk-toggleable__control:checked~label.sk-toggleable__label-arrow:before {content: \"▾\";}#sk-container-id-12 div.sk-estimator input.sk-toggleable__control:checked~label.sk-toggleable__label {background-color: #d4ebff;}#sk-container-id-12 div.sk-label input.sk-toggleable__control:checked~label.sk-toggleable__label {background-color: #d4ebff;}#sk-container-id-12 input.sk-hidden--visually {border: 0;clip: rect(1px 1px 1px 1px);clip: rect(1px, 1px, 1px, 1px);height: 1px;margin: -1px;overflow: hidden;padding: 0;position: absolute;width: 1px;}#sk-container-id-12 div.sk-estimator {font-family: monospace;background-color: #f0f8ff;border: 1px dotted black;border-radius: 0.25em;box-sizing: border-box;margin-bottom: 0.5em;}#sk-container-id-12 div.sk-estimator:hover {background-color: #d4ebff;}#sk-container-id-12 div.sk-parallel-item::after {content: \"\";width: 100%;border-bottom: 1px solid gray;flex-grow: 1;}#sk-container-id-12 div.sk-label:hover label.sk-toggleable__label {background-color: #d4ebff;}#sk-container-id-12 div.sk-serial::before {content: \"\";position: absolute;border-left: 1px solid gray;box-sizing: border-box;top: 0;bottom: 0;left: 50%;z-index: 0;}#sk-container-id-12 div.sk-serial {display: flex;flex-direction: column;align-items: center;background-color: white;padding-right: 0.2em;padding-left: 0.2em;position: relative;}#sk-container-id-12 div.sk-item {position: relative;z-index: 1;}#sk-container-id-12 div.sk-parallel {display: flex;align-items: stretch;justify-content: center;background-color: white;position: relative;}#sk-container-id-12 div.sk-item::before, #sk-container-id-12 div.sk-parallel-item::before {content: \"\";position: absolute;border-left: 1px solid gray;box-sizing: border-box;top: 0;bottom: 0;left: 50%;z-index: -1;}#sk-container-id-12 div.sk-parallel-item {display: flex;flex-direction: column;z-index: 1;position: relative;background-color: white;}#sk-container-id-12 div.sk-parallel-item:first-child::after {align-self: flex-end;width: 50%;}#sk-container-id-12 div.sk-parallel-item:last-child::after {align-self: flex-start;width: 50%;}#sk-container-id-12 div.sk-parallel-item:only-child::after {width: 0;}#sk-container-id-12 div.sk-dashed-wrapped {border: 1px dashed gray;margin: 0 0.4em 0.5em 0.4em;box-sizing: border-box;padding-bottom: 0.4em;background-color: white;}#sk-container-id-12 div.sk-label label {font-family: monospace;font-weight: bold;display: inline-block;line-height: 1.2em;}#sk-container-id-12 div.sk-label-container {text-align: center;}#sk-container-id-12 div.sk-container {/* jupyter's `normalize.less` sets `[hidden] { display: none; }` but bootstrap.min.css set `[hidden] { display: none !important; }` so we also need the `!important` here to be able to override the default hidden behavior on the sphinx rendered scikit-learn.org. See: https://github.com/scikit-learn/scikit-learn/issues/21755 */display: inline-block !important;position: relative;}#sk-container-id-12 div.sk-text-repr-fallback {display: none;}</style><div id=\"sk-container-id-12\" class=\"sk-top-container\"><div class=\"sk-text-repr-fallback\"><pre>GridSearchCV(cv=5, estimator=LogisticRegression(),\n",
       "             param_grid={&#x27;C&#x27;: array([ 0.5,  1. ,  1.5,  2. ,  2.5,  3. ,  3.5,  4. ,  4.5,  5. ,  5.5,\n",
       "        6. ,  6.5,  7. ,  7.5,  8. ,  8.5,  9. ,  9.5, 10. ]),\n",
       "                         &#x27;max_iter&#x27;: [100, 500, 1000, 5000, 10000],\n",
       "                         &#x27;penalty&#x27;: [&#x27;l1&#x27;, &#x27;l2&#x27;],\n",
       "                         &#x27;solver&#x27;: [&#x27;linear&#x27;, &#x27;saga&#x27;]},\n",
       "             verbose=3)</pre><b>In a Jupyter environment, please rerun this cell to show the HTML representation or trust the notebook. <br />On GitHub, the HTML representation is unable to render, please try loading this page with nbviewer.org.</b></div><div class=\"sk-container\" hidden><div class=\"sk-item sk-dashed-wrapped\"><div class=\"sk-label-container\"><div class=\"sk-label sk-toggleable\"><input class=\"sk-toggleable__control sk-hidden--visually\" id=\"sk-estimator-id-32\" type=\"checkbox\" ><label for=\"sk-estimator-id-32\" class=\"sk-toggleable__label sk-toggleable__label-arrow\">GridSearchCV</label><div class=\"sk-toggleable__content\"><pre>GridSearchCV(cv=5, estimator=LogisticRegression(),\n",
       "             param_grid={&#x27;C&#x27;: array([ 0.5,  1. ,  1.5,  2. ,  2.5,  3. ,  3.5,  4. ,  4.5,  5. ,  5.5,\n",
       "        6. ,  6.5,  7. ,  7.5,  8. ,  8.5,  9. ,  9.5, 10. ]),\n",
       "                         &#x27;max_iter&#x27;: [100, 500, 1000, 5000, 10000],\n",
       "                         &#x27;penalty&#x27;: [&#x27;l1&#x27;, &#x27;l2&#x27;],\n",
       "                         &#x27;solver&#x27;: [&#x27;linear&#x27;, &#x27;saga&#x27;]},\n",
       "             verbose=3)</pre></div></div></div><div class=\"sk-parallel\"><div class=\"sk-parallel-item\"><div class=\"sk-item\"><div class=\"sk-label-container\"><div class=\"sk-label sk-toggleable\"><input class=\"sk-toggleable__control sk-hidden--visually\" id=\"sk-estimator-id-33\" type=\"checkbox\" ><label for=\"sk-estimator-id-33\" class=\"sk-toggleable__label sk-toggleable__label-arrow\">estimator: LogisticRegression</label><div class=\"sk-toggleable__content\"><pre>LogisticRegression()</pre></div></div></div><div class=\"sk-serial\"><div class=\"sk-item\"><div class=\"sk-estimator sk-toggleable\"><input class=\"sk-toggleable__control sk-hidden--visually\" id=\"sk-estimator-id-34\" type=\"checkbox\" ><label for=\"sk-estimator-id-34\" class=\"sk-toggleable__label sk-toggleable__label-arrow\">LogisticRegression</label><div class=\"sk-toggleable__content\"><pre>LogisticRegression()</pre></div></div></div></div></div></div></div></div></div></div>"
      ],
      "text/plain": [
       "GridSearchCV(cv=5, estimator=LogisticRegression(),\n",
       "             param_grid={'C': array([ 0.5,  1. ,  1.5,  2. ,  2.5,  3. ,  3.5,  4. ,  4.5,  5. ,  5.5,\n",
       "        6. ,  6.5,  7. ,  7.5,  8. ,  8.5,  9. ,  9.5, 10. ]),\n",
       "                         'max_iter': [100, 500, 1000, 5000, 10000],\n",
       "                         'penalty': ['l1', 'l2'],\n",
       "                         'solver': ['linear', 'saga']},\n",
       "             verbose=3)"
      ]
     },
     "execution_count": 115,
     "metadata": {},
     "output_type": "execute_result"
    }
   ],
   "source": [
    "best_logreg_grid = GridSearchCV(estimator= logreg, param_grid=PARAMS,\n",
    "                                cv= 5, verbose= 3)\n",
    "\n",
    "best_logreg_grid"
   ]
  },
  {
   "cell_type": "code",
   "execution_count": 116,
   "id": "62336ff7",
   "metadata": {},
   "outputs": [
    {
     "name": "stdout",
     "output_type": "stream",
     "text": [
      "Fitting 5 folds for each of 400 candidates, totalling 2000 fits\n",
      "[CV 1/5] END C=0.5, max_iter=100, penalty=l1, solver=linear;, score=nan total time=   0.0s\n",
      "[CV 2/5] END C=0.5, max_iter=100, penalty=l1, solver=linear;, score=nan total time=   0.0s\n",
      "[CV 3/5] END C=0.5, max_iter=100, penalty=l1, solver=linear;, score=nan total time=   0.0s\n",
      "[CV 4/5] END C=0.5, max_iter=100, penalty=l1, solver=linear;, score=nan total time=   0.0s\n",
      "[CV 5/5] END C=0.5, max_iter=100, penalty=l1, solver=linear;, score=nan total time=   0.0s\n",
      "[CV 1/5] END C=0.5, max_iter=100, penalty=l1, solver=saga;, score=0.958 total time=   0.0s\n",
      "[CV 2/5] END C=0.5, max_iter=100, penalty=l1, solver=saga;, score=0.958 total time=   0.0s\n",
      "[CV 3/5] END C=0.5, max_iter=100, penalty=l1, solver=saga;, score=1.000 total time=   0.0s\n",
      "[CV 4/5] END C=0.5, max_iter=100, penalty=l1, solver=saga;, score=0.958 total time=   0.0s\n",
      "[CV 5/5] END C=0.5, max_iter=100, penalty=l1, solver=saga;, score=0.958 total time=   0.0s\n",
      "[CV 1/5] END C=0.5, max_iter=100, penalty=l2, solver=linear;, score=nan total time=   0.0s\n",
      "[CV 2/5] END C=0.5, max_iter=100, penalty=l2, solver=linear;, score=nan total time=   0.0s\n",
      "[CV 3/5] END C=0.5, max_iter=100, penalty=l2, solver=linear;, score=nan total time=   0.0s\n",
      "[CV 4/5] END C=0.5, max_iter=100, penalty=l2, solver=linear;, score=nan total time=   0.0s\n",
      "[CV 5/5] END C=0.5, max_iter=100, penalty=l2, solver=linear;, score=nan total time=   0.0s\n",
      "[CV 1/5] END C=0.5, max_iter=100, penalty=l2, solver=saga;, score=1.000 total time=   0.0s\n",
      "[CV 2/5] END C=0.5, max_iter=100, penalty=l2, solver=saga;, score=0.958 total time=   0.0s\n",
      "[CV 3/5] END C=0.5, max_iter=100, penalty=l2, solver=saga;, score=1.000 total time=   0.0s\n",
      "[CV 4/5] END C=0.5, max_iter=100, penalty=l2, solver=saga;, score=1.000 total time=   0.0s\n",
      "[CV 5/5] END C=0.5, max_iter=100, penalty=l2, solver=saga;, score=1.000 total time=   0.0s\n",
      "[CV 1/5] END C=0.5, max_iter=500, penalty=l1, solver=linear;, score=nan total time=   0.0s\n",
      "[CV 2/5] END C=0.5, max_iter=500, penalty=l1, solver=linear;, score=nan total time=   0.0s\n",
      "[CV 3/5] END C=0.5, max_iter=500, penalty=l1, solver=linear;, score=nan total time=   0.0s\n",
      "[CV 4/5] END C=0.5, max_iter=500, penalty=l1, solver=linear;, score=nan total time=   0.0s\n",
      "[CV 5/5] END C=0.5, max_iter=500, penalty=l1, solver=linear;, score=nan total time=   0.0s\n",
      "[CV 1/5] END C=0.5, max_iter=500, penalty=l1, solver=saga;, score=1.000 total time=   0.0s\n",
      "[CV 2/5] END C=0.5, max_iter=500, penalty=l1, solver=saga;, score=0.917 total time=   0.0s\n",
      "[CV 3/5] END C=0.5, max_iter=500, penalty=l1, solver=saga;, score=1.000 total time=   0.0s\n",
      "[CV 4/5] END C=0.5, max_iter=500, penalty=l1, solver=saga;, score=1.000 total time=   0.0s\n",
      "[CV 5/5] END C=0.5, max_iter=500, penalty=l1, solver=saga;, score=1.000 total time=   0.0s\n",
      "[CV 1/5] END C=0.5, max_iter=500, penalty=l2, solver=linear;, score=nan total time=   0.0s\n",
      "[CV 2/5] END C=0.5, max_iter=500, penalty=l2, solver=linear;, score=nan total time=   0.0s\n",
      "[CV 3/5] END C=0.5, max_iter=500, penalty=l2, solver=linear;, score=nan total time=   0.0s\n",
      "[CV 4/5] END C=0.5, max_iter=500, penalty=l2, solver=linear;, score=nan total time=   0.0s\n",
      "[CV 5/5] END C=0.5, max_iter=500, penalty=l2, solver=linear;, score=nan total time=   0.0s\n",
      "[CV 1/5] END C=0.5, max_iter=500, penalty=l2, solver=saga;, score=1.000 total time=   0.0s\n",
      "[CV 2/5] END C=0.5, max_iter=500, penalty=l2, solver=saga;, score=0.958 total time=   0.0s\n",
      "[CV 3/5] END C=0.5, max_iter=500, penalty=l2, solver=saga;, score=1.000 total time=   0.0s\n",
      "[CV 4/5] END C=0.5, max_iter=500, penalty=l2, solver=saga;, score=1.000 total time=   0.0s\n",
      "[CV 5/5] END C=0.5, max_iter=500, penalty=l2, solver=saga;, score=1.000 total time=   0.0s\n",
      "[CV 1/5] END C=0.5, max_iter=1000, penalty=l1, solver=linear;, score=nan total time=   0.0s\n",
      "[CV 2/5] END C=0.5, max_iter=1000, penalty=l1, solver=linear;, score=nan total time=   0.0s\n",
      "[CV 3/5] END C=0.5, max_iter=1000, penalty=l1, solver=linear;, score=nan total time=   0.0s\n",
      "[CV 4/5] END C=0.5, max_iter=1000, penalty=l1, solver=linear;, score=nan total time=   0.0s\n",
      "[CV 5/5] END C=0.5, max_iter=1000, penalty=l1, solver=linear;, score=nan total time=   0.0s\n",
      "[CV 1/5] END C=0.5, max_iter=1000, penalty=l1, solver=saga;, score=1.000 total time=   0.0s\n",
      "[CV 2/5] END C=0.5, max_iter=1000, penalty=l1, solver=saga;, score=0.917 total time=   0.0s\n",
      "[CV 3/5] END C=0.5, max_iter=1000, penalty=l1, solver=saga;, score=1.000 total time=   0.0s\n",
      "[CV 4/5] END C=0.5, max_iter=1000, penalty=l1, solver=saga;, score=1.000 total time=   0.0s\n",
      "[CV 5/5] END C=0.5, max_iter=1000, penalty=l1, solver=saga;, score=1.000 total time=   0.0s\n",
      "[CV 1/5] END C=0.5, max_iter=1000, penalty=l2, solver=linear;, score=nan total time=   0.0s\n",
      "[CV 2/5] END C=0.5, max_iter=1000, penalty=l2, solver=linear;, score=nan total time=   0.0s\n",
      "[CV 3/5] END C=0.5, max_iter=1000, penalty=l2, solver=linear;, score=nan total time=   0.0s\n",
      "[CV 4/5] END C=0.5, max_iter=1000, penalty=l2, solver=linear;, score=nan total time=   0.0s\n",
      "[CV 5/5] END C=0.5, max_iter=1000, penalty=l2, solver=linear;, score=nan total time=   0.0s\n",
      "[CV 1/5] END C=0.5, max_iter=1000, penalty=l2, solver=saga;, score=1.000 total time=   0.0s\n",
      "[CV 2/5] END C=0.5, max_iter=1000, penalty=l2, solver=saga;, score=0.958 total time=   0.0s\n",
      "[CV 3/5] END C=0.5, max_iter=1000, penalty=l2, solver=saga;, score=1.000 total time=   0.0s\n",
      "[CV 4/5] END C=0.5, max_iter=1000, penalty=l2, solver=saga;, score=1.000 total time=   0.0s\n",
      "[CV 5/5] END C=0.5, max_iter=1000, penalty=l2, solver=saga;, score=1.000 total time=   0.0s\n",
      "[CV 1/5] END C=0.5, max_iter=5000, penalty=l1, solver=linear;, score=nan total time=   0.0s\n",
      "[CV 2/5] END C=0.5, max_iter=5000, penalty=l1, solver=linear;, score=nan total time=   0.0s\n",
      "[CV 3/5] END C=0.5, max_iter=5000, penalty=l1, solver=linear;, score=nan total time=   0.0s\n",
      "[CV 4/5] END C=0.5, max_iter=5000, penalty=l1, solver=linear;, score=nan total time=   0.0s\n",
      "[CV 5/5] END C=0.5, max_iter=5000, penalty=l1, solver=linear;, score=nan total time=   0.0s\n",
      "[CV 1/5] END C=0.5, max_iter=5000, penalty=l1, solver=saga;, score=1.000 total time=   0.0s\n",
      "[CV 2/5] END C=0.5, max_iter=5000, penalty=l1, solver=saga;, score=0.917 total time=   0.0s\n",
      "[CV 3/5] END C=0.5, max_iter=5000, penalty=l1, solver=saga;, score=1.000 total time=   0.0s\n",
      "[CV 4/5] END C=0.5, max_iter=5000, penalty=l1, solver=saga;, score=1.000 total time=   0.0s\n",
      "[CV 5/5] END C=0.5, max_iter=5000, penalty=l1, solver=saga;, score=1.000 total time=   0.0s\n",
      "[CV 1/5] END C=0.5, max_iter=5000, penalty=l2, solver=linear;, score=nan total time=   0.0s\n",
      "[CV 2/5] END C=0.5, max_iter=5000, penalty=l2, solver=linear;, score=nan total time=   0.0s\n",
      "[CV 3/5] END C=0.5, max_iter=5000, penalty=l2, solver=linear;, score=nan total time=   0.0s\n",
      "[CV 4/5] END C=0.5, max_iter=5000, penalty=l2, solver=linear;, score=nan total time=   0.0s\n",
      "[CV 5/5] END C=0.5, max_iter=5000, penalty=l2, solver=linear;, score=nan total time=   0.0s\n",
      "[CV 1/5] END C=0.5, max_iter=5000, penalty=l2, solver=saga;, score=1.000 total time=   0.0s\n",
      "[CV 2/5] END C=0.5, max_iter=5000, penalty=l2, solver=saga;, score=0.958 total time=   0.0s\n",
      "[CV 3/5] END C=0.5, max_iter=5000, penalty=l2, solver=saga;, score=1.000 total time=   0.0s\n",
      "[CV 4/5] END C=0.5, max_iter=5000, penalty=l2, solver=saga;, score=1.000 total time=   0.0s\n",
      "[CV 5/5] END C=0.5, max_iter=5000, penalty=l2, solver=saga;, score=1.000 total time=   0.0s\n",
      "[CV 1/5] END C=0.5, max_iter=10000, penalty=l1, solver=linear;, score=nan total time=   0.0s\n",
      "[CV 2/5] END C=0.5, max_iter=10000, penalty=l1, solver=linear;, score=nan total time=   0.0s\n",
      "[CV 3/5] END C=0.5, max_iter=10000, penalty=l1, solver=linear;, score=nan total time=   0.0s\n",
      "[CV 4/5] END C=0.5, max_iter=10000, penalty=l1, solver=linear;, score=nan total time=   0.0s\n",
      "[CV 5/5] END C=0.5, max_iter=10000, penalty=l1, solver=linear;, score=nan total time=   0.0s\n",
      "[CV 1/5] END C=0.5, max_iter=10000, penalty=l1, solver=saga;, score=1.000 total time=   0.0s\n",
      "[CV 2/5] END C=0.5, max_iter=10000, penalty=l1, solver=saga;, score=0.917 total time=   0.0s\n",
      "[CV 3/5] END C=0.5, max_iter=10000, penalty=l1, solver=saga;, score=1.000 total time=   0.0s\n",
      "[CV 4/5] END C=0.5, max_iter=10000, penalty=l1, solver=saga;, score=1.000 total time=   0.0s\n",
      "[CV 5/5] END C=0.5, max_iter=10000, penalty=l1, solver=saga;, score=1.000 total time=   0.0s\n",
      "[CV 1/5] END C=0.5, max_iter=10000, penalty=l2, solver=linear;, score=nan total time=   0.0s\n",
      "[CV 2/5] END C=0.5, max_iter=10000, penalty=l2, solver=linear;, score=nan total time=   0.0s\n",
      "[CV 3/5] END C=0.5, max_iter=10000, penalty=l2, solver=linear;, score=nan total time=   0.0s\n",
      "[CV 4/5] END C=0.5, max_iter=10000, penalty=l2, solver=linear;, score=nan total time=   0.0s\n",
      "[CV 5/5] END C=0.5, max_iter=10000, penalty=l2, solver=linear;, score=nan total time=   0.0s\n",
      "[CV 1/5] END C=0.5, max_iter=10000, penalty=l2, solver=saga;, score=1.000 total time=   0.0s\n",
      "[CV 2/5] END C=0.5, max_iter=10000, penalty=l2, solver=saga;, score=0.958 total time=   0.0s\n",
      "[CV 3/5] END C=0.5, max_iter=10000, penalty=l2, solver=saga;, score=1.000 total time=   0.0s\n",
      "[CV 4/5] END C=0.5, max_iter=10000, penalty=l2, solver=saga;, score=1.000 total time=   0.0s\n",
      "[CV 5/5] END C=0.5, max_iter=10000, penalty=l2, solver=saga;, score=1.000 total time=   0.0s\n",
      "[CV 1/5] END C=1.0, max_iter=100, penalty=l1, solver=linear;, score=nan total time=   0.0s\n",
      "[CV 2/5] END C=1.0, max_iter=100, penalty=l1, solver=linear;, score=nan total time=   0.0s\n",
      "[CV 3/5] END C=1.0, max_iter=100, penalty=l1, solver=linear;, score=nan total time=   0.0s\n",
      "[CV 4/5] END C=1.0, max_iter=100, penalty=l1, solver=linear;, score=nan total time=   0.0s\n",
      "[CV 5/5] END C=1.0, max_iter=100, penalty=l1, solver=linear;, score=nan total time=   0.0s\n",
      "[CV 1/5] END C=1.0, max_iter=100, penalty=l1, solver=saga;, score=0.958 total time=   0.0s\n",
      "[CV 2/5] END C=1.0, max_iter=100, penalty=l1, solver=saga;, score=1.000 total time=   0.0s\n",
      "[CV 3/5] END C=1.0, max_iter=100, penalty=l1, solver=saga;, score=1.000 total time=   0.0s\n",
      "[CV 4/5] END C=1.0, max_iter=100, penalty=l1, solver=saga;, score=0.958 total time=   0.0s\n",
      "[CV 5/5] END C=1.0, max_iter=100, penalty=l1, solver=saga;, score=0.958 total time=   0.0s\n",
      "[CV 1/5] END C=1.0, max_iter=100, penalty=l2, solver=linear;, score=nan total time=   0.0s\n",
      "[CV 2/5] END C=1.0, max_iter=100, penalty=l2, solver=linear;, score=nan total time=   0.0s\n",
      "[CV 3/5] END C=1.0, max_iter=100, penalty=l2, solver=linear;, score=nan total time=   0.0s\n",
      "[CV 4/5] END C=1.0, max_iter=100, penalty=l2, solver=linear;, score=nan total time=   0.0s\n",
      "[CV 5/5] END C=1.0, max_iter=100, penalty=l2, solver=linear;, score=nan total time=   0.0s\n",
      "[CV 1/5] END C=1.0, max_iter=100, penalty=l2, solver=saga;, score=0.958 total time=   0.0s\n",
      "[CV 2/5] END C=1.0, max_iter=100, penalty=l2, solver=saga;, score=0.958 total time=   0.0s\n",
      "[CV 3/5] END C=1.0, max_iter=100, penalty=l2, solver=saga;, score=1.000 total time=   0.0s\n",
      "[CV 4/5] END C=1.0, max_iter=100, penalty=l2, solver=saga;, score=1.000 total time=   0.0s\n",
      "[CV 5/5] END C=1.0, max_iter=100, penalty=l2, solver=saga;, score=1.000 total time=   0.0s\n",
      "[CV 1/5] END C=1.0, max_iter=500, penalty=l1, solver=linear;, score=nan total time=   0.0s\n",
      "[CV 2/5] END C=1.0, max_iter=500, penalty=l1, solver=linear;, score=nan total time=   0.0s\n",
      "[CV 3/5] END C=1.0, max_iter=500, penalty=l1, solver=linear;, score=nan total time=   0.0s\n",
      "[CV 4/5] END C=1.0, max_iter=500, penalty=l1, solver=linear;, score=nan total time=   0.0s\n",
      "[CV 5/5] END C=1.0, max_iter=500, penalty=l1, solver=linear;, score=nan total time=   0.0s\n",
      "[CV 1/5] END C=1.0, max_iter=500, penalty=l1, solver=saga;, score=0.958 total time=   0.0s\n",
      "[CV 2/5] END C=1.0, max_iter=500, penalty=l1, solver=saga;, score=0.958 total time=   0.0s\n",
      "[CV 3/5] END C=1.0, max_iter=500, penalty=l1, solver=saga;, score=1.000 total time=   0.0s\n",
      "[CV 4/5] END C=1.0, max_iter=500, penalty=l1, solver=saga;, score=1.000 total time=   0.0s\n",
      "[CV 5/5] END C=1.0, max_iter=500, penalty=l1, solver=saga;, score=1.000 total time=   0.0s\n",
      "[CV 1/5] END C=1.0, max_iter=500, penalty=l2, solver=linear;, score=nan total time=   0.0s\n",
      "[CV 2/5] END C=1.0, max_iter=500, penalty=l2, solver=linear;, score=nan total time=   0.0s\n",
      "[CV 3/5] END C=1.0, max_iter=500, penalty=l2, solver=linear;, score=nan total time=   0.0s\n",
      "[CV 4/5] END C=1.0, max_iter=500, penalty=l2, solver=linear;, score=nan total time=   0.0s\n",
      "[CV 5/5] END C=1.0, max_iter=500, penalty=l2, solver=linear;, score=nan total time=   0.0s\n"
     ]
    },
    {
     "name": "stdout",
     "output_type": "stream",
     "text": [
      "[CV 1/5] END C=1.0, max_iter=500, penalty=l2, solver=saga;, score=1.000 total time=   0.0s\n",
      "[CV 2/5] END C=1.0, max_iter=500, penalty=l2, solver=saga;, score=0.958 total time=   0.0s\n",
      "[CV 3/5] END C=1.0, max_iter=500, penalty=l2, solver=saga;, score=1.000 total time=   0.0s\n",
      "[CV 4/5] END C=1.0, max_iter=500, penalty=l2, solver=saga;, score=1.000 total time=   0.0s\n",
      "[CV 5/5] END C=1.0, max_iter=500, penalty=l2, solver=saga;, score=1.000 total time=   0.0s\n",
      "[CV 1/5] END C=1.0, max_iter=1000, penalty=l1, solver=linear;, score=nan total time=   0.0s\n",
      "[CV 2/5] END C=1.0, max_iter=1000, penalty=l1, solver=linear;, score=nan total time=   0.0s\n",
      "[CV 3/5] END C=1.0, max_iter=1000, penalty=l1, solver=linear;, score=nan total time=   0.0s\n",
      "[CV 4/5] END C=1.0, max_iter=1000, penalty=l1, solver=linear;, score=nan total time=   0.0s\n",
      "[CV 5/5] END C=1.0, max_iter=1000, penalty=l1, solver=linear;, score=nan total time=   0.0s\n",
      "[CV 1/5] END C=1.0, max_iter=1000, penalty=l1, solver=saga;, score=0.958 total time=   0.0s\n",
      "[CV 2/5] END C=1.0, max_iter=1000, penalty=l1, solver=saga;, score=0.958 total time=   0.0s\n",
      "[CV 3/5] END C=1.0, max_iter=1000, penalty=l1, solver=saga;, score=1.000 total time=   0.0s\n",
      "[CV 4/5] END C=1.0, max_iter=1000, penalty=l1, solver=saga;, score=1.000 total time=   0.0s\n",
      "[CV 5/5] END C=1.0, max_iter=1000, penalty=l1, solver=saga;, score=1.000 total time=   0.0s\n",
      "[CV 1/5] END C=1.0, max_iter=1000, penalty=l2, solver=linear;, score=nan total time=   0.0s\n",
      "[CV 2/5] END C=1.0, max_iter=1000, penalty=l2, solver=linear;, score=nan total time=   0.0s\n",
      "[CV 3/5] END C=1.0, max_iter=1000, penalty=l2, solver=linear;, score=nan total time=   0.0s\n",
      "[CV 4/5] END C=1.0, max_iter=1000, penalty=l2, solver=linear;, score=nan total time=   0.0s\n",
      "[CV 5/5] END C=1.0, max_iter=1000, penalty=l2, solver=linear;, score=nan total time=   0.0s\n",
      "[CV 1/5] END C=1.0, max_iter=1000, penalty=l2, solver=saga;, score=1.000 total time=   0.0s\n",
      "[CV 2/5] END C=1.0, max_iter=1000, penalty=l2, solver=saga;, score=0.958 total time=   0.0s\n",
      "[CV 3/5] END C=1.0, max_iter=1000, penalty=l2, solver=saga;, score=1.000 total time=   0.0s\n",
      "[CV 4/5] END C=1.0, max_iter=1000, penalty=l2, solver=saga;, score=1.000 total time=   0.0s\n",
      "[CV 5/5] END C=1.0, max_iter=1000, penalty=l2, solver=saga;, score=1.000 total time=   0.0s\n",
      "[CV 1/5] END C=1.0, max_iter=5000, penalty=l1, solver=linear;, score=nan total time=   0.0s\n",
      "[CV 2/5] END C=1.0, max_iter=5000, penalty=l1, solver=linear;, score=nan total time=   0.0s\n",
      "[CV 3/5] END C=1.0, max_iter=5000, penalty=l1, solver=linear;, score=nan total time=   0.0s\n",
      "[CV 4/5] END C=1.0, max_iter=5000, penalty=l1, solver=linear;, score=nan total time=   0.0s\n",
      "[CV 5/5] END C=1.0, max_iter=5000, penalty=l1, solver=linear;, score=nan total time=   0.0s\n",
      "[CV 1/5] END C=1.0, max_iter=5000, penalty=l1, solver=saga;, score=1.000 total time=   0.0s\n",
      "[CV 2/5] END C=1.0, max_iter=5000, penalty=l1, solver=saga;, score=0.958 total time=   0.0s\n",
      "[CV 3/5] END C=1.0, max_iter=5000, penalty=l1, solver=saga;, score=1.000 total time=   0.0s\n",
      "[CV 4/5] END C=1.0, max_iter=5000, penalty=l1, solver=saga;, score=1.000 total time=   0.0s\n",
      "[CV 5/5] END C=1.0, max_iter=5000, penalty=l1, solver=saga;, score=1.000 total time=   0.0s\n",
      "[CV 1/5] END C=1.0, max_iter=5000, penalty=l2, solver=linear;, score=nan total time=   0.0s\n",
      "[CV 2/5] END C=1.0, max_iter=5000, penalty=l2, solver=linear;, score=nan total time=   0.0s\n",
      "[CV 3/5] END C=1.0, max_iter=5000, penalty=l2, solver=linear;, score=nan total time=   0.0s\n",
      "[CV 4/5] END C=1.0, max_iter=5000, penalty=l2, solver=linear;, score=nan total time=   0.0s\n",
      "[CV 5/5] END C=1.0, max_iter=5000, penalty=l2, solver=linear;, score=nan total time=   0.0s\n",
      "[CV 1/5] END C=1.0, max_iter=5000, penalty=l2, solver=saga;, score=1.000 total time=   0.0s\n",
      "[CV 2/5] END C=1.0, max_iter=5000, penalty=l2, solver=saga;, score=0.958 total time=   0.0s\n",
      "[CV 3/5] END C=1.0, max_iter=5000, penalty=l2, solver=saga;, score=1.000 total time=   0.0s\n",
      "[CV 4/5] END C=1.0, max_iter=5000, penalty=l2, solver=saga;, score=1.000 total time=   0.0s\n",
      "[CV 5/5] END C=1.0, max_iter=5000, penalty=l2, solver=saga;, score=1.000 total time=   0.0s\n",
      "[CV 1/5] END C=1.0, max_iter=10000, penalty=l1, solver=linear;, score=nan total time=   0.0s\n",
      "[CV 2/5] END C=1.0, max_iter=10000, penalty=l1, solver=linear;, score=nan total time=   0.0s\n",
      "[CV 3/5] END C=1.0, max_iter=10000, penalty=l1, solver=linear;, score=nan total time=   0.0s\n",
      "[CV 4/5] END C=1.0, max_iter=10000, penalty=l1, solver=linear;, score=nan total time=   0.0s\n",
      "[CV 5/5] END C=1.0, max_iter=10000, penalty=l1, solver=linear;, score=nan total time=   0.0s\n",
      "[CV 1/5] END C=1.0, max_iter=10000, penalty=l1, solver=saga;, score=1.000 total time=   0.0s\n",
      "[CV 2/5] END C=1.0, max_iter=10000, penalty=l1, solver=saga;, score=0.958 total time=   0.0s\n",
      "[CV 3/5] END C=1.0, max_iter=10000, penalty=l1, solver=saga;, score=1.000 total time=   0.0s\n",
      "[CV 4/5] END C=1.0, max_iter=10000, penalty=l1, solver=saga;, score=1.000 total time=   0.0s\n",
      "[CV 5/5] END C=1.0, max_iter=10000, penalty=l1, solver=saga;, score=1.000 total time=   0.0s\n",
      "[CV 1/5] END C=1.0, max_iter=10000, penalty=l2, solver=linear;, score=nan total time=   0.0s\n",
      "[CV 2/5] END C=1.0, max_iter=10000, penalty=l2, solver=linear;, score=nan total time=   0.0s\n",
      "[CV 3/5] END C=1.0, max_iter=10000, penalty=l2, solver=linear;, score=nan total time=   0.0s\n",
      "[CV 4/5] END C=1.0, max_iter=10000, penalty=l2, solver=linear;, score=nan total time=   0.0s\n",
      "[CV 5/5] END C=1.0, max_iter=10000, penalty=l2, solver=linear;, score=nan total time=   0.0s\n",
      "[CV 1/5] END C=1.0, max_iter=10000, penalty=l2, solver=saga;, score=1.000 total time=   0.0s\n",
      "[CV 2/5] END C=1.0, max_iter=10000, penalty=l2, solver=saga;, score=0.958 total time=   0.0s\n",
      "[CV 3/5] END C=1.0, max_iter=10000, penalty=l2, solver=saga;, score=1.000 total time=   0.0s\n",
      "[CV 4/5] END C=1.0, max_iter=10000, penalty=l2, solver=saga;, score=1.000 total time=   0.0s\n",
      "[CV 5/5] END C=1.0, max_iter=10000, penalty=l2, solver=saga;, score=1.000 total time=   0.0s\n",
      "[CV 1/5] END C=1.5, max_iter=100, penalty=l1, solver=linear;, score=nan total time=   0.0s\n",
      "[CV 2/5] END C=1.5, max_iter=100, penalty=l1, solver=linear;, score=nan total time=   0.0s\n",
      "[CV 3/5] END C=1.5, max_iter=100, penalty=l1, solver=linear;, score=nan total time=   0.0s\n",
      "[CV 4/5] END C=1.5, max_iter=100, penalty=l1, solver=linear;, score=nan total time=   0.0s\n",
      "[CV 5/5] END C=1.5, max_iter=100, penalty=l1, solver=linear;, score=nan total time=   0.0s\n",
      "[CV 1/5] END C=1.5, max_iter=100, penalty=l1, solver=saga;, score=0.958 total time=   0.0s\n",
      "[CV 2/5] END C=1.5, max_iter=100, penalty=l1, solver=saga;, score=1.000 total time=   0.0s\n",
      "[CV 3/5] END C=1.5, max_iter=100, penalty=l1, solver=saga;, score=1.000 total time=   0.0s\n",
      "[CV 4/5] END C=1.5, max_iter=100, penalty=l1, solver=saga;, score=0.958 total time=   0.0s\n",
      "[CV 5/5] END C=1.5, max_iter=100, penalty=l1, solver=saga;, score=0.958 total time=   0.0s\n",
      "[CV 1/5] END C=1.5, max_iter=100, penalty=l2, solver=linear;, score=nan total time=   0.0s\n",
      "[CV 2/5] END C=1.5, max_iter=100, penalty=l2, solver=linear;, score=nan total time=   0.0s\n",
      "[CV 3/5] END C=1.5, max_iter=100, penalty=l2, solver=linear;, score=nan total time=   0.0s\n",
      "[CV 4/5] END C=1.5, max_iter=100, penalty=l2, solver=linear;, score=nan total time=   0.0s\n",
      "[CV 5/5] END C=1.5, max_iter=100, penalty=l2, solver=linear;, score=nan total time=   0.0s\n",
      "[CV 1/5] END C=1.5, max_iter=100, penalty=l2, solver=saga;, score=0.958 total time=   0.0s\n",
      "[CV 2/5] END C=1.5, max_iter=100, penalty=l2, solver=saga;, score=0.958 total time=   0.0s\n",
      "[CV 3/5] END C=1.5, max_iter=100, penalty=l2, solver=saga;, score=1.000 total time=   0.0s\n",
      "[CV 4/5] END C=1.5, max_iter=100, penalty=l2, solver=saga;, score=1.000 total time=   0.0s\n",
      "[CV 5/5] END C=1.5, max_iter=100, penalty=l2, solver=saga;, score=0.958 total time=   0.0s\n",
      "[CV 1/5] END C=1.5, max_iter=500, penalty=l1, solver=linear;, score=nan total time=   0.0s\n",
      "[CV 2/5] END C=1.5, max_iter=500, penalty=l1, solver=linear;, score=nan total time=   0.0s\n",
      "[CV 3/5] END C=1.5, max_iter=500, penalty=l1, solver=linear;, score=nan total time=   0.0s\n",
      "[CV 4/5] END C=1.5, max_iter=500, penalty=l1, solver=linear;, score=nan total time=   0.0s\n",
      "[CV 5/5] END C=1.5, max_iter=500, penalty=l1, solver=linear;, score=nan total time=   0.0s\n",
      "[CV 1/5] END C=1.5, max_iter=500, penalty=l1, solver=saga;, score=0.958 total time=   0.0s\n",
      "[CV 2/5] END C=1.5, max_iter=500, penalty=l1, solver=saga;, score=0.958 total time=   0.0s\n",
      "[CV 3/5] END C=1.5, max_iter=500, penalty=l1, solver=saga;, score=1.000 total time=   0.0s\n",
      "[CV 4/5] END C=1.5, max_iter=500, penalty=l1, solver=saga;, score=1.000 total time=   0.0s\n",
      "[CV 5/5] END C=1.5, max_iter=500, penalty=l1, solver=saga;, score=0.958 total time=   0.0s\n",
      "[CV 1/5] END C=1.5, max_iter=500, penalty=l2, solver=linear;, score=nan total time=   0.0s\n",
      "[CV 2/5] END C=1.5, max_iter=500, penalty=l2, solver=linear;, score=nan total time=   0.0s\n",
      "[CV 3/5] END C=1.5, max_iter=500, penalty=l2, solver=linear;, score=nan total time=   0.0s\n",
      "[CV 4/5] END C=1.5, max_iter=500, penalty=l2, solver=linear;, score=nan total time=   0.0s\n",
      "[CV 5/5] END C=1.5, max_iter=500, penalty=l2, solver=linear;, score=nan total time=   0.0s\n",
      "[CV 1/5] END C=1.5, max_iter=500, penalty=l2, solver=saga;, score=1.000 total time=   0.0s\n",
      "[CV 2/5] END C=1.5, max_iter=500, penalty=l2, solver=saga;, score=0.958 total time=   0.0s\n",
      "[CV 3/5] END C=1.5, max_iter=500, penalty=l2, solver=saga;, score=1.000 total time=   0.0s\n"
     ]
    },
    {
     "name": "stdout",
     "output_type": "stream",
     "text": [
      "[CV 4/5] END C=1.5, max_iter=500, penalty=l2, solver=saga;, score=1.000 total time=   0.0s\n",
      "[CV 5/5] END C=1.5, max_iter=500, penalty=l2, solver=saga;, score=1.000 total time=   0.0s\n",
      "[CV 1/5] END C=1.5, max_iter=1000, penalty=l1, solver=linear;, score=nan total time=   0.0s\n",
      "[CV 2/5] END C=1.5, max_iter=1000, penalty=l1, solver=linear;, score=nan total time=   0.0s\n",
      "[CV 3/5] END C=1.5, max_iter=1000, penalty=l1, solver=linear;, score=nan total time=   0.0s\n",
      "[CV 4/5] END C=1.5, max_iter=1000, penalty=l1, solver=linear;, score=nan total time=   0.0s\n",
      "[CV 5/5] END C=1.5, max_iter=1000, penalty=l1, solver=linear;, score=nan total time=   0.0s\n",
      "[CV 1/5] END C=1.5, max_iter=1000, penalty=l1, solver=saga;, score=0.958 total time=   0.0s\n",
      "[CV 2/5] END C=1.5, max_iter=1000, penalty=l1, solver=saga;, score=0.958 total time=   0.0s\n",
      "[CV 3/5] END C=1.5, max_iter=1000, penalty=l1, solver=saga;, score=1.000 total time=   0.0s\n",
      "[CV 4/5] END C=1.5, max_iter=1000, penalty=l1, solver=saga;, score=1.000 total time=   0.0s\n",
      "[CV 5/5] END C=1.5, max_iter=1000, penalty=l1, solver=saga;, score=1.000 total time=   0.0s\n",
      "[CV 1/5] END C=1.5, max_iter=1000, penalty=l2, solver=linear;, score=nan total time=   0.0s\n",
      "[CV 2/5] END C=1.5, max_iter=1000, penalty=l2, solver=linear;, score=nan total time=   0.0s\n",
      "[CV 3/5] END C=1.5, max_iter=1000, penalty=l2, solver=linear;, score=nan total time=   0.0s\n",
      "[CV 4/5] END C=1.5, max_iter=1000, penalty=l2, solver=linear;, score=nan total time=   0.0s\n",
      "[CV 5/5] END C=1.5, max_iter=1000, penalty=l2, solver=linear;, score=nan total time=   0.0s\n",
      "[CV 1/5] END C=1.5, max_iter=1000, penalty=l2, solver=saga;, score=1.000 total time=   0.0s\n",
      "[CV 2/5] END C=1.5, max_iter=1000, penalty=l2, solver=saga;, score=0.958 total time=   0.0s\n",
      "[CV 3/5] END C=1.5, max_iter=1000, penalty=l2, solver=saga;, score=1.000 total time=   0.0s\n",
      "[CV 4/5] END C=1.5, max_iter=1000, penalty=l2, solver=saga;, score=1.000 total time=   0.0s\n",
      "[CV 5/5] END C=1.5, max_iter=1000, penalty=l2, solver=saga;, score=1.000 total time=   0.0s\n",
      "[CV 1/5] END C=1.5, max_iter=5000, penalty=l1, solver=linear;, score=nan total time=   0.0s\n",
      "[CV 2/5] END C=1.5, max_iter=5000, penalty=l1, solver=linear;, score=nan total time=   0.0s\n",
      "[CV 3/5] END C=1.5, max_iter=5000, penalty=l1, solver=linear;, score=nan total time=   0.0s\n",
      "[CV 4/5] END C=1.5, max_iter=5000, penalty=l1, solver=linear;, score=nan total time=   0.0s\n",
      "[CV 5/5] END C=1.5, max_iter=5000, penalty=l1, solver=linear;, score=nan total time=   0.0s\n",
      "[CV 1/5] END C=1.5, max_iter=5000, penalty=l1, solver=saga;, score=0.958 total time=   0.0s\n",
      "[CV 2/5] END C=1.5, max_iter=5000, penalty=l1, solver=saga;, score=0.958 total time=   0.0s\n",
      "[CV 3/5] END C=1.5, max_iter=5000, penalty=l1, solver=saga;, score=1.000 total time=   0.0s\n",
      "[CV 4/5] END C=1.5, max_iter=5000, penalty=l1, solver=saga;, score=1.000 total time=   0.0s\n",
      "[CV 5/5] END C=1.5, max_iter=5000, penalty=l1, solver=saga;, score=1.000 total time=   0.0s\n",
      "[CV 1/5] END C=1.5, max_iter=5000, penalty=l2, solver=linear;, score=nan total time=   0.0s\n",
      "[CV 2/5] END C=1.5, max_iter=5000, penalty=l2, solver=linear;, score=nan total time=   0.0s\n",
      "[CV 3/5] END C=1.5, max_iter=5000, penalty=l2, solver=linear;, score=nan total time=   0.0s\n",
      "[CV 4/5] END C=1.5, max_iter=5000, penalty=l2, solver=linear;, score=nan total time=   0.0s\n",
      "[CV 5/5] END C=1.5, max_iter=5000, penalty=l2, solver=linear;, score=nan total time=   0.0s\n",
      "[CV 1/5] END C=1.5, max_iter=5000, penalty=l2, solver=saga;, score=1.000 total time=   0.0s\n",
      "[CV 2/5] END C=1.5, max_iter=5000, penalty=l2, solver=saga;, score=0.958 total time=   0.0s\n",
      "[CV 3/5] END C=1.5, max_iter=5000, penalty=l2, solver=saga;, score=1.000 total time=   0.0s\n",
      "[CV 4/5] END C=1.5, max_iter=5000, penalty=l2, solver=saga;, score=1.000 total time=   0.0s\n",
      "[CV 5/5] END C=1.5, max_iter=5000, penalty=l2, solver=saga;, score=1.000 total time=   0.0s\n",
      "[CV 1/5] END C=1.5, max_iter=10000, penalty=l1, solver=linear;, score=nan total time=   0.0s\n",
      "[CV 2/5] END C=1.5, max_iter=10000, penalty=l1, solver=linear;, score=nan total time=   0.0s\n",
      "[CV 3/5] END C=1.5, max_iter=10000, penalty=l1, solver=linear;, score=nan total time=   0.0s\n",
      "[CV 4/5] END C=1.5, max_iter=10000, penalty=l1, solver=linear;, score=nan total time=   0.0s\n",
      "[CV 5/5] END C=1.5, max_iter=10000, penalty=l1, solver=linear;, score=nan total time=   0.0s\n",
      "[CV 1/5] END C=1.5, max_iter=10000, penalty=l1, solver=saga;, score=0.958 total time=   0.0s\n",
      "[CV 2/5] END C=1.5, max_iter=10000, penalty=l1, solver=saga;, score=0.958 total time=   0.0s\n",
      "[CV 3/5] END C=1.5, max_iter=10000, penalty=l1, solver=saga;, score=1.000 total time=   0.0s\n",
      "[CV 4/5] END C=1.5, max_iter=10000, penalty=l1, solver=saga;, score=1.000 total time=   0.0s\n",
      "[CV 5/5] END C=1.5, max_iter=10000, penalty=l1, solver=saga;, score=1.000 total time=   0.0s\n",
      "[CV 1/5] END C=1.5, max_iter=10000, penalty=l2, solver=linear;, score=nan total time=   0.0s\n",
      "[CV 2/5] END C=1.5, max_iter=10000, penalty=l2, solver=linear;, score=nan total time=   0.0s\n",
      "[CV 3/5] END C=1.5, max_iter=10000, penalty=l2, solver=linear;, score=nan total time=   0.0s\n",
      "[CV 4/5] END C=1.5, max_iter=10000, penalty=l2, solver=linear;, score=nan total time=   0.0s\n",
      "[CV 5/5] END C=1.5, max_iter=10000, penalty=l2, solver=linear;, score=nan total time=   0.0s\n",
      "[CV 1/5] END C=1.5, max_iter=10000, penalty=l2, solver=saga;, score=1.000 total time=   0.0s\n",
      "[CV 2/5] END C=1.5, max_iter=10000, penalty=l2, solver=saga;, score=0.958 total time=   0.0s\n",
      "[CV 3/5] END C=1.5, max_iter=10000, penalty=l2, solver=saga;, score=1.000 total time=   0.0s\n",
      "[CV 4/5] END C=1.5, max_iter=10000, penalty=l2, solver=saga;, score=1.000 total time=   0.0s\n",
      "[CV 5/5] END C=1.5, max_iter=10000, penalty=l2, solver=saga;, score=1.000 total time=   0.0s\n",
      "[CV 1/5] END C=2.0, max_iter=100, penalty=l1, solver=linear;, score=nan total time=   0.0s\n",
      "[CV 2/5] END C=2.0, max_iter=100, penalty=l1, solver=linear;, score=nan total time=   0.0s\n",
      "[CV 3/5] END C=2.0, max_iter=100, penalty=l1, solver=linear;, score=nan total time=   0.0s\n",
      "[CV 4/5] END C=2.0, max_iter=100, penalty=l1, solver=linear;, score=nan total time=   0.0s\n",
      "[CV 5/5] END C=2.0, max_iter=100, penalty=l1, solver=linear;, score=nan total time=   0.0s\n",
      "[CV 1/5] END C=2.0, max_iter=100, penalty=l1, solver=saga;, score=0.958 total time=   0.0s\n",
      "[CV 2/5] END C=2.0, max_iter=100, penalty=l1, solver=saga;, score=1.000 total time=   0.0s\n",
      "[CV 3/5] END C=2.0, max_iter=100, penalty=l1, solver=saga;, score=1.000 total time=   0.0s\n",
      "[CV 4/5] END C=2.0, max_iter=100, penalty=l1, solver=saga;, score=0.958 total time=   0.0s\n",
      "[CV 5/5] END C=2.0, max_iter=100, penalty=l1, solver=saga;, score=0.958 total time=   0.0s\n",
      "[CV 1/5] END C=2.0, max_iter=100, penalty=l2, solver=linear;, score=nan total time=   0.0s\n",
      "[CV 2/5] END C=2.0, max_iter=100, penalty=l2, solver=linear;, score=nan total time=   0.0s\n",
      "[CV 3/5] END C=2.0, max_iter=100, penalty=l2, solver=linear;, score=nan total time=   0.0s\n",
      "[CV 4/5] END C=2.0, max_iter=100, penalty=l2, solver=linear;, score=nan total time=   0.0s\n",
      "[CV 5/5] END C=2.0, max_iter=100, penalty=l2, solver=linear;, score=nan total time=   0.0s\n",
      "[CV 1/5] END C=2.0, max_iter=100, penalty=l2, solver=saga;, score=0.958 total time=   0.0s\n",
      "[CV 2/5] END C=2.0, max_iter=100, penalty=l2, solver=saga;, score=0.958 total time=   0.0s\n",
      "[CV 3/5] END C=2.0, max_iter=100, penalty=l2, solver=saga;, score=1.000 total time=   0.0s\n",
      "[CV 4/5] END C=2.0, max_iter=100, penalty=l2, solver=saga;, score=1.000 total time=   0.0s\n",
      "[CV 5/5] END C=2.0, max_iter=100, penalty=l2, solver=saga;, score=0.958 total time=   0.0s\n",
      "[CV 1/5] END C=2.0, max_iter=500, penalty=l1, solver=linear;, score=nan total time=   0.0s\n",
      "[CV 2/5] END C=2.0, max_iter=500, penalty=l1, solver=linear;, score=nan total time=   0.0s\n",
      "[CV 3/5] END C=2.0, max_iter=500, penalty=l1, solver=linear;, score=nan total time=   0.0s\n",
      "[CV 4/5] END C=2.0, max_iter=500, penalty=l1, solver=linear;, score=nan total time=   0.0s\n",
      "[CV 5/5] END C=2.0, max_iter=500, penalty=l1, solver=linear;, score=nan total time=   0.0s\n",
      "[CV 1/5] END C=2.0, max_iter=500, penalty=l1, solver=saga;, score=0.958 total time=   0.0s\n",
      "[CV 2/5] END C=2.0, max_iter=500, penalty=l1, solver=saga;, score=0.958 total time=   0.0s\n",
      "[CV 3/5] END C=2.0, max_iter=500, penalty=l1, solver=saga;, score=1.000 total time=   0.0s\n",
      "[CV 4/5] END C=2.0, max_iter=500, penalty=l1, solver=saga;, score=1.000 total time=   0.0s\n",
      "[CV 5/5] END C=2.0, max_iter=500, penalty=l1, solver=saga;, score=0.958 total time=   0.0s\n",
      "[CV 1/5] END C=2.0, max_iter=500, penalty=l2, solver=linear;, score=nan total time=   0.0s\n",
      "[CV 2/5] END C=2.0, max_iter=500, penalty=l2, solver=linear;, score=nan total time=   0.0s\n",
      "[CV 3/5] END C=2.0, max_iter=500, penalty=l2, solver=linear;, score=nan total time=   0.0s\n"
     ]
    },
    {
     "name": "stdout",
     "output_type": "stream",
     "text": [
      "[CV 4/5] END C=2.0, max_iter=500, penalty=l2, solver=linear;, score=nan total time=   0.0s\n",
      "[CV 5/5] END C=2.0, max_iter=500, penalty=l2, solver=linear;, score=nan total time=   0.0s\n",
      "[CV 1/5] END C=2.0, max_iter=500, penalty=l2, solver=saga;, score=0.958 total time=   0.0s\n",
      "[CV 2/5] END C=2.0, max_iter=500, penalty=l2, solver=saga;, score=0.958 total time=   0.0s\n",
      "[CV 3/5] END C=2.0, max_iter=500, penalty=l2, solver=saga;, score=1.000 total time=   0.0s\n",
      "[CV 4/5] END C=2.0, max_iter=500, penalty=l2, solver=saga;, score=1.000 total time=   0.0s\n",
      "[CV 5/5] END C=2.0, max_iter=500, penalty=l2, solver=saga;, score=1.000 total time=   0.0s\n",
      "[CV 1/5] END C=2.0, max_iter=1000, penalty=l1, solver=linear;, score=nan total time=   0.0s\n",
      "[CV 2/5] END C=2.0, max_iter=1000, penalty=l1, solver=linear;, score=nan total time=   0.0s\n",
      "[CV 3/5] END C=2.0, max_iter=1000, penalty=l1, solver=linear;, score=nan total time=   0.0s\n",
      "[CV 4/5] END C=2.0, max_iter=1000, penalty=l1, solver=linear;, score=nan total time=   0.0s\n",
      "[CV 5/5] END C=2.0, max_iter=1000, penalty=l1, solver=linear;, score=nan total time=   0.0s\n",
      "[CV 1/5] END C=2.0, max_iter=1000, penalty=l1, solver=saga;, score=0.958 total time=   0.0s\n",
      "[CV 2/5] END C=2.0, max_iter=1000, penalty=l1, solver=saga;, score=0.958 total time=   0.0s\n",
      "[CV 3/5] END C=2.0, max_iter=1000, penalty=l1, solver=saga;, score=1.000 total time=   0.0s\n",
      "[CV 4/5] END C=2.0, max_iter=1000, penalty=l1, solver=saga;, score=1.000 total time=   0.0s\n",
      "[CV 5/5] END C=2.0, max_iter=1000, penalty=l1, solver=saga;, score=1.000 total time=   0.0s\n",
      "[CV 1/5] END C=2.0, max_iter=1000, penalty=l2, solver=linear;, score=nan total time=   0.0s\n",
      "[CV 2/5] END C=2.0, max_iter=1000, penalty=l2, solver=linear;, score=nan total time=   0.0s\n",
      "[CV 3/5] END C=2.0, max_iter=1000, penalty=l2, solver=linear;, score=nan total time=   0.0s\n",
      "[CV 4/5] END C=2.0, max_iter=1000, penalty=l2, solver=linear;, score=nan total time=   0.0s\n",
      "[CV 5/5] END C=2.0, max_iter=1000, penalty=l2, solver=linear;, score=nan total time=   0.0s\n",
      "[CV 1/5] END C=2.0, max_iter=1000, penalty=l2, solver=saga;, score=1.000 total time=   0.0s\n",
      "[CV 2/5] END C=2.0, max_iter=1000, penalty=l2, solver=saga;, score=0.958 total time=   0.0s\n",
      "[CV 3/5] END C=2.0, max_iter=1000, penalty=l2, solver=saga;, score=1.000 total time=   0.0s\n",
      "[CV 4/5] END C=2.0, max_iter=1000, penalty=l2, solver=saga;, score=1.000 total time=   0.0s\n",
      "[CV 5/5] END C=2.0, max_iter=1000, penalty=l2, solver=saga;, score=1.000 total time=   0.0s\n",
      "[CV 1/5] END C=2.0, max_iter=5000, penalty=l1, solver=linear;, score=nan total time=   0.0s\n",
      "[CV 2/5] END C=2.0, max_iter=5000, penalty=l1, solver=linear;, score=nan total time=   0.0s\n",
      "[CV 3/5] END C=2.0, max_iter=5000, penalty=l1, solver=linear;, score=nan total time=   0.0s\n",
      "[CV 4/5] END C=2.0, max_iter=5000, penalty=l1, solver=linear;, score=nan total time=   0.0s\n",
      "[CV 5/5] END C=2.0, max_iter=5000, penalty=l1, solver=linear;, score=nan total time=   0.0s\n",
      "[CV 1/5] END C=2.0, max_iter=5000, penalty=l1, solver=saga;, score=0.958 total time=   0.0s\n",
      "[CV 2/5] END C=2.0, max_iter=5000, penalty=l1, solver=saga;, score=0.958 total time=   0.0s\n",
      "[CV 3/5] END C=2.0, max_iter=5000, penalty=l1, solver=saga;, score=1.000 total time=   0.0s\n",
      "[CV 4/5] END C=2.0, max_iter=5000, penalty=l1, solver=saga;, score=1.000 total time=   0.0s\n",
      "[CV 5/5] END C=2.0, max_iter=5000, penalty=l1, solver=saga;, score=1.000 total time=   0.0s\n",
      "[CV 1/5] END C=2.0, max_iter=5000, penalty=l2, solver=linear;, score=nan total time=   0.0s\n",
      "[CV 2/5] END C=2.0, max_iter=5000, penalty=l2, solver=linear;, score=nan total time=   0.0s\n",
      "[CV 3/5] END C=2.0, max_iter=5000, penalty=l2, solver=linear;, score=nan total time=   0.0s\n",
      "[CV 4/5] END C=2.0, max_iter=5000, penalty=l2, solver=linear;, score=nan total time=   0.0s\n",
      "[CV 5/5] END C=2.0, max_iter=5000, penalty=l2, solver=linear;, score=nan total time=   0.0s\n",
      "[CV 1/5] END C=2.0, max_iter=5000, penalty=l2, solver=saga;, score=1.000 total time=   0.0s\n",
      "[CV 2/5] END C=2.0, max_iter=5000, penalty=l2, solver=saga;, score=0.958 total time=   0.0s\n",
      "[CV 3/5] END C=2.0, max_iter=5000, penalty=l2, solver=saga;, score=1.000 total time=   0.0s\n",
      "[CV 4/5] END C=2.0, max_iter=5000, penalty=l2, solver=saga;, score=1.000 total time=   0.0s\n",
      "[CV 5/5] END C=2.0, max_iter=5000, penalty=l2, solver=saga;, score=1.000 total time=   0.0s\n",
      "[CV 1/5] END C=2.0, max_iter=10000, penalty=l1, solver=linear;, score=nan total time=   0.0s\n",
      "[CV 2/5] END C=2.0, max_iter=10000, penalty=l1, solver=linear;, score=nan total time=   0.0s\n",
      "[CV 3/5] END C=2.0, max_iter=10000, penalty=l1, solver=linear;, score=nan total time=   0.0s\n",
      "[CV 4/5] END C=2.0, max_iter=10000, penalty=l1, solver=linear;, score=nan total time=   0.0s\n",
      "[CV 5/5] END C=2.0, max_iter=10000, penalty=l1, solver=linear;, score=nan total time=   0.0s\n",
      "[CV 1/5] END C=2.0, max_iter=10000, penalty=l1, solver=saga;, score=0.958 total time=   0.0s\n",
      "[CV 2/5] END C=2.0, max_iter=10000, penalty=l1, solver=saga;, score=0.958 total time=   0.0s\n",
      "[CV 3/5] END C=2.0, max_iter=10000, penalty=l1, solver=saga;, score=1.000 total time=   0.0s\n",
      "[CV 4/5] END C=2.0, max_iter=10000, penalty=l1, solver=saga;, score=1.000 total time=   0.0s\n",
      "[CV 5/5] END C=2.0, max_iter=10000, penalty=l1, solver=saga;, score=1.000 total time=   0.0s\n",
      "[CV 1/5] END C=2.0, max_iter=10000, penalty=l2, solver=linear;, score=nan total time=   0.0s\n",
      "[CV 2/5] END C=2.0, max_iter=10000, penalty=l2, solver=linear;, score=nan total time=   0.0s\n",
      "[CV 3/5] END C=2.0, max_iter=10000, penalty=l2, solver=linear;, score=nan total time=   0.0s\n",
      "[CV 4/5] END C=2.0, max_iter=10000, penalty=l2, solver=linear;, score=nan total time=   0.0s\n",
      "[CV 5/5] END C=2.0, max_iter=10000, penalty=l2, solver=linear;, score=nan total time=   0.0s\n",
      "[CV 1/5] END C=2.0, max_iter=10000, penalty=l2, solver=saga;, score=1.000 total time=   0.0s\n",
      "[CV 2/5] END C=2.0, max_iter=10000, penalty=l2, solver=saga;, score=0.958 total time=   0.0s\n",
      "[CV 3/5] END C=2.0, max_iter=10000, penalty=l2, solver=saga;, score=1.000 total time=   0.0s\n",
      "[CV 4/5] END C=2.0, max_iter=10000, penalty=l2, solver=saga;, score=1.000 total time=   0.0s\n",
      "[CV 5/5] END C=2.0, max_iter=10000, penalty=l2, solver=saga;, score=1.000 total time=   0.0s\n",
      "[CV 1/5] END C=2.5, max_iter=100, penalty=l1, solver=linear;, score=nan total time=   0.0s\n",
      "[CV 2/5] END C=2.5, max_iter=100, penalty=l1, solver=linear;, score=nan total time=   0.0s\n",
      "[CV 3/5] END C=2.5, max_iter=100, penalty=l1, solver=linear;, score=nan total time=   0.0s\n",
      "[CV 4/5] END C=2.5, max_iter=100, penalty=l1, solver=linear;, score=nan total time=   0.0s\n",
      "[CV 5/5] END C=2.5, max_iter=100, penalty=l1, solver=linear;, score=nan total time=   0.0s\n",
      "[CV 1/5] END C=2.5, max_iter=100, penalty=l1, solver=saga;, score=0.958 total time=   0.0s\n",
      "[CV 2/5] END C=2.5, max_iter=100, penalty=l1, solver=saga;, score=1.000 total time=   0.0s\n",
      "[CV 3/5] END C=2.5, max_iter=100, penalty=l1, solver=saga;, score=1.000 total time=   0.0s\n",
      "[CV 4/5] END C=2.5, max_iter=100, penalty=l1, solver=saga;, score=0.958 total time=   0.0s\n",
      "[CV 5/5] END C=2.5, max_iter=100, penalty=l1, solver=saga;, score=0.958 total time=   0.0s\n",
      "[CV 1/5] END C=2.5, max_iter=100, penalty=l2, solver=linear;, score=nan total time=   0.0s\n",
      "[CV 2/5] END C=2.5, max_iter=100, penalty=l2, solver=linear;, score=nan total time=   0.0s\n",
      "[CV 3/5] END C=2.5, max_iter=100, penalty=l2, solver=linear;, score=nan total time=   0.0s\n",
      "[CV 4/5] END C=2.5, max_iter=100, penalty=l2, solver=linear;, score=nan total time=   0.0s\n",
      "[CV 5/5] END C=2.5, max_iter=100, penalty=l2, solver=linear;, score=nan total time=   0.0s\n",
      "[CV 1/5] END C=2.5, max_iter=100, penalty=l2, solver=saga;, score=0.958 total time=   0.0s\n",
      "[CV 2/5] END C=2.5, max_iter=100, penalty=l2, solver=saga;, score=0.958 total time=   0.0s\n",
      "[CV 3/5] END C=2.5, max_iter=100, penalty=l2, solver=saga;, score=1.000 total time=   0.0s\n",
      "[CV 4/5] END C=2.5, max_iter=100, penalty=l2, solver=saga;, score=0.958 total time=   0.0s\n",
      "[CV 5/5] END C=2.5, max_iter=100, penalty=l2, solver=saga;, score=0.958 total time=   0.0s\n",
      "[CV 1/5] END C=2.5, max_iter=500, penalty=l1, solver=linear;, score=nan total time=   0.0s\n",
      "[CV 2/5] END C=2.5, max_iter=500, penalty=l1, solver=linear;, score=nan total time=   0.0s\n",
      "[CV 3/5] END C=2.5, max_iter=500, penalty=l1, solver=linear;, score=nan total time=   0.0s\n",
      "[CV 4/5] END C=2.5, max_iter=500, penalty=l1, solver=linear;, score=nan total time=   0.0s\n",
      "[CV 5/5] END C=2.5, max_iter=500, penalty=l1, solver=linear;, score=nan total time=   0.0s\n",
      "[CV 1/5] END C=2.5, max_iter=500, penalty=l1, solver=saga;, score=0.958 total time=   0.0s\n",
      "[CV 2/5] END C=2.5, max_iter=500, penalty=l1, solver=saga;, score=0.958 total time=   0.0s\n",
      "[CV 3/5] END C=2.5, max_iter=500, penalty=l1, solver=saga;, score=1.000 total time=   0.0s\n",
      "[CV 4/5] END C=2.5, max_iter=500, penalty=l1, solver=saga;, score=0.958 total time=   0.0s\n",
      "[CV 5/5] END C=2.5, max_iter=500, penalty=l1, solver=saga;, score=0.958 total time=   0.0s\n",
      "[CV 1/5] END C=2.5, max_iter=500, penalty=l2, solver=linear;, score=nan total time=   0.0s\n",
      "[CV 2/5] END C=2.5, max_iter=500, penalty=l2, solver=linear;, score=nan total time=   0.0s\n",
      "[CV 3/5] END C=2.5, max_iter=500, penalty=l2, solver=linear;, score=nan total time=   0.0s\n",
      "[CV 4/5] END C=2.5, max_iter=500, penalty=l2, solver=linear;, score=nan total time=   0.0s\n",
      "[CV 5/5] END C=2.5, max_iter=500, penalty=l2, solver=linear;, score=nan total time=   0.0s\n",
      "[CV 1/5] END C=2.5, max_iter=500, penalty=l2, solver=saga;, score=0.958 total time=   0.0s\n",
      "[CV 2/5] END C=2.5, max_iter=500, penalty=l2, solver=saga;, score=0.958 total time=   0.0s\n",
      "[CV 3/5] END C=2.5, max_iter=500, penalty=l2, solver=saga;, score=1.000 total time=   0.0s\n",
      "[CV 4/5] END C=2.5, max_iter=500, penalty=l2, solver=saga;, score=1.000 total time=   0.0s\n",
      "[CV 5/5] END C=2.5, max_iter=500, penalty=l2, solver=saga;, score=1.000 total time=   0.0s\n",
      "[CV 1/5] END C=2.5, max_iter=1000, penalty=l1, solver=linear;, score=nan total time=   0.0s\n",
      "[CV 2/5] END C=2.5, max_iter=1000, penalty=l1, solver=linear;, score=nan total time=   0.0s\n",
      "[CV 3/5] END C=2.5, max_iter=1000, penalty=l1, solver=linear;, score=nan total time=   0.0s\n",
      "[CV 4/5] END C=2.5, max_iter=1000, penalty=l1, solver=linear;, score=nan total time=   0.0s\n",
      "[CV 5/5] END C=2.5, max_iter=1000, penalty=l1, solver=linear;, score=nan total time=   0.0s\n",
      "[CV 1/5] END C=2.5, max_iter=1000, penalty=l1, solver=saga;, score=0.958 total time=   0.0s\n"
     ]
    },
    {
     "name": "stdout",
     "output_type": "stream",
     "text": [
      "[CV 2/5] END C=2.5, max_iter=1000, penalty=l1, solver=saga;, score=0.958 total time=   0.0s\n",
      "[CV 3/5] END C=2.5, max_iter=1000, penalty=l1, solver=saga;, score=1.000 total time=   0.0s\n",
      "[CV 4/5] END C=2.5, max_iter=1000, penalty=l1, solver=saga;, score=1.000 total time=   0.0s\n",
      "[CV 5/5] END C=2.5, max_iter=1000, penalty=l1, solver=saga;, score=1.000 total time=   0.0s\n",
      "[CV 1/5] END C=2.5, max_iter=1000, penalty=l2, solver=linear;, score=nan total time=   0.0s\n",
      "[CV 2/5] END C=2.5, max_iter=1000, penalty=l2, solver=linear;, score=nan total time=   0.0s\n",
      "[CV 3/5] END C=2.5, max_iter=1000, penalty=l2, solver=linear;, score=nan total time=   0.0s\n",
      "[CV 4/5] END C=2.5, max_iter=1000, penalty=l2, solver=linear;, score=nan total time=   0.0s\n",
      "[CV 5/5] END C=2.5, max_iter=1000, penalty=l2, solver=linear;, score=nan total time=   0.0s\n",
      "[CV 1/5] END C=2.5, max_iter=1000, penalty=l2, solver=saga;, score=1.000 total time=   0.0s\n",
      "[CV 2/5] END C=2.5, max_iter=1000, penalty=l2, solver=saga;, score=0.958 total time=   0.0s\n",
      "[CV 3/5] END C=2.5, max_iter=1000, penalty=l2, solver=saga;, score=1.000 total time=   0.0s\n",
      "[CV 4/5] END C=2.5, max_iter=1000, penalty=l2, solver=saga;, score=1.000 total time=   0.0s\n",
      "[CV 5/5] END C=2.5, max_iter=1000, penalty=l2, solver=saga;, score=1.000 total time=   0.0s\n",
      "[CV 1/5] END C=2.5, max_iter=5000, penalty=l1, solver=linear;, score=nan total time=   0.0s\n",
      "[CV 2/5] END C=2.5, max_iter=5000, penalty=l1, solver=linear;, score=nan total time=   0.0s\n",
      "[CV 3/5] END C=2.5, max_iter=5000, penalty=l1, solver=linear;, score=nan total time=   0.0s\n",
      "[CV 4/5] END C=2.5, max_iter=5000, penalty=l1, solver=linear;, score=nan total time=   0.0s\n",
      "[CV 5/5] END C=2.5, max_iter=5000, penalty=l1, solver=linear;, score=nan total time=   0.0s\n",
      "[CV 1/5] END C=2.5, max_iter=5000, penalty=l1, solver=saga;, score=0.958 total time=   0.0s\n",
      "[CV 2/5] END C=2.5, max_iter=5000, penalty=l1, solver=saga;, score=0.958 total time=   0.0s\n",
      "[CV 3/5] END C=2.5, max_iter=5000, penalty=l1, solver=saga;, score=1.000 total time=   0.0s\n",
      "[CV 4/5] END C=2.5, max_iter=5000, penalty=l1, solver=saga;, score=1.000 total time=   0.0s\n",
      "[CV 5/5] END C=2.5, max_iter=5000, penalty=l1, solver=saga;, score=1.000 total time=   0.0s\n",
      "[CV 1/5] END C=2.5, max_iter=5000, penalty=l2, solver=linear;, score=nan total time=   0.0s\n",
      "[CV 2/5] END C=2.5, max_iter=5000, penalty=l2, solver=linear;, score=nan total time=   0.0s\n",
      "[CV 3/5] END C=2.5, max_iter=5000, penalty=l2, solver=linear;, score=nan total time=   0.0s\n",
      "[CV 4/5] END C=2.5, max_iter=5000, penalty=l2, solver=linear;, score=nan total time=   0.0s\n",
      "[CV 5/5] END C=2.5, max_iter=5000, penalty=l2, solver=linear;, score=nan total time=   0.0s\n",
      "[CV 1/5] END C=2.5, max_iter=5000, penalty=l2, solver=saga;, score=1.000 total time=   0.0s\n",
      "[CV 2/5] END C=2.5, max_iter=5000, penalty=l2, solver=saga;, score=0.958 total time=   0.0s\n",
      "[CV 3/5] END C=2.5, max_iter=5000, penalty=l2, solver=saga;, score=1.000 total time=   0.0s\n",
      "[CV 4/5] END C=2.5, max_iter=5000, penalty=l2, solver=saga;, score=1.000 total time=   0.0s\n",
      "[CV 5/5] END C=2.5, max_iter=5000, penalty=l2, solver=saga;, score=1.000 total time=   0.0s\n",
      "[CV 1/5] END C=2.5, max_iter=10000, penalty=l1, solver=linear;, score=nan total time=   0.0s\n",
      "[CV 2/5] END C=2.5, max_iter=10000, penalty=l1, solver=linear;, score=nan total time=   0.0s\n",
      "[CV 3/5] END C=2.5, max_iter=10000, penalty=l1, solver=linear;, score=nan total time=   0.0s\n",
      "[CV 4/5] END C=2.5, max_iter=10000, penalty=l1, solver=linear;, score=nan total time=   0.0s\n",
      "[CV 5/5] END C=2.5, max_iter=10000, penalty=l1, solver=linear;, score=nan total time=   0.0s\n",
      "[CV 1/5] END C=2.5, max_iter=10000, penalty=l1, solver=saga;, score=0.958 total time=   0.0s\n",
      "[CV 2/5] END C=2.5, max_iter=10000, penalty=l1, solver=saga;, score=0.958 total time=   0.0s\n",
      "[CV 3/5] END C=2.5, max_iter=10000, penalty=l1, solver=saga;, score=1.000 total time=   0.0s\n",
      "[CV 4/5] END C=2.5, max_iter=10000, penalty=l1, solver=saga;, score=1.000 total time=   0.0s\n",
      "[CV 5/5] END C=2.5, max_iter=10000, penalty=l1, solver=saga;, score=1.000 total time=   0.0s\n",
      "[CV 1/5] END C=2.5, max_iter=10000, penalty=l2, solver=linear;, score=nan total time=   0.0s\n",
      "[CV 2/5] END C=2.5, max_iter=10000, penalty=l2, solver=linear;, score=nan total time=   0.0s\n",
      "[CV 3/5] END C=2.5, max_iter=10000, penalty=l2, solver=linear;, score=nan total time=   0.0s\n",
      "[CV 4/5] END C=2.5, max_iter=10000, penalty=l2, solver=linear;, score=nan total time=   0.0s\n",
      "[CV 5/5] END C=2.5, max_iter=10000, penalty=l2, solver=linear;, score=nan total time=   0.0s\n",
      "[CV 1/5] END C=2.5, max_iter=10000, penalty=l2, solver=saga;, score=1.000 total time=   0.0s\n",
      "[CV 2/5] END C=2.5, max_iter=10000, penalty=l2, solver=saga;, score=0.958 total time=   0.0s\n",
      "[CV 3/5] END C=2.5, max_iter=10000, penalty=l2, solver=saga;, score=1.000 total time=   0.0s\n",
      "[CV 4/5] END C=2.5, max_iter=10000, penalty=l2, solver=saga;, score=1.000 total time=   0.0s\n",
      "[CV 5/5] END C=2.5, max_iter=10000, penalty=l2, solver=saga;, score=1.000 total time=   0.0s\n",
      "[CV 1/5] END C=3.0, max_iter=100, penalty=l1, solver=linear;, score=nan total time=   0.0s\n",
      "[CV 2/5] END C=3.0, max_iter=100, penalty=l1, solver=linear;, score=nan total time=   0.0s\n",
      "[CV 3/5] END C=3.0, max_iter=100, penalty=l1, solver=linear;, score=nan total time=   0.0s\n",
      "[CV 4/5] END C=3.0, max_iter=100, penalty=l1, solver=linear;, score=nan total time=   0.0s\n",
      "[CV 5/5] END C=3.0, max_iter=100, penalty=l1, solver=linear;, score=nan total time=   0.0s\n",
      "[CV 1/5] END C=3.0, max_iter=100, penalty=l1, solver=saga;, score=0.958 total time=   0.0s\n",
      "[CV 2/5] END C=3.0, max_iter=100, penalty=l1, solver=saga;, score=1.000 total time=   0.0s\n",
      "[CV 3/5] END C=3.0, max_iter=100, penalty=l1, solver=saga;, score=1.000 total time=   0.0s\n",
      "[CV 4/5] END C=3.0, max_iter=100, penalty=l1, solver=saga;, score=0.958 total time=   0.0s\n",
      "[CV 5/5] END C=3.0, max_iter=100, penalty=l1, solver=saga;, score=0.958 total time=   0.0s\n",
      "[CV 1/5] END C=3.0, max_iter=100, penalty=l2, solver=linear;, score=nan total time=   0.0s\n",
      "[CV 2/5] END C=3.0, max_iter=100, penalty=l2, solver=linear;, score=nan total time=   0.0s\n",
      "[CV 3/5] END C=3.0, max_iter=100, penalty=l2, solver=linear;, score=nan total time=   0.0s\n",
      "[CV 4/5] END C=3.0, max_iter=100, penalty=l2, solver=linear;, score=nan total time=   0.0s\n",
      "[CV 5/5] END C=3.0, max_iter=100, penalty=l2, solver=linear;, score=nan total time=   0.0s\n",
      "[CV 1/5] END C=3.0, max_iter=100, penalty=l2, solver=saga;, score=0.958 total time=   0.0s\n",
      "[CV 2/5] END C=3.0, max_iter=100, penalty=l2, solver=saga;, score=0.958 total time=   0.0s\n",
      "[CV 3/5] END C=3.0, max_iter=100, penalty=l2, solver=saga;, score=1.000 total time=   0.0s\n",
      "[CV 4/5] END C=3.0, max_iter=100, penalty=l2, solver=saga;, score=0.958 total time=   0.0s\n",
      "[CV 5/5] END C=3.0, max_iter=100, penalty=l2, solver=saga;, score=0.958 total time=   0.0s\n",
      "[CV 1/5] END C=3.0, max_iter=500, penalty=l1, solver=linear;, score=nan total time=   0.0s\n",
      "[CV 2/5] END C=3.0, max_iter=500, penalty=l1, solver=linear;, score=nan total time=   0.0s\n",
      "[CV 3/5] END C=3.0, max_iter=500, penalty=l1, solver=linear;, score=nan total time=   0.0s\n",
      "[CV 4/5] END C=3.0, max_iter=500, penalty=l1, solver=linear;, score=nan total time=   0.0s\n",
      "[CV 5/5] END C=3.0, max_iter=500, penalty=l1, solver=linear;, score=nan total time=   0.0s\n",
      "[CV 1/5] END C=3.0, max_iter=500, penalty=l1, solver=saga;, score=0.958 total time=   0.0s\n",
      "[CV 2/5] END C=3.0, max_iter=500, penalty=l1, solver=saga;, score=0.958 total time=   0.0s\n",
      "[CV 3/5] END C=3.0, max_iter=500, penalty=l1, solver=saga;, score=1.000 total time=   0.0s\n",
      "[CV 4/5] END C=3.0, max_iter=500, penalty=l1, solver=saga;, score=0.958 total time=   0.0s\n",
      "[CV 5/5] END C=3.0, max_iter=500, penalty=l1, solver=saga;, score=0.958 total time=   0.0s\n",
      "[CV 1/5] END C=3.0, max_iter=500, penalty=l2, solver=linear;, score=nan total time=   0.0s\n",
      "[CV 2/5] END C=3.0, max_iter=500, penalty=l2, solver=linear;, score=nan total time=   0.0s\n",
      "[CV 3/5] END C=3.0, max_iter=500, penalty=l2, solver=linear;, score=nan total time=   0.0s\n",
      "[CV 4/5] END C=3.0, max_iter=500, penalty=l2, solver=linear;, score=nan total time=   0.0s\n",
      "[CV 5/5] END C=3.0, max_iter=500, penalty=l2, solver=linear;, score=nan total time=   0.0s\n",
      "[CV 1/5] END C=3.0, max_iter=500, penalty=l2, solver=saga;, score=0.958 total time=   0.0s\n",
      "[CV 2/5] END C=3.0, max_iter=500, penalty=l2, solver=saga;, score=0.958 total time=   0.0s\n",
      "[CV 3/5] END C=3.0, max_iter=500, penalty=l2, solver=saga;, score=1.000 total time=   0.0s\n",
      "[CV 4/5] END C=3.0, max_iter=500, penalty=l2, solver=saga;, score=1.000 total time=   0.0s\n",
      "[CV 5/5] END C=3.0, max_iter=500, penalty=l2, solver=saga;, score=1.000 total time=   0.0s\n",
      "[CV 1/5] END C=3.0, max_iter=1000, penalty=l1, solver=linear;, score=nan total time=   0.0s\n",
      "[CV 2/5] END C=3.0, max_iter=1000, penalty=l1, solver=linear;, score=nan total time=   0.0s\n"
     ]
    },
    {
     "name": "stdout",
     "output_type": "stream",
     "text": [
      "[CV 3/5] END C=3.0, max_iter=1000, penalty=l1, solver=linear;, score=nan total time=   0.0s\n",
      "[CV 4/5] END C=3.0, max_iter=1000, penalty=l1, solver=linear;, score=nan total time=   0.0s\n",
      "[CV 5/5] END C=3.0, max_iter=1000, penalty=l1, solver=linear;, score=nan total time=   0.0s\n",
      "[CV 1/5] END C=3.0, max_iter=1000, penalty=l1, solver=saga;, score=0.958 total time=   0.0s\n",
      "[CV 2/5] END C=3.0, max_iter=1000, penalty=l1, solver=saga;, score=0.958 total time=   0.0s\n",
      "[CV 3/5] END C=3.0, max_iter=1000, penalty=l1, solver=saga;, score=1.000 total time=   0.0s\n",
      "[CV 4/5] END C=3.0, max_iter=1000, penalty=l1, solver=saga;, score=1.000 total time=   0.0s\n",
      "[CV 5/5] END C=3.0, max_iter=1000, penalty=l1, solver=saga;, score=1.000 total time=   0.0s\n",
      "[CV 1/5] END C=3.0, max_iter=1000, penalty=l2, solver=linear;, score=nan total time=   0.0s\n",
      "[CV 2/5] END C=3.0, max_iter=1000, penalty=l2, solver=linear;, score=nan total time=   0.0s\n",
      "[CV 3/5] END C=3.0, max_iter=1000, penalty=l2, solver=linear;, score=nan total time=   0.0s\n",
      "[CV 4/5] END C=3.0, max_iter=1000, penalty=l2, solver=linear;, score=nan total time=   0.0s\n",
      "[CV 5/5] END C=3.0, max_iter=1000, penalty=l2, solver=linear;, score=nan total time=   0.0s\n",
      "[CV 1/5] END C=3.0, max_iter=1000, penalty=l2, solver=saga;, score=1.000 total time=   0.0s\n",
      "[CV 2/5] END C=3.0, max_iter=1000, penalty=l2, solver=saga;, score=0.958 total time=   0.0s\n",
      "[CV 3/5] END C=3.0, max_iter=1000, penalty=l2, solver=saga;, score=1.000 total time=   0.0s\n",
      "[CV 4/5] END C=3.0, max_iter=1000, penalty=l2, solver=saga;, score=1.000 total time=   0.0s\n",
      "[CV 5/5] END C=3.0, max_iter=1000, penalty=l2, solver=saga;, score=1.000 total time=   0.0s\n",
      "[CV 1/5] END C=3.0, max_iter=5000, penalty=l1, solver=linear;, score=nan total time=   0.0s\n",
      "[CV 2/5] END C=3.0, max_iter=5000, penalty=l1, solver=linear;, score=nan total time=   0.0s\n",
      "[CV 3/5] END C=3.0, max_iter=5000, penalty=l1, solver=linear;, score=nan total time=   0.0s\n",
      "[CV 4/5] END C=3.0, max_iter=5000, penalty=l1, solver=linear;, score=nan total time=   0.0s\n",
      "[CV 5/5] END C=3.0, max_iter=5000, penalty=l1, solver=linear;, score=nan total time=   0.0s\n",
      "[CV 1/5] END C=3.0, max_iter=5000, penalty=l1, solver=saga;, score=0.958 total time=   0.0s\n",
      "[CV 2/5] END C=3.0, max_iter=5000, penalty=l1, solver=saga;, score=0.958 total time=   0.0s\n",
      "[CV 3/5] END C=3.0, max_iter=5000, penalty=l1, solver=saga;, score=1.000 total time=   0.0s\n",
      "[CV 4/5] END C=3.0, max_iter=5000, penalty=l1, solver=saga;, score=1.000 total time=   0.0s\n",
      "[CV 5/5] END C=3.0, max_iter=5000, penalty=l1, solver=saga;, score=1.000 total time=   0.0s\n",
      "[CV 1/5] END C=3.0, max_iter=5000, penalty=l2, solver=linear;, score=nan total time=   0.0s\n",
      "[CV 2/5] END C=3.0, max_iter=5000, penalty=l2, solver=linear;, score=nan total time=   0.0s\n",
      "[CV 3/5] END C=3.0, max_iter=5000, penalty=l2, solver=linear;, score=nan total time=   0.0s\n",
      "[CV 4/5] END C=3.0, max_iter=5000, penalty=l2, solver=linear;, score=nan total time=   0.0s\n",
      "[CV 5/5] END C=3.0, max_iter=5000, penalty=l2, solver=linear;, score=nan total time=   0.0s\n",
      "[CV 1/5] END C=3.0, max_iter=5000, penalty=l2, solver=saga;, score=1.000 total time=   0.0s\n",
      "[CV 2/5] END C=3.0, max_iter=5000, penalty=l2, solver=saga;, score=0.958 total time=   0.0s\n",
      "[CV 3/5] END C=3.0, max_iter=5000, penalty=l2, solver=saga;, score=1.000 total time=   0.0s\n",
      "[CV 4/5] END C=3.0, max_iter=5000, penalty=l2, solver=saga;, score=1.000 total time=   0.0s\n",
      "[CV 5/5] END C=3.0, max_iter=5000, penalty=l2, solver=saga;, score=1.000 total time=   0.0s\n",
      "[CV 1/5] END C=3.0, max_iter=10000, penalty=l1, solver=linear;, score=nan total time=   0.0s\n",
      "[CV 2/5] END C=3.0, max_iter=10000, penalty=l1, solver=linear;, score=nan total time=   0.0s\n",
      "[CV 3/5] END C=3.0, max_iter=10000, penalty=l1, solver=linear;, score=nan total time=   0.0s\n",
      "[CV 4/5] END C=3.0, max_iter=10000, penalty=l1, solver=linear;, score=nan total time=   0.0s\n",
      "[CV 5/5] END C=3.0, max_iter=10000, penalty=l1, solver=linear;, score=nan total time=   0.0s\n",
      "[CV 1/5] END C=3.0, max_iter=10000, penalty=l1, solver=saga;, score=0.958 total time=   0.0s\n",
      "[CV 2/5] END C=3.0, max_iter=10000, penalty=l1, solver=saga;, score=0.958 total time=   0.0s\n",
      "[CV 3/5] END C=3.0, max_iter=10000, penalty=l1, solver=saga;, score=1.000 total time=   0.0s\n",
      "[CV 4/5] END C=3.0, max_iter=10000, penalty=l1, solver=saga;, score=1.000 total time=   0.0s\n",
      "[CV 5/5] END C=3.0, max_iter=10000, penalty=l1, solver=saga;, score=1.000 total time=   0.0s\n",
      "[CV 1/5] END C=3.0, max_iter=10000, penalty=l2, solver=linear;, score=nan total time=   0.0s\n",
      "[CV 2/5] END C=3.0, max_iter=10000, penalty=l2, solver=linear;, score=nan total time=   0.0s\n",
      "[CV 3/5] END C=3.0, max_iter=10000, penalty=l2, solver=linear;, score=nan total time=   0.0s\n",
      "[CV 4/5] END C=3.0, max_iter=10000, penalty=l2, solver=linear;, score=nan total time=   0.0s\n",
      "[CV 5/5] END C=3.0, max_iter=10000, penalty=l2, solver=linear;, score=nan total time=   0.0s\n",
      "[CV 1/5] END C=3.0, max_iter=10000, penalty=l2, solver=saga;, score=1.000 total time=   0.0s\n",
      "[CV 2/5] END C=3.0, max_iter=10000, penalty=l2, solver=saga;, score=0.958 total time=   0.0s\n",
      "[CV 3/5] END C=3.0, max_iter=10000, penalty=l2, solver=saga;, score=1.000 total time=   0.0s\n",
      "[CV 4/5] END C=3.0, max_iter=10000, penalty=l2, solver=saga;, score=1.000 total time=   0.0s\n",
      "[CV 5/5] END C=3.0, max_iter=10000, penalty=l2, solver=saga;, score=1.000 total time=   0.0s\n",
      "[CV 1/5] END C=3.5, max_iter=100, penalty=l1, solver=linear;, score=nan total time=   0.0s\n",
      "[CV 2/5] END C=3.5, max_iter=100, penalty=l1, solver=linear;, score=nan total time=   0.0s\n",
      "[CV 3/5] END C=3.5, max_iter=100, penalty=l1, solver=linear;, score=nan total time=   0.0s\n",
      "[CV 4/5] END C=3.5, max_iter=100, penalty=l1, solver=linear;, score=nan total time=   0.0s\n",
      "[CV 5/5] END C=3.5, max_iter=100, penalty=l1, solver=linear;, score=nan total time=   0.0s\n",
      "[CV 1/5] END C=3.5, max_iter=100, penalty=l1, solver=saga;, score=0.958 total time=   0.0s\n",
      "[CV 2/5] END C=3.5, max_iter=100, penalty=l1, solver=saga;, score=1.000 total time=   0.0s\n",
      "[CV 3/5] END C=3.5, max_iter=100, penalty=l1, solver=saga;, score=1.000 total time=   0.0s\n",
      "[CV 4/5] END C=3.5, max_iter=100, penalty=l1, solver=saga;, score=0.958 total time=   0.0s\n",
      "[CV 5/5] END C=3.5, max_iter=100, penalty=l1, solver=saga;, score=0.958 total time=   0.0s\n",
      "[CV 1/5] END C=3.5, max_iter=100, penalty=l2, solver=linear;, score=nan total time=   0.0s\n",
      "[CV 2/5] END C=3.5, max_iter=100, penalty=l2, solver=linear;, score=nan total time=   0.0s\n",
      "[CV 3/5] END C=3.5, max_iter=100, penalty=l2, solver=linear;, score=nan total time=   0.0s\n",
      "[CV 4/5] END C=3.5, max_iter=100, penalty=l2, solver=linear;, score=nan total time=   0.0s\n",
      "[CV 5/5] END C=3.5, max_iter=100, penalty=l2, solver=linear;, score=nan total time=   0.0s\n",
      "[CV 1/5] END C=3.5, max_iter=100, penalty=l2, solver=saga;, score=0.958 total time=   0.0s\n",
      "[CV 2/5] END C=3.5, max_iter=100, penalty=l2, solver=saga;, score=0.958 total time=   0.0s\n",
      "[CV 3/5] END C=3.5, max_iter=100, penalty=l2, solver=saga;, score=1.000 total time=   0.0s\n",
      "[CV 4/5] END C=3.5, max_iter=100, penalty=l2, solver=saga;, score=0.958 total time=   0.0s\n",
      "[CV 5/5] END C=3.5, max_iter=100, penalty=l2, solver=saga;, score=0.958 total time=   0.0s\n",
      "[CV 1/5] END C=3.5, max_iter=500, penalty=l1, solver=linear;, score=nan total time=   0.0s\n",
      "[CV 2/5] END C=3.5, max_iter=500, penalty=l1, solver=linear;, score=nan total time=   0.0s\n",
      "[CV 3/5] END C=3.5, max_iter=500, penalty=l1, solver=linear;, score=nan total time=   0.0s\n",
      "[CV 4/5] END C=3.5, max_iter=500, penalty=l1, solver=linear;, score=nan total time=   0.0s\n",
      "[CV 5/5] END C=3.5, max_iter=500, penalty=l1, solver=linear;, score=nan total time=   0.0s\n",
      "[CV 1/5] END C=3.5, max_iter=500, penalty=l1, solver=saga;, score=0.958 total time=   0.0s\n",
      "[CV 2/5] END C=3.5, max_iter=500, penalty=l1, solver=saga;, score=0.958 total time=   0.0s\n",
      "[CV 3/5] END C=3.5, max_iter=500, penalty=l1, solver=saga;, score=1.000 total time=   0.0s\n",
      "[CV 4/5] END C=3.5, max_iter=500, penalty=l1, solver=saga;, score=0.958 total time=   0.0s\n",
      "[CV 5/5] END C=3.5, max_iter=500, penalty=l1, solver=saga;, score=0.958 total time=   0.0s\n",
      "[CV 1/5] END C=3.5, max_iter=500, penalty=l2, solver=linear;, score=nan total time=   0.0s\n",
      "[CV 2/5] END C=3.5, max_iter=500, penalty=l2, solver=linear;, score=nan total time=   0.0s\n",
      "[CV 3/5] END C=3.5, max_iter=500, penalty=l2, solver=linear;, score=nan total time=   0.0s\n",
      "[CV 4/5] END C=3.5, max_iter=500, penalty=l2, solver=linear;, score=nan total time=   0.0s\n",
      "[CV 5/5] END C=3.5, max_iter=500, penalty=l2, solver=linear;, score=nan total time=   0.0s\n",
      "[CV 1/5] END C=3.5, max_iter=500, penalty=l2, solver=saga;, score=0.958 total time=   0.0s\n",
      "[CV 2/5] END C=3.5, max_iter=500, penalty=l2, solver=saga;, score=0.958 total time=   0.0s\n",
      "[CV 3/5] END C=3.5, max_iter=500, penalty=l2, solver=saga;, score=1.000 total time=   0.0s\n",
      "[CV 4/5] END C=3.5, max_iter=500, penalty=l2, solver=saga;, score=1.000 total time=   0.0s\n",
      "[CV 5/5] END C=3.5, max_iter=500, penalty=l2, solver=saga;, score=1.000 total time=   0.0s\n",
      "[CV 1/5] END C=3.5, max_iter=1000, penalty=l1, solver=linear;, score=nan total time=   0.0s\n",
      "[CV 2/5] END C=3.5, max_iter=1000, penalty=l1, solver=linear;, score=nan total time=   0.0s\n",
      "[CV 3/5] END C=3.5, max_iter=1000, penalty=l1, solver=linear;, score=nan total time=   0.0s\n",
      "[CV 4/5] END C=3.5, max_iter=1000, penalty=l1, solver=linear;, score=nan total time=   0.0s\n",
      "[CV 5/5] END C=3.5, max_iter=1000, penalty=l1, solver=linear;, score=nan total time=   0.0s\n",
      "[CV 1/5] END C=3.5, max_iter=1000, penalty=l1, solver=saga;, score=0.958 total time=   0.0s\n",
      "[CV 2/5] END C=3.5, max_iter=1000, penalty=l1, solver=saga;, score=0.958 total time=   0.0s\n",
      "[CV 3/5] END C=3.5, max_iter=1000, penalty=l1, solver=saga;, score=1.000 total time=   0.0s\n",
      "[CV 4/5] END C=3.5, max_iter=1000, penalty=l1, solver=saga;, score=1.000 total time=   0.0s\n",
      "[CV 5/5] END C=3.5, max_iter=1000, penalty=l1, solver=saga;, score=1.000 total time=   0.0s\n",
      "[CV 1/5] END C=3.5, max_iter=1000, penalty=l2, solver=linear;, score=nan total time=   0.0s\n",
      "[CV 2/5] END C=3.5, max_iter=1000, penalty=l2, solver=linear;, score=nan total time=   0.0s\n",
      "[CV 3/5] END C=3.5, max_iter=1000, penalty=l2, solver=linear;, score=nan total time=   0.0s\n",
      "[CV 4/5] END C=3.5, max_iter=1000, penalty=l2, solver=linear;, score=nan total time=   0.0s\n",
      "[CV 5/5] END C=3.5, max_iter=1000, penalty=l2, solver=linear;, score=nan total time=   0.0s\n"
     ]
    },
    {
     "name": "stdout",
     "output_type": "stream",
     "text": [
      "[CV 1/5] END C=3.5, max_iter=1000, penalty=l2, solver=saga;, score=0.958 total time=   0.0s\n",
      "[CV 2/5] END C=3.5, max_iter=1000, penalty=l2, solver=saga;, score=0.958 total time=   0.0s\n",
      "[CV 3/5] END C=3.5, max_iter=1000, penalty=l2, solver=saga;, score=1.000 total time=   0.0s\n",
      "[CV 4/5] END C=3.5, max_iter=1000, penalty=l2, solver=saga;, score=1.000 total time=   0.0s\n",
      "[CV 5/5] END C=3.5, max_iter=1000, penalty=l2, solver=saga;, score=1.000 total time=   0.0s\n",
      "[CV 1/5] END C=3.5, max_iter=5000, penalty=l1, solver=linear;, score=nan total time=   0.0s\n",
      "[CV 2/5] END C=3.5, max_iter=5000, penalty=l1, solver=linear;, score=nan total time=   0.0s\n",
      "[CV 3/5] END C=3.5, max_iter=5000, penalty=l1, solver=linear;, score=nan total time=   0.0s\n",
      "[CV 4/5] END C=3.5, max_iter=5000, penalty=l1, solver=linear;, score=nan total time=   0.0s\n",
      "[CV 5/5] END C=3.5, max_iter=5000, penalty=l1, solver=linear;, score=nan total time=   0.0s\n",
      "[CV 1/5] END C=3.5, max_iter=5000, penalty=l1, solver=saga;, score=0.958 total time=   0.0s\n",
      "[CV 2/5] END C=3.5, max_iter=5000, penalty=l1, solver=saga;, score=0.958 total time=   0.0s\n",
      "[CV 3/5] END C=3.5, max_iter=5000, penalty=l1, solver=saga;, score=1.000 total time=   0.0s\n",
      "[CV 4/5] END C=3.5, max_iter=5000, penalty=l1, solver=saga;, score=1.000 total time=   0.0s\n",
      "[CV 5/5] END C=3.5, max_iter=5000, penalty=l1, solver=saga;, score=1.000 total time=   0.0s\n",
      "[CV 1/5] END C=3.5, max_iter=5000, penalty=l2, solver=linear;, score=nan total time=   0.0s\n",
      "[CV 2/5] END C=3.5, max_iter=5000, penalty=l2, solver=linear;, score=nan total time=   0.0s\n",
      "[CV 3/5] END C=3.5, max_iter=5000, penalty=l2, solver=linear;, score=nan total time=   0.0s\n",
      "[CV 4/5] END C=3.5, max_iter=5000, penalty=l2, solver=linear;, score=nan total time=   0.0s\n",
      "[CV 5/5] END C=3.5, max_iter=5000, penalty=l2, solver=linear;, score=nan total time=   0.0s\n",
      "[CV 1/5] END C=3.5, max_iter=5000, penalty=l2, solver=saga;, score=1.000 total time=   0.0s\n",
      "[CV 2/5] END C=3.5, max_iter=5000, penalty=l2, solver=saga;, score=0.958 total time=   0.0s\n",
      "[CV 3/5] END C=3.5, max_iter=5000, penalty=l2, solver=saga;, score=1.000 total time=   0.0s\n",
      "[CV 4/5] END C=3.5, max_iter=5000, penalty=l2, solver=saga;, score=1.000 total time=   0.0s\n",
      "[CV 5/5] END C=3.5, max_iter=5000, penalty=l2, solver=saga;, score=1.000 total time=   0.0s\n",
      "[CV 1/5] END C=3.5, max_iter=10000, penalty=l1, solver=linear;, score=nan total time=   0.0s\n",
      "[CV 2/5] END C=3.5, max_iter=10000, penalty=l1, solver=linear;, score=nan total time=   0.0s\n",
      "[CV 3/5] END C=3.5, max_iter=10000, penalty=l1, solver=linear;, score=nan total time=   0.0s\n",
      "[CV 4/5] END C=3.5, max_iter=10000, penalty=l1, solver=linear;, score=nan total time=   0.0s\n",
      "[CV 5/5] END C=3.5, max_iter=10000, penalty=l1, solver=linear;, score=nan total time=   0.0s\n",
      "[CV 1/5] END C=3.5, max_iter=10000, penalty=l1, solver=saga;, score=0.958 total time=   0.0s\n",
      "[CV 2/5] END C=3.5, max_iter=10000, penalty=l1, solver=saga;, score=0.958 total time=   0.0s\n",
      "[CV 3/5] END C=3.5, max_iter=10000, penalty=l1, solver=saga;, score=1.000 total time=   0.0s\n",
      "[CV 4/5] END C=3.5, max_iter=10000, penalty=l1, solver=saga;, score=1.000 total time=   0.0s\n",
      "[CV 5/5] END C=3.5, max_iter=10000, penalty=l1, solver=saga;, score=1.000 total time=   0.0s\n",
      "[CV 1/5] END C=3.5, max_iter=10000, penalty=l2, solver=linear;, score=nan total time=   0.0s\n",
      "[CV 2/5] END C=3.5, max_iter=10000, penalty=l2, solver=linear;, score=nan total time=   0.0s\n",
      "[CV 3/5] END C=3.5, max_iter=10000, penalty=l2, solver=linear;, score=nan total time=   0.0s\n",
      "[CV 4/5] END C=3.5, max_iter=10000, penalty=l2, solver=linear;, score=nan total time=   0.0s\n",
      "[CV 5/5] END C=3.5, max_iter=10000, penalty=l2, solver=linear;, score=nan total time=   0.0s\n",
      "[CV 1/5] END C=3.5, max_iter=10000, penalty=l2, solver=saga;, score=1.000 total time=   0.0s\n",
      "[CV 2/5] END C=3.5, max_iter=10000, penalty=l2, solver=saga;, score=0.958 total time=   0.0s\n",
      "[CV 3/5] END C=3.5, max_iter=10000, penalty=l2, solver=saga;, score=1.000 total time=   0.0s\n",
      "[CV 4/5] END C=3.5, max_iter=10000, penalty=l2, solver=saga;, score=1.000 total time=   0.0s\n",
      "[CV 5/5] END C=3.5, max_iter=10000, penalty=l2, solver=saga;, score=1.000 total time=   0.0s\n",
      "[CV 1/5] END C=4.0, max_iter=100, penalty=l1, solver=linear;, score=nan total time=   0.0s\n",
      "[CV 2/5] END C=4.0, max_iter=100, penalty=l1, solver=linear;, score=nan total time=   0.0s\n",
      "[CV 3/5] END C=4.0, max_iter=100, penalty=l1, solver=linear;, score=nan total time=   0.0s\n",
      "[CV 4/5] END C=4.0, max_iter=100, penalty=l1, solver=linear;, score=nan total time=   0.0s\n",
      "[CV 5/5] END C=4.0, max_iter=100, penalty=l1, solver=linear;, score=nan total time=   0.0s\n",
      "[CV 1/5] END C=4.0, max_iter=100, penalty=l1, solver=saga;, score=0.958 total time=   0.0s\n",
      "[CV 2/5] END C=4.0, max_iter=100, penalty=l1, solver=saga;, score=1.000 total time=   0.0s\n",
      "[CV 3/5] END C=4.0, max_iter=100, penalty=l1, solver=saga;, score=1.000 total time=   0.0s\n",
      "[CV 4/5] END C=4.0, max_iter=100, penalty=l1, solver=saga;, score=0.958 total time=   0.0s\n",
      "[CV 5/5] END C=4.0, max_iter=100, penalty=l1, solver=saga;, score=0.958 total time=   0.0s\n",
      "[CV 1/5] END C=4.0, max_iter=100, penalty=l2, solver=linear;, score=nan total time=   0.0s\n",
      "[CV 2/5] END C=4.0, max_iter=100, penalty=l2, solver=linear;, score=nan total time=   0.0s\n",
      "[CV 3/5] END C=4.0, max_iter=100, penalty=l2, solver=linear;, score=nan total time=   0.0s\n",
      "[CV 4/5] END C=4.0, max_iter=100, penalty=l2, solver=linear;, score=nan total time=   0.0s\n",
      "[CV 5/5] END C=4.0, max_iter=100, penalty=l2, solver=linear;, score=nan total time=   0.0s\n",
      "[CV 1/5] END C=4.0, max_iter=100, penalty=l2, solver=saga;, score=0.958 total time=   0.0s\n",
      "[CV 2/5] END C=4.0, max_iter=100, penalty=l2, solver=saga;, score=1.000 total time=   0.0s\n",
      "[CV 3/5] END C=4.0, max_iter=100, penalty=l2, solver=saga;, score=1.000 total time=   0.0s\n",
      "[CV 4/5] END C=4.0, max_iter=100, penalty=l2, solver=saga;, score=0.958 total time=   0.0s\n",
      "[CV 5/5] END C=4.0, max_iter=100, penalty=l2, solver=saga;, score=0.958 total time=   0.0s\n",
      "[CV 1/5] END C=4.0, max_iter=500, penalty=l1, solver=linear;, score=nan total time=   0.0s\n",
      "[CV 2/5] END C=4.0, max_iter=500, penalty=l1, solver=linear;, score=nan total time=   0.0s\n",
      "[CV 3/5] END C=4.0, max_iter=500, penalty=l1, solver=linear;, score=nan total time=   0.0s\n",
      "[CV 4/5] END C=4.0, max_iter=500, penalty=l1, solver=linear;, score=nan total time=   0.0s\n",
      "[CV 5/5] END C=4.0, max_iter=500, penalty=l1, solver=linear;, score=nan total time=   0.0s\n",
      "[CV 1/5] END C=4.0, max_iter=500, penalty=l1, solver=saga;, score=0.958 total time=   0.0s\n",
      "[CV 2/5] END C=4.0, max_iter=500, penalty=l1, solver=saga;, score=0.958 total time=   0.0s\n",
      "[CV 3/5] END C=4.0, max_iter=500, penalty=l1, solver=saga;, score=1.000 total time=   0.0s\n",
      "[CV 4/5] END C=4.0, max_iter=500, penalty=l1, solver=saga;, score=0.958 total time=   0.0s\n",
      "[CV 5/5] END C=4.0, max_iter=500, penalty=l1, solver=saga;, score=0.958 total time=   0.0s\n",
      "[CV 1/5] END C=4.0, max_iter=500, penalty=l2, solver=linear;, score=nan total time=   0.0s\n",
      "[CV 2/5] END C=4.0, max_iter=500, penalty=l2, solver=linear;, score=nan total time=   0.0s\n",
      "[CV 3/5] END C=4.0, max_iter=500, penalty=l2, solver=linear;, score=nan total time=   0.0s\n",
      "[CV 4/5] END C=4.0, max_iter=500, penalty=l2, solver=linear;, score=nan total time=   0.0s\n",
      "[CV 5/5] END C=4.0, max_iter=500, penalty=l2, solver=linear;, score=nan total time=   0.0s\n",
      "[CV 1/5] END C=4.0, max_iter=500, penalty=l2, solver=saga;, score=0.958 total time=   0.0s\n",
      "[CV 2/5] END C=4.0, max_iter=500, penalty=l2, solver=saga;, score=0.958 total time=   0.0s\n",
      "[CV 3/5] END C=4.0, max_iter=500, penalty=l2, solver=saga;, score=1.000 total time=   0.0s\n",
      "[CV 4/5] END C=4.0, max_iter=500, penalty=l2, solver=saga;, score=1.000 total time=   0.0s\n",
      "[CV 5/5] END C=4.0, max_iter=500, penalty=l2, solver=saga;, score=1.000 total time=   0.0s\n",
      "[CV 1/5] END C=4.0, max_iter=1000, penalty=l1, solver=linear;, score=nan total time=   0.0s\n",
      "[CV 2/5] END C=4.0, max_iter=1000, penalty=l1, solver=linear;, score=nan total time=   0.0s\n",
      "[CV 3/5] END C=4.0, max_iter=1000, penalty=l1, solver=linear;, score=nan total time=   0.0s\n",
      "[CV 4/5] END C=4.0, max_iter=1000, penalty=l1, solver=linear;, score=nan total time=   0.0s\n",
      "[CV 5/5] END C=4.0, max_iter=1000, penalty=l1, solver=linear;, score=nan total time=   0.0s\n",
      "[CV 1/5] END C=4.0, max_iter=1000, penalty=l1, solver=saga;, score=0.958 total time=   0.0s\n",
      "[CV 2/5] END C=4.0, max_iter=1000, penalty=l1, solver=saga;, score=0.958 total time=   0.0s\n",
      "[CV 3/5] END C=4.0, max_iter=1000, penalty=l1, solver=saga;, score=1.000 total time=   0.0s\n",
      "[CV 4/5] END C=4.0, max_iter=1000, penalty=l1, solver=saga;, score=1.000 total time=   0.0s\n",
      "[CV 5/5] END C=4.0, max_iter=1000, penalty=l1, solver=saga;, score=1.000 total time=   0.0s\n",
      "[CV 1/5] END C=4.0, max_iter=1000, penalty=l2, solver=linear;, score=nan total time=   0.0s\n",
      "[CV 2/5] END C=4.0, max_iter=1000, penalty=l2, solver=linear;, score=nan total time=   0.0s\n",
      "[CV 3/5] END C=4.0, max_iter=1000, penalty=l2, solver=linear;, score=nan total time=   0.0s\n",
      "[CV 4/5] END C=4.0, max_iter=1000, penalty=l2, solver=linear;, score=nan total time=   0.0s\n",
      "[CV 5/5] END C=4.0, max_iter=1000, penalty=l2, solver=linear;, score=nan total time=   0.0s\n",
      "[CV 1/5] END C=4.0, max_iter=1000, penalty=l2, solver=saga;, score=0.958 total time=   0.0s\n",
      "[CV 2/5] END C=4.0, max_iter=1000, penalty=l2, solver=saga;, score=0.958 total time=   0.0s\n",
      "[CV 3/5] END C=4.0, max_iter=1000, penalty=l2, solver=saga;, score=1.000 total time=   0.0s\n",
      "[CV 4/5] END C=4.0, max_iter=1000, penalty=l2, solver=saga;, score=1.000 total time=   0.0s\n",
      "[CV 5/5] END C=4.0, max_iter=1000, penalty=l2, solver=saga;, score=1.000 total time=   0.0s\n",
      "[CV 1/5] END C=4.0, max_iter=5000, penalty=l1, solver=linear;, score=nan total time=   0.0s\n",
      "[CV 2/5] END C=4.0, max_iter=5000, penalty=l1, solver=linear;, score=nan total time=   0.0s\n",
      "[CV 3/5] END C=4.0, max_iter=5000, penalty=l1, solver=linear;, score=nan total time=   0.0s\n",
      "[CV 4/5] END C=4.0, max_iter=5000, penalty=l1, solver=linear;, score=nan total time=   0.0s\n",
      "[CV 5/5] END C=4.0, max_iter=5000, penalty=l1, solver=linear;, score=nan total time=   0.0s\n",
      "[CV 1/5] END C=4.0, max_iter=5000, penalty=l1, solver=saga;, score=0.958 total time=   0.0s\n"
     ]
    },
    {
     "name": "stdout",
     "output_type": "stream",
     "text": [
      "[CV 2/5] END C=4.0, max_iter=5000, penalty=l1, solver=saga;, score=0.958 total time=   0.0s\n",
      "[CV 3/5] END C=4.0, max_iter=5000, penalty=l1, solver=saga;, score=1.000 total time=   0.0s\n",
      "[CV 4/5] END C=4.0, max_iter=5000, penalty=l1, solver=saga;, score=1.000 total time=   0.0s\n",
      "[CV 5/5] END C=4.0, max_iter=5000, penalty=l1, solver=saga;, score=1.000 total time=   0.0s\n",
      "[CV 1/5] END C=4.0, max_iter=5000, penalty=l2, solver=linear;, score=nan total time=   0.0s\n",
      "[CV 2/5] END C=4.0, max_iter=5000, penalty=l2, solver=linear;, score=nan total time=   0.0s\n",
      "[CV 3/5] END C=4.0, max_iter=5000, penalty=l2, solver=linear;, score=nan total time=   0.0s\n",
      "[CV 4/5] END C=4.0, max_iter=5000, penalty=l2, solver=linear;, score=nan total time=   0.0s\n",
      "[CV 5/5] END C=4.0, max_iter=5000, penalty=l2, solver=linear;, score=nan total time=   0.0s\n",
      "[CV 1/5] END C=4.0, max_iter=5000, penalty=l2, solver=saga;, score=1.000 total time=   0.0s\n",
      "[CV 2/5] END C=4.0, max_iter=5000, penalty=l2, solver=saga;, score=0.958 total time=   0.0s\n",
      "[CV 3/5] END C=4.0, max_iter=5000, penalty=l2, solver=saga;, score=1.000 total time=   0.0s\n",
      "[CV 4/5] END C=4.0, max_iter=5000, penalty=l2, solver=saga;, score=1.000 total time=   0.0s\n",
      "[CV 5/5] END C=4.0, max_iter=5000, penalty=l2, solver=saga;, score=1.000 total time=   0.0s\n",
      "[CV 1/5] END C=4.0, max_iter=10000, penalty=l1, solver=linear;, score=nan total time=   0.0s\n",
      "[CV 2/5] END C=4.0, max_iter=10000, penalty=l1, solver=linear;, score=nan total time=   0.0s\n",
      "[CV 3/5] END C=4.0, max_iter=10000, penalty=l1, solver=linear;, score=nan total time=   0.0s\n",
      "[CV 4/5] END C=4.0, max_iter=10000, penalty=l1, solver=linear;, score=nan total time=   0.0s\n",
      "[CV 5/5] END C=4.0, max_iter=10000, penalty=l1, solver=linear;, score=nan total time=   0.0s\n",
      "[CV 1/5] END C=4.0, max_iter=10000, penalty=l1, solver=saga;, score=0.958 total time=   0.0s\n",
      "[CV 2/5] END C=4.0, max_iter=10000, penalty=l1, solver=saga;, score=0.958 total time=   0.0s\n",
      "[CV 3/5] END C=4.0, max_iter=10000, penalty=l1, solver=saga;, score=1.000 total time=   0.0s\n",
      "[CV 4/5] END C=4.0, max_iter=10000, penalty=l1, solver=saga;, score=1.000 total time=   0.0s\n",
      "[CV 5/5] END C=4.0, max_iter=10000, penalty=l1, solver=saga;, score=1.000 total time=   0.0s\n",
      "[CV 1/5] END C=4.0, max_iter=10000, penalty=l2, solver=linear;, score=nan total time=   0.0s\n",
      "[CV 2/5] END C=4.0, max_iter=10000, penalty=l2, solver=linear;, score=nan total time=   0.0s\n",
      "[CV 3/5] END C=4.0, max_iter=10000, penalty=l2, solver=linear;, score=nan total time=   0.0s\n",
      "[CV 4/5] END C=4.0, max_iter=10000, penalty=l2, solver=linear;, score=nan total time=   0.0s\n",
      "[CV 5/5] END C=4.0, max_iter=10000, penalty=l2, solver=linear;, score=nan total time=   0.0s\n",
      "[CV 1/5] END C=4.0, max_iter=10000, penalty=l2, solver=saga;, score=1.000 total time=   0.0s\n",
      "[CV 2/5] END C=4.0, max_iter=10000, penalty=l2, solver=saga;, score=0.958 total time=   0.0s\n",
      "[CV 3/5] END C=4.0, max_iter=10000, penalty=l2, solver=saga;, score=1.000 total time=   0.0s\n",
      "[CV 4/5] END C=4.0, max_iter=10000, penalty=l2, solver=saga;, score=1.000 total time=   0.0s\n",
      "[CV 5/5] END C=4.0, max_iter=10000, penalty=l2, solver=saga;, score=1.000 total time=   0.0s\n",
      "[CV 1/5] END C=4.5, max_iter=100, penalty=l1, solver=linear;, score=nan total time=   0.0s\n",
      "[CV 2/5] END C=4.5, max_iter=100, penalty=l1, solver=linear;, score=nan total time=   0.0s\n",
      "[CV 3/5] END C=4.5, max_iter=100, penalty=l1, solver=linear;, score=nan total time=   0.0s\n",
      "[CV 4/5] END C=4.5, max_iter=100, penalty=l1, solver=linear;, score=nan total time=   0.0s\n",
      "[CV 5/5] END C=4.5, max_iter=100, penalty=l1, solver=linear;, score=nan total time=   0.0s\n",
      "[CV 1/5] END C=4.5, max_iter=100, penalty=l1, solver=saga;, score=0.958 total time=   0.0s\n",
      "[CV 2/5] END C=4.5, max_iter=100, penalty=l1, solver=saga;, score=1.000 total time=   0.0s\n",
      "[CV 3/5] END C=4.5, max_iter=100, penalty=l1, solver=saga;, score=1.000 total time=   0.0s\n",
      "[CV 4/5] END C=4.5, max_iter=100, penalty=l1, solver=saga;, score=0.958 total time=   0.0s\n",
      "[CV 5/5] END C=4.5, max_iter=100, penalty=l1, solver=saga;, score=0.958 total time=   0.0s\n",
      "[CV 1/5] END C=4.5, max_iter=100, penalty=l2, solver=linear;, score=nan total time=   0.0s\n",
      "[CV 2/5] END C=4.5, max_iter=100, penalty=l2, solver=linear;, score=nan total time=   0.0s\n",
      "[CV 3/5] END C=4.5, max_iter=100, penalty=l2, solver=linear;, score=nan total time=   0.0s\n",
      "[CV 4/5] END C=4.5, max_iter=100, penalty=l2, solver=linear;, score=nan total time=   0.0s\n",
      "[CV 5/5] END C=4.5, max_iter=100, penalty=l2, solver=linear;, score=nan total time=   0.0s\n",
      "[CV 1/5] END C=4.5, max_iter=100, penalty=l2, solver=saga;, score=0.958 total time=   0.0s\n",
      "[CV 2/5] END C=4.5, max_iter=100, penalty=l2, solver=saga;, score=1.000 total time=   0.0s\n",
      "[CV 3/5] END C=4.5, max_iter=100, penalty=l2, solver=saga;, score=1.000 total time=   0.0s\n",
      "[CV 4/5] END C=4.5, max_iter=100, penalty=l2, solver=saga;, score=0.958 total time=   0.0s\n",
      "[CV 5/5] END C=4.5, max_iter=100, penalty=l2, solver=saga;, score=0.958 total time=   0.0s\n",
      "[CV 1/5] END C=4.5, max_iter=500, penalty=l1, solver=linear;, score=nan total time=   0.0s\n",
      "[CV 2/5] END C=4.5, max_iter=500, penalty=l1, solver=linear;, score=nan total time=   0.0s\n",
      "[CV 3/5] END C=4.5, max_iter=500, penalty=l1, solver=linear;, score=nan total time=   0.0s\n",
      "[CV 4/5] END C=4.5, max_iter=500, penalty=l1, solver=linear;, score=nan total time=   0.0s\n",
      "[CV 5/5] END C=4.5, max_iter=500, penalty=l1, solver=linear;, score=nan total time=   0.0s\n",
      "[CV 1/5] END C=4.5, max_iter=500, penalty=l1, solver=saga;, score=0.958 total time=   0.0s\n",
      "[CV 2/5] END C=4.5, max_iter=500, penalty=l1, solver=saga;, score=0.958 total time=   0.0s\n",
      "[CV 3/5] END C=4.5, max_iter=500, penalty=l1, solver=saga;, score=1.000 total time=   0.0s\n",
      "[CV 4/5] END C=4.5, max_iter=500, penalty=l1, solver=saga;, score=0.958 total time=   0.0s\n",
      "[CV 5/5] END C=4.5, max_iter=500, penalty=l1, solver=saga;, score=0.958 total time=   0.0s\n",
      "[CV 1/5] END C=4.5, max_iter=500, penalty=l2, solver=linear;, score=nan total time=   0.0s\n",
      "[CV 2/5] END C=4.5, max_iter=500, penalty=l2, solver=linear;, score=nan total time=   0.0s\n",
      "[CV 3/5] END C=4.5, max_iter=500, penalty=l2, solver=linear;, score=nan total time=   0.0s\n",
      "[CV 4/5] END C=4.5, max_iter=500, penalty=l2, solver=linear;, score=nan total time=   0.0s\n",
      "[CV 5/5] END C=4.5, max_iter=500, penalty=l2, solver=linear;, score=nan total time=   0.0s\n",
      "[CV 1/5] END C=4.5, max_iter=500, penalty=l2, solver=saga;, score=0.958 total time=   0.0s\n",
      "[CV 2/5] END C=4.5, max_iter=500, penalty=l2, solver=saga;, score=0.958 total time=   0.0s\n",
      "[CV 3/5] END C=4.5, max_iter=500, penalty=l2, solver=saga;, score=1.000 total time=   0.0s\n",
      "[CV 4/5] END C=4.5, max_iter=500, penalty=l2, solver=saga;, score=1.000 total time=   0.0s\n",
      "[CV 5/5] END C=4.5, max_iter=500, penalty=l2, solver=saga;, score=1.000 total time=   0.0s\n",
      "[CV 1/5] END C=4.5, max_iter=1000, penalty=l1, solver=linear;, score=nan total time=   0.0s\n",
      "[CV 2/5] END C=4.5, max_iter=1000, penalty=l1, solver=linear;, score=nan total time=   0.0s\n",
      "[CV 3/5] END C=4.5, max_iter=1000, penalty=l1, solver=linear;, score=nan total time=   0.0s\n",
      "[CV 4/5] END C=4.5, max_iter=1000, penalty=l1, solver=linear;, score=nan total time=   0.0s\n",
      "[CV 5/5] END C=4.5, max_iter=1000, penalty=l1, solver=linear;, score=nan total time=   0.0s\n",
      "[CV 1/5] END C=4.5, max_iter=1000, penalty=l1, solver=saga;, score=0.958 total time=   0.0s\n",
      "[CV 2/5] END C=4.5, max_iter=1000, penalty=l1, solver=saga;, score=0.958 total time=   0.0s\n",
      "[CV 3/5] END C=4.5, max_iter=1000, penalty=l1, solver=saga;, score=1.000 total time=   0.0s\n",
      "[CV 4/5] END C=4.5, max_iter=1000, penalty=l1, solver=saga;, score=1.000 total time=   0.0s\n",
      "[CV 5/5] END C=4.5, max_iter=1000, penalty=l1, solver=saga;, score=1.000 total time=   0.0s\n",
      "[CV 1/5] END C=4.5, max_iter=1000, penalty=l2, solver=linear;, score=nan total time=   0.0s\n",
      "[CV 2/5] END C=4.5, max_iter=1000, penalty=l2, solver=linear;, score=nan total time=   0.0s\n",
      "[CV 3/5] END C=4.5, max_iter=1000, penalty=l2, solver=linear;, score=nan total time=   0.0s\n",
      "[CV 4/5] END C=4.5, max_iter=1000, penalty=l2, solver=linear;, score=nan total time=   0.0s\n",
      "[CV 5/5] END C=4.5, max_iter=1000, penalty=l2, solver=linear;, score=nan total time=   0.0s\n",
      "[CV 1/5] END C=4.5, max_iter=1000, penalty=l2, solver=saga;, score=0.958 total time=   0.0s\n",
      "[CV 2/5] END C=4.5, max_iter=1000, penalty=l2, solver=saga;, score=0.958 total time=   0.0s\n",
      "[CV 3/5] END C=4.5, max_iter=1000, penalty=l2, solver=saga;, score=1.000 total time=   0.0s\n",
      "[CV 4/5] END C=4.5, max_iter=1000, penalty=l2, solver=saga;, score=1.000 total time=   0.0s\n",
      "[CV 5/5] END C=4.5, max_iter=1000, penalty=l2, solver=saga;, score=1.000 total time=   0.0s\n",
      "[CV 1/5] END C=4.5, max_iter=5000, penalty=l1, solver=linear;, score=nan total time=   0.0s\n",
      "[CV 2/5] END C=4.5, max_iter=5000, penalty=l1, solver=linear;, score=nan total time=   0.0s\n",
      "[CV 3/5] END C=4.5, max_iter=5000, penalty=l1, solver=linear;, score=nan total time=   0.0s\n",
      "[CV 4/5] END C=4.5, max_iter=5000, penalty=l1, solver=linear;, score=nan total time=   0.0s\n",
      "[CV 5/5] END C=4.5, max_iter=5000, penalty=l1, solver=linear;, score=nan total time=   0.0s\n",
      "[CV 1/5] END C=4.5, max_iter=5000, penalty=l1, solver=saga;, score=0.958 total time=   0.0s\n",
      "[CV 2/5] END C=4.5, max_iter=5000, penalty=l1, solver=saga;, score=0.958 total time=   0.0s\n",
      "[CV 3/5] END C=4.5, max_iter=5000, penalty=l1, solver=saga;, score=1.000 total time=   0.0s\n",
      "[CV 4/5] END C=4.5, max_iter=5000, penalty=l1, solver=saga;, score=1.000 total time=   0.0s\n",
      "[CV 5/5] END C=4.5, max_iter=5000, penalty=l1, solver=saga;, score=1.000 total time=   0.0s\n",
      "[CV 1/5] END C=4.5, max_iter=5000, penalty=l2, solver=linear;, score=nan total time=   0.0s\n",
      "[CV 2/5] END C=4.5, max_iter=5000, penalty=l2, solver=linear;, score=nan total time=   0.0s\n",
      "[CV 3/5] END C=4.5, max_iter=5000, penalty=l2, solver=linear;, score=nan total time=   0.0s\n",
      "[CV 4/5] END C=4.5, max_iter=5000, penalty=l2, solver=linear;, score=nan total time=   0.0s\n",
      "[CV 5/5] END C=4.5, max_iter=5000, penalty=l2, solver=linear;, score=nan total time=   0.0s\n"
     ]
    },
    {
     "name": "stdout",
     "output_type": "stream",
     "text": [
      "[CV 1/5] END C=4.5, max_iter=5000, penalty=l2, solver=saga;, score=1.000 total time=   0.0s\n",
      "[CV 2/5] END C=4.5, max_iter=5000, penalty=l2, solver=saga;, score=0.958 total time=   0.0s\n",
      "[CV 3/5] END C=4.5, max_iter=5000, penalty=l2, solver=saga;, score=1.000 total time=   0.0s\n",
      "[CV 4/5] END C=4.5, max_iter=5000, penalty=l2, solver=saga;, score=1.000 total time=   0.0s\n",
      "[CV 5/5] END C=4.5, max_iter=5000, penalty=l2, solver=saga;, score=1.000 total time=   0.0s\n",
      "[CV 1/5] END C=4.5, max_iter=10000, penalty=l1, solver=linear;, score=nan total time=   0.0s\n",
      "[CV 2/5] END C=4.5, max_iter=10000, penalty=l1, solver=linear;, score=nan total time=   0.0s\n",
      "[CV 3/5] END C=4.5, max_iter=10000, penalty=l1, solver=linear;, score=nan total time=   0.0s\n",
      "[CV 4/5] END C=4.5, max_iter=10000, penalty=l1, solver=linear;, score=nan total time=   0.0s\n",
      "[CV 5/5] END C=4.5, max_iter=10000, penalty=l1, solver=linear;, score=nan total time=   0.0s\n",
      "[CV 1/5] END C=4.5, max_iter=10000, penalty=l1, solver=saga;, score=0.958 total time=   0.0s\n",
      "[CV 2/5] END C=4.5, max_iter=10000, penalty=l1, solver=saga;, score=0.958 total time=   0.0s\n",
      "[CV 3/5] END C=4.5, max_iter=10000, penalty=l1, solver=saga;, score=1.000 total time=   0.0s\n",
      "[CV 4/5] END C=4.5, max_iter=10000, penalty=l1, solver=saga;, score=1.000 total time=   0.0s\n",
      "[CV 5/5] END C=4.5, max_iter=10000, penalty=l1, solver=saga;, score=1.000 total time=   0.0s\n",
      "[CV 1/5] END C=4.5, max_iter=10000, penalty=l2, solver=linear;, score=nan total time=   0.0s\n",
      "[CV 2/5] END C=4.5, max_iter=10000, penalty=l2, solver=linear;, score=nan total time=   0.0s\n",
      "[CV 3/5] END C=4.5, max_iter=10000, penalty=l2, solver=linear;, score=nan total time=   0.0s\n",
      "[CV 4/5] END C=4.5, max_iter=10000, penalty=l2, solver=linear;, score=nan total time=   0.0s\n",
      "[CV 5/5] END C=4.5, max_iter=10000, penalty=l2, solver=linear;, score=nan total time=   0.0s\n",
      "[CV 1/5] END C=4.5, max_iter=10000, penalty=l2, solver=saga;, score=1.000 total time=   0.0s\n",
      "[CV 2/5] END C=4.5, max_iter=10000, penalty=l2, solver=saga;, score=0.958 total time=   0.0s\n",
      "[CV 3/5] END C=4.5, max_iter=10000, penalty=l2, solver=saga;, score=1.000 total time=   0.0s\n",
      "[CV 4/5] END C=4.5, max_iter=10000, penalty=l2, solver=saga;, score=1.000 total time=   0.0s\n",
      "[CV 5/5] END C=4.5, max_iter=10000, penalty=l2, solver=saga;, score=1.000 total time=   0.0s\n",
      "[CV 1/5] END C=5.0, max_iter=100, penalty=l1, solver=linear;, score=nan total time=   0.0s\n",
      "[CV 2/5] END C=5.0, max_iter=100, penalty=l1, solver=linear;, score=nan total time=   0.0s\n",
      "[CV 3/5] END C=5.0, max_iter=100, penalty=l1, solver=linear;, score=nan total time=   0.0s\n",
      "[CV 4/5] END C=5.0, max_iter=100, penalty=l1, solver=linear;, score=nan total time=   0.0s\n",
      "[CV 5/5] END C=5.0, max_iter=100, penalty=l1, solver=linear;, score=nan total time=   0.0s\n",
      "[CV 1/5] END C=5.0, max_iter=100, penalty=l1, solver=saga;, score=0.958 total time=   0.0s\n",
      "[CV 2/5] END C=5.0, max_iter=100, penalty=l1, solver=saga;, score=1.000 total time=   0.0s\n",
      "[CV 3/5] END C=5.0, max_iter=100, penalty=l1, solver=saga;, score=1.000 total time=   0.0s\n",
      "[CV 4/5] END C=5.0, max_iter=100, penalty=l1, solver=saga;, score=0.958 total time=   0.0s\n",
      "[CV 5/5] END C=5.0, max_iter=100, penalty=l1, solver=saga;, score=0.958 total time=   0.0s\n",
      "[CV 1/5] END C=5.0, max_iter=100, penalty=l2, solver=linear;, score=nan total time=   0.0s\n",
      "[CV 2/5] END C=5.0, max_iter=100, penalty=l2, solver=linear;, score=nan total time=   0.0s\n",
      "[CV 3/5] END C=5.0, max_iter=100, penalty=l2, solver=linear;, score=nan total time=   0.0s\n",
      "[CV 4/5] END C=5.0, max_iter=100, penalty=l2, solver=linear;, score=nan total time=   0.0s\n",
      "[CV 5/5] END C=5.0, max_iter=100, penalty=l2, solver=linear;, score=nan total time=   0.0s\n",
      "[CV 1/5] END C=5.0, max_iter=100, penalty=l2, solver=saga;, score=0.958 total time=   0.0s\n",
      "[CV 2/5] END C=5.0, max_iter=100, penalty=l2, solver=saga;, score=1.000 total time=   0.0s\n",
      "[CV 3/5] END C=5.0, max_iter=100, penalty=l2, solver=saga;, score=1.000 total time=   0.0s\n",
      "[CV 4/5] END C=5.0, max_iter=100, penalty=l2, solver=saga;, score=0.958 total time=   0.0s\n",
      "[CV 5/5] END C=5.0, max_iter=100, penalty=l2, solver=saga;, score=0.958 total time=   0.0s\n",
      "[CV 1/5] END C=5.0, max_iter=500, penalty=l1, solver=linear;, score=nan total time=   0.0s\n",
      "[CV 2/5] END C=5.0, max_iter=500, penalty=l1, solver=linear;, score=nan total time=   0.0s\n",
      "[CV 3/5] END C=5.0, max_iter=500, penalty=l1, solver=linear;, score=nan total time=   0.0s\n",
      "[CV 4/5] END C=5.0, max_iter=500, penalty=l1, solver=linear;, score=nan total time=   0.0s\n",
      "[CV 5/5] END C=5.0, max_iter=500, penalty=l1, solver=linear;, score=nan total time=   0.0s\n",
      "[CV 1/5] END C=5.0, max_iter=500, penalty=l1, solver=saga;, score=0.958 total time=   0.0s\n",
      "[CV 2/5] END C=5.0, max_iter=500, penalty=l1, solver=saga;, score=0.958 total time=   0.0s\n",
      "[CV 3/5] END C=5.0, max_iter=500, penalty=l1, solver=saga;, score=1.000 total time=   0.0s\n",
      "[CV 4/5] END C=5.0, max_iter=500, penalty=l1, solver=saga;, score=0.958 total time=   0.0s\n",
      "[CV 5/5] END C=5.0, max_iter=500, penalty=l1, solver=saga;, score=0.958 total time=   0.0s\n",
      "[CV 1/5] END C=5.0, max_iter=500, penalty=l2, solver=linear;, score=nan total time=   0.0s\n",
      "[CV 2/5] END C=5.0, max_iter=500, penalty=l2, solver=linear;, score=nan total time=   0.0s\n",
      "[CV 3/5] END C=5.0, max_iter=500, penalty=l2, solver=linear;, score=nan total time=   0.0s\n",
      "[CV 4/5] END C=5.0, max_iter=500, penalty=l2, solver=linear;, score=nan total time=   0.0s\n",
      "[CV 5/5] END C=5.0, max_iter=500, penalty=l2, solver=linear;, score=nan total time=   0.0s\n",
      "[CV 1/5] END C=5.0, max_iter=500, penalty=l2, solver=saga;, score=0.958 total time=   0.0s\n",
      "[CV 2/5] END C=5.0, max_iter=500, penalty=l2, solver=saga;, score=0.958 total time=   0.0s\n",
      "[CV 3/5] END C=5.0, max_iter=500, penalty=l2, solver=saga;, score=1.000 total time=   0.0s\n",
      "[CV 4/5] END C=5.0, max_iter=500, penalty=l2, solver=saga;, score=1.000 total time=   0.0s\n",
      "[CV 5/5] END C=5.0, max_iter=500, penalty=l2, solver=saga;, score=1.000 total time=   0.0s\n",
      "[CV 1/5] END C=5.0, max_iter=1000, penalty=l1, solver=linear;, score=nan total time=   0.0s\n",
      "[CV 2/5] END C=5.0, max_iter=1000, penalty=l1, solver=linear;, score=nan total time=   0.0s\n",
      "[CV 3/5] END C=5.0, max_iter=1000, penalty=l1, solver=linear;, score=nan total time=   0.0s\n",
      "[CV 4/5] END C=5.0, max_iter=1000, penalty=l1, solver=linear;, score=nan total time=   0.0s\n",
      "[CV 5/5] END C=5.0, max_iter=1000, penalty=l1, solver=linear;, score=nan total time=   0.0s\n",
      "[CV 1/5] END C=5.0, max_iter=1000, penalty=l1, solver=saga;, score=0.958 total time=   0.0s\n",
      "[CV 2/5] END C=5.0, max_iter=1000, penalty=l1, solver=saga;, score=0.958 total time=   0.0s\n",
      "[CV 3/5] END C=5.0, max_iter=1000, penalty=l1, solver=saga;, score=1.000 total time=   0.0s\n",
      "[CV 4/5] END C=5.0, max_iter=1000, penalty=l1, solver=saga;, score=1.000 total time=   0.0s\n",
      "[CV 5/5] END C=5.0, max_iter=1000, penalty=l1, solver=saga;, score=1.000 total time=   0.0s\n",
      "[CV 1/5] END C=5.0, max_iter=1000, penalty=l2, solver=linear;, score=nan total time=   0.0s\n",
      "[CV 2/5] END C=5.0, max_iter=1000, penalty=l2, solver=linear;, score=nan total time=   0.0s\n",
      "[CV 3/5] END C=5.0, max_iter=1000, penalty=l2, solver=linear;, score=nan total time=   0.0s\n",
      "[CV 4/5] END C=5.0, max_iter=1000, penalty=l2, solver=linear;, score=nan total time=   0.0s\n",
      "[CV 5/5] END C=5.0, max_iter=1000, penalty=l2, solver=linear;, score=nan total time=   0.0s\n",
      "[CV 1/5] END C=5.0, max_iter=1000, penalty=l2, solver=saga;, score=0.958 total time=   0.0s\n",
      "[CV 2/5] END C=5.0, max_iter=1000, penalty=l2, solver=saga;, score=0.958 total time=   0.0s\n",
      "[CV 3/5] END C=5.0, max_iter=1000, penalty=l2, solver=saga;, score=1.000 total time=   0.0s\n",
      "[CV 4/5] END C=5.0, max_iter=1000, penalty=l2, solver=saga;, score=1.000 total time=   0.0s\n",
      "[CV 5/5] END C=5.0, max_iter=1000, penalty=l2, solver=saga;, score=1.000 total time=   0.0s\n",
      "[CV 1/5] END C=5.0, max_iter=5000, penalty=l1, solver=linear;, score=nan total time=   0.0s\n",
      "[CV 2/5] END C=5.0, max_iter=5000, penalty=l1, solver=linear;, score=nan total time=   0.0s\n",
      "[CV 3/5] END C=5.0, max_iter=5000, penalty=l1, solver=linear;, score=nan total time=   0.0s\n",
      "[CV 4/5] END C=5.0, max_iter=5000, penalty=l1, solver=linear;, score=nan total time=   0.0s\n",
      "[CV 5/5] END C=5.0, max_iter=5000, penalty=l1, solver=linear;, score=nan total time=   0.0s\n",
      "[CV 1/5] END C=5.0, max_iter=5000, penalty=l1, solver=saga;, score=0.958 total time=   0.0s\n",
      "[CV 2/5] END C=5.0, max_iter=5000, penalty=l1, solver=saga;, score=0.958 total time=   0.0s\n",
      "[CV 3/5] END C=5.0, max_iter=5000, penalty=l1, solver=saga;, score=1.000 total time=   0.0s\n",
      "[CV 4/5] END C=5.0, max_iter=5000, penalty=l1, solver=saga;, score=1.000 total time=   0.0s\n",
      "[CV 5/5] END C=5.0, max_iter=5000, penalty=l1, solver=saga;, score=1.000 total time=   0.0s\n",
      "[CV 1/5] END C=5.0, max_iter=5000, penalty=l2, solver=linear;, score=nan total time=   0.0s\n",
      "[CV 2/5] END C=5.0, max_iter=5000, penalty=l2, solver=linear;, score=nan total time=   0.0s\n",
      "[CV 3/5] END C=5.0, max_iter=5000, penalty=l2, solver=linear;, score=nan total time=   0.0s\n",
      "[CV 4/5] END C=5.0, max_iter=5000, penalty=l2, solver=linear;, score=nan total time=   0.0s\n",
      "[CV 5/5] END C=5.0, max_iter=5000, penalty=l2, solver=linear;, score=nan total time=   0.0s\n",
      "[CV 1/5] END C=5.0, max_iter=5000, penalty=l2, solver=saga;, score=1.000 total time=   0.0s\n",
      "[CV 2/5] END C=5.0, max_iter=5000, penalty=l2, solver=saga;, score=0.958 total time=   0.0s\n"
     ]
    },
    {
     "name": "stdout",
     "output_type": "stream",
     "text": [
      "[CV 3/5] END C=5.0, max_iter=5000, penalty=l2, solver=saga;, score=1.000 total time=   0.0s\n",
      "[CV 4/5] END C=5.0, max_iter=5000, penalty=l2, solver=saga;, score=1.000 total time=   0.0s\n",
      "[CV 5/5] END C=5.0, max_iter=5000, penalty=l2, solver=saga;, score=1.000 total time=   0.0s\n",
      "[CV 1/5] END C=5.0, max_iter=10000, penalty=l1, solver=linear;, score=nan total time=   0.0s\n",
      "[CV 2/5] END C=5.0, max_iter=10000, penalty=l1, solver=linear;, score=nan total time=   0.0s\n",
      "[CV 3/5] END C=5.0, max_iter=10000, penalty=l1, solver=linear;, score=nan total time=   0.0s\n",
      "[CV 4/5] END C=5.0, max_iter=10000, penalty=l1, solver=linear;, score=nan total time=   0.0s\n",
      "[CV 5/5] END C=5.0, max_iter=10000, penalty=l1, solver=linear;, score=nan total time=   0.0s\n",
      "[CV 1/5] END C=5.0, max_iter=10000, penalty=l1, solver=saga;, score=0.958 total time=   0.0s\n",
      "[CV 2/5] END C=5.0, max_iter=10000, penalty=l1, solver=saga;, score=0.958 total time=   0.0s\n",
      "[CV 3/5] END C=5.0, max_iter=10000, penalty=l1, solver=saga;, score=1.000 total time=   0.0s\n",
      "[CV 4/5] END C=5.0, max_iter=10000, penalty=l1, solver=saga;, score=1.000 total time=   0.0s\n",
      "[CV 5/5] END C=5.0, max_iter=10000, penalty=l1, solver=saga;, score=1.000 total time=   0.0s\n",
      "[CV 1/5] END C=5.0, max_iter=10000, penalty=l2, solver=linear;, score=nan total time=   0.0s\n",
      "[CV 2/5] END C=5.0, max_iter=10000, penalty=l2, solver=linear;, score=nan total time=   0.0s\n",
      "[CV 3/5] END C=5.0, max_iter=10000, penalty=l2, solver=linear;, score=nan total time=   0.0s\n",
      "[CV 4/5] END C=5.0, max_iter=10000, penalty=l2, solver=linear;, score=nan total time=   0.0s\n",
      "[CV 5/5] END C=5.0, max_iter=10000, penalty=l2, solver=linear;, score=nan total time=   0.0s\n",
      "[CV 1/5] END C=5.0, max_iter=10000, penalty=l2, solver=saga;, score=1.000 total time=   0.0s\n",
      "[CV 2/5] END C=5.0, max_iter=10000, penalty=l2, solver=saga;, score=0.958 total time=   0.0s\n",
      "[CV 3/5] END C=5.0, max_iter=10000, penalty=l2, solver=saga;, score=1.000 total time=   0.0s\n",
      "[CV 4/5] END C=5.0, max_iter=10000, penalty=l2, solver=saga;, score=1.000 total time=   0.0s\n",
      "[CV 5/5] END C=5.0, max_iter=10000, penalty=l2, solver=saga;, score=1.000 total time=   0.0s\n",
      "[CV 1/5] END C=5.5, max_iter=100, penalty=l1, solver=linear;, score=nan total time=   0.0s\n",
      "[CV 2/5] END C=5.5, max_iter=100, penalty=l1, solver=linear;, score=nan total time=   0.0s\n",
      "[CV 3/5] END C=5.5, max_iter=100, penalty=l1, solver=linear;, score=nan total time=   0.0s\n",
      "[CV 4/5] END C=5.5, max_iter=100, penalty=l1, solver=linear;, score=nan total time=   0.0s\n",
      "[CV 5/5] END C=5.5, max_iter=100, penalty=l1, solver=linear;, score=nan total time=   0.0s\n",
      "[CV 1/5] END C=5.5, max_iter=100, penalty=l1, solver=saga;, score=0.958 total time=   0.0s\n",
      "[CV 2/5] END C=5.5, max_iter=100, penalty=l1, solver=saga;, score=1.000 total time=   0.0s\n",
      "[CV 3/5] END C=5.5, max_iter=100, penalty=l1, solver=saga;, score=1.000 total time=   0.0s\n",
      "[CV 4/5] END C=5.5, max_iter=100, penalty=l1, solver=saga;, score=0.958 total time=   0.0s\n",
      "[CV 5/5] END C=5.5, max_iter=100, penalty=l1, solver=saga;, score=0.958 total time=   0.0s\n",
      "[CV 1/5] END C=5.5, max_iter=100, penalty=l2, solver=linear;, score=nan total time=   0.0s\n",
      "[CV 2/5] END C=5.5, max_iter=100, penalty=l2, solver=linear;, score=nan total time=   0.0s\n",
      "[CV 3/5] END C=5.5, max_iter=100, penalty=l2, solver=linear;, score=nan total time=   0.0s\n",
      "[CV 4/5] END C=5.5, max_iter=100, penalty=l2, solver=linear;, score=nan total time=   0.0s\n",
      "[CV 5/5] END C=5.5, max_iter=100, penalty=l2, solver=linear;, score=nan total time=   0.0s\n",
      "[CV 1/5] END C=5.5, max_iter=100, penalty=l2, solver=saga;, score=0.958 total time=   0.0s\n",
      "[CV 2/5] END C=5.5, max_iter=100, penalty=l2, solver=saga;, score=1.000 total time=   0.0s\n",
      "[CV 3/5] END C=5.5, max_iter=100, penalty=l2, solver=saga;, score=1.000 total time=   0.0s\n",
      "[CV 4/5] END C=5.5, max_iter=100, penalty=l2, solver=saga;, score=0.958 total time=   0.0s\n",
      "[CV 5/5] END C=5.5, max_iter=100, penalty=l2, solver=saga;, score=0.958 total time=   0.0s\n",
      "[CV 1/5] END C=5.5, max_iter=500, penalty=l1, solver=linear;, score=nan total time=   0.0s\n",
      "[CV 2/5] END C=5.5, max_iter=500, penalty=l1, solver=linear;, score=nan total time=   0.0s\n",
      "[CV 3/5] END C=5.5, max_iter=500, penalty=l1, solver=linear;, score=nan total time=   0.0s\n",
      "[CV 4/5] END C=5.5, max_iter=500, penalty=l1, solver=linear;, score=nan total time=   0.0s\n",
      "[CV 5/5] END C=5.5, max_iter=500, penalty=l1, solver=linear;, score=nan total time=   0.0s\n",
      "[CV 1/5] END C=5.5, max_iter=500, penalty=l1, solver=saga;, score=0.958 total time=   0.0s\n",
      "[CV 2/5] END C=5.5, max_iter=500, penalty=l1, solver=saga;, score=0.958 total time=   0.0s\n",
      "[CV 3/5] END C=5.5, max_iter=500, penalty=l1, solver=saga;, score=1.000 total time=   0.0s\n",
      "[CV 4/5] END C=5.5, max_iter=500, penalty=l1, solver=saga;, score=0.958 total time=   0.0s\n",
      "[CV 5/5] END C=5.5, max_iter=500, penalty=l1, solver=saga;, score=0.958 total time=   0.0s\n",
      "[CV 1/5] END C=5.5, max_iter=500, penalty=l2, solver=linear;, score=nan total time=   0.0s\n",
      "[CV 2/5] END C=5.5, max_iter=500, penalty=l2, solver=linear;, score=nan total time=   0.0s\n",
      "[CV 3/5] END C=5.5, max_iter=500, penalty=l2, solver=linear;, score=nan total time=   0.0s\n",
      "[CV 4/5] END C=5.5, max_iter=500, penalty=l2, solver=linear;, score=nan total time=   0.0s\n",
      "[CV 5/5] END C=5.5, max_iter=500, penalty=l2, solver=linear;, score=nan total time=   0.0s\n",
      "[CV 1/5] END C=5.5, max_iter=500, penalty=l2, solver=saga;, score=0.958 total time=   0.0s\n",
      "[CV 2/5] END C=5.5, max_iter=500, penalty=l2, solver=saga;, score=0.958 total time=   0.0s\n",
      "[CV 3/5] END C=5.5, max_iter=500, penalty=l2, solver=saga;, score=1.000 total time=   0.0s\n",
      "[CV 4/5] END C=5.5, max_iter=500, penalty=l2, solver=saga;, score=1.000 total time=   0.0s\n",
      "[CV 5/5] END C=5.5, max_iter=500, penalty=l2, solver=saga;, score=1.000 total time=   0.0s\n",
      "[CV 1/5] END C=5.5, max_iter=1000, penalty=l1, solver=linear;, score=nan total time=   0.0s\n",
      "[CV 2/5] END C=5.5, max_iter=1000, penalty=l1, solver=linear;, score=nan total time=   0.0s\n",
      "[CV 3/5] END C=5.5, max_iter=1000, penalty=l1, solver=linear;, score=nan total time=   0.0s\n",
      "[CV 4/5] END C=5.5, max_iter=1000, penalty=l1, solver=linear;, score=nan total time=   0.0s\n",
      "[CV 5/5] END C=5.5, max_iter=1000, penalty=l1, solver=linear;, score=nan total time=   0.0s\n",
      "[CV 1/5] END C=5.5, max_iter=1000, penalty=l1, solver=saga;, score=0.958 total time=   0.0s\n",
      "[CV 2/5] END C=5.5, max_iter=1000, penalty=l1, solver=saga;, score=0.958 total time=   0.0s\n",
      "[CV 3/5] END C=5.5, max_iter=1000, penalty=l1, solver=saga;, score=1.000 total time=   0.0s\n",
      "[CV 4/5] END C=5.5, max_iter=1000, penalty=l1, solver=saga;, score=1.000 total time=   0.0s\n",
      "[CV 5/5] END C=5.5, max_iter=1000, penalty=l1, solver=saga;, score=1.000 total time=   0.0s\n",
      "[CV 1/5] END C=5.5, max_iter=1000, penalty=l2, solver=linear;, score=nan total time=   0.0s\n",
      "[CV 2/5] END C=5.5, max_iter=1000, penalty=l2, solver=linear;, score=nan total time=   0.0s\n",
      "[CV 3/5] END C=5.5, max_iter=1000, penalty=l2, solver=linear;, score=nan total time=   0.0s\n",
      "[CV 4/5] END C=5.5, max_iter=1000, penalty=l2, solver=linear;, score=nan total time=   0.0s\n",
      "[CV 5/5] END C=5.5, max_iter=1000, penalty=l2, solver=linear;, score=nan total time=   0.0s\n",
      "[CV 1/5] END C=5.5, max_iter=1000, penalty=l2, solver=saga;, score=0.958 total time=   0.0s\n",
      "[CV 2/5] END C=5.5, max_iter=1000, penalty=l2, solver=saga;, score=0.958 total time=   0.0s\n",
      "[CV 3/5] END C=5.5, max_iter=1000, penalty=l2, solver=saga;, score=1.000 total time=   0.0s\n",
      "[CV 4/5] END C=5.5, max_iter=1000, penalty=l2, solver=saga;, score=1.000 total time=   0.0s\n",
      "[CV 5/5] END C=5.5, max_iter=1000, penalty=l2, solver=saga;, score=1.000 total time=   0.0s\n",
      "[CV 1/5] END C=5.5, max_iter=5000, penalty=l1, solver=linear;, score=nan total time=   0.0s\n",
      "[CV 2/5] END C=5.5, max_iter=5000, penalty=l1, solver=linear;, score=nan total time=   0.0s\n",
      "[CV 3/5] END C=5.5, max_iter=5000, penalty=l1, solver=linear;, score=nan total time=   0.0s\n",
      "[CV 4/5] END C=5.5, max_iter=5000, penalty=l1, solver=linear;, score=nan total time=   0.0s\n",
      "[CV 5/5] END C=5.5, max_iter=5000, penalty=l1, solver=linear;, score=nan total time=   0.0s\n",
      "[CV 1/5] END C=5.5, max_iter=5000, penalty=l1, solver=saga;, score=0.958 total time=   0.0s\n",
      "[CV 2/5] END C=5.5, max_iter=5000, penalty=l1, solver=saga;, score=0.958 total time=   0.0s\n",
      "[CV 3/5] END C=5.5, max_iter=5000, penalty=l1, solver=saga;, score=1.000 total time=   0.0s\n",
      "[CV 4/5] END C=5.5, max_iter=5000, penalty=l1, solver=saga;, score=1.000 total time=   0.0s\n",
      "[CV 5/5] END C=5.5, max_iter=5000, penalty=l1, solver=saga;, score=1.000 total time=   0.0s\n",
      "[CV 1/5] END C=5.5, max_iter=5000, penalty=l2, solver=linear;, score=nan total time=   0.0s\n",
      "[CV 2/5] END C=5.5, max_iter=5000, penalty=l2, solver=linear;, score=nan total time=   0.0s\n",
      "[CV 3/5] END C=5.5, max_iter=5000, penalty=l2, solver=linear;, score=nan total time=   0.0s\n",
      "[CV 4/5] END C=5.5, max_iter=5000, penalty=l2, solver=linear;, score=nan total time=   0.0s\n",
      "[CV 5/5] END C=5.5, max_iter=5000, penalty=l2, solver=linear;, score=nan total time=   0.0s\n",
      "[CV 1/5] END C=5.5, max_iter=5000, penalty=l2, solver=saga;, score=1.000 total time=   0.0s\n",
      "[CV 2/5] END C=5.5, max_iter=5000, penalty=l2, solver=saga;, score=0.958 total time=   0.0s\n",
      "[CV 3/5] END C=5.5, max_iter=5000, penalty=l2, solver=saga;, score=1.000 total time=   0.0s\n",
      "[CV 4/5] END C=5.5, max_iter=5000, penalty=l2, solver=saga;, score=1.000 total time=   0.0s\n",
      "[CV 5/5] END C=5.5, max_iter=5000, penalty=l2, solver=saga;, score=1.000 total time=   0.0s\n",
      "[CV 1/5] END C=5.5, max_iter=10000, penalty=l1, solver=linear;, score=nan total time=   0.0s\n"
     ]
    },
    {
     "name": "stdout",
     "output_type": "stream",
     "text": [
      "[CV 2/5] END C=5.5, max_iter=10000, penalty=l1, solver=linear;, score=nan total time=   0.0s\n",
      "[CV 3/5] END C=5.5, max_iter=10000, penalty=l1, solver=linear;, score=nan total time=   0.0s\n",
      "[CV 4/5] END C=5.5, max_iter=10000, penalty=l1, solver=linear;, score=nan total time=   0.0s\n",
      "[CV 5/5] END C=5.5, max_iter=10000, penalty=l1, solver=linear;, score=nan total time=   0.0s\n",
      "[CV 1/5] END C=5.5, max_iter=10000, penalty=l1, solver=saga;, score=0.958 total time=   0.0s\n",
      "[CV 2/5] END C=5.5, max_iter=10000, penalty=l1, solver=saga;, score=0.958 total time=   0.0s\n",
      "[CV 3/5] END C=5.5, max_iter=10000, penalty=l1, solver=saga;, score=1.000 total time=   0.0s\n",
      "[CV 4/5] END C=5.5, max_iter=10000, penalty=l1, solver=saga;, score=1.000 total time=   0.0s\n",
      "[CV 5/5] END C=5.5, max_iter=10000, penalty=l1, solver=saga;, score=1.000 total time=   0.0s\n",
      "[CV 1/5] END C=5.5, max_iter=10000, penalty=l2, solver=linear;, score=nan total time=   0.0s\n",
      "[CV 2/5] END C=5.5, max_iter=10000, penalty=l2, solver=linear;, score=nan total time=   0.0s\n",
      "[CV 3/5] END C=5.5, max_iter=10000, penalty=l2, solver=linear;, score=nan total time=   0.0s\n",
      "[CV 4/5] END C=5.5, max_iter=10000, penalty=l2, solver=linear;, score=nan total time=   0.0s\n",
      "[CV 5/5] END C=5.5, max_iter=10000, penalty=l2, solver=linear;, score=nan total time=   0.0s\n",
      "[CV 1/5] END C=5.5, max_iter=10000, penalty=l2, solver=saga;, score=1.000 total time=   0.0s\n",
      "[CV 2/5] END C=5.5, max_iter=10000, penalty=l2, solver=saga;, score=0.958 total time=   0.0s\n",
      "[CV 3/5] END C=5.5, max_iter=10000, penalty=l2, solver=saga;, score=1.000 total time=   0.0s\n",
      "[CV 4/5] END C=5.5, max_iter=10000, penalty=l2, solver=saga;, score=1.000 total time=   0.0s\n",
      "[CV 5/5] END C=5.5, max_iter=10000, penalty=l2, solver=saga;, score=1.000 total time=   0.0s\n",
      "[CV 1/5] END C=6.0, max_iter=100, penalty=l1, solver=linear;, score=nan total time=   0.0s\n",
      "[CV 2/5] END C=6.0, max_iter=100, penalty=l1, solver=linear;, score=nan total time=   0.0s\n",
      "[CV 3/5] END C=6.0, max_iter=100, penalty=l1, solver=linear;, score=nan total time=   0.0s\n",
      "[CV 4/5] END C=6.0, max_iter=100, penalty=l1, solver=linear;, score=nan total time=   0.0s\n",
      "[CV 5/5] END C=6.0, max_iter=100, penalty=l1, solver=linear;, score=nan total time=   0.0s\n",
      "[CV 1/5] END C=6.0, max_iter=100, penalty=l1, solver=saga;, score=0.958 total time=   0.0s\n",
      "[CV 2/5] END C=6.0, max_iter=100, penalty=l1, solver=saga;, score=1.000 total time=   0.0s\n",
      "[CV 3/5] END C=6.0, max_iter=100, penalty=l1, solver=saga;, score=1.000 total time=   0.0s\n",
      "[CV 4/5] END C=6.0, max_iter=100, penalty=l1, solver=saga;, score=0.958 total time=   0.0s\n",
      "[CV 5/5] END C=6.0, max_iter=100, penalty=l1, solver=saga;, score=0.958 total time=   0.0s\n",
      "[CV 1/5] END C=6.0, max_iter=100, penalty=l2, solver=linear;, score=nan total time=   0.0s\n",
      "[CV 2/5] END C=6.0, max_iter=100, penalty=l2, solver=linear;, score=nan total time=   0.0s\n",
      "[CV 3/5] END C=6.0, max_iter=100, penalty=l2, solver=linear;, score=nan total time=   0.0s\n",
      "[CV 4/5] END C=6.0, max_iter=100, penalty=l2, solver=linear;, score=nan total time=   0.0s\n",
      "[CV 5/5] END C=6.0, max_iter=100, penalty=l2, solver=linear;, score=nan total time=   0.0s\n",
      "[CV 1/5] END C=6.0, max_iter=100, penalty=l2, solver=saga;, score=0.958 total time=   0.0s\n",
      "[CV 2/5] END C=6.0, max_iter=100, penalty=l2, solver=saga;, score=1.000 total time=   0.0s\n",
      "[CV 3/5] END C=6.0, max_iter=100, penalty=l2, solver=saga;, score=1.000 total time=   0.0s\n",
      "[CV 4/5] END C=6.0, max_iter=100, penalty=l2, solver=saga;, score=0.958 total time=   0.0s\n",
      "[CV 5/5] END C=6.0, max_iter=100, penalty=l2, solver=saga;, score=0.958 total time=   0.0s\n",
      "[CV 1/5] END C=6.0, max_iter=500, penalty=l1, solver=linear;, score=nan total time=   0.0s\n",
      "[CV 2/5] END C=6.0, max_iter=500, penalty=l1, solver=linear;, score=nan total time=   0.0s\n",
      "[CV 3/5] END C=6.0, max_iter=500, penalty=l1, solver=linear;, score=nan total time=   0.0s\n",
      "[CV 4/5] END C=6.0, max_iter=500, penalty=l1, solver=linear;, score=nan total time=   0.0s\n",
      "[CV 5/5] END C=6.0, max_iter=500, penalty=l1, solver=linear;, score=nan total time=   0.0s\n",
      "[CV 1/5] END C=6.0, max_iter=500, penalty=l1, solver=saga;, score=0.958 total time=   0.0s\n",
      "[CV 2/5] END C=6.0, max_iter=500, penalty=l1, solver=saga;, score=0.958 total time=   0.0s\n",
      "[CV 3/5] END C=6.0, max_iter=500, penalty=l1, solver=saga;, score=1.000 total time=   0.0s\n",
      "[CV 4/5] END C=6.0, max_iter=500, penalty=l1, solver=saga;, score=0.958 total time=   0.0s\n",
      "[CV 5/5] END C=6.0, max_iter=500, penalty=l1, solver=saga;, score=0.958 total time=   0.0s\n",
      "[CV 1/5] END C=6.0, max_iter=500, penalty=l2, solver=linear;, score=nan total time=   0.0s\n",
      "[CV 2/5] END C=6.0, max_iter=500, penalty=l2, solver=linear;, score=nan total time=   0.0s\n",
      "[CV 3/5] END C=6.0, max_iter=500, penalty=l2, solver=linear;, score=nan total time=   0.0s\n",
      "[CV 4/5] END C=6.0, max_iter=500, penalty=l2, solver=linear;, score=nan total time=   0.0s\n",
      "[CV 5/5] END C=6.0, max_iter=500, penalty=l2, solver=linear;, score=nan total time=   0.0s\n",
      "[CV 1/5] END C=6.0, max_iter=500, penalty=l2, solver=saga;, score=0.958 total time=   0.0s\n",
      "[CV 2/5] END C=6.0, max_iter=500, penalty=l2, solver=saga;, score=0.958 total time=   0.0s\n",
      "[CV 3/5] END C=6.0, max_iter=500, penalty=l2, solver=saga;, score=1.000 total time=   0.0s\n",
      "[CV 4/5] END C=6.0, max_iter=500, penalty=l2, solver=saga;, score=1.000 total time=   0.0s\n",
      "[CV 5/5] END C=6.0, max_iter=500, penalty=l2, solver=saga;, score=1.000 total time=   0.0s\n",
      "[CV 1/5] END C=6.0, max_iter=1000, penalty=l1, solver=linear;, score=nan total time=   0.0s\n",
      "[CV 2/5] END C=6.0, max_iter=1000, penalty=l1, solver=linear;, score=nan total time=   0.0s\n",
      "[CV 3/5] END C=6.0, max_iter=1000, penalty=l1, solver=linear;, score=nan total time=   0.0s\n",
      "[CV 4/5] END C=6.0, max_iter=1000, penalty=l1, solver=linear;, score=nan total time=   0.0s\n",
      "[CV 5/5] END C=6.0, max_iter=1000, penalty=l1, solver=linear;, score=nan total time=   0.0s\n",
      "[CV 1/5] END C=6.0, max_iter=1000, penalty=l1, solver=saga;, score=0.958 total time=   0.0s\n",
      "[CV 2/5] END C=6.0, max_iter=1000, penalty=l1, solver=saga;, score=0.958 total time=   0.0s\n",
      "[CV 3/5] END C=6.0, max_iter=1000, penalty=l1, solver=saga;, score=1.000 total time=   0.0s\n",
      "[CV 4/5] END C=6.0, max_iter=1000, penalty=l1, solver=saga;, score=1.000 total time=   0.0s\n",
      "[CV 5/5] END C=6.0, max_iter=1000, penalty=l1, solver=saga;, score=1.000 total time=   0.0s\n",
      "[CV 1/5] END C=6.0, max_iter=1000, penalty=l2, solver=linear;, score=nan total time=   0.0s\n",
      "[CV 2/5] END C=6.0, max_iter=1000, penalty=l2, solver=linear;, score=nan total time=   0.0s\n",
      "[CV 3/5] END C=6.0, max_iter=1000, penalty=l2, solver=linear;, score=nan total time=   0.0s\n",
      "[CV 4/5] END C=6.0, max_iter=1000, penalty=l2, solver=linear;, score=nan total time=   0.0s\n",
      "[CV 5/5] END C=6.0, max_iter=1000, penalty=l2, solver=linear;, score=nan total time=   0.0s\n",
      "[CV 1/5] END C=6.0, max_iter=1000, penalty=l2, solver=saga;, score=0.958 total time=   0.0s\n",
      "[CV 2/5] END C=6.0, max_iter=1000, penalty=l2, solver=saga;, score=0.958 total time=   0.0s\n",
      "[CV 3/5] END C=6.0, max_iter=1000, penalty=l2, solver=saga;, score=1.000 total time=   0.0s\n",
      "[CV 4/5] END C=6.0, max_iter=1000, penalty=l2, solver=saga;, score=1.000 total time=   0.0s\n",
      "[CV 5/5] END C=6.0, max_iter=1000, penalty=l2, solver=saga;, score=1.000 total time=   0.0s\n",
      "[CV 1/5] END C=6.0, max_iter=5000, penalty=l1, solver=linear;, score=nan total time=   0.0s\n",
      "[CV 2/5] END C=6.0, max_iter=5000, penalty=l1, solver=linear;, score=nan total time=   0.0s\n",
      "[CV 3/5] END C=6.0, max_iter=5000, penalty=l1, solver=linear;, score=nan total time=   0.0s\n",
      "[CV 4/5] END C=6.0, max_iter=5000, penalty=l1, solver=linear;, score=nan total time=   0.0s\n",
      "[CV 5/5] END C=6.0, max_iter=5000, penalty=l1, solver=linear;, score=nan total time=   0.0s\n",
      "[CV 1/5] END C=6.0, max_iter=5000, penalty=l1, solver=saga;, score=0.958 total time=   0.0s\n",
      "[CV 2/5] END C=6.0, max_iter=5000, penalty=l1, solver=saga;, score=0.958 total time=   0.0s\n",
      "[CV 3/5] END C=6.0, max_iter=5000, penalty=l1, solver=saga;, score=1.000 total time=   0.0s\n",
      "[CV 4/5] END C=6.0, max_iter=5000, penalty=l1, solver=saga;, score=1.000 total time=   0.0s\n",
      "[CV 5/5] END C=6.0, max_iter=5000, penalty=l1, solver=saga;, score=1.000 total time=   0.0s\n",
      "[CV 1/5] END C=6.0, max_iter=5000, penalty=l2, solver=linear;, score=nan total time=   0.0s\n",
      "[CV 2/5] END C=6.0, max_iter=5000, penalty=l2, solver=linear;, score=nan total time=   0.0s\n",
      "[CV 3/5] END C=6.0, max_iter=5000, penalty=l2, solver=linear;, score=nan total time=   0.0s\n",
      "[CV 4/5] END C=6.0, max_iter=5000, penalty=l2, solver=linear;, score=nan total time=   0.0s\n",
      "[CV 5/5] END C=6.0, max_iter=5000, penalty=l2, solver=linear;, score=nan total time=   0.0s\n",
      "[CV 1/5] END C=6.0, max_iter=5000, penalty=l2, solver=saga;, score=1.000 total time=   0.0s\n",
      "[CV 2/5] END C=6.0, max_iter=5000, penalty=l2, solver=saga;, score=0.958 total time=   0.0s\n",
      "[CV 3/5] END C=6.0, max_iter=5000, penalty=l2, solver=saga;, score=1.000 total time=   0.0s\n"
     ]
    },
    {
     "name": "stdout",
     "output_type": "stream",
     "text": [
      "[CV 4/5] END C=6.0, max_iter=5000, penalty=l2, solver=saga;, score=1.000 total time=   0.0s\n",
      "[CV 5/5] END C=6.0, max_iter=5000, penalty=l2, solver=saga;, score=1.000 total time=   0.0s\n",
      "[CV 1/5] END C=6.0, max_iter=10000, penalty=l1, solver=linear;, score=nan total time=   0.0s\n",
      "[CV 2/5] END C=6.0, max_iter=10000, penalty=l1, solver=linear;, score=nan total time=   0.0s\n",
      "[CV 3/5] END C=6.0, max_iter=10000, penalty=l1, solver=linear;, score=nan total time=   0.0s\n",
      "[CV 4/5] END C=6.0, max_iter=10000, penalty=l1, solver=linear;, score=nan total time=   0.0s\n",
      "[CV 5/5] END C=6.0, max_iter=10000, penalty=l1, solver=linear;, score=nan total time=   0.0s\n",
      "[CV 1/5] END C=6.0, max_iter=10000, penalty=l1, solver=saga;, score=0.958 total time=   0.0s\n",
      "[CV 2/5] END C=6.0, max_iter=10000, penalty=l1, solver=saga;, score=0.958 total time=   0.0s\n",
      "[CV 3/5] END C=6.0, max_iter=10000, penalty=l1, solver=saga;, score=1.000 total time=   0.0s\n",
      "[CV 4/5] END C=6.0, max_iter=10000, penalty=l1, solver=saga;, score=1.000 total time=   0.0s\n",
      "[CV 5/5] END C=6.0, max_iter=10000, penalty=l1, solver=saga;, score=1.000 total time=   0.0s\n",
      "[CV 1/5] END C=6.0, max_iter=10000, penalty=l2, solver=linear;, score=nan total time=   0.0s\n",
      "[CV 2/5] END C=6.0, max_iter=10000, penalty=l2, solver=linear;, score=nan total time=   0.0s\n",
      "[CV 3/5] END C=6.0, max_iter=10000, penalty=l2, solver=linear;, score=nan total time=   0.0s\n",
      "[CV 4/5] END C=6.0, max_iter=10000, penalty=l2, solver=linear;, score=nan total time=   0.0s\n",
      "[CV 5/5] END C=6.0, max_iter=10000, penalty=l2, solver=linear;, score=nan total time=   0.0s\n",
      "[CV 1/5] END C=6.0, max_iter=10000, penalty=l2, solver=saga;, score=1.000 total time=   0.0s\n",
      "[CV 2/5] END C=6.0, max_iter=10000, penalty=l2, solver=saga;, score=0.958 total time=   0.0s\n",
      "[CV 3/5] END C=6.0, max_iter=10000, penalty=l2, solver=saga;, score=1.000 total time=   0.0s\n",
      "[CV 4/5] END C=6.0, max_iter=10000, penalty=l2, solver=saga;, score=1.000 total time=   0.0s\n",
      "[CV 5/5] END C=6.0, max_iter=10000, penalty=l2, solver=saga;, score=1.000 total time=   0.0s\n",
      "[CV 1/5] END C=6.5, max_iter=100, penalty=l1, solver=linear;, score=nan total time=   0.0s\n",
      "[CV 2/5] END C=6.5, max_iter=100, penalty=l1, solver=linear;, score=nan total time=   0.0s\n",
      "[CV 3/5] END C=6.5, max_iter=100, penalty=l1, solver=linear;, score=nan total time=   0.0s\n",
      "[CV 4/5] END C=6.5, max_iter=100, penalty=l1, solver=linear;, score=nan total time=   0.0s\n",
      "[CV 5/5] END C=6.5, max_iter=100, penalty=l1, solver=linear;, score=nan total time=   0.0s\n",
      "[CV 1/5] END C=6.5, max_iter=100, penalty=l1, solver=saga;, score=0.958 total time=   0.0s\n",
      "[CV 2/5] END C=6.5, max_iter=100, penalty=l1, solver=saga;, score=1.000 total time=   0.0s\n",
      "[CV 3/5] END C=6.5, max_iter=100, penalty=l1, solver=saga;, score=1.000 total time=   0.0s\n",
      "[CV 4/5] END C=6.5, max_iter=100, penalty=l1, solver=saga;, score=0.958 total time=   0.0s\n",
      "[CV 5/5] END C=6.5, max_iter=100, penalty=l1, solver=saga;, score=0.958 total time=   0.0s\n",
      "[CV 1/5] END C=6.5, max_iter=100, penalty=l2, solver=linear;, score=nan total time=   0.0s\n",
      "[CV 2/5] END C=6.5, max_iter=100, penalty=l2, solver=linear;, score=nan total time=   0.0s\n",
      "[CV 3/5] END C=6.5, max_iter=100, penalty=l2, solver=linear;, score=nan total time=   0.0s\n",
      "[CV 4/5] END C=6.5, max_iter=100, penalty=l2, solver=linear;, score=nan total time=   0.0s\n",
      "[CV 5/5] END C=6.5, max_iter=100, penalty=l2, solver=linear;, score=nan total time=   0.0s\n",
      "[CV 1/5] END C=6.5, max_iter=100, penalty=l2, solver=saga;, score=0.958 total time=   0.0s\n",
      "[CV 2/5] END C=6.5, max_iter=100, penalty=l2, solver=saga;, score=1.000 total time=   0.0s\n",
      "[CV 3/5] END C=6.5, max_iter=100, penalty=l2, solver=saga;, score=1.000 total time=   0.0s\n",
      "[CV 4/5] END C=6.5, max_iter=100, penalty=l2, solver=saga;, score=0.958 total time=   0.0s\n",
      "[CV 5/5] END C=6.5, max_iter=100, penalty=l2, solver=saga;, score=0.958 total time=   0.0s\n",
      "[CV 1/5] END C=6.5, max_iter=500, penalty=l1, solver=linear;, score=nan total time=   0.0s\n",
      "[CV 2/5] END C=6.5, max_iter=500, penalty=l1, solver=linear;, score=nan total time=   0.0s\n",
      "[CV 3/5] END C=6.5, max_iter=500, penalty=l1, solver=linear;, score=nan total time=   0.0s\n",
      "[CV 4/5] END C=6.5, max_iter=500, penalty=l1, solver=linear;, score=nan total time=   0.0s\n",
      "[CV 5/5] END C=6.5, max_iter=500, penalty=l1, solver=linear;, score=nan total time=   0.0s\n",
      "[CV 1/5] END C=6.5, max_iter=500, penalty=l1, solver=saga;, score=0.958 total time=   0.0s\n",
      "[CV 2/5] END C=6.5, max_iter=500, penalty=l1, solver=saga;, score=0.958 total time=   0.0s\n",
      "[CV 3/5] END C=6.5, max_iter=500, penalty=l1, solver=saga;, score=1.000 total time=   0.0s\n",
      "[CV 4/5] END C=6.5, max_iter=500, penalty=l1, solver=saga;, score=0.958 total time=   0.0s\n",
      "[CV 5/5] END C=6.5, max_iter=500, penalty=l1, solver=saga;, score=0.958 total time=   0.0s\n",
      "[CV 1/5] END C=6.5, max_iter=500, penalty=l2, solver=linear;, score=nan total time=   0.0s\n",
      "[CV 2/5] END C=6.5, max_iter=500, penalty=l2, solver=linear;, score=nan total time=   0.0s\n",
      "[CV 3/5] END C=6.5, max_iter=500, penalty=l2, solver=linear;, score=nan total time=   0.0s\n",
      "[CV 4/5] END C=6.5, max_iter=500, penalty=l2, solver=linear;, score=nan total time=   0.0s\n",
      "[CV 5/5] END C=6.5, max_iter=500, penalty=l2, solver=linear;, score=nan total time=   0.0s\n",
      "[CV 1/5] END C=6.5, max_iter=500, penalty=l2, solver=saga;, score=0.958 total time=   0.0s\n",
      "[CV 2/5] END C=6.5, max_iter=500, penalty=l2, solver=saga;, score=0.958 total time=   0.0s\n",
      "[CV 3/5] END C=6.5, max_iter=500, penalty=l2, solver=saga;, score=1.000 total time=   0.0s\n",
      "[CV 4/5] END C=6.5, max_iter=500, penalty=l2, solver=saga;, score=1.000 total time=   0.0s\n",
      "[CV 5/5] END C=6.5, max_iter=500, penalty=l2, solver=saga;, score=1.000 total time=   0.0s\n",
      "[CV 1/5] END C=6.5, max_iter=1000, penalty=l1, solver=linear;, score=nan total time=   0.0s\n",
      "[CV 2/5] END C=6.5, max_iter=1000, penalty=l1, solver=linear;, score=nan total time=   0.0s\n",
      "[CV 3/5] END C=6.5, max_iter=1000, penalty=l1, solver=linear;, score=nan total time=   0.0s\n",
      "[CV 4/5] END C=6.5, max_iter=1000, penalty=l1, solver=linear;, score=nan total time=   0.0s\n",
      "[CV 5/5] END C=6.5, max_iter=1000, penalty=l1, solver=linear;, score=nan total time=   0.0s\n",
      "[CV 1/5] END C=6.5, max_iter=1000, penalty=l1, solver=saga;, score=0.958 total time=   0.0s\n",
      "[CV 2/5] END C=6.5, max_iter=1000, penalty=l1, solver=saga;, score=0.958 total time=   0.0s\n",
      "[CV 3/5] END C=6.5, max_iter=1000, penalty=l1, solver=saga;, score=1.000 total time=   0.0s\n",
      "[CV 4/5] END C=6.5, max_iter=1000, penalty=l1, solver=saga;, score=1.000 total time=   0.0s\n",
      "[CV 5/5] END C=6.5, max_iter=1000, penalty=l1, solver=saga;, score=1.000 total time=   0.0s\n",
      "[CV 1/5] END C=6.5, max_iter=1000, penalty=l2, solver=linear;, score=nan total time=   0.0s\n",
      "[CV 2/5] END C=6.5, max_iter=1000, penalty=l2, solver=linear;, score=nan total time=   0.0s\n",
      "[CV 3/5] END C=6.5, max_iter=1000, penalty=l2, solver=linear;, score=nan total time=   0.0s\n",
      "[CV 4/5] END C=6.5, max_iter=1000, penalty=l2, solver=linear;, score=nan total time=   0.0s\n",
      "[CV 5/5] END C=6.5, max_iter=1000, penalty=l2, solver=linear;, score=nan total time=   0.0s\n",
      "[CV 1/5] END C=6.5, max_iter=1000, penalty=l2, solver=saga;, score=0.958 total time=   0.0s\n",
      "[CV 2/5] END C=6.5, max_iter=1000, penalty=l2, solver=saga;, score=0.958 total time=   0.0s\n",
      "[CV 3/5] END C=6.5, max_iter=1000, penalty=l2, solver=saga;, score=1.000 total time=   0.0s\n",
      "[CV 4/5] END C=6.5, max_iter=1000, penalty=l2, solver=saga;, score=1.000 total time=   0.0s\n",
      "[CV 5/5] END C=6.5, max_iter=1000, penalty=l2, solver=saga;, score=1.000 total time=   0.0s\n",
      "[CV 1/5] END C=6.5, max_iter=5000, penalty=l1, solver=linear;, score=nan total time=   0.0s\n",
      "[CV 2/5] END C=6.5, max_iter=5000, penalty=l1, solver=linear;, score=nan total time=   0.0s\n",
      "[CV 3/5] END C=6.5, max_iter=5000, penalty=l1, solver=linear;, score=nan total time=   0.0s\n",
      "[CV 4/5] END C=6.5, max_iter=5000, penalty=l1, solver=linear;, score=nan total time=   0.0s\n",
      "[CV 5/5] END C=6.5, max_iter=5000, penalty=l1, solver=linear;, score=nan total time=   0.0s\n",
      "[CV 1/5] END C=6.5, max_iter=5000, penalty=l1, solver=saga;, score=0.958 total time=   0.0s\n",
      "[CV 2/5] END C=6.5, max_iter=5000, penalty=l1, solver=saga;, score=0.958 total time=   0.0s\n",
      "[CV 3/5] END C=6.5, max_iter=5000, penalty=l1, solver=saga;, score=1.000 total time=   0.0s\n",
      "[CV 4/5] END C=6.5, max_iter=5000, penalty=l1, solver=saga;, score=1.000 total time=   0.0s\n",
      "[CV 5/5] END C=6.5, max_iter=5000, penalty=l1, solver=saga;, score=1.000 total time=   0.0s\n",
      "[CV 1/5] END C=6.5, max_iter=5000, penalty=l2, solver=linear;, score=nan total time=   0.0s\n",
      "[CV 2/5] END C=6.5, max_iter=5000, penalty=l2, solver=linear;, score=nan total time=   0.0s\n",
      "[CV 3/5] END C=6.5, max_iter=5000, penalty=l2, solver=linear;, score=nan total time=   0.0s\n",
      "[CV 4/5] END C=6.5, max_iter=5000, penalty=l2, solver=linear;, score=nan total time=   0.0s\n",
      "[CV 5/5] END C=6.5, max_iter=5000, penalty=l2, solver=linear;, score=nan total time=   0.0s\n",
      "[CV 1/5] END C=6.5, max_iter=5000, penalty=l2, solver=saga;, score=1.000 total time=   0.0s\n",
      "[CV 2/5] END C=6.5, max_iter=5000, penalty=l2, solver=saga;, score=0.958 total time=   0.0s\n"
     ]
    },
    {
     "name": "stdout",
     "output_type": "stream",
     "text": [
      "[CV 3/5] END C=6.5, max_iter=5000, penalty=l2, solver=saga;, score=1.000 total time=   0.0s\n",
      "[CV 4/5] END C=6.5, max_iter=5000, penalty=l2, solver=saga;, score=1.000 total time=   0.0s\n",
      "[CV 5/5] END C=6.5, max_iter=5000, penalty=l2, solver=saga;, score=1.000 total time=   0.0s\n",
      "[CV 1/5] END C=6.5, max_iter=10000, penalty=l1, solver=linear;, score=nan total time=   0.0s\n",
      "[CV 2/5] END C=6.5, max_iter=10000, penalty=l1, solver=linear;, score=nan total time=   0.0s\n",
      "[CV 3/5] END C=6.5, max_iter=10000, penalty=l1, solver=linear;, score=nan total time=   0.0s\n",
      "[CV 4/5] END C=6.5, max_iter=10000, penalty=l1, solver=linear;, score=nan total time=   0.0s\n",
      "[CV 5/5] END C=6.5, max_iter=10000, penalty=l1, solver=linear;, score=nan total time=   0.0s\n",
      "[CV 1/5] END C=6.5, max_iter=10000, penalty=l1, solver=saga;, score=0.958 total time=   0.0s\n",
      "[CV 2/5] END C=6.5, max_iter=10000, penalty=l1, solver=saga;, score=0.958 total time=   0.0s\n",
      "[CV 3/5] END C=6.5, max_iter=10000, penalty=l1, solver=saga;, score=1.000 total time=   0.0s\n",
      "[CV 4/5] END C=6.5, max_iter=10000, penalty=l1, solver=saga;, score=1.000 total time=   0.0s\n",
      "[CV 5/5] END C=6.5, max_iter=10000, penalty=l1, solver=saga;, score=1.000 total time=   0.0s\n",
      "[CV 1/5] END C=6.5, max_iter=10000, penalty=l2, solver=linear;, score=nan total time=   0.0s\n",
      "[CV 2/5] END C=6.5, max_iter=10000, penalty=l2, solver=linear;, score=nan total time=   0.0s\n",
      "[CV 3/5] END C=6.5, max_iter=10000, penalty=l2, solver=linear;, score=nan total time=   0.0s\n",
      "[CV 4/5] END C=6.5, max_iter=10000, penalty=l2, solver=linear;, score=nan total time=   0.0s\n",
      "[CV 5/5] END C=6.5, max_iter=10000, penalty=l2, solver=linear;, score=nan total time=   0.0s\n",
      "[CV 1/5] END C=6.5, max_iter=10000, penalty=l2, solver=saga;, score=1.000 total time=   0.0s\n",
      "[CV 2/5] END C=6.5, max_iter=10000, penalty=l2, solver=saga;, score=0.958 total time=   0.0s\n",
      "[CV 3/5] END C=6.5, max_iter=10000, penalty=l2, solver=saga;, score=1.000 total time=   0.0s\n",
      "[CV 4/5] END C=6.5, max_iter=10000, penalty=l2, solver=saga;, score=1.000 total time=   0.0s\n",
      "[CV 5/5] END C=6.5, max_iter=10000, penalty=l2, solver=saga;, score=1.000 total time=   0.0s\n",
      "[CV 1/5] END C=7.0, max_iter=100, penalty=l1, solver=linear;, score=nan total time=   0.0s\n",
      "[CV 2/5] END C=7.0, max_iter=100, penalty=l1, solver=linear;, score=nan total time=   0.0s\n",
      "[CV 3/5] END C=7.0, max_iter=100, penalty=l1, solver=linear;, score=nan total time=   0.0s\n",
      "[CV 4/5] END C=7.0, max_iter=100, penalty=l1, solver=linear;, score=nan total time=   0.0s\n",
      "[CV 5/5] END C=7.0, max_iter=100, penalty=l1, solver=linear;, score=nan total time=   0.0s\n",
      "[CV 1/5] END C=7.0, max_iter=100, penalty=l1, solver=saga;, score=0.958 total time=   0.0s\n",
      "[CV 2/5] END C=7.0, max_iter=100, penalty=l1, solver=saga;, score=1.000 total time=   0.0s\n",
      "[CV 3/5] END C=7.0, max_iter=100, penalty=l1, solver=saga;, score=1.000 total time=   0.0s\n",
      "[CV 4/5] END C=7.0, max_iter=100, penalty=l1, solver=saga;, score=0.958 total time=   0.0s\n",
      "[CV 5/5] END C=7.0, max_iter=100, penalty=l1, solver=saga;, score=0.958 total time=   0.0s\n",
      "[CV 1/5] END C=7.0, max_iter=100, penalty=l2, solver=linear;, score=nan total time=   0.0s\n",
      "[CV 2/5] END C=7.0, max_iter=100, penalty=l2, solver=linear;, score=nan total time=   0.0s\n",
      "[CV 3/5] END C=7.0, max_iter=100, penalty=l2, solver=linear;, score=nan total time=   0.0s\n",
      "[CV 4/5] END C=7.0, max_iter=100, penalty=l2, solver=linear;, score=nan total time=   0.0s\n",
      "[CV 5/5] END C=7.0, max_iter=100, penalty=l2, solver=linear;, score=nan total time=   0.0s\n",
      "[CV 1/5] END C=7.0, max_iter=100, penalty=l2, solver=saga;, score=0.958 total time=   0.0s\n",
      "[CV 2/5] END C=7.0, max_iter=100, penalty=l2, solver=saga;, score=1.000 total time=   0.0s\n",
      "[CV 3/5] END C=7.0, max_iter=100, penalty=l2, solver=saga;, score=1.000 total time=   0.0s\n",
      "[CV 4/5] END C=7.0, max_iter=100, penalty=l2, solver=saga;, score=0.958 total time=   0.0s\n",
      "[CV 5/5] END C=7.0, max_iter=100, penalty=l2, solver=saga;, score=0.958 total time=   0.0s\n",
      "[CV 1/5] END C=7.0, max_iter=500, penalty=l1, solver=linear;, score=nan total time=   0.0s\n",
      "[CV 2/5] END C=7.0, max_iter=500, penalty=l1, solver=linear;, score=nan total time=   0.0s\n",
      "[CV 3/5] END C=7.0, max_iter=500, penalty=l1, solver=linear;, score=nan total time=   0.0s\n",
      "[CV 4/5] END C=7.0, max_iter=500, penalty=l1, solver=linear;, score=nan total time=   0.0s\n",
      "[CV 5/5] END C=7.0, max_iter=500, penalty=l1, solver=linear;, score=nan total time=   0.0s\n",
      "[CV 1/5] END C=7.0, max_iter=500, penalty=l1, solver=saga;, score=0.958 total time=   0.0s\n",
      "[CV 2/5] END C=7.0, max_iter=500, penalty=l1, solver=saga;, score=0.958 total time=   0.0s\n",
      "[CV 3/5] END C=7.0, max_iter=500, penalty=l1, solver=saga;, score=1.000 total time=   0.0s\n",
      "[CV 4/5] END C=7.0, max_iter=500, penalty=l1, solver=saga;, score=0.958 total time=   0.0s\n",
      "[CV 5/5] END C=7.0, max_iter=500, penalty=l1, solver=saga;, score=0.958 total time=   0.0s\n",
      "[CV 1/5] END C=7.0, max_iter=500, penalty=l2, solver=linear;, score=nan total time=   0.0s\n",
      "[CV 2/5] END C=7.0, max_iter=500, penalty=l2, solver=linear;, score=nan total time=   0.0s\n",
      "[CV 3/5] END C=7.0, max_iter=500, penalty=l2, solver=linear;, score=nan total time=   0.0s\n",
      "[CV 4/5] END C=7.0, max_iter=500, penalty=l2, solver=linear;, score=nan total time=   0.0s\n",
      "[CV 5/5] END C=7.0, max_iter=500, penalty=l2, solver=linear;, score=nan total time=   0.0s\n",
      "[CV 1/5] END C=7.0, max_iter=500, penalty=l2, solver=saga;, score=0.958 total time=   0.0s\n",
      "[CV 2/5] END C=7.0, max_iter=500, penalty=l2, solver=saga;, score=0.958 total time=   0.0s\n",
      "[CV 3/5] END C=7.0, max_iter=500, penalty=l2, solver=saga;, score=1.000 total time=   0.0s\n",
      "[CV 4/5] END C=7.0, max_iter=500, penalty=l2, solver=saga;, score=1.000 total time=   0.0s\n",
      "[CV 5/5] END C=7.0, max_iter=500, penalty=l2, solver=saga;, score=1.000 total time=   0.0s\n",
      "[CV 1/5] END C=7.0, max_iter=1000, penalty=l1, solver=linear;, score=nan total time=   0.0s\n",
      "[CV 2/5] END C=7.0, max_iter=1000, penalty=l1, solver=linear;, score=nan total time=   0.0s\n",
      "[CV 3/5] END C=7.0, max_iter=1000, penalty=l1, solver=linear;, score=nan total time=   0.0s\n",
      "[CV 4/5] END C=7.0, max_iter=1000, penalty=l1, solver=linear;, score=nan total time=   0.0s\n",
      "[CV 5/5] END C=7.0, max_iter=1000, penalty=l1, solver=linear;, score=nan total time=   0.0s\n",
      "[CV 1/5] END C=7.0, max_iter=1000, penalty=l1, solver=saga;, score=0.958 total time=   0.0s\n",
      "[CV 2/5] END C=7.0, max_iter=1000, penalty=l1, solver=saga;, score=0.958 total time=   0.0s\n",
      "[CV 3/5] END C=7.0, max_iter=1000, penalty=l1, solver=saga;, score=1.000 total time=   0.0s\n",
      "[CV 4/5] END C=7.0, max_iter=1000, penalty=l1, solver=saga;, score=1.000 total time=   0.0s\n",
      "[CV 5/5] END C=7.0, max_iter=1000, penalty=l1, solver=saga;, score=0.958 total time=   0.0s\n",
      "[CV 1/5] END C=7.0, max_iter=1000, penalty=l2, solver=linear;, score=nan total time=   0.0s\n",
      "[CV 2/5] END C=7.0, max_iter=1000, penalty=l2, solver=linear;, score=nan total time=   0.0s\n",
      "[CV 3/5] END C=7.0, max_iter=1000, penalty=l2, solver=linear;, score=nan total time=   0.0s\n",
      "[CV 4/5] END C=7.0, max_iter=1000, penalty=l2, solver=linear;, score=nan total time=   0.0s\n",
      "[CV 5/5] END C=7.0, max_iter=1000, penalty=l2, solver=linear;, score=nan total time=   0.0s\n",
      "[CV 1/5] END C=7.0, max_iter=1000, penalty=l2, solver=saga;, score=0.958 total time=   0.0s\n",
      "[CV 2/5] END C=7.0, max_iter=1000, penalty=l2, solver=saga;, score=0.958 total time=   0.0s\n",
      "[CV 3/5] END C=7.0, max_iter=1000, penalty=l2, solver=saga;, score=1.000 total time=   0.0s\n",
      "[CV 4/5] END C=7.0, max_iter=1000, penalty=l2, solver=saga;, score=1.000 total time=   0.0s\n",
      "[CV 5/5] END C=7.0, max_iter=1000, penalty=l2, solver=saga;, score=1.000 total time=   0.0s\n",
      "[CV 1/5] END C=7.0, max_iter=5000, penalty=l1, solver=linear;, score=nan total time=   0.0s\n",
      "[CV 2/5] END C=7.0, max_iter=5000, penalty=l1, solver=linear;, score=nan total time=   0.0s\n",
      "[CV 3/5] END C=7.0, max_iter=5000, penalty=l1, solver=linear;, score=nan total time=   0.0s\n",
      "[CV 4/5] END C=7.0, max_iter=5000, penalty=l1, solver=linear;, score=nan total time=   0.0s\n",
      "[CV 5/5] END C=7.0, max_iter=5000, penalty=l1, solver=linear;, score=nan total time=   0.0s\n",
      "[CV 1/5] END C=7.0, max_iter=5000, penalty=l1, solver=saga;, score=0.958 total time=   0.0s\n",
      "[CV 2/5] END C=7.0, max_iter=5000, penalty=l1, solver=saga;, score=0.958 total time=   0.0s\n",
      "[CV 3/5] END C=7.0, max_iter=5000, penalty=l1, solver=saga;, score=1.000 total time=   0.0s\n",
      "[CV 4/5] END C=7.0, max_iter=5000, penalty=l1, solver=saga;, score=1.000 total time=   0.0s\n",
      "[CV 5/5] END C=7.0, max_iter=5000, penalty=l1, solver=saga;, score=1.000 total time=   0.0s\n",
      "[CV 1/5] END C=7.0, max_iter=5000, penalty=l2, solver=linear;, score=nan total time=   0.0s\n",
      "[CV 2/5] END C=7.0, max_iter=5000, penalty=l2, solver=linear;, score=nan total time=   0.0s\n",
      "[CV 3/5] END C=7.0, max_iter=5000, penalty=l2, solver=linear;, score=nan total time=   0.0s\n",
      "[CV 4/5] END C=7.0, max_iter=5000, penalty=l2, solver=linear;, score=nan total time=   0.0s\n",
      "[CV 5/5] END C=7.0, max_iter=5000, penalty=l2, solver=linear;, score=nan total time=   0.0s\n",
      "[CV 1/5] END C=7.0, max_iter=5000, penalty=l2, solver=saga;, score=0.958 total time=   0.0s\n",
      "[CV 2/5] END C=7.0, max_iter=5000, penalty=l2, solver=saga;, score=0.958 total time=   0.0s\n",
      "[CV 3/5] END C=7.0, max_iter=5000, penalty=l2, solver=saga;, score=1.000 total time=   0.0s\n",
      "[CV 4/5] END C=7.0, max_iter=5000, penalty=l2, solver=saga;, score=1.000 total time=   0.0s\n",
      "[CV 5/5] END C=7.0, max_iter=5000, penalty=l2, solver=saga;, score=1.000 total time=   0.0s\n",
      "[CV 1/5] END C=7.0, max_iter=10000, penalty=l1, solver=linear;, score=nan total time=   0.0s\n",
      "[CV 2/5] END C=7.0, max_iter=10000, penalty=l1, solver=linear;, score=nan total time=   0.0s\n",
      "[CV 3/5] END C=7.0, max_iter=10000, penalty=l1, solver=linear;, score=nan total time=   0.0s\n",
      "[CV 4/5] END C=7.0, max_iter=10000, penalty=l1, solver=linear;, score=nan total time=   0.0s\n",
      "[CV 5/5] END C=7.0, max_iter=10000, penalty=l1, solver=linear;, score=nan total time=   0.0s\n",
      "[CV 1/5] END C=7.0, max_iter=10000, penalty=l1, solver=saga;, score=0.958 total time=   0.0s\n"
     ]
    },
    {
     "name": "stdout",
     "output_type": "stream",
     "text": [
      "[CV 2/5] END C=7.0, max_iter=10000, penalty=l1, solver=saga;, score=0.958 total time=   0.0s\n",
      "[CV 3/5] END C=7.0, max_iter=10000, penalty=l1, solver=saga;, score=1.000 total time=   0.0s\n",
      "[CV 4/5] END C=7.0, max_iter=10000, penalty=l1, solver=saga;, score=1.000 total time=   0.0s\n",
      "[CV 5/5] END C=7.0, max_iter=10000, penalty=l1, solver=saga;, score=1.000 total time=   0.0s\n",
      "[CV 1/5] END C=7.0, max_iter=10000, penalty=l2, solver=linear;, score=nan total time=   0.0s\n",
      "[CV 2/5] END C=7.0, max_iter=10000, penalty=l2, solver=linear;, score=nan total time=   0.0s\n",
      "[CV 3/5] END C=7.0, max_iter=10000, penalty=l2, solver=linear;, score=nan total time=   0.0s\n",
      "[CV 4/5] END C=7.0, max_iter=10000, penalty=l2, solver=linear;, score=nan total time=   0.0s\n",
      "[CV 5/5] END C=7.0, max_iter=10000, penalty=l2, solver=linear;, score=nan total time=   0.0s\n",
      "[CV 1/5] END C=7.0, max_iter=10000, penalty=l2, solver=saga;, score=0.958 total time=   0.0s\n",
      "[CV 2/5] END C=7.0, max_iter=10000, penalty=l2, solver=saga;, score=0.958 total time=   0.0s\n",
      "[CV 3/5] END C=7.0, max_iter=10000, penalty=l2, solver=saga;, score=1.000 total time=   0.0s\n",
      "[CV 4/5] END C=7.0, max_iter=10000, penalty=l2, solver=saga;, score=1.000 total time=   0.0s\n",
      "[CV 5/5] END C=7.0, max_iter=10000, penalty=l2, solver=saga;, score=1.000 total time=   0.0s\n",
      "[CV 1/5] END C=7.5, max_iter=100, penalty=l1, solver=linear;, score=nan total time=   0.0s\n",
      "[CV 2/5] END C=7.5, max_iter=100, penalty=l1, solver=linear;, score=nan total time=   0.0s\n",
      "[CV 3/5] END C=7.5, max_iter=100, penalty=l1, solver=linear;, score=nan total time=   0.0s\n",
      "[CV 4/5] END C=7.5, max_iter=100, penalty=l1, solver=linear;, score=nan total time=   0.0s\n",
      "[CV 5/5] END C=7.5, max_iter=100, penalty=l1, solver=linear;, score=nan total time=   0.0s\n",
      "[CV 1/5] END C=7.5, max_iter=100, penalty=l1, solver=saga;, score=0.958 total time=   0.0s\n",
      "[CV 2/5] END C=7.5, max_iter=100, penalty=l1, solver=saga;, score=1.000 total time=   0.0s\n",
      "[CV 3/5] END C=7.5, max_iter=100, penalty=l1, solver=saga;, score=1.000 total time=   0.0s\n",
      "[CV 4/5] END C=7.5, max_iter=100, penalty=l1, solver=saga;, score=0.958 total time=   0.0s\n",
      "[CV 5/5] END C=7.5, max_iter=100, penalty=l1, solver=saga;, score=0.958 total time=   0.0s\n",
      "[CV 1/5] END C=7.5, max_iter=100, penalty=l2, solver=linear;, score=nan total time=   0.0s\n",
      "[CV 2/5] END C=7.5, max_iter=100, penalty=l2, solver=linear;, score=nan total time=   0.0s\n",
      "[CV 3/5] END C=7.5, max_iter=100, penalty=l2, solver=linear;, score=nan total time=   0.0s\n",
      "[CV 4/5] END C=7.5, max_iter=100, penalty=l2, solver=linear;, score=nan total time=   0.0s\n",
      "[CV 5/5] END C=7.5, max_iter=100, penalty=l2, solver=linear;, score=nan total time=   0.0s\n",
      "[CV 1/5] END C=7.5, max_iter=100, penalty=l2, solver=saga;, score=0.958 total time=   0.0s\n",
      "[CV 2/5] END C=7.5, max_iter=100, penalty=l2, solver=saga;, score=1.000 total time=   0.0s\n",
      "[CV 3/5] END C=7.5, max_iter=100, penalty=l2, solver=saga;, score=1.000 total time=   0.0s\n",
      "[CV 4/5] END C=7.5, max_iter=100, penalty=l2, solver=saga;, score=0.958 total time=   0.0s\n",
      "[CV 5/5] END C=7.5, max_iter=100, penalty=l2, solver=saga;, score=0.958 total time=   0.0s\n",
      "[CV 1/5] END C=7.5, max_iter=500, penalty=l1, solver=linear;, score=nan total time=   0.0s\n",
      "[CV 2/5] END C=7.5, max_iter=500, penalty=l1, solver=linear;, score=nan total time=   0.0s\n",
      "[CV 3/5] END C=7.5, max_iter=500, penalty=l1, solver=linear;, score=nan total time=   0.0s\n",
      "[CV 4/5] END C=7.5, max_iter=500, penalty=l1, solver=linear;, score=nan total time=   0.0s\n",
      "[CV 5/5] END C=7.5, max_iter=500, penalty=l1, solver=linear;, score=nan total time=   0.0s\n",
      "[CV 1/5] END C=7.5, max_iter=500, penalty=l1, solver=saga;, score=0.958 total time=   0.0s\n",
      "[CV 2/5] END C=7.5, max_iter=500, penalty=l1, solver=saga;, score=0.958 total time=   0.0s\n",
      "[CV 3/5] END C=7.5, max_iter=500, penalty=l1, solver=saga;, score=1.000 total time=   0.0s\n",
      "[CV 4/5] END C=7.5, max_iter=500, penalty=l1, solver=saga;, score=0.958 total time=   0.0s\n",
      "[CV 5/5] END C=7.5, max_iter=500, penalty=l1, solver=saga;, score=0.958 total time=   0.0s\n",
      "[CV 1/5] END C=7.5, max_iter=500, penalty=l2, solver=linear;, score=nan total time=   0.0s\n",
      "[CV 2/5] END C=7.5, max_iter=500, penalty=l2, solver=linear;, score=nan total time=   0.0s\n",
      "[CV 3/5] END C=7.5, max_iter=500, penalty=l2, solver=linear;, score=nan total time=   0.0s\n",
      "[CV 4/5] END C=7.5, max_iter=500, penalty=l2, solver=linear;, score=nan total time=   0.0s\n",
      "[CV 5/5] END C=7.5, max_iter=500, penalty=l2, solver=linear;, score=nan total time=   0.0s\n",
      "[CV 1/5] END C=7.5, max_iter=500, penalty=l2, solver=saga;, score=0.958 total time=   0.0s\n",
      "[CV 2/5] END C=7.5, max_iter=500, penalty=l2, solver=saga;, score=0.958 total time=   0.0s\n",
      "[CV 3/5] END C=7.5, max_iter=500, penalty=l2, solver=saga;, score=1.000 total time=   0.0s\n",
      "[CV 4/5] END C=7.5, max_iter=500, penalty=l2, solver=saga;, score=1.000 total time=   0.0s\n",
      "[CV 5/5] END C=7.5, max_iter=500, penalty=l2, solver=saga;, score=1.000 total time=   0.0s\n",
      "[CV 1/5] END C=7.5, max_iter=1000, penalty=l1, solver=linear;, score=nan total time=   0.0s\n",
      "[CV 2/5] END C=7.5, max_iter=1000, penalty=l1, solver=linear;, score=nan total time=   0.0s\n",
      "[CV 3/5] END C=7.5, max_iter=1000, penalty=l1, solver=linear;, score=nan total time=   0.0s\n",
      "[CV 4/5] END C=7.5, max_iter=1000, penalty=l1, solver=linear;, score=nan total time=   0.0s\n",
      "[CV 5/5] END C=7.5, max_iter=1000, penalty=l1, solver=linear;, score=nan total time=   0.0s\n",
      "[CV 1/5] END C=7.5, max_iter=1000, penalty=l1, solver=saga;, score=0.958 total time=   0.0s\n",
      "[CV 2/5] END C=7.5, max_iter=1000, penalty=l1, solver=saga;, score=0.958 total time=   0.0s\n",
      "[CV 3/5] END C=7.5, max_iter=1000, penalty=l1, solver=saga;, score=1.000 total time=   0.0s\n",
      "[CV 4/5] END C=7.5, max_iter=1000, penalty=l1, solver=saga;, score=1.000 total time=   0.0s\n",
      "[CV 5/5] END C=7.5, max_iter=1000, penalty=l1, solver=saga;, score=0.958 total time=   0.0s\n",
      "[CV 1/5] END C=7.5, max_iter=1000, penalty=l2, solver=linear;, score=nan total time=   0.0s\n",
      "[CV 2/5] END C=7.5, max_iter=1000, penalty=l2, solver=linear;, score=nan total time=   0.0s\n",
      "[CV 3/5] END C=7.5, max_iter=1000, penalty=l2, solver=linear;, score=nan total time=   0.0s\n",
      "[CV 4/5] END C=7.5, max_iter=1000, penalty=l2, solver=linear;, score=nan total time=   0.0s\n",
      "[CV 5/5] END C=7.5, max_iter=1000, penalty=l2, solver=linear;, score=nan total time=   0.0s\n",
      "[CV 1/5] END C=7.5, max_iter=1000, penalty=l2, solver=saga;, score=0.958 total time=   0.0s\n",
      "[CV 2/5] END C=7.5, max_iter=1000, penalty=l2, solver=saga;, score=0.958 total time=   0.0s\n",
      "[CV 3/5] END C=7.5, max_iter=1000, penalty=l2, solver=saga;, score=1.000 total time=   0.0s\n",
      "[CV 4/5] END C=7.5, max_iter=1000, penalty=l2, solver=saga;, score=1.000 total time=   0.0s\n",
      "[CV 5/5] END C=7.5, max_iter=1000, penalty=l2, solver=saga;, score=1.000 total time=   0.0s\n",
      "[CV 1/5] END C=7.5, max_iter=5000, penalty=l1, solver=linear;, score=nan total time=   0.0s\n",
      "[CV 2/5] END C=7.5, max_iter=5000, penalty=l1, solver=linear;, score=nan total time=   0.0s\n",
      "[CV 3/5] END C=7.5, max_iter=5000, penalty=l1, solver=linear;, score=nan total time=   0.0s\n",
      "[CV 4/5] END C=7.5, max_iter=5000, penalty=l1, solver=linear;, score=nan total time=   0.0s\n",
      "[CV 5/5] END C=7.5, max_iter=5000, penalty=l1, solver=linear;, score=nan total time=   0.0s\n",
      "[CV 1/5] END C=7.5, max_iter=5000, penalty=l1, solver=saga;, score=0.958 total time=   0.0s\n",
      "[CV 2/5] END C=7.5, max_iter=5000, penalty=l1, solver=saga;, score=0.958 total time=   0.0s\n",
      "[CV 3/5] END C=7.5, max_iter=5000, penalty=l1, solver=saga;, score=1.000 total time=   0.0s\n",
      "[CV 4/5] END C=7.5, max_iter=5000, penalty=l1, solver=saga;, score=1.000 total time=   0.0s\n",
      "[CV 5/5] END C=7.5, max_iter=5000, penalty=l1, solver=saga;, score=1.000 total time=   0.0s\n",
      "[CV 1/5] END C=7.5, max_iter=5000, penalty=l2, solver=linear;, score=nan total time=   0.0s\n",
      "[CV 2/5] END C=7.5, max_iter=5000, penalty=l2, solver=linear;, score=nan total time=   0.0s\n",
      "[CV 3/5] END C=7.5, max_iter=5000, penalty=l2, solver=linear;, score=nan total time=   0.0s\n",
      "[CV 4/5] END C=7.5, max_iter=5000, penalty=l2, solver=linear;, score=nan total time=   0.0s\n",
      "[CV 5/5] END C=7.5, max_iter=5000, penalty=l2, solver=linear;, score=nan total time=   0.0s\n",
      "[CV 1/5] END C=7.5, max_iter=5000, penalty=l2, solver=saga;, score=0.958 total time=   0.0s\n",
      "[CV 2/5] END C=7.5, max_iter=5000, penalty=l2, solver=saga;, score=0.958 total time=   0.0s\n",
      "[CV 3/5] END C=7.5, max_iter=5000, penalty=l2, solver=saga;, score=1.000 total time=   0.0s\n",
      "[CV 4/5] END C=7.5, max_iter=5000, penalty=l2, solver=saga;, score=1.000 total time=   0.0s\n",
      "[CV 5/5] END C=7.5, max_iter=5000, penalty=l2, solver=saga;, score=1.000 total time=   0.0s\n",
      "[CV 1/5] END C=7.5, max_iter=10000, penalty=l1, solver=linear;, score=nan total time=   0.0s\n",
      "[CV 2/5] END C=7.5, max_iter=10000, penalty=l1, solver=linear;, score=nan total time=   0.0s\n",
      "[CV 3/5] END C=7.5, max_iter=10000, penalty=l1, solver=linear;, score=nan total time=   0.0s\n",
      "[CV 4/5] END C=7.5, max_iter=10000, penalty=l1, solver=linear;, score=nan total time=   0.0s\n",
      "[CV 5/5] END C=7.5, max_iter=10000, penalty=l1, solver=linear;, score=nan total time=   0.0s\n"
     ]
    },
    {
     "name": "stdout",
     "output_type": "stream",
     "text": [
      "[CV 1/5] END C=7.5, max_iter=10000, penalty=l1, solver=saga;, score=0.958 total time=   0.0s\n",
      "[CV 2/5] END C=7.5, max_iter=10000, penalty=l1, solver=saga;, score=0.958 total time=   0.1s\n",
      "[CV 3/5] END C=7.5, max_iter=10000, penalty=l1, solver=saga;, score=1.000 total time=   0.0s\n",
      "[CV 4/5] END C=7.5, max_iter=10000, penalty=l1, solver=saga;, score=1.000 total time=   0.0s\n",
      "[CV 5/5] END C=7.5, max_iter=10000, penalty=l1, solver=saga;, score=1.000 total time=   0.0s\n",
      "[CV 1/5] END C=7.5, max_iter=10000, penalty=l2, solver=linear;, score=nan total time=   0.0s\n",
      "[CV 2/5] END C=7.5, max_iter=10000, penalty=l2, solver=linear;, score=nan total time=   0.0s\n",
      "[CV 3/5] END C=7.5, max_iter=10000, penalty=l2, solver=linear;, score=nan total time=   0.0s\n",
      "[CV 4/5] END C=7.5, max_iter=10000, penalty=l2, solver=linear;, score=nan total time=   0.0s\n",
      "[CV 5/5] END C=7.5, max_iter=10000, penalty=l2, solver=linear;, score=nan total time=   0.0s\n",
      "[CV 1/5] END C=7.5, max_iter=10000, penalty=l2, solver=saga;, score=0.958 total time=   0.0s\n",
      "[CV 2/5] END C=7.5, max_iter=10000, penalty=l2, solver=saga;, score=0.958 total time=   0.0s\n",
      "[CV 3/5] END C=7.5, max_iter=10000, penalty=l2, solver=saga;, score=1.000 total time=   0.0s\n",
      "[CV 4/5] END C=7.5, max_iter=10000, penalty=l2, solver=saga;, score=1.000 total time=   0.0s\n",
      "[CV 5/5] END C=7.5, max_iter=10000, penalty=l2, solver=saga;, score=1.000 total time=   0.0s\n",
      "[CV 1/5] END C=8.0, max_iter=100, penalty=l1, solver=linear;, score=nan total time=   0.0s\n",
      "[CV 2/5] END C=8.0, max_iter=100, penalty=l1, solver=linear;, score=nan total time=   0.0s\n",
      "[CV 3/5] END C=8.0, max_iter=100, penalty=l1, solver=linear;, score=nan total time=   0.0s\n",
      "[CV 4/5] END C=8.0, max_iter=100, penalty=l1, solver=linear;, score=nan total time=   0.0s\n",
      "[CV 5/5] END C=8.0, max_iter=100, penalty=l1, solver=linear;, score=nan total time=   0.0s\n",
      "[CV 1/5] END C=8.0, max_iter=100, penalty=l1, solver=saga;, score=0.958 total time=   0.0s\n",
      "[CV 2/5] END C=8.0, max_iter=100, penalty=l1, solver=saga;, score=1.000 total time=   0.0s\n",
      "[CV 3/5] END C=8.0, max_iter=100, penalty=l1, solver=saga;, score=1.000 total time=   0.0s\n",
      "[CV 4/5] END C=8.0, max_iter=100, penalty=l1, solver=saga;, score=0.958 total time=   0.0s\n",
      "[CV 5/5] END C=8.0, max_iter=100, penalty=l1, solver=saga;, score=0.958 total time=   0.0s\n",
      "[CV 1/5] END C=8.0, max_iter=100, penalty=l2, solver=linear;, score=nan total time=   0.0s\n",
      "[CV 2/5] END C=8.0, max_iter=100, penalty=l2, solver=linear;, score=nan total time=   0.0s\n",
      "[CV 3/5] END C=8.0, max_iter=100, penalty=l2, solver=linear;, score=nan total time=   0.0s\n",
      "[CV 4/5] END C=8.0, max_iter=100, penalty=l2, solver=linear;, score=nan total time=   0.0s\n",
      "[CV 5/5] END C=8.0, max_iter=100, penalty=l2, solver=linear;, score=nan total time=   0.0s\n",
      "[CV 1/5] END C=8.0, max_iter=100, penalty=l2, solver=saga;, score=0.958 total time=   0.0s\n",
      "[CV 2/5] END C=8.0, max_iter=100, penalty=l2, solver=saga;, score=1.000 total time=   0.0s\n",
      "[CV 3/5] END C=8.0, max_iter=100, penalty=l2, solver=saga;, score=1.000 total time=   0.2s\n",
      "[CV 4/5] END C=8.0, max_iter=100, penalty=l2, solver=saga;, score=0.958 total time=   0.0s\n",
      "[CV 5/5] END C=8.0, max_iter=100, penalty=l2, solver=saga;, score=0.958 total time=   0.0s\n",
      "[CV 1/5] END C=8.0, max_iter=500, penalty=l1, solver=linear;, score=nan total time=   0.0s\n",
      "[CV 2/5] END C=8.0, max_iter=500, penalty=l1, solver=linear;, score=nan total time=   0.0s\n",
      "[CV 3/5] END C=8.0, max_iter=500, penalty=l1, solver=linear;, score=nan total time=   0.0s\n",
      "[CV 4/5] END C=8.0, max_iter=500, penalty=l1, solver=linear;, score=nan total time=   0.0s\n",
      "[CV 5/5] END C=8.0, max_iter=500, penalty=l1, solver=linear;, score=nan total time=   0.0s\n",
      "[CV 1/5] END C=8.0, max_iter=500, penalty=l1, solver=saga;, score=0.958 total time=   0.0s\n",
      "[CV 2/5] END C=8.0, max_iter=500, penalty=l1, solver=saga;, score=0.958 total time=   0.0s\n",
      "[CV 3/5] END C=8.0, max_iter=500, penalty=l1, solver=saga;, score=1.000 total time=   0.0s\n",
      "[CV 4/5] END C=8.0, max_iter=500, penalty=l1, solver=saga;, score=0.958 total time=   0.0s\n",
      "[CV 5/5] END C=8.0, max_iter=500, penalty=l1, solver=saga;, score=0.958 total time=   0.0s\n",
      "[CV 1/5] END C=8.0, max_iter=500, penalty=l2, solver=linear;, score=nan total time=   0.0s\n",
      "[CV 2/5] END C=8.0, max_iter=500, penalty=l2, solver=linear;, score=nan total time=   0.0s\n",
      "[CV 3/5] END C=8.0, max_iter=500, penalty=l2, solver=linear;, score=nan total time=   0.0s\n",
      "[CV 4/5] END C=8.0, max_iter=500, penalty=l2, solver=linear;, score=nan total time=   0.0s\n",
      "[CV 5/5] END C=8.0, max_iter=500, penalty=l2, solver=linear;, score=nan total time=   0.0s\n",
      "[CV 1/5] END C=8.0, max_iter=500, penalty=l2, solver=saga;, score=0.958 total time=   0.0s\n",
      "[CV 2/5] END C=8.0, max_iter=500, penalty=l2, solver=saga;, score=0.958 total time=   0.0s\n",
      "[CV 3/5] END C=8.0, max_iter=500, penalty=l2, solver=saga;, score=1.000 total time=   0.0s\n",
      "[CV 4/5] END C=8.0, max_iter=500, penalty=l2, solver=saga;, score=1.000 total time=   0.0s\n",
      "[CV 5/5] END C=8.0, max_iter=500, penalty=l2, solver=saga;, score=1.000 total time=   0.0s\n",
      "[CV 1/5] END C=8.0, max_iter=1000, penalty=l1, solver=linear;, score=nan total time=   0.0s\n",
      "[CV 2/5] END C=8.0, max_iter=1000, penalty=l1, solver=linear;, score=nan total time=   0.0s\n",
      "[CV 3/5] END C=8.0, max_iter=1000, penalty=l1, solver=linear;, score=nan total time=   0.0s\n",
      "[CV 4/5] END C=8.0, max_iter=1000, penalty=l1, solver=linear;, score=nan total time=   0.0s\n",
      "[CV 5/5] END C=8.0, max_iter=1000, penalty=l1, solver=linear;, score=nan total time=   0.0s\n",
      "[CV 1/5] END C=8.0, max_iter=1000, penalty=l1, solver=saga;, score=0.958 total time=   0.0s\n",
      "[CV 2/5] END C=8.0, max_iter=1000, penalty=l1, solver=saga;, score=0.958 total time=   0.0s\n",
      "[CV 3/5] END C=8.0, max_iter=1000, penalty=l1, solver=saga;, score=1.000 total time=   0.0s\n",
      "[CV 4/5] END C=8.0, max_iter=1000, penalty=l1, solver=saga;, score=1.000 total time=   0.0s\n",
      "[CV 5/5] END C=8.0, max_iter=1000, penalty=l1, solver=saga;, score=0.958 total time=   0.0s\n",
      "[CV 1/5] END C=8.0, max_iter=1000, penalty=l2, solver=linear;, score=nan total time=   0.0s\n",
      "[CV 2/5] END C=8.0, max_iter=1000, penalty=l2, solver=linear;, score=nan total time=   0.0s\n",
      "[CV 3/5] END C=8.0, max_iter=1000, penalty=l2, solver=linear;, score=nan total time=   0.0s\n",
      "[CV 4/5] END C=8.0, max_iter=1000, penalty=l2, solver=linear;, score=nan total time=   0.0s\n",
      "[CV 5/5] END C=8.0, max_iter=1000, penalty=l2, solver=linear;, score=nan total time=   0.0s\n",
      "[CV 1/5] END C=8.0, max_iter=1000, penalty=l2, solver=saga;, score=0.958 total time=   0.0s\n",
      "[CV 2/5] END C=8.0, max_iter=1000, penalty=l2, solver=saga;, score=0.958 total time=   0.0s\n",
      "[CV 3/5] END C=8.0, max_iter=1000, penalty=l2, solver=saga;, score=1.000 total time=   0.0s\n",
      "[CV 4/5] END C=8.0, max_iter=1000, penalty=l2, solver=saga;, score=1.000 total time=   0.0s\n",
      "[CV 5/5] END C=8.0, max_iter=1000, penalty=l2, solver=saga;, score=1.000 total time=   0.0s\n",
      "[CV 1/5] END C=8.0, max_iter=5000, penalty=l1, solver=linear;, score=nan total time=   0.0s\n",
      "[CV 2/5] END C=8.0, max_iter=5000, penalty=l1, solver=linear;, score=nan total time=   0.0s\n",
      "[CV 3/5] END C=8.0, max_iter=5000, penalty=l1, solver=linear;, score=nan total time=   0.0s\n",
      "[CV 4/5] END C=8.0, max_iter=5000, penalty=l1, solver=linear;, score=nan total time=   0.0s\n",
      "[CV 5/5] END C=8.0, max_iter=5000, penalty=l1, solver=linear;, score=nan total time=   0.0s\n",
      "[CV 1/5] END C=8.0, max_iter=5000, penalty=l1, solver=saga;, score=0.958 total time=   0.0s\n",
      "[CV 2/5] END C=8.0, max_iter=5000, penalty=l1, solver=saga;, score=0.958 total time=   0.1s\n",
      "[CV 3/5] END C=8.0, max_iter=5000, penalty=l1, solver=saga;, score=1.000 total time=   0.0s\n",
      "[CV 4/5] END C=8.0, max_iter=5000, penalty=l1, solver=saga;, score=1.000 total time=   0.0s\n",
      "[CV 5/5] END C=8.0, max_iter=5000, penalty=l1, solver=saga;, score=1.000 total time=   0.0s\n",
      "[CV 1/5] END C=8.0, max_iter=5000, penalty=l2, solver=linear;, score=nan total time=   0.0s\n",
      "[CV 2/5] END C=8.0, max_iter=5000, penalty=l2, solver=linear;, score=nan total time=   0.0s\n",
      "[CV 3/5] END C=8.0, max_iter=5000, penalty=l2, solver=linear;, score=nan total time=   0.0s\n",
      "[CV 4/5] END C=8.0, max_iter=5000, penalty=l2, solver=linear;, score=nan total time=   0.0s\n",
      "[CV 5/5] END C=8.0, max_iter=5000, penalty=l2, solver=linear;, score=nan total time=   0.0s\n",
      "[CV 1/5] END C=8.0, max_iter=5000, penalty=l2, solver=saga;, score=0.958 total time=   0.0s\n",
      "[CV 2/5] END C=8.0, max_iter=5000, penalty=l2, solver=saga;, score=0.958 total time=   0.0s\n",
      "[CV 3/5] END C=8.0, max_iter=5000, penalty=l2, solver=saga;, score=1.000 total time=   0.0s\n",
      "[CV 4/5] END C=8.0, max_iter=5000, penalty=l2, solver=saga;, score=1.000 total time=   0.0s\n"
     ]
    },
    {
     "name": "stdout",
     "output_type": "stream",
     "text": [
      "[CV 5/5] END C=8.0, max_iter=5000, penalty=l2, solver=saga;, score=1.000 total time=   0.0s\n",
      "[CV 1/5] END C=8.0, max_iter=10000, penalty=l1, solver=linear;, score=nan total time=   0.0s\n",
      "[CV 2/5] END C=8.0, max_iter=10000, penalty=l1, solver=linear;, score=nan total time=   0.0s\n",
      "[CV 3/5] END C=8.0, max_iter=10000, penalty=l1, solver=linear;, score=nan total time=   0.0s\n",
      "[CV 4/5] END C=8.0, max_iter=10000, penalty=l1, solver=linear;, score=nan total time=   0.0s\n",
      "[CV 5/5] END C=8.0, max_iter=10000, penalty=l1, solver=linear;, score=nan total time=   0.0s\n",
      "[CV 1/5] END C=8.0, max_iter=10000, penalty=l1, solver=saga;, score=0.958 total time=   0.0s\n",
      "[CV 2/5] END C=8.0, max_iter=10000, penalty=l1, solver=saga;, score=0.958 total time=   0.0s\n",
      "[CV 3/5] END C=8.0, max_iter=10000, penalty=l1, solver=saga;, score=1.000 total time=   0.0s\n",
      "[CV 4/5] END C=8.0, max_iter=10000, penalty=l1, solver=saga;, score=1.000 total time=   0.0s\n",
      "[CV 5/5] END C=8.0, max_iter=10000, penalty=l1, solver=saga;, score=1.000 total time=   0.0s\n",
      "[CV 1/5] END C=8.0, max_iter=10000, penalty=l2, solver=linear;, score=nan total time=   0.0s\n",
      "[CV 2/5] END C=8.0, max_iter=10000, penalty=l2, solver=linear;, score=nan total time=   0.0s\n",
      "[CV 3/5] END C=8.0, max_iter=10000, penalty=l2, solver=linear;, score=nan total time=   0.0s\n",
      "[CV 4/5] END C=8.0, max_iter=10000, penalty=l2, solver=linear;, score=nan total time=   0.0s\n",
      "[CV 5/5] END C=8.0, max_iter=10000, penalty=l2, solver=linear;, score=nan total time=   0.0s\n",
      "[CV 1/5] END C=8.0, max_iter=10000, penalty=l2, solver=saga;, score=0.958 total time=   0.0s\n",
      "[CV 2/5] END C=8.0, max_iter=10000, penalty=l2, solver=saga;, score=0.958 total time=   0.0s\n",
      "[CV 3/5] END C=8.0, max_iter=10000, penalty=l2, solver=saga;, score=1.000 total time=   0.0s\n",
      "[CV 4/5] END C=8.0, max_iter=10000, penalty=l2, solver=saga;, score=1.000 total time=   0.0s\n",
      "[CV 5/5] END C=8.0, max_iter=10000, penalty=l2, solver=saga;, score=1.000 total time=   0.0s\n",
      "[CV 1/5] END C=8.5, max_iter=100, penalty=l1, solver=linear;, score=nan total time=   0.0s\n",
      "[CV 2/5] END C=8.5, max_iter=100, penalty=l1, solver=linear;, score=nan total time=   0.0s\n",
      "[CV 3/5] END C=8.5, max_iter=100, penalty=l1, solver=linear;, score=nan total time=   0.0s\n",
      "[CV 4/5] END C=8.5, max_iter=100, penalty=l1, solver=linear;, score=nan total time=   0.0s\n",
      "[CV 5/5] END C=8.5, max_iter=100, penalty=l1, solver=linear;, score=nan total time=   0.0s\n",
      "[CV 1/5] END C=8.5, max_iter=100, penalty=l1, solver=saga;, score=0.958 total time=   0.0s\n",
      "[CV 2/5] END C=8.5, max_iter=100, penalty=l1, solver=saga;, score=1.000 total time=   0.0s\n",
      "[CV 3/5] END C=8.5, max_iter=100, penalty=l1, solver=saga;, score=1.000 total time=   0.0s\n",
      "[CV 4/5] END C=8.5, max_iter=100, penalty=l1, solver=saga;, score=0.958 total time=   0.0s\n",
      "[CV 5/5] END C=8.5, max_iter=100, penalty=l1, solver=saga;, score=0.958 total time=   0.0s\n",
      "[CV 1/5] END C=8.5, max_iter=100, penalty=l2, solver=linear;, score=nan total time=   0.0s\n",
      "[CV 2/5] END C=8.5, max_iter=100, penalty=l2, solver=linear;, score=nan total time=   0.0s\n",
      "[CV 3/5] END C=8.5, max_iter=100, penalty=l2, solver=linear;, score=nan total time=   0.0s\n",
      "[CV 4/5] END C=8.5, max_iter=100, penalty=l2, solver=linear;, score=nan total time=   0.0s\n",
      "[CV 5/5] END C=8.5, max_iter=100, penalty=l2, solver=linear;, score=nan total time=   0.0s\n",
      "[CV 1/5] END C=8.5, max_iter=100, penalty=l2, solver=saga;, score=0.958 total time=   0.0s\n",
      "[CV 2/5] END C=8.5, max_iter=100, penalty=l2, solver=saga;, score=1.000 total time=   0.0s\n",
      "[CV 3/5] END C=8.5, max_iter=100, penalty=l2, solver=saga;, score=1.000 total time=   0.0s\n",
      "[CV 4/5] END C=8.5, max_iter=100, penalty=l2, solver=saga;, score=0.958 total time=   0.0s\n",
      "[CV 5/5] END C=8.5, max_iter=100, penalty=l2, solver=saga;, score=0.958 total time=   0.0s\n",
      "[CV 1/5] END C=8.5, max_iter=500, penalty=l1, solver=linear;, score=nan total time=   0.0s\n",
      "[CV 2/5] END C=8.5, max_iter=500, penalty=l1, solver=linear;, score=nan total time=   0.0s\n",
      "[CV 3/5] END C=8.5, max_iter=500, penalty=l1, solver=linear;, score=nan total time=   0.0s\n",
      "[CV 4/5] END C=8.5, max_iter=500, penalty=l1, solver=linear;, score=nan total time=   0.0s\n",
      "[CV 5/5] END C=8.5, max_iter=500, penalty=l1, solver=linear;, score=nan total time=   0.0s\n",
      "[CV 1/5] END C=8.5, max_iter=500, penalty=l1, solver=saga;, score=0.958 total time=   0.0s\n",
      "[CV 2/5] END C=8.5, max_iter=500, penalty=l1, solver=saga;, score=0.958 total time=   0.0s\n",
      "[CV 3/5] END C=8.5, max_iter=500, penalty=l1, solver=saga;, score=1.000 total time=   0.0s\n",
      "[CV 4/5] END C=8.5, max_iter=500, penalty=l1, solver=saga;, score=0.958 total time=   0.0s\n",
      "[CV 5/5] END C=8.5, max_iter=500, penalty=l1, solver=saga;, score=0.958 total time=   0.0s\n",
      "[CV 1/5] END C=8.5, max_iter=500, penalty=l2, solver=linear;, score=nan total time=   0.0s\n",
      "[CV 2/5] END C=8.5, max_iter=500, penalty=l2, solver=linear;, score=nan total time=   0.0s\n",
      "[CV 3/5] END C=8.5, max_iter=500, penalty=l2, solver=linear;, score=nan total time=   0.0s\n",
      "[CV 4/5] END C=8.5, max_iter=500, penalty=l2, solver=linear;, score=nan total time=   0.0s\n",
      "[CV 5/5] END C=8.5, max_iter=500, penalty=l2, solver=linear;, score=nan total time=   0.0s\n",
      "[CV 1/5] END C=8.5, max_iter=500, penalty=l2, solver=saga;, score=0.958 total time=   0.0s\n",
      "[CV 2/5] END C=8.5, max_iter=500, penalty=l2, solver=saga;, score=0.958 total time=   0.0s\n",
      "[CV 3/5] END C=8.5, max_iter=500, penalty=l2, solver=saga;, score=1.000 total time=   0.0s\n",
      "[CV 4/5] END C=8.5, max_iter=500, penalty=l2, solver=saga;, score=1.000 total time=   0.0s\n",
      "[CV 5/5] END C=8.5, max_iter=500, penalty=l2, solver=saga;, score=1.000 total time=   0.0s\n",
      "[CV 1/5] END C=8.5, max_iter=1000, penalty=l1, solver=linear;, score=nan total time=   0.0s\n",
      "[CV 2/5] END C=8.5, max_iter=1000, penalty=l1, solver=linear;, score=nan total time=   0.0s\n",
      "[CV 3/5] END C=8.5, max_iter=1000, penalty=l1, solver=linear;, score=nan total time=   0.0s\n",
      "[CV 4/5] END C=8.5, max_iter=1000, penalty=l1, solver=linear;, score=nan total time=   0.0s\n",
      "[CV 5/5] END C=8.5, max_iter=1000, penalty=l1, solver=linear;, score=nan total time=   0.0s\n",
      "[CV 1/5] END C=8.5, max_iter=1000, penalty=l1, solver=saga;, score=0.958 total time=   0.0s\n",
      "[CV 2/5] END C=8.5, max_iter=1000, penalty=l1, solver=saga;, score=0.958 total time=   0.0s\n",
      "[CV 3/5] END C=8.5, max_iter=1000, penalty=l1, solver=saga;, score=1.000 total time=   0.0s\n",
      "[CV 4/5] END C=8.5, max_iter=1000, penalty=l1, solver=saga;, score=1.000 total time=   0.0s\n",
      "[CV 5/5] END C=8.5, max_iter=1000, penalty=l1, solver=saga;, score=0.958 total time=   0.0s\n",
      "[CV 1/5] END C=8.5, max_iter=1000, penalty=l2, solver=linear;, score=nan total time=   0.0s\n",
      "[CV 2/5] END C=8.5, max_iter=1000, penalty=l2, solver=linear;, score=nan total time=   0.0s\n",
      "[CV 3/5] END C=8.5, max_iter=1000, penalty=l2, solver=linear;, score=nan total time=   0.0s\n",
      "[CV 4/5] END C=8.5, max_iter=1000, penalty=l2, solver=linear;, score=nan total time=   0.0s\n",
      "[CV 5/5] END C=8.5, max_iter=1000, penalty=l2, solver=linear;, score=nan total time=   0.0s\n",
      "[CV 1/5] END C=8.5, max_iter=1000, penalty=l2, solver=saga;, score=0.958 total time=   0.0s\n",
      "[CV 2/5] END C=8.5, max_iter=1000, penalty=l2, solver=saga;, score=0.958 total time=   0.0s\n",
      "[CV 3/5] END C=8.5, max_iter=1000, penalty=l2, solver=saga;, score=1.000 total time=   0.0s\n",
      "[CV 4/5] END C=8.5, max_iter=1000, penalty=l2, solver=saga;, score=1.000 total time=   0.0s\n",
      "[CV 5/5] END C=8.5, max_iter=1000, penalty=l2, solver=saga;, score=1.000 total time=   0.0s\n",
      "[CV 1/5] END C=8.5, max_iter=5000, penalty=l1, solver=linear;, score=nan total time=   0.0s\n",
      "[CV 2/5] END C=8.5, max_iter=5000, penalty=l1, solver=linear;, score=nan total time=   0.0s\n",
      "[CV 3/5] END C=8.5, max_iter=5000, penalty=l1, solver=linear;, score=nan total time=   0.0s\n",
      "[CV 4/5] END C=8.5, max_iter=5000, penalty=l1, solver=linear;, score=nan total time=   0.0s\n",
      "[CV 5/5] END C=8.5, max_iter=5000, penalty=l1, solver=linear;, score=nan total time=   0.0s\n",
      "[CV 1/5] END C=8.5, max_iter=5000, penalty=l1, solver=saga;, score=0.958 total time=   0.0s\n",
      "[CV 2/5] END C=8.5, max_iter=5000, penalty=l1, solver=saga;, score=0.958 total time=   0.0s\n",
      "[CV 3/5] END C=8.5, max_iter=5000, penalty=l1, solver=saga;, score=1.000 total time=   0.0s\n",
      "[CV 4/5] END C=8.5, max_iter=5000, penalty=l1, solver=saga;, score=1.000 total time=   0.0s\n",
      "[CV 5/5] END C=8.5, max_iter=5000, penalty=l1, solver=saga;, score=1.000 total time=   0.0s\n"
     ]
    },
    {
     "name": "stdout",
     "output_type": "stream",
     "text": [
      "[CV 1/5] END C=8.5, max_iter=5000, penalty=l2, solver=linear;, score=nan total time=   0.0s\n",
      "[CV 2/5] END C=8.5, max_iter=5000, penalty=l2, solver=linear;, score=nan total time=   0.0s\n",
      "[CV 3/5] END C=8.5, max_iter=5000, penalty=l2, solver=linear;, score=nan total time=   0.0s\n",
      "[CV 4/5] END C=8.5, max_iter=5000, penalty=l2, solver=linear;, score=nan total time=   0.0s\n",
      "[CV 5/5] END C=8.5, max_iter=5000, penalty=l2, solver=linear;, score=nan total time=   0.0s\n",
      "[CV 1/5] END C=8.5, max_iter=5000, penalty=l2, solver=saga;, score=0.958 total time=   0.0s\n",
      "[CV 2/5] END C=8.5, max_iter=5000, penalty=l2, solver=saga;, score=0.958 total time=   0.0s\n",
      "[CV 3/5] END C=8.5, max_iter=5000, penalty=l2, solver=saga;, score=1.000 total time=   0.0s\n",
      "[CV 4/5] END C=8.5, max_iter=5000, penalty=l2, solver=saga;, score=1.000 total time=   0.0s\n",
      "[CV 5/5] END C=8.5, max_iter=5000, penalty=l2, solver=saga;, score=1.000 total time=   0.0s\n",
      "[CV 1/5] END C=8.5, max_iter=10000, penalty=l1, solver=linear;, score=nan total time=   0.0s\n",
      "[CV 2/5] END C=8.5, max_iter=10000, penalty=l1, solver=linear;, score=nan total time=   0.0s\n",
      "[CV 3/5] END C=8.5, max_iter=10000, penalty=l1, solver=linear;, score=nan total time=   0.0s\n",
      "[CV 4/5] END C=8.5, max_iter=10000, penalty=l1, solver=linear;, score=nan total time=   0.0s\n",
      "[CV 5/5] END C=8.5, max_iter=10000, penalty=l1, solver=linear;, score=nan total time=   0.0s\n",
      "[CV 1/5] END C=8.5, max_iter=10000, penalty=l1, solver=saga;, score=0.958 total time=   0.0s\n",
      "[CV 2/5] END C=8.5, max_iter=10000, penalty=l1, solver=saga;, score=0.958 total time=   0.1s\n",
      "[CV 3/5] END C=8.5, max_iter=10000, penalty=l1, solver=saga;, score=1.000 total time=   0.0s\n",
      "[CV 4/5] END C=8.5, max_iter=10000, penalty=l1, solver=saga;, score=1.000 total time=   0.0s\n",
      "[CV 5/5] END C=8.5, max_iter=10000, penalty=l1, solver=saga;, score=1.000 total time=   0.0s\n",
      "[CV 1/5] END C=8.5, max_iter=10000, penalty=l2, solver=linear;, score=nan total time=   0.0s\n",
      "[CV 2/5] END C=8.5, max_iter=10000, penalty=l2, solver=linear;, score=nan total time=   0.0s\n",
      "[CV 3/5] END C=8.5, max_iter=10000, penalty=l2, solver=linear;, score=nan total time=   0.0s\n",
      "[CV 4/5] END C=8.5, max_iter=10000, penalty=l2, solver=linear;, score=nan total time=   0.0s\n",
      "[CV 5/5] END C=8.5, max_iter=10000, penalty=l2, solver=linear;, score=nan total time=   0.0s\n",
      "[CV 1/5] END C=8.5, max_iter=10000, penalty=l2, solver=saga;, score=0.958 total time=   0.0s\n",
      "[CV 2/5] END C=8.5, max_iter=10000, penalty=l2, solver=saga;, score=0.958 total time=   0.0s\n",
      "[CV 3/5] END C=8.5, max_iter=10000, penalty=l2, solver=saga;, score=1.000 total time=   0.0s\n",
      "[CV 4/5] END C=8.5, max_iter=10000, penalty=l2, solver=saga;, score=1.000 total time=   0.0s\n",
      "[CV 5/5] END C=8.5, max_iter=10000, penalty=l2, solver=saga;, score=1.000 total time=   0.0s\n",
      "[CV 1/5] END C=9.0, max_iter=100, penalty=l1, solver=linear;, score=nan total time=   0.0s\n",
      "[CV 2/5] END C=9.0, max_iter=100, penalty=l1, solver=linear;, score=nan total time=   0.0s\n",
      "[CV 3/5] END C=9.0, max_iter=100, penalty=l1, solver=linear;, score=nan total time=   0.0s\n",
      "[CV 4/5] END C=9.0, max_iter=100, penalty=l1, solver=linear;, score=nan total time=   0.0s\n",
      "[CV 5/5] END C=9.0, max_iter=100, penalty=l1, solver=linear;, score=nan total time=   0.0s\n",
      "[CV 1/5] END C=9.0, max_iter=100, penalty=l1, solver=saga;, score=0.958 total time=   0.0s\n",
      "[CV 2/5] END C=9.0, max_iter=100, penalty=l1, solver=saga;, score=1.000 total time=   0.0s\n",
      "[CV 3/5] END C=9.0, max_iter=100, penalty=l1, solver=saga;, score=1.000 total time=   0.0s\n",
      "[CV 4/5] END C=9.0, max_iter=100, penalty=l1, solver=saga;, score=0.958 total time=   0.0s\n",
      "[CV 5/5] END C=9.0, max_iter=100, penalty=l1, solver=saga;, score=0.958 total time=   0.0s\n",
      "[CV 1/5] END C=9.0, max_iter=100, penalty=l2, solver=linear;, score=nan total time=   0.0s\n",
      "[CV 2/5] END C=9.0, max_iter=100, penalty=l2, solver=linear;, score=nan total time=   0.0s\n",
      "[CV 3/5] END C=9.0, max_iter=100, penalty=l2, solver=linear;, score=nan total time=   0.0s\n",
      "[CV 4/5] END C=9.0, max_iter=100, penalty=l2, solver=linear;, score=nan total time=   0.0s\n",
      "[CV 5/5] END C=9.0, max_iter=100, penalty=l2, solver=linear;, score=nan total time=   0.0s\n",
      "[CV 1/5] END C=9.0, max_iter=100, penalty=l2, solver=saga;, score=0.958 total time=   0.0s\n",
      "[CV 2/5] END C=9.0, max_iter=100, penalty=l2, solver=saga;, score=1.000 total time=   0.0s\n",
      "[CV 3/5] END C=9.0, max_iter=100, penalty=l2, solver=saga;, score=1.000 total time=   0.0s\n",
      "[CV 4/5] END C=9.0, max_iter=100, penalty=l2, solver=saga;, score=0.958 total time=   0.0s\n",
      "[CV 5/5] END C=9.0, max_iter=100, penalty=l2, solver=saga;, score=0.958 total time=   0.0s\n",
      "[CV 1/5] END C=9.0, max_iter=500, penalty=l1, solver=linear;, score=nan total time=   0.0s\n",
      "[CV 2/5] END C=9.0, max_iter=500, penalty=l1, solver=linear;, score=nan total time=   0.0s\n",
      "[CV 3/5] END C=9.0, max_iter=500, penalty=l1, solver=linear;, score=nan total time=   0.0s\n",
      "[CV 4/5] END C=9.0, max_iter=500, penalty=l1, solver=linear;, score=nan total time=   0.0s\n",
      "[CV 5/5] END C=9.0, max_iter=500, penalty=l1, solver=linear;, score=nan total time=   0.0s\n",
      "[CV 1/5] END C=9.0, max_iter=500, penalty=l1, solver=saga;, score=0.958 total time=   0.0s\n",
      "[CV 2/5] END C=9.0, max_iter=500, penalty=l1, solver=saga;, score=0.958 total time=   0.0s\n",
      "[CV 3/5] END C=9.0, max_iter=500, penalty=l1, solver=saga;, score=1.000 total time=   0.0s\n",
      "[CV 4/5] END C=9.0, max_iter=500, penalty=l1, solver=saga;, score=0.958 total time=   0.0s\n",
      "[CV 5/5] END C=9.0, max_iter=500, penalty=l1, solver=saga;, score=0.958 total time=   0.0s\n",
      "[CV 1/5] END C=9.0, max_iter=500, penalty=l2, solver=linear;, score=nan total time=   0.0s\n",
      "[CV 2/5] END C=9.0, max_iter=500, penalty=l2, solver=linear;, score=nan total time=   0.0s\n",
      "[CV 3/5] END C=9.0, max_iter=500, penalty=l2, solver=linear;, score=nan total time=   0.0s\n",
      "[CV 4/5] END C=9.0, max_iter=500, penalty=l2, solver=linear;, score=nan total time=   0.0s\n",
      "[CV 5/5] END C=9.0, max_iter=500, penalty=l2, solver=linear;, score=nan total time=   0.0s\n",
      "[CV 1/5] END C=9.0, max_iter=500, penalty=l2, solver=saga;, score=0.958 total time=   0.0s\n",
      "[CV 2/5] END C=9.0, max_iter=500, penalty=l2, solver=saga;, score=0.958 total time=   0.0s\n",
      "[CV 3/5] END C=9.0, max_iter=500, penalty=l2, solver=saga;, score=1.000 total time=   0.0s\n",
      "[CV 4/5] END C=9.0, max_iter=500, penalty=l2, solver=saga;, score=1.000 total time=   0.0s\n",
      "[CV 5/5] END C=9.0, max_iter=500, penalty=l2, solver=saga;, score=1.000 total time=   0.0s\n",
      "[CV 1/5] END C=9.0, max_iter=1000, penalty=l1, solver=linear;, score=nan total time=   0.0s\n",
      "[CV 2/5] END C=9.0, max_iter=1000, penalty=l1, solver=linear;, score=nan total time=   0.0s\n",
      "[CV 3/5] END C=9.0, max_iter=1000, penalty=l1, solver=linear;, score=nan total time=   0.0s\n",
      "[CV 4/5] END C=9.0, max_iter=1000, penalty=l1, solver=linear;, score=nan total time=   0.0s\n",
      "[CV 5/5] END C=9.0, max_iter=1000, penalty=l1, solver=linear;, score=nan total time=   0.0s\n",
      "[CV 1/5] END C=9.0, max_iter=1000, penalty=l1, solver=saga;, score=0.958 total time=   0.0s\n",
      "[CV 2/5] END C=9.0, max_iter=1000, penalty=l1, solver=saga;, score=0.958 total time=   0.0s\n",
      "[CV 3/5] END C=9.0, max_iter=1000, penalty=l1, solver=saga;, score=1.000 total time=   0.0s\n",
      "[CV 4/5] END C=9.0, max_iter=1000, penalty=l1, solver=saga;, score=1.000 total time=   0.0s\n",
      "[CV 5/5] END C=9.0, max_iter=1000, penalty=l1, solver=saga;, score=0.958 total time=   0.0s\n",
      "[CV 1/5] END C=9.0, max_iter=1000, penalty=l2, solver=linear;, score=nan total time=   0.0s\n",
      "[CV 2/5] END C=9.0, max_iter=1000, penalty=l2, solver=linear;, score=nan total time=   0.0s\n",
      "[CV 3/5] END C=9.0, max_iter=1000, penalty=l2, solver=linear;, score=nan total time=   0.0s\n",
      "[CV 4/5] END C=9.0, max_iter=1000, penalty=l2, solver=linear;, score=nan total time=   0.0s\n",
      "[CV 5/5] END C=9.0, max_iter=1000, penalty=l2, solver=linear;, score=nan total time=   0.0s\n",
      "[CV 1/5] END C=9.0, max_iter=1000, penalty=l2, solver=saga;, score=0.958 total time=   0.0s\n",
      "[CV 2/5] END C=9.0, max_iter=1000, penalty=l2, solver=saga;, score=0.958 total time=   0.0s\n",
      "[CV 3/5] END C=9.0, max_iter=1000, penalty=l2, solver=saga;, score=1.000 total time=   0.0s\n",
      "[CV 4/5] END C=9.0, max_iter=1000, penalty=l2, solver=saga;, score=1.000 total time=   0.0s\n",
      "[CV 5/5] END C=9.0, max_iter=1000, penalty=l2, solver=saga;, score=1.000 total time=   0.0s\n",
      "[CV 1/5] END C=9.0, max_iter=5000, penalty=l1, solver=linear;, score=nan total time=   0.0s\n",
      "[CV 2/5] END C=9.0, max_iter=5000, penalty=l1, solver=linear;, score=nan total time=   0.0s\n",
      "[CV 3/5] END C=9.0, max_iter=5000, penalty=l1, solver=linear;, score=nan total time=   0.0s\n",
      "[CV 4/5] END C=9.0, max_iter=5000, penalty=l1, solver=linear;, score=nan total time=   0.0s\n",
      "[CV 5/5] END C=9.0, max_iter=5000, penalty=l1, solver=linear;, score=nan total time=   0.0s\n"
     ]
    },
    {
     "name": "stdout",
     "output_type": "stream",
     "text": [
      "[CV 1/5] END C=9.0, max_iter=5000, penalty=l1, solver=saga;, score=0.958 total time=   0.0s\n",
      "[CV 2/5] END C=9.0, max_iter=5000, penalty=l1, solver=saga;, score=0.958 total time=   0.0s\n",
      "[CV 3/5] END C=9.0, max_iter=5000, penalty=l1, solver=saga;, score=1.000 total time=   0.0s\n",
      "[CV 4/5] END C=9.0, max_iter=5000, penalty=l1, solver=saga;, score=1.000 total time=   0.0s\n",
      "[CV 5/5] END C=9.0, max_iter=5000, penalty=l1, solver=saga;, score=1.000 total time=   0.0s\n",
      "[CV 1/5] END C=9.0, max_iter=5000, penalty=l2, solver=linear;, score=nan total time=   0.0s\n",
      "[CV 2/5] END C=9.0, max_iter=5000, penalty=l2, solver=linear;, score=nan total time=   0.0s\n",
      "[CV 3/5] END C=9.0, max_iter=5000, penalty=l2, solver=linear;, score=nan total time=   0.0s\n",
      "[CV 4/5] END C=9.0, max_iter=5000, penalty=l2, solver=linear;, score=nan total time=   0.0s\n",
      "[CV 5/5] END C=9.0, max_iter=5000, penalty=l2, solver=linear;, score=nan total time=   0.0s\n",
      "[CV 1/5] END C=9.0, max_iter=5000, penalty=l2, solver=saga;, score=0.958 total time=   0.0s\n",
      "[CV 2/5] END C=9.0, max_iter=5000, penalty=l2, solver=saga;, score=0.958 total time=   0.0s\n",
      "[CV 3/5] END C=9.0, max_iter=5000, penalty=l2, solver=saga;, score=1.000 total time=   0.0s\n",
      "[CV 4/5] END C=9.0, max_iter=5000, penalty=l2, solver=saga;, score=1.000 total time=   0.0s\n",
      "[CV 5/5] END C=9.0, max_iter=5000, penalty=l2, solver=saga;, score=1.000 total time=   0.0s\n",
      "[CV 1/5] END C=9.0, max_iter=10000, penalty=l1, solver=linear;, score=nan total time=   0.0s\n",
      "[CV 2/5] END C=9.0, max_iter=10000, penalty=l1, solver=linear;, score=nan total time=   0.0s\n",
      "[CV 3/5] END C=9.0, max_iter=10000, penalty=l1, solver=linear;, score=nan total time=   0.0s\n",
      "[CV 4/5] END C=9.0, max_iter=10000, penalty=l1, solver=linear;, score=nan total time=   0.0s\n",
      "[CV 5/5] END C=9.0, max_iter=10000, penalty=l1, solver=linear;, score=nan total time=   0.0s\n",
      "[CV 1/5] END C=9.0, max_iter=10000, penalty=l1, solver=saga;, score=0.958 total time=   0.0s\n",
      "[CV 2/5] END C=9.0, max_iter=10000, penalty=l1, solver=saga;, score=0.958 total time=   0.0s\n",
      "[CV 3/5] END C=9.0, max_iter=10000, penalty=l1, solver=saga;, score=1.000 total time=   0.0s\n",
      "[CV 4/5] END C=9.0, max_iter=10000, penalty=l1, solver=saga;, score=1.000 total time=   0.0s\n",
      "[CV 5/5] END C=9.0, max_iter=10000, penalty=l1, solver=saga;, score=1.000 total time=   0.0s\n",
      "[CV 1/5] END C=9.0, max_iter=10000, penalty=l2, solver=linear;, score=nan total time=   0.0s\n",
      "[CV 2/5] END C=9.0, max_iter=10000, penalty=l2, solver=linear;, score=nan total time=   0.0s\n",
      "[CV 3/5] END C=9.0, max_iter=10000, penalty=l2, solver=linear;, score=nan total time=   0.0s\n",
      "[CV 4/5] END C=9.0, max_iter=10000, penalty=l2, solver=linear;, score=nan total time=   0.0s\n",
      "[CV 5/5] END C=9.0, max_iter=10000, penalty=l2, solver=linear;, score=nan total time=   0.0s\n",
      "[CV 1/5] END C=9.0, max_iter=10000, penalty=l2, solver=saga;, score=0.958 total time=   0.0s\n",
      "[CV 2/5] END C=9.0, max_iter=10000, penalty=l2, solver=saga;, score=0.958 total time=   0.0s\n",
      "[CV 3/5] END C=9.0, max_iter=10000, penalty=l2, solver=saga;, score=1.000 total time=   0.0s\n",
      "[CV 4/5] END C=9.0, max_iter=10000, penalty=l2, solver=saga;, score=1.000 total time=   0.0s\n",
      "[CV 5/5] END C=9.0, max_iter=10000, penalty=l2, solver=saga;, score=1.000 total time=   0.0s\n",
      "[CV 1/5] END C=9.5, max_iter=100, penalty=l1, solver=linear;, score=nan total time=   0.0s\n",
      "[CV 2/5] END C=9.5, max_iter=100, penalty=l1, solver=linear;, score=nan total time=   0.0s\n",
      "[CV 3/5] END C=9.5, max_iter=100, penalty=l1, solver=linear;, score=nan total time=   0.0s\n",
      "[CV 4/5] END C=9.5, max_iter=100, penalty=l1, solver=linear;, score=nan total time=   0.0s\n",
      "[CV 5/5] END C=9.5, max_iter=100, penalty=l1, solver=linear;, score=nan total time=   0.0s\n",
      "[CV 1/5] END C=9.5, max_iter=100, penalty=l1, solver=saga;, score=0.958 total time=   0.0s\n",
      "[CV 2/5] END C=9.5, max_iter=100, penalty=l1, solver=saga;, score=1.000 total time=   0.0s\n",
      "[CV 3/5] END C=9.5, max_iter=100, penalty=l1, solver=saga;, score=1.000 total time=   0.0s\n",
      "[CV 4/5] END C=9.5, max_iter=100, penalty=l1, solver=saga;, score=0.958 total time=   0.0s\n",
      "[CV 5/5] END C=9.5, max_iter=100, penalty=l1, solver=saga;, score=0.958 total time=   0.0s\n",
      "[CV 1/5] END C=9.5, max_iter=100, penalty=l2, solver=linear;, score=nan total time=   0.0s\n",
      "[CV 2/5] END C=9.5, max_iter=100, penalty=l2, solver=linear;, score=nan total time=   0.0s\n",
      "[CV 3/5] END C=9.5, max_iter=100, penalty=l2, solver=linear;, score=nan total time=   0.0s\n",
      "[CV 4/5] END C=9.5, max_iter=100, penalty=l2, solver=linear;, score=nan total time=   0.0s\n",
      "[CV 5/5] END C=9.5, max_iter=100, penalty=l2, solver=linear;, score=nan total time=   0.0s\n",
      "[CV 1/5] END C=9.5, max_iter=100, penalty=l2, solver=saga;, score=0.958 total time=   0.0s\n",
      "[CV 2/5] END C=9.5, max_iter=100, penalty=l2, solver=saga;, score=1.000 total time=   0.0s\n",
      "[CV 3/5] END C=9.5, max_iter=100, penalty=l2, solver=saga;, score=1.000 total time=   0.0s\n",
      "[CV 4/5] END C=9.5, max_iter=100, penalty=l2, solver=saga;, score=0.958 total time=   0.0s\n",
      "[CV 5/5] END C=9.5, max_iter=100, penalty=l2, solver=saga;, score=0.958 total time=   0.0s\n",
      "[CV 1/5] END C=9.5, max_iter=500, penalty=l1, solver=linear;, score=nan total time=   0.0s\n",
      "[CV 2/5] END C=9.5, max_iter=500, penalty=l1, solver=linear;, score=nan total time=   0.0s\n",
      "[CV 3/5] END C=9.5, max_iter=500, penalty=l1, solver=linear;, score=nan total time=   0.0s\n",
      "[CV 4/5] END C=9.5, max_iter=500, penalty=l1, solver=linear;, score=nan total time=   0.0s\n",
      "[CV 5/5] END C=9.5, max_iter=500, penalty=l1, solver=linear;, score=nan total time=   0.0s\n",
      "[CV 1/5] END C=9.5, max_iter=500, penalty=l1, solver=saga;, score=0.958 total time=   0.0s\n",
      "[CV 2/5] END C=9.5, max_iter=500, penalty=l1, solver=saga;, score=0.958 total time=   0.0s\n",
      "[CV 3/5] END C=9.5, max_iter=500, penalty=l1, solver=saga;, score=1.000 total time=   0.0s\n",
      "[CV 4/5] END C=9.5, max_iter=500, penalty=l1, solver=saga;, score=0.958 total time=   0.0s\n",
      "[CV 5/5] END C=9.5, max_iter=500, penalty=l1, solver=saga;, score=0.958 total time=   0.0s\n",
      "[CV 1/5] END C=9.5, max_iter=500, penalty=l2, solver=linear;, score=nan total time=   0.0s\n",
      "[CV 2/5] END C=9.5, max_iter=500, penalty=l2, solver=linear;, score=nan total time=   0.0s\n",
      "[CV 3/5] END C=9.5, max_iter=500, penalty=l2, solver=linear;, score=nan total time=   0.0s\n",
      "[CV 4/5] END C=9.5, max_iter=500, penalty=l2, solver=linear;, score=nan total time=   0.0s\n",
      "[CV 5/5] END C=9.5, max_iter=500, penalty=l2, solver=linear;, score=nan total time=   0.0s\n",
      "[CV 1/5] END C=9.5, max_iter=500, penalty=l2, solver=saga;, score=0.958 total time=   0.0s\n",
      "[CV 2/5] END C=9.5, max_iter=500, penalty=l2, solver=saga;, score=0.958 total time=   0.0s\n",
      "[CV 3/5] END C=9.5, max_iter=500, penalty=l2, solver=saga;, score=1.000 total time=   0.0s\n",
      "[CV 4/5] END C=9.5, max_iter=500, penalty=l2, solver=saga;, score=1.000 total time=   0.0s\n",
      "[CV 5/5] END C=9.5, max_iter=500, penalty=l2, solver=saga;, score=1.000 total time=   0.0s\n",
      "[CV 1/5] END C=9.5, max_iter=1000, penalty=l1, solver=linear;, score=nan total time=   0.0s\n",
      "[CV 2/5] END C=9.5, max_iter=1000, penalty=l1, solver=linear;, score=nan total time=   0.0s\n",
      "[CV 3/5] END C=9.5, max_iter=1000, penalty=l1, solver=linear;, score=nan total time=   0.0s\n",
      "[CV 4/5] END C=9.5, max_iter=1000, penalty=l1, solver=linear;, score=nan total time=   0.0s\n",
      "[CV 5/5] END C=9.5, max_iter=1000, penalty=l1, solver=linear;, score=nan total time=   0.0s\n",
      "[CV 1/5] END C=9.5, max_iter=1000, penalty=l1, solver=saga;, score=0.958 total time=   0.0s\n",
      "[CV 2/5] END C=9.5, max_iter=1000, penalty=l1, solver=saga;, score=0.958 total time=   0.0s\n",
      "[CV 3/5] END C=9.5, max_iter=1000, penalty=l1, solver=saga;, score=1.000 total time=   0.0s\n",
      "[CV 4/5] END C=9.5, max_iter=1000, penalty=l1, solver=saga;, score=0.958 total time=   0.0s\n",
      "[CV 5/5] END C=9.5, max_iter=1000, penalty=l1, solver=saga;, score=0.958 total time=   0.0s\n",
      "[CV 1/5] END C=9.5, max_iter=1000, penalty=l2, solver=linear;, score=nan total time=   0.0s\n",
      "[CV 2/5] END C=9.5, max_iter=1000, penalty=l2, solver=linear;, score=nan total time=   0.0s\n",
      "[CV 3/5] END C=9.5, max_iter=1000, penalty=l2, solver=linear;, score=nan total time=   0.0s\n",
      "[CV 4/5] END C=9.5, max_iter=1000, penalty=l2, solver=linear;, score=nan total time=   0.0s\n",
      "[CV 5/5] END C=9.5, max_iter=1000, penalty=l2, solver=linear;, score=nan total time=   0.0s\n",
      "[CV 1/5] END C=9.5, max_iter=1000, penalty=l2, solver=saga;, score=0.958 total time=   0.0s\n",
      "[CV 2/5] END C=9.5, max_iter=1000, penalty=l2, solver=saga;, score=0.958 total time=   0.0s\n",
      "[CV 3/5] END C=9.5, max_iter=1000, penalty=l2, solver=saga;, score=1.000 total time=   0.0s\n",
      "[CV 4/5] END C=9.5, max_iter=1000, penalty=l2, solver=saga;, score=1.000 total time=   0.0s\n",
      "[CV 5/5] END C=9.5, max_iter=1000, penalty=l2, solver=saga;, score=1.000 total time=   0.0s\n",
      "[CV 1/5] END C=9.5, max_iter=5000, penalty=l1, solver=linear;, score=nan total time=   0.0s\n",
      "[CV 2/5] END C=9.5, max_iter=5000, penalty=l1, solver=linear;, score=nan total time=   0.0s\n",
      "[CV 3/5] END C=9.5, max_iter=5000, penalty=l1, solver=linear;, score=nan total time=   0.0s\n",
      "[CV 4/5] END C=9.5, max_iter=5000, penalty=l1, solver=linear;, score=nan total time=   0.0s\n",
      "[CV 5/5] END C=9.5, max_iter=5000, penalty=l1, solver=linear;, score=nan total time=   0.0s\n"
     ]
    },
    {
     "name": "stdout",
     "output_type": "stream",
     "text": [
      "[CV 1/5] END C=9.5, max_iter=5000, penalty=l1, solver=saga;, score=0.958 total time=   0.0s\n",
      "[CV 2/5] END C=9.5, max_iter=5000, penalty=l1, solver=saga;, score=0.958 total time=   0.0s\n",
      "[CV 3/5] END C=9.5, max_iter=5000, penalty=l1, solver=saga;, score=1.000 total time=   0.0s\n",
      "[CV 4/5] END C=9.5, max_iter=5000, penalty=l1, solver=saga;, score=1.000 total time=   0.0s\n",
      "[CV 5/5] END C=9.5, max_iter=5000, penalty=l1, solver=saga;, score=1.000 total time=   0.0s\n",
      "[CV 1/5] END C=9.5, max_iter=5000, penalty=l2, solver=linear;, score=nan total time=   0.0s\n",
      "[CV 2/5] END C=9.5, max_iter=5000, penalty=l2, solver=linear;, score=nan total time=   0.0s\n",
      "[CV 3/5] END C=9.5, max_iter=5000, penalty=l2, solver=linear;, score=nan total time=   0.0s\n",
      "[CV 4/5] END C=9.5, max_iter=5000, penalty=l2, solver=linear;, score=nan total time=   0.0s\n",
      "[CV 5/5] END C=9.5, max_iter=5000, penalty=l2, solver=linear;, score=nan total time=   0.0s\n",
      "[CV 1/5] END C=9.5, max_iter=5000, penalty=l2, solver=saga;, score=0.958 total time=   0.0s\n",
      "[CV 2/5] END C=9.5, max_iter=5000, penalty=l2, solver=saga;, score=0.958 total time=   0.0s\n",
      "[CV 3/5] END C=9.5, max_iter=5000, penalty=l2, solver=saga;, score=1.000 total time=   0.0s\n",
      "[CV 4/5] END C=9.5, max_iter=5000, penalty=l2, solver=saga;, score=1.000 total time=   0.0s\n",
      "[CV 5/5] END C=9.5, max_iter=5000, penalty=l2, solver=saga;, score=1.000 total time=   0.0s\n",
      "[CV 1/5] END C=9.5, max_iter=10000, penalty=l1, solver=linear;, score=nan total time=   0.0s\n",
      "[CV 2/5] END C=9.5, max_iter=10000, penalty=l1, solver=linear;, score=nan total time=   0.0s\n",
      "[CV 3/5] END C=9.5, max_iter=10000, penalty=l1, solver=linear;, score=nan total time=   0.0s\n",
      "[CV 4/5] END C=9.5, max_iter=10000, penalty=l1, solver=linear;, score=nan total time=   0.0s\n",
      "[CV 5/5] END C=9.5, max_iter=10000, penalty=l1, solver=linear;, score=nan total time=   0.0s\n",
      "[CV 1/5] END C=9.5, max_iter=10000, penalty=l1, solver=saga;, score=0.958 total time=   0.0s\n",
      "[CV 2/5] END C=9.5, max_iter=10000, penalty=l1, solver=saga;, score=0.958 total time=   0.0s\n",
      "[CV 3/5] END C=9.5, max_iter=10000, penalty=l1, solver=saga;, score=1.000 total time=   0.0s\n",
      "[CV 4/5] END C=9.5, max_iter=10000, penalty=l1, solver=saga;, score=1.000 total time=   0.0s\n",
      "[CV 5/5] END C=9.5, max_iter=10000, penalty=l1, solver=saga;, score=1.000 total time=   0.0s\n",
      "[CV 1/5] END C=9.5, max_iter=10000, penalty=l2, solver=linear;, score=nan total time=   0.0s\n",
      "[CV 2/5] END C=9.5, max_iter=10000, penalty=l2, solver=linear;, score=nan total time=   0.0s\n",
      "[CV 3/5] END C=9.5, max_iter=10000, penalty=l2, solver=linear;, score=nan total time=   0.0s\n",
      "[CV 4/5] END C=9.5, max_iter=10000, penalty=l2, solver=linear;, score=nan total time=   0.0s\n",
      "[CV 5/5] END C=9.5, max_iter=10000, penalty=l2, solver=linear;, score=nan total time=   0.0s\n",
      "[CV 1/5] END C=9.5, max_iter=10000, penalty=l2, solver=saga;, score=0.958 total time=   0.0s\n",
      "[CV 2/5] END C=9.5, max_iter=10000, penalty=l2, solver=saga;, score=0.958 total time=   0.0s\n",
      "[CV 3/5] END C=9.5, max_iter=10000, penalty=l2, solver=saga;, score=1.000 total time=   0.0s\n",
      "[CV 4/5] END C=9.5, max_iter=10000, penalty=l2, solver=saga;, score=1.000 total time=   0.0s\n",
      "[CV 5/5] END C=9.5, max_iter=10000, penalty=l2, solver=saga;, score=1.000 total time=   0.0s\n",
      "[CV 1/5] END C=10.0, max_iter=100, penalty=l1, solver=linear;, score=nan total time=   0.0s\n",
      "[CV 2/5] END C=10.0, max_iter=100, penalty=l1, solver=linear;, score=nan total time=   0.0s\n",
      "[CV 3/5] END C=10.0, max_iter=100, penalty=l1, solver=linear;, score=nan total time=   0.0s\n",
      "[CV 4/5] END C=10.0, max_iter=100, penalty=l1, solver=linear;, score=nan total time=   0.0s\n",
      "[CV 5/5] END C=10.0, max_iter=100, penalty=l1, solver=linear;, score=nan total time=   0.0s\n",
      "[CV 1/5] END C=10.0, max_iter=100, penalty=l1, solver=saga;, score=0.958 total time=   0.0s\n",
      "[CV 2/5] END C=10.0, max_iter=100, penalty=l1, solver=saga;, score=1.000 total time=   0.0s\n",
      "[CV 3/5] END C=10.0, max_iter=100, penalty=l1, solver=saga;, score=1.000 total time=   0.0s\n",
      "[CV 4/5] END C=10.0, max_iter=100, penalty=l1, solver=saga;, score=0.958 total time=   0.0s\n",
      "[CV 5/5] END C=10.0, max_iter=100, penalty=l1, solver=saga;, score=0.958 total time=   0.0s\n",
      "[CV 1/5] END C=10.0, max_iter=100, penalty=l2, solver=linear;, score=nan total time=   0.0s\n",
      "[CV 2/5] END C=10.0, max_iter=100, penalty=l2, solver=linear;, score=nan total time=   0.0s\n",
      "[CV 3/5] END C=10.0, max_iter=100, penalty=l2, solver=linear;, score=nan total time=   0.0s\n",
      "[CV 4/5] END C=10.0, max_iter=100, penalty=l2, solver=linear;, score=nan total time=   0.0s\n",
      "[CV 5/5] END C=10.0, max_iter=100, penalty=l2, solver=linear;, score=nan total time=   0.0s\n",
      "[CV 1/5] END C=10.0, max_iter=100, penalty=l2, solver=saga;, score=0.958 total time=   0.0s\n",
      "[CV 2/5] END C=10.0, max_iter=100, penalty=l2, solver=saga;, score=1.000 total time=   0.0s\n",
      "[CV 3/5] END C=10.0, max_iter=100, penalty=l2, solver=saga;, score=1.000 total time=   0.0s\n",
      "[CV 4/5] END C=10.0, max_iter=100, penalty=l2, solver=saga;, score=0.958 total time=   0.0s\n",
      "[CV 5/5] END C=10.0, max_iter=100, penalty=l2, solver=saga;, score=0.958 total time=   0.0s\n",
      "[CV 1/5] END C=10.0, max_iter=500, penalty=l1, solver=linear;, score=nan total time=   0.0s\n",
      "[CV 2/5] END C=10.0, max_iter=500, penalty=l1, solver=linear;, score=nan total time=   0.0s\n",
      "[CV 3/5] END C=10.0, max_iter=500, penalty=l1, solver=linear;, score=nan total time=   0.0s\n",
      "[CV 4/5] END C=10.0, max_iter=500, penalty=l1, solver=linear;, score=nan total time=   0.0s\n",
      "[CV 5/5] END C=10.0, max_iter=500, penalty=l1, solver=linear;, score=nan total time=   0.0s\n",
      "[CV 1/5] END C=10.0, max_iter=500, penalty=l1, solver=saga;, score=0.958 total time=   0.0s\n",
      "[CV 2/5] END C=10.0, max_iter=500, penalty=l1, solver=saga;, score=0.958 total time=   0.0s\n",
      "[CV 3/5] END C=10.0, max_iter=500, penalty=l1, solver=saga;, score=1.000 total time=   0.0s\n",
      "[CV 4/5] END C=10.0, max_iter=500, penalty=l1, solver=saga;, score=0.958 total time=   0.0s\n",
      "[CV 5/5] END C=10.0, max_iter=500, penalty=l1, solver=saga;, score=0.958 total time=   0.0s\n",
      "[CV 1/5] END C=10.0, max_iter=500, penalty=l2, solver=linear;, score=nan total time=   0.0s\n",
      "[CV 2/5] END C=10.0, max_iter=500, penalty=l2, solver=linear;, score=nan total time=   0.0s\n",
      "[CV 3/5] END C=10.0, max_iter=500, penalty=l2, solver=linear;, score=nan total time=   0.0s\n",
      "[CV 4/5] END C=10.0, max_iter=500, penalty=l2, solver=linear;, score=nan total time=   0.0s\n",
      "[CV 5/5] END C=10.0, max_iter=500, penalty=l2, solver=linear;, score=nan total time=   0.0s\n",
      "[CV 1/5] END C=10.0, max_iter=500, penalty=l2, solver=saga;, score=0.958 total time=   0.0s\n",
      "[CV 2/5] END C=10.0, max_iter=500, penalty=l2, solver=saga;, score=0.958 total time=   0.0s\n",
      "[CV 3/5] END C=10.0, max_iter=500, penalty=l2, solver=saga;, score=1.000 total time=   0.0s\n",
      "[CV 4/5] END C=10.0, max_iter=500, penalty=l2, solver=saga;, score=1.000 total time=   0.0s\n",
      "[CV 5/5] END C=10.0, max_iter=500, penalty=l2, solver=saga;, score=1.000 total time=   0.0s\n",
      "[CV 1/5] END C=10.0, max_iter=1000, penalty=l1, solver=linear;, score=nan total time=   0.0s\n",
      "[CV 2/5] END C=10.0, max_iter=1000, penalty=l1, solver=linear;, score=nan total time=   0.0s\n",
      "[CV 3/5] END C=10.0, max_iter=1000, penalty=l1, solver=linear;, score=nan total time=   0.0s\n",
      "[CV 4/5] END C=10.0, max_iter=1000, penalty=l1, solver=linear;, score=nan total time=   0.0s\n",
      "[CV 5/5] END C=10.0, max_iter=1000, penalty=l1, solver=linear;, score=nan total time=   0.0s\n",
      "[CV 1/5] END C=10.0, max_iter=1000, penalty=l1, solver=saga;, score=0.958 total time=   0.0s\n",
      "[CV 2/5] END C=10.0, max_iter=1000, penalty=l1, solver=saga;, score=0.958 total time=   0.0s\n",
      "[CV 3/5] END C=10.0, max_iter=1000, penalty=l1, solver=saga;, score=1.000 total time=   0.0s\n",
      "[CV 4/5] END C=10.0, max_iter=1000, penalty=l1, solver=saga;, score=0.958 total time=   0.0s\n",
      "[CV 5/5] END C=10.0, max_iter=1000, penalty=l1, solver=saga;, score=0.958 total time=   0.0s\n",
      "[CV 1/5] END C=10.0, max_iter=1000, penalty=l2, solver=linear;, score=nan total time=   0.0s\n",
      "[CV 2/5] END C=10.0, max_iter=1000, penalty=l2, solver=linear;, score=nan total time=   0.0s\n",
      "[CV 3/5] END C=10.0, max_iter=1000, penalty=l2, solver=linear;, score=nan total time=   0.0s\n",
      "[CV 4/5] END C=10.0, max_iter=1000, penalty=l2, solver=linear;, score=nan total time=   0.0s\n",
      "[CV 5/5] END C=10.0, max_iter=1000, penalty=l2, solver=linear;, score=nan total time=   0.0s\n",
      "[CV 1/5] END C=10.0, max_iter=1000, penalty=l2, solver=saga;, score=0.958 total time=   0.0s\n",
      "[CV 2/5] END C=10.0, max_iter=1000, penalty=l2, solver=saga;, score=0.958 total time=   0.0s\n",
      "[CV 3/5] END C=10.0, max_iter=1000, penalty=l2, solver=saga;, score=1.000 total time=   0.0s\n",
      "[CV 4/5] END C=10.0, max_iter=1000, penalty=l2, solver=saga;, score=1.000 total time=   0.0s\n",
      "[CV 5/5] END C=10.0, max_iter=1000, penalty=l2, solver=saga;, score=1.000 total time=   0.0s\n",
      "[CV 1/5] END C=10.0, max_iter=5000, penalty=l1, solver=linear;, score=nan total time=   0.0s\n",
      "[CV 2/5] END C=10.0, max_iter=5000, penalty=l1, solver=linear;, score=nan total time=   0.0s\n",
      "[CV 3/5] END C=10.0, max_iter=5000, penalty=l1, solver=linear;, score=nan total time=   0.0s\n",
      "[CV 4/5] END C=10.0, max_iter=5000, penalty=l1, solver=linear;, score=nan total time=   0.0s\n",
      "[CV 5/5] END C=10.0, max_iter=5000, penalty=l1, solver=linear;, score=nan total time=   0.0s\n"
     ]
    },
    {
     "name": "stdout",
     "output_type": "stream",
     "text": [
      "[CV 1/5] END C=10.0, max_iter=5000, penalty=l1, solver=saga;, score=0.958 total time=   0.0s\n",
      "[CV 2/5] END C=10.0, max_iter=5000, penalty=l1, solver=saga;, score=0.958 total time=   0.0s\n",
      "[CV 3/5] END C=10.0, max_iter=5000, penalty=l1, solver=saga;, score=1.000 total time=   0.0s\n",
      "[CV 4/5] END C=10.0, max_iter=5000, penalty=l1, solver=saga;, score=1.000 total time=   0.0s\n",
      "[CV 5/5] END C=10.0, max_iter=5000, penalty=l1, solver=saga;, score=1.000 total time=   0.0s\n",
      "[CV 1/5] END C=10.0, max_iter=5000, penalty=l2, solver=linear;, score=nan total time=   0.0s\n",
      "[CV 2/5] END C=10.0, max_iter=5000, penalty=l2, solver=linear;, score=nan total time=   0.0s\n",
      "[CV 3/5] END C=10.0, max_iter=5000, penalty=l2, solver=linear;, score=nan total time=   0.0s\n",
      "[CV 4/5] END C=10.0, max_iter=5000, penalty=l2, solver=linear;, score=nan total time=   0.0s\n",
      "[CV 5/5] END C=10.0, max_iter=5000, penalty=l2, solver=linear;, score=nan total time=   0.0s\n",
      "[CV 1/5] END C=10.0, max_iter=5000, penalty=l2, solver=saga;, score=0.958 total time=   0.0s\n",
      "[CV 2/5] END C=10.0, max_iter=5000, penalty=l2, solver=saga;, score=0.958 total time=   0.0s\n",
      "[CV 3/5] END C=10.0, max_iter=5000, penalty=l2, solver=saga;, score=1.000 total time=   0.0s\n",
      "[CV 4/5] END C=10.0, max_iter=5000, penalty=l2, solver=saga;, score=1.000 total time=   0.0s\n",
      "[CV 5/5] END C=10.0, max_iter=5000, penalty=l2, solver=saga;, score=1.000 total time=   0.0s\n",
      "[CV 1/5] END C=10.0, max_iter=10000, penalty=l1, solver=linear;, score=nan total time=   0.0s\n",
      "[CV 2/5] END C=10.0, max_iter=10000, penalty=l1, solver=linear;, score=nan total time=   0.0s\n",
      "[CV 3/5] END C=10.0, max_iter=10000, penalty=l1, solver=linear;, score=nan total time=   0.0s\n",
      "[CV 4/5] END C=10.0, max_iter=10000, penalty=l1, solver=linear;, score=nan total time=   0.0s\n",
      "[CV 5/5] END C=10.0, max_iter=10000, penalty=l1, solver=linear;, score=nan total time=   0.0s\n",
      "[CV 1/5] END C=10.0, max_iter=10000, penalty=l1, solver=saga;, score=0.958 total time=   0.0s\n",
      "[CV 2/5] END C=10.0, max_iter=10000, penalty=l1, solver=saga;, score=0.958 total time=   0.0s\n",
      "[CV 3/5] END C=10.0, max_iter=10000, penalty=l1, solver=saga;, score=1.000 total time=   0.0s\n",
      "[CV 4/5] END C=10.0, max_iter=10000, penalty=l1, solver=saga;, score=1.000 total time=   0.0s\n",
      "[CV 5/5] END C=10.0, max_iter=10000, penalty=l1, solver=saga;, score=1.000 total time=   0.0s\n",
      "[CV 1/5] END C=10.0, max_iter=10000, penalty=l2, solver=linear;, score=nan total time=   0.0s\n",
      "[CV 2/5] END C=10.0, max_iter=10000, penalty=l2, solver=linear;, score=nan total time=   0.0s\n",
      "[CV 3/5] END C=10.0, max_iter=10000, penalty=l2, solver=linear;, score=nan total time=   0.0s\n",
      "[CV 4/5] END C=10.0, max_iter=10000, penalty=l2, solver=linear;, score=nan total time=   0.0s\n",
      "[CV 5/5] END C=10.0, max_iter=10000, penalty=l2, solver=linear;, score=nan total time=   0.0s\n",
      "[CV 1/5] END C=10.0, max_iter=10000, penalty=l2, solver=saga;, score=0.958 total time=   0.0s\n",
      "[CV 2/5] END C=10.0, max_iter=10000, penalty=l2, solver=saga;, score=0.958 total time=   0.0s\n",
      "[CV 3/5] END C=10.0, max_iter=10000, penalty=l2, solver=saga;, score=1.000 total time=   0.0s\n",
      "[CV 4/5] END C=10.0, max_iter=10000, penalty=l2, solver=saga;, score=1.000 total time=   0.0s\n",
      "[CV 5/5] END C=10.0, max_iter=10000, penalty=l2, solver=saga;, score=1.000 total time=   0.0s\n",
      "CPU times: user 15.4 s, sys: 44.4 ms, total: 15.5 s\n",
      "Wall time: 15.5 s\n"
     ]
    },
    {
     "data": {
      "text/html": [
       "<style>#sk-container-id-13 {color: black;background-color: white;}#sk-container-id-13 pre{padding: 0;}#sk-container-id-13 div.sk-toggleable {background-color: white;}#sk-container-id-13 label.sk-toggleable__label {cursor: pointer;display: block;width: 100%;margin-bottom: 0;padding: 0.3em;box-sizing: border-box;text-align: center;}#sk-container-id-13 label.sk-toggleable__label-arrow:before {content: \"▸\";float: left;margin-right: 0.25em;color: #696969;}#sk-container-id-13 label.sk-toggleable__label-arrow:hover:before {color: black;}#sk-container-id-13 div.sk-estimator:hover label.sk-toggleable__label-arrow:before {color: black;}#sk-container-id-13 div.sk-toggleable__content {max-height: 0;max-width: 0;overflow: hidden;text-align: left;background-color: #f0f8ff;}#sk-container-id-13 div.sk-toggleable__content pre {margin: 0.2em;color: black;border-radius: 0.25em;background-color: #f0f8ff;}#sk-container-id-13 input.sk-toggleable__control:checked~div.sk-toggleable__content {max-height: 200px;max-width: 100%;overflow: auto;}#sk-container-id-13 input.sk-toggleable__control:checked~label.sk-toggleable__label-arrow:before {content: \"▾\";}#sk-container-id-13 div.sk-estimator input.sk-toggleable__control:checked~label.sk-toggleable__label {background-color: #d4ebff;}#sk-container-id-13 div.sk-label input.sk-toggleable__control:checked~label.sk-toggleable__label {background-color: #d4ebff;}#sk-container-id-13 input.sk-hidden--visually {border: 0;clip: rect(1px 1px 1px 1px);clip: rect(1px, 1px, 1px, 1px);height: 1px;margin: -1px;overflow: hidden;padding: 0;position: absolute;width: 1px;}#sk-container-id-13 div.sk-estimator {font-family: monospace;background-color: #f0f8ff;border: 1px dotted black;border-radius: 0.25em;box-sizing: border-box;margin-bottom: 0.5em;}#sk-container-id-13 div.sk-estimator:hover {background-color: #d4ebff;}#sk-container-id-13 div.sk-parallel-item::after {content: \"\";width: 100%;border-bottom: 1px solid gray;flex-grow: 1;}#sk-container-id-13 div.sk-label:hover label.sk-toggleable__label {background-color: #d4ebff;}#sk-container-id-13 div.sk-serial::before {content: \"\";position: absolute;border-left: 1px solid gray;box-sizing: border-box;top: 0;bottom: 0;left: 50%;z-index: 0;}#sk-container-id-13 div.sk-serial {display: flex;flex-direction: column;align-items: center;background-color: white;padding-right: 0.2em;padding-left: 0.2em;position: relative;}#sk-container-id-13 div.sk-item {position: relative;z-index: 1;}#sk-container-id-13 div.sk-parallel {display: flex;align-items: stretch;justify-content: center;background-color: white;position: relative;}#sk-container-id-13 div.sk-item::before, #sk-container-id-13 div.sk-parallel-item::before {content: \"\";position: absolute;border-left: 1px solid gray;box-sizing: border-box;top: 0;bottom: 0;left: 50%;z-index: -1;}#sk-container-id-13 div.sk-parallel-item {display: flex;flex-direction: column;z-index: 1;position: relative;background-color: white;}#sk-container-id-13 div.sk-parallel-item:first-child::after {align-self: flex-end;width: 50%;}#sk-container-id-13 div.sk-parallel-item:last-child::after {align-self: flex-start;width: 50%;}#sk-container-id-13 div.sk-parallel-item:only-child::after {width: 0;}#sk-container-id-13 div.sk-dashed-wrapped {border: 1px dashed gray;margin: 0 0.4em 0.5em 0.4em;box-sizing: border-box;padding-bottom: 0.4em;background-color: white;}#sk-container-id-13 div.sk-label label {font-family: monospace;font-weight: bold;display: inline-block;line-height: 1.2em;}#sk-container-id-13 div.sk-label-container {text-align: center;}#sk-container-id-13 div.sk-container {/* jupyter's `normalize.less` sets `[hidden] { display: none; }` but bootstrap.min.css set `[hidden] { display: none !important; }` so we also need the `!important` here to be able to override the default hidden behavior on the sphinx rendered scikit-learn.org. See: https://github.com/scikit-learn/scikit-learn/issues/21755 */display: inline-block !important;position: relative;}#sk-container-id-13 div.sk-text-repr-fallback {display: none;}</style><div id=\"sk-container-id-13\" class=\"sk-top-container\"><div class=\"sk-text-repr-fallback\"><pre>GridSearchCV(cv=5, estimator=LogisticRegression(),\n",
       "             param_grid={&#x27;C&#x27;: array([ 0.5,  1. ,  1.5,  2. ,  2.5,  3. ,  3.5,  4. ,  4.5,  5. ,  5.5,\n",
       "        6. ,  6.5,  7. ,  7.5,  8. ,  8.5,  9. ,  9.5, 10. ]),\n",
       "                         &#x27;max_iter&#x27;: [100, 500, 1000, 5000, 10000],\n",
       "                         &#x27;penalty&#x27;: [&#x27;l1&#x27;, &#x27;l2&#x27;],\n",
       "                         &#x27;solver&#x27;: [&#x27;linear&#x27;, &#x27;saga&#x27;]},\n",
       "             verbose=3)</pre><b>In a Jupyter environment, please rerun this cell to show the HTML representation or trust the notebook. <br />On GitHub, the HTML representation is unable to render, please try loading this page with nbviewer.org.</b></div><div class=\"sk-container\" hidden><div class=\"sk-item sk-dashed-wrapped\"><div class=\"sk-label-container\"><div class=\"sk-label sk-toggleable\"><input class=\"sk-toggleable__control sk-hidden--visually\" id=\"sk-estimator-id-35\" type=\"checkbox\" ><label for=\"sk-estimator-id-35\" class=\"sk-toggleable__label sk-toggleable__label-arrow\">GridSearchCV</label><div class=\"sk-toggleable__content\"><pre>GridSearchCV(cv=5, estimator=LogisticRegression(),\n",
       "             param_grid={&#x27;C&#x27;: array([ 0.5,  1. ,  1.5,  2. ,  2.5,  3. ,  3.5,  4. ,  4.5,  5. ,  5.5,\n",
       "        6. ,  6.5,  7. ,  7.5,  8. ,  8.5,  9. ,  9.5, 10. ]),\n",
       "                         &#x27;max_iter&#x27;: [100, 500, 1000, 5000, 10000],\n",
       "                         &#x27;penalty&#x27;: [&#x27;l1&#x27;, &#x27;l2&#x27;],\n",
       "                         &#x27;solver&#x27;: [&#x27;linear&#x27;, &#x27;saga&#x27;]},\n",
       "             verbose=3)</pre></div></div></div><div class=\"sk-parallel\"><div class=\"sk-parallel-item\"><div class=\"sk-item\"><div class=\"sk-label-container\"><div class=\"sk-label sk-toggleable\"><input class=\"sk-toggleable__control sk-hidden--visually\" id=\"sk-estimator-id-36\" type=\"checkbox\" ><label for=\"sk-estimator-id-36\" class=\"sk-toggleable__label sk-toggleable__label-arrow\">estimator: LogisticRegression</label><div class=\"sk-toggleable__content\"><pre>LogisticRegression()</pre></div></div></div><div class=\"sk-serial\"><div class=\"sk-item\"><div class=\"sk-estimator sk-toggleable\"><input class=\"sk-toggleable__control sk-hidden--visually\" id=\"sk-estimator-id-37\" type=\"checkbox\" ><label for=\"sk-estimator-id-37\" class=\"sk-toggleable__label sk-toggleable__label-arrow\">LogisticRegression</label><div class=\"sk-toggleable__content\"><pre>LogisticRegression()</pre></div></div></div></div></div></div></div></div></div></div>"
      ],
      "text/plain": [
       "GridSearchCV(cv=5, estimator=LogisticRegression(),\n",
       "             param_grid={'C': array([ 0.5,  1. ,  1.5,  2. ,  2.5,  3. ,  3.5,  4. ,  4.5,  5. ,  5.5,\n",
       "        6. ,  6.5,  7. ,  7.5,  8. ,  8.5,  9. ,  9.5, 10. ]),\n",
       "                         'max_iter': [100, 500, 1000, 5000, 10000],\n",
       "                         'penalty': ['l1', 'l2'],\n",
       "                         'solver': ['linear', 'saga']},\n",
       "             verbose=3)"
      ]
     },
     "execution_count": 116,
     "metadata": {},
     "output_type": "execute_result"
    }
   ],
   "source": [
    "%%time\n",
    "best_logreg_grid.fit(X_train, y_train)"
   ]
  },
  {
   "cell_type": "code",
   "execution_count": 117,
   "id": "ccd712d7",
   "metadata": {},
   "outputs": [
    {
     "data": {
      "text/plain": [
       "{'C': 0.5, 'max_iter': 100, 'penalty': 'l2', 'solver': 'saga'}"
      ]
     },
     "execution_count": 117,
     "metadata": {},
     "output_type": "execute_result"
    }
   ],
   "source": [
    "best_logreg_grid.best_params_"
   ]
  },
  {
   "cell_type": "code",
   "execution_count": 118,
   "id": "7521740a",
   "metadata": {},
   "outputs": [
    {
     "data": {
      "text/plain": [
       "0.9916666666666668"
      ]
     },
     "execution_count": 118,
     "metadata": {},
     "output_type": "execute_result"
    }
   ],
   "source": [
    "best_logreg_grid.best_score_"
   ]
  },
  {
   "cell_type": "code",
   "execution_count": 119,
   "id": "584d0a0a",
   "metadata": {},
   "outputs": [],
   "source": [
    "best_logreg_random = RandomizedSearchCV(estimator= logreg, param_distributions=PARAMS,\n",
    "                                        cv= 5, verbose= 3)"
   ]
  },
  {
   "cell_type": "code",
   "execution_count": 120,
   "id": "a5a416b8",
   "metadata": {},
   "outputs": [
    {
     "data": {
      "text/html": [
       "<style>#sk-container-id-14 {color: black;background-color: white;}#sk-container-id-14 pre{padding: 0;}#sk-container-id-14 div.sk-toggleable {background-color: white;}#sk-container-id-14 label.sk-toggleable__label {cursor: pointer;display: block;width: 100%;margin-bottom: 0;padding: 0.3em;box-sizing: border-box;text-align: center;}#sk-container-id-14 label.sk-toggleable__label-arrow:before {content: \"▸\";float: left;margin-right: 0.25em;color: #696969;}#sk-container-id-14 label.sk-toggleable__label-arrow:hover:before {color: black;}#sk-container-id-14 div.sk-estimator:hover label.sk-toggleable__label-arrow:before {color: black;}#sk-container-id-14 div.sk-toggleable__content {max-height: 0;max-width: 0;overflow: hidden;text-align: left;background-color: #f0f8ff;}#sk-container-id-14 div.sk-toggleable__content pre {margin: 0.2em;color: black;border-radius: 0.25em;background-color: #f0f8ff;}#sk-container-id-14 input.sk-toggleable__control:checked~div.sk-toggleable__content {max-height: 200px;max-width: 100%;overflow: auto;}#sk-container-id-14 input.sk-toggleable__control:checked~label.sk-toggleable__label-arrow:before {content: \"▾\";}#sk-container-id-14 div.sk-estimator input.sk-toggleable__control:checked~label.sk-toggleable__label {background-color: #d4ebff;}#sk-container-id-14 div.sk-label input.sk-toggleable__control:checked~label.sk-toggleable__label {background-color: #d4ebff;}#sk-container-id-14 input.sk-hidden--visually {border: 0;clip: rect(1px 1px 1px 1px);clip: rect(1px, 1px, 1px, 1px);height: 1px;margin: -1px;overflow: hidden;padding: 0;position: absolute;width: 1px;}#sk-container-id-14 div.sk-estimator {font-family: monospace;background-color: #f0f8ff;border: 1px dotted black;border-radius: 0.25em;box-sizing: border-box;margin-bottom: 0.5em;}#sk-container-id-14 div.sk-estimator:hover {background-color: #d4ebff;}#sk-container-id-14 div.sk-parallel-item::after {content: \"\";width: 100%;border-bottom: 1px solid gray;flex-grow: 1;}#sk-container-id-14 div.sk-label:hover label.sk-toggleable__label {background-color: #d4ebff;}#sk-container-id-14 div.sk-serial::before {content: \"\";position: absolute;border-left: 1px solid gray;box-sizing: border-box;top: 0;bottom: 0;left: 50%;z-index: 0;}#sk-container-id-14 div.sk-serial {display: flex;flex-direction: column;align-items: center;background-color: white;padding-right: 0.2em;padding-left: 0.2em;position: relative;}#sk-container-id-14 div.sk-item {position: relative;z-index: 1;}#sk-container-id-14 div.sk-parallel {display: flex;align-items: stretch;justify-content: center;background-color: white;position: relative;}#sk-container-id-14 div.sk-item::before, #sk-container-id-14 div.sk-parallel-item::before {content: \"\";position: absolute;border-left: 1px solid gray;box-sizing: border-box;top: 0;bottom: 0;left: 50%;z-index: -1;}#sk-container-id-14 div.sk-parallel-item {display: flex;flex-direction: column;z-index: 1;position: relative;background-color: white;}#sk-container-id-14 div.sk-parallel-item:first-child::after {align-self: flex-end;width: 50%;}#sk-container-id-14 div.sk-parallel-item:last-child::after {align-self: flex-start;width: 50%;}#sk-container-id-14 div.sk-parallel-item:only-child::after {width: 0;}#sk-container-id-14 div.sk-dashed-wrapped {border: 1px dashed gray;margin: 0 0.4em 0.5em 0.4em;box-sizing: border-box;padding-bottom: 0.4em;background-color: white;}#sk-container-id-14 div.sk-label label {font-family: monospace;font-weight: bold;display: inline-block;line-height: 1.2em;}#sk-container-id-14 div.sk-label-container {text-align: center;}#sk-container-id-14 div.sk-container {/* jupyter's `normalize.less` sets `[hidden] { display: none; }` but bootstrap.min.css set `[hidden] { display: none !important; }` so we also need the `!important` here to be able to override the default hidden behavior on the sphinx rendered scikit-learn.org. See: https://github.com/scikit-learn/scikit-learn/issues/21755 */display: inline-block !important;position: relative;}#sk-container-id-14 div.sk-text-repr-fallback {display: none;}</style><div id=\"sk-container-id-14\" class=\"sk-top-container\"><div class=\"sk-text-repr-fallback\"><pre>RandomizedSearchCV(cv=5, estimator=LogisticRegression(),\n",
       "                   param_distributions={&#x27;C&#x27;: array([ 0.5,  1. ,  1.5,  2. ,  2.5,  3. ,  3.5,  4. ,  4.5,  5. ,  5.5,\n",
       "        6. ,  6.5,  7. ,  7.5,  8. ,  8.5,  9. ,  9.5, 10. ]),\n",
       "                                        &#x27;max_iter&#x27;: [100, 500, 1000, 5000,\n",
       "                                                     10000],\n",
       "                                        &#x27;penalty&#x27;: [&#x27;l1&#x27;, &#x27;l2&#x27;],\n",
       "                                        &#x27;solver&#x27;: [&#x27;linear&#x27;, &#x27;saga&#x27;]},\n",
       "                   verbose=3)</pre><b>In a Jupyter environment, please rerun this cell to show the HTML representation or trust the notebook. <br />On GitHub, the HTML representation is unable to render, please try loading this page with nbviewer.org.</b></div><div class=\"sk-container\" hidden><div class=\"sk-item sk-dashed-wrapped\"><div class=\"sk-label-container\"><div class=\"sk-label sk-toggleable\"><input class=\"sk-toggleable__control sk-hidden--visually\" id=\"sk-estimator-id-38\" type=\"checkbox\" ><label for=\"sk-estimator-id-38\" class=\"sk-toggleable__label sk-toggleable__label-arrow\">RandomizedSearchCV</label><div class=\"sk-toggleable__content\"><pre>RandomizedSearchCV(cv=5, estimator=LogisticRegression(),\n",
       "                   param_distributions={&#x27;C&#x27;: array([ 0.5,  1. ,  1.5,  2. ,  2.5,  3. ,  3.5,  4. ,  4.5,  5. ,  5.5,\n",
       "        6. ,  6.5,  7. ,  7.5,  8. ,  8.5,  9. ,  9.5, 10. ]),\n",
       "                                        &#x27;max_iter&#x27;: [100, 500, 1000, 5000,\n",
       "                                                     10000],\n",
       "                                        &#x27;penalty&#x27;: [&#x27;l1&#x27;, &#x27;l2&#x27;],\n",
       "                                        &#x27;solver&#x27;: [&#x27;linear&#x27;, &#x27;saga&#x27;]},\n",
       "                   verbose=3)</pre></div></div></div><div class=\"sk-parallel\"><div class=\"sk-parallel-item\"><div class=\"sk-item\"><div class=\"sk-label-container\"><div class=\"sk-label sk-toggleable\"><input class=\"sk-toggleable__control sk-hidden--visually\" id=\"sk-estimator-id-39\" type=\"checkbox\" ><label for=\"sk-estimator-id-39\" class=\"sk-toggleable__label sk-toggleable__label-arrow\">estimator: LogisticRegression</label><div class=\"sk-toggleable__content\"><pre>LogisticRegression()</pre></div></div></div><div class=\"sk-serial\"><div class=\"sk-item\"><div class=\"sk-estimator sk-toggleable\"><input class=\"sk-toggleable__control sk-hidden--visually\" id=\"sk-estimator-id-40\" type=\"checkbox\" ><label for=\"sk-estimator-id-40\" class=\"sk-toggleable__label sk-toggleable__label-arrow\">LogisticRegression</label><div class=\"sk-toggleable__content\"><pre>LogisticRegression()</pre></div></div></div></div></div></div></div></div></div></div>"
      ],
      "text/plain": [
       "RandomizedSearchCV(cv=5, estimator=LogisticRegression(),\n",
       "                   param_distributions={'C': array([ 0.5,  1. ,  1.5,  2. ,  2.5,  3. ,  3.5,  4. ,  4.5,  5. ,  5.5,\n",
       "        6. ,  6.5,  7. ,  7.5,  8. ,  8.5,  9. ,  9.5, 10. ]),\n",
       "                                        'max_iter': [100, 500, 1000, 5000,\n",
       "                                                     10000],\n",
       "                                        'penalty': ['l1', 'l2'],\n",
       "                                        'solver': ['linear', 'saga']},\n",
       "                   verbose=3)"
      ]
     },
     "execution_count": 120,
     "metadata": {},
     "output_type": "execute_result"
    }
   ],
   "source": [
    "best_logreg_random"
   ]
  },
  {
   "cell_type": "code",
   "execution_count": 121,
   "id": "5aff7e1e",
   "metadata": {},
   "outputs": [
    {
     "name": "stdout",
     "output_type": "stream",
     "text": [
      "Fitting 5 folds for each of 10 candidates, totalling 50 fits\n",
      "[CV 1/5] END C=8.5, max_iter=10000, penalty=l2, solver=saga;, score=0.958 total time=   0.1s\n",
      "[CV 2/5] END C=8.5, max_iter=10000, penalty=l2, solver=saga;, score=0.958 total time=   0.0s\n",
      "[CV 3/5] END C=8.5, max_iter=10000, penalty=l2, solver=saga;, score=1.000 total time=   0.0s\n",
      "[CV 4/5] END C=8.5, max_iter=10000, penalty=l2, solver=saga;, score=1.000 total time=   0.0s\n",
      "[CV 5/5] END C=8.5, max_iter=10000, penalty=l2, solver=saga;, score=1.000 total time=   0.0s\n",
      "[CV 1/5] END C=3.5, max_iter=1000, penalty=l1, solver=saga;, score=0.958 total time=   0.0s\n",
      "[CV 2/5] END C=3.5, max_iter=1000, penalty=l1, solver=saga;, score=0.958 total time=   0.0s\n",
      "[CV 3/5] END C=3.5, max_iter=1000, penalty=l1, solver=saga;, score=1.000 total time=   0.0s\n",
      "[CV 4/5] END C=3.5, max_iter=1000, penalty=l1, solver=saga;, score=1.000 total time=   0.0s\n",
      "[CV 5/5] END C=3.5, max_iter=1000, penalty=l1, solver=saga;, score=1.000 total time=   0.0s\n",
      "[CV 1/5] END C=2.0, max_iter=5000, penalty=l1, solver=saga;, score=0.958 total time=   0.0s\n",
      "[CV 2/5] END C=2.0, max_iter=5000, penalty=l1, solver=saga;, score=0.958 total time=   0.0s\n",
      "[CV 3/5] END C=2.0, max_iter=5000, penalty=l1, solver=saga;, score=1.000 total time=   0.0s\n",
      "[CV 4/5] END C=2.0, max_iter=5000, penalty=l1, solver=saga;, score=1.000 total time=   0.0s\n",
      "[CV 5/5] END C=2.0, max_iter=5000, penalty=l1, solver=saga;, score=1.000 total time=   0.0s\n",
      "[CV 1/5] END C=1.5, max_iter=5000, penalty=l2, solver=saga;, score=1.000 total time=   0.0s\n",
      "[CV 2/5] END C=1.5, max_iter=5000, penalty=l2, solver=saga;, score=0.958 total time=   0.0s\n",
      "[CV 3/5] END C=1.5, max_iter=5000, penalty=l2, solver=saga;, score=1.000 total time=   0.0s\n",
      "[CV 4/5] END C=1.5, max_iter=5000, penalty=l2, solver=saga;, score=1.000 total time=   0.0s\n",
      "[CV 5/5] END C=1.5, max_iter=5000, penalty=l2, solver=saga;, score=1.000 total time=   0.0s\n",
      "[CV 1/5] END C=4.5, max_iter=1000, penalty=l2, solver=linear;, score=nan total time=   0.0s\n",
      "[CV 2/5] END C=4.5, max_iter=1000, penalty=l2, solver=linear;, score=nan total time=   0.0s\n",
      "[CV 3/5] END C=4.5, max_iter=1000, penalty=l2, solver=linear;, score=nan total time=   0.0s\n",
      "[CV 4/5] END C=4.5, max_iter=1000, penalty=l2, solver=linear;, score=nan total time=   0.0s\n",
      "[CV 5/5] END C=4.5, max_iter=1000, penalty=l2, solver=linear;, score=nan total time=   0.0s\n",
      "[CV 1/5] END C=7.0, max_iter=5000, penalty=l2, solver=linear;, score=nan total time=   0.0s\n",
      "[CV 2/5] END C=7.0, max_iter=5000, penalty=l2, solver=linear;, score=nan total time=   0.0s\n",
      "[CV 3/5] END C=7.0, max_iter=5000, penalty=l2, solver=linear;, score=nan total time=   0.0s\n",
      "[CV 4/5] END C=7.0, max_iter=5000, penalty=l2, solver=linear;, score=nan total time=   0.0s\n",
      "[CV 5/5] END C=7.0, max_iter=5000, penalty=l2, solver=linear;, score=nan total time=   0.0s\n",
      "[CV 1/5] END C=2.5, max_iter=10000, penalty=l1, solver=saga;, score=0.958 total time=   0.0s\n",
      "[CV 2/5] END C=2.5, max_iter=10000, penalty=l1, solver=saga;, score=0.958 total time=   0.0s\n",
      "[CV 3/5] END C=2.5, max_iter=10000, penalty=l1, solver=saga;, score=1.000 total time=   0.0s\n",
      "[CV 4/5] END C=2.5, max_iter=10000, penalty=l1, solver=saga;, score=1.000 total time=   0.0s\n",
      "[CV 5/5] END C=2.5, max_iter=10000, penalty=l1, solver=saga;, score=1.000 total time=   0.0s\n",
      "[CV 1/5] END C=2.0, max_iter=10000, penalty=l1, solver=saga;, score=0.958 total time=   0.0s\n",
      "[CV 2/5] END C=2.0, max_iter=10000, penalty=l1, solver=saga;, score=0.958 total time=   0.0s\n",
      "[CV 3/5] END C=2.0, max_iter=10000, penalty=l1, solver=saga;, score=1.000 total time=   0.0s\n",
      "[CV 4/5] END C=2.0, max_iter=10000, penalty=l1, solver=saga;, score=1.000 total time=   0.0s\n",
      "[CV 5/5] END C=2.0, max_iter=10000, penalty=l1, solver=saga;, score=1.000 total time=   0.0s\n",
      "[CV 1/5] END C=9.5, max_iter=1000, penalty=l1, solver=saga;, score=0.958 total time=   0.0s\n",
      "[CV 2/5] END C=9.5, max_iter=1000, penalty=l1, solver=saga;, score=0.958 total time=   0.0s\n",
      "[CV 3/5] END C=9.5, max_iter=1000, penalty=l1, solver=saga;, score=1.000 total time=   0.0s\n",
      "[CV 4/5] END C=9.5, max_iter=1000, penalty=l1, solver=saga;, score=0.958 total time=   0.0s\n",
      "[CV 5/5] END C=9.5, max_iter=1000, penalty=l1, solver=saga;, score=0.958 total time=   0.0s\n",
      "[CV 1/5] END C=9.5, max_iter=100, penalty=l2, solver=saga;, score=0.958 total time=   0.0s\n",
      "[CV 2/5] END C=9.5, max_iter=100, penalty=l2, solver=saga;, score=1.000 total time=   0.0s\n",
      "[CV 3/5] END C=9.5, max_iter=100, penalty=l2, solver=saga;, score=1.000 total time=   0.0s\n",
      "[CV 4/5] END C=9.5, max_iter=100, penalty=l2, solver=saga;, score=0.958 total time=   0.0s\n",
      "[CV 5/5] END C=9.5, max_iter=100, penalty=l2, solver=saga;, score=0.958 total time=   0.0s\n"
     ]
    },
    {
     "data": {
      "text/html": [
       "<style>#sk-container-id-15 {color: black;background-color: white;}#sk-container-id-15 pre{padding: 0;}#sk-container-id-15 div.sk-toggleable {background-color: white;}#sk-container-id-15 label.sk-toggleable__label {cursor: pointer;display: block;width: 100%;margin-bottom: 0;padding: 0.3em;box-sizing: border-box;text-align: center;}#sk-container-id-15 label.sk-toggleable__label-arrow:before {content: \"▸\";float: left;margin-right: 0.25em;color: #696969;}#sk-container-id-15 label.sk-toggleable__label-arrow:hover:before {color: black;}#sk-container-id-15 div.sk-estimator:hover label.sk-toggleable__label-arrow:before {color: black;}#sk-container-id-15 div.sk-toggleable__content {max-height: 0;max-width: 0;overflow: hidden;text-align: left;background-color: #f0f8ff;}#sk-container-id-15 div.sk-toggleable__content pre {margin: 0.2em;color: black;border-radius: 0.25em;background-color: #f0f8ff;}#sk-container-id-15 input.sk-toggleable__control:checked~div.sk-toggleable__content {max-height: 200px;max-width: 100%;overflow: auto;}#sk-container-id-15 input.sk-toggleable__control:checked~label.sk-toggleable__label-arrow:before {content: \"▾\";}#sk-container-id-15 div.sk-estimator input.sk-toggleable__control:checked~label.sk-toggleable__label {background-color: #d4ebff;}#sk-container-id-15 div.sk-label input.sk-toggleable__control:checked~label.sk-toggleable__label {background-color: #d4ebff;}#sk-container-id-15 input.sk-hidden--visually {border: 0;clip: rect(1px 1px 1px 1px);clip: rect(1px, 1px, 1px, 1px);height: 1px;margin: -1px;overflow: hidden;padding: 0;position: absolute;width: 1px;}#sk-container-id-15 div.sk-estimator {font-family: monospace;background-color: #f0f8ff;border: 1px dotted black;border-radius: 0.25em;box-sizing: border-box;margin-bottom: 0.5em;}#sk-container-id-15 div.sk-estimator:hover {background-color: #d4ebff;}#sk-container-id-15 div.sk-parallel-item::after {content: \"\";width: 100%;border-bottom: 1px solid gray;flex-grow: 1;}#sk-container-id-15 div.sk-label:hover label.sk-toggleable__label {background-color: #d4ebff;}#sk-container-id-15 div.sk-serial::before {content: \"\";position: absolute;border-left: 1px solid gray;box-sizing: border-box;top: 0;bottom: 0;left: 50%;z-index: 0;}#sk-container-id-15 div.sk-serial {display: flex;flex-direction: column;align-items: center;background-color: white;padding-right: 0.2em;padding-left: 0.2em;position: relative;}#sk-container-id-15 div.sk-item {position: relative;z-index: 1;}#sk-container-id-15 div.sk-parallel {display: flex;align-items: stretch;justify-content: center;background-color: white;position: relative;}#sk-container-id-15 div.sk-item::before, #sk-container-id-15 div.sk-parallel-item::before {content: \"\";position: absolute;border-left: 1px solid gray;box-sizing: border-box;top: 0;bottom: 0;left: 50%;z-index: -1;}#sk-container-id-15 div.sk-parallel-item {display: flex;flex-direction: column;z-index: 1;position: relative;background-color: white;}#sk-container-id-15 div.sk-parallel-item:first-child::after {align-self: flex-end;width: 50%;}#sk-container-id-15 div.sk-parallel-item:last-child::after {align-self: flex-start;width: 50%;}#sk-container-id-15 div.sk-parallel-item:only-child::after {width: 0;}#sk-container-id-15 div.sk-dashed-wrapped {border: 1px dashed gray;margin: 0 0.4em 0.5em 0.4em;box-sizing: border-box;padding-bottom: 0.4em;background-color: white;}#sk-container-id-15 div.sk-label label {font-family: monospace;font-weight: bold;display: inline-block;line-height: 1.2em;}#sk-container-id-15 div.sk-label-container {text-align: center;}#sk-container-id-15 div.sk-container {/* jupyter's `normalize.less` sets `[hidden] { display: none; }` but bootstrap.min.css set `[hidden] { display: none !important; }` so we also need the `!important` here to be able to override the default hidden behavior on the sphinx rendered scikit-learn.org. See: https://github.com/scikit-learn/scikit-learn/issues/21755 */display: inline-block !important;position: relative;}#sk-container-id-15 div.sk-text-repr-fallback {display: none;}</style><div id=\"sk-container-id-15\" class=\"sk-top-container\"><div class=\"sk-text-repr-fallback\"><pre>RandomizedSearchCV(cv=5, estimator=LogisticRegression(),\n",
       "                   param_distributions={&#x27;C&#x27;: array([ 0.5,  1. ,  1.5,  2. ,  2.5,  3. ,  3.5,  4. ,  4.5,  5. ,  5.5,\n",
       "        6. ,  6.5,  7. ,  7.5,  8. ,  8.5,  9. ,  9.5, 10. ]),\n",
       "                                        &#x27;max_iter&#x27;: [100, 500, 1000, 5000,\n",
       "                                                     10000],\n",
       "                                        &#x27;penalty&#x27;: [&#x27;l1&#x27;, &#x27;l2&#x27;],\n",
       "                                        &#x27;solver&#x27;: [&#x27;linear&#x27;, &#x27;saga&#x27;]},\n",
       "                   verbose=3)</pre><b>In a Jupyter environment, please rerun this cell to show the HTML representation or trust the notebook. <br />On GitHub, the HTML representation is unable to render, please try loading this page with nbviewer.org.</b></div><div class=\"sk-container\" hidden><div class=\"sk-item sk-dashed-wrapped\"><div class=\"sk-label-container\"><div class=\"sk-label sk-toggleable\"><input class=\"sk-toggleable__control sk-hidden--visually\" id=\"sk-estimator-id-41\" type=\"checkbox\" ><label for=\"sk-estimator-id-41\" class=\"sk-toggleable__label sk-toggleable__label-arrow\">RandomizedSearchCV</label><div class=\"sk-toggleable__content\"><pre>RandomizedSearchCV(cv=5, estimator=LogisticRegression(),\n",
       "                   param_distributions={&#x27;C&#x27;: array([ 0.5,  1. ,  1.5,  2. ,  2.5,  3. ,  3.5,  4. ,  4.5,  5. ,  5.5,\n",
       "        6. ,  6.5,  7. ,  7.5,  8. ,  8.5,  9. ,  9.5, 10. ]),\n",
       "                                        &#x27;max_iter&#x27;: [100, 500, 1000, 5000,\n",
       "                                                     10000],\n",
       "                                        &#x27;penalty&#x27;: [&#x27;l1&#x27;, &#x27;l2&#x27;],\n",
       "                                        &#x27;solver&#x27;: [&#x27;linear&#x27;, &#x27;saga&#x27;]},\n",
       "                   verbose=3)</pre></div></div></div><div class=\"sk-parallel\"><div class=\"sk-parallel-item\"><div class=\"sk-item\"><div class=\"sk-label-container\"><div class=\"sk-label sk-toggleable\"><input class=\"sk-toggleable__control sk-hidden--visually\" id=\"sk-estimator-id-42\" type=\"checkbox\" ><label for=\"sk-estimator-id-42\" class=\"sk-toggleable__label sk-toggleable__label-arrow\">estimator: LogisticRegression</label><div class=\"sk-toggleable__content\"><pre>LogisticRegression()</pre></div></div></div><div class=\"sk-serial\"><div class=\"sk-item\"><div class=\"sk-estimator sk-toggleable\"><input class=\"sk-toggleable__control sk-hidden--visually\" id=\"sk-estimator-id-43\" type=\"checkbox\" ><label for=\"sk-estimator-id-43\" class=\"sk-toggleable__label sk-toggleable__label-arrow\">LogisticRegression</label><div class=\"sk-toggleable__content\"><pre>LogisticRegression()</pre></div></div></div></div></div></div></div></div></div></div>"
      ],
      "text/plain": [
       "RandomizedSearchCV(cv=5, estimator=LogisticRegression(),\n",
       "                   param_distributions={'C': array([ 0.5,  1. ,  1.5,  2. ,  2.5,  3. ,  3.5,  4. ,  4.5,  5. ,  5.5,\n",
       "        6. ,  6.5,  7. ,  7.5,  8. ,  8.5,  9. ,  9.5, 10. ]),\n",
       "                                        'max_iter': [100, 500, 1000, 5000,\n",
       "                                                     10000],\n",
       "                                        'penalty': ['l1', 'l2'],\n",
       "                                        'solver': ['linear', 'saga']},\n",
       "                   verbose=3)"
      ]
     },
     "execution_count": 121,
     "metadata": {},
     "output_type": "execute_result"
    }
   ],
   "source": [
    "best_logreg_random.fit(X_train, y_train)"
   ]
  },
  {
   "cell_type": "code",
   "execution_count": 122,
   "id": "f763513d",
   "metadata": {},
   "outputs": [
    {
     "data": {
      "text/plain": [
       "{'solver': 'saga', 'penalty': 'l2', 'max_iter': 5000, 'C': 1.5}"
      ]
     },
     "execution_count": 122,
     "metadata": {},
     "output_type": "execute_result"
    }
   ],
   "source": [
    "best_logreg_random.best_params_"
   ]
  },
  {
   "cell_type": "code",
   "execution_count": 123,
   "id": "d0e3a137",
   "metadata": {},
   "outputs": [
    {
     "data": {
      "text/plain": [
       "0.9916666666666668"
      ]
     },
     "execution_count": 123,
     "metadata": {},
     "output_type": "execute_result"
    }
   ],
   "source": [
    "best_logreg_random.best_score_"
   ]
  },
  {
   "cell_type": "code",
   "execution_count": 124,
   "id": "99352191",
   "metadata": {},
   "outputs": [],
   "source": [
    "best_model = LogisticRegression(penalty='l2',\n",
    "                                solver='saga',\n",
    "                                C=1.5,\n",
    "                                max_iter=5000)"
   ]
  },
  {
   "cell_type": "code",
   "execution_count": 125,
   "id": "7438b009",
   "metadata": {},
   "outputs": [
    {
     "data": {
      "text/html": [
       "<style>#sk-container-id-16 {color: black;background-color: white;}#sk-container-id-16 pre{padding: 0;}#sk-container-id-16 div.sk-toggleable {background-color: white;}#sk-container-id-16 label.sk-toggleable__label {cursor: pointer;display: block;width: 100%;margin-bottom: 0;padding: 0.3em;box-sizing: border-box;text-align: center;}#sk-container-id-16 label.sk-toggleable__label-arrow:before {content: \"▸\";float: left;margin-right: 0.25em;color: #696969;}#sk-container-id-16 label.sk-toggleable__label-arrow:hover:before {color: black;}#sk-container-id-16 div.sk-estimator:hover label.sk-toggleable__label-arrow:before {color: black;}#sk-container-id-16 div.sk-toggleable__content {max-height: 0;max-width: 0;overflow: hidden;text-align: left;background-color: #f0f8ff;}#sk-container-id-16 div.sk-toggleable__content pre {margin: 0.2em;color: black;border-radius: 0.25em;background-color: #f0f8ff;}#sk-container-id-16 input.sk-toggleable__control:checked~div.sk-toggleable__content {max-height: 200px;max-width: 100%;overflow: auto;}#sk-container-id-16 input.sk-toggleable__control:checked~label.sk-toggleable__label-arrow:before {content: \"▾\";}#sk-container-id-16 div.sk-estimator input.sk-toggleable__control:checked~label.sk-toggleable__label {background-color: #d4ebff;}#sk-container-id-16 div.sk-label input.sk-toggleable__control:checked~label.sk-toggleable__label {background-color: #d4ebff;}#sk-container-id-16 input.sk-hidden--visually {border: 0;clip: rect(1px 1px 1px 1px);clip: rect(1px, 1px, 1px, 1px);height: 1px;margin: -1px;overflow: hidden;padding: 0;position: absolute;width: 1px;}#sk-container-id-16 div.sk-estimator {font-family: monospace;background-color: #f0f8ff;border: 1px dotted black;border-radius: 0.25em;box-sizing: border-box;margin-bottom: 0.5em;}#sk-container-id-16 div.sk-estimator:hover {background-color: #d4ebff;}#sk-container-id-16 div.sk-parallel-item::after {content: \"\";width: 100%;border-bottom: 1px solid gray;flex-grow: 1;}#sk-container-id-16 div.sk-label:hover label.sk-toggleable__label {background-color: #d4ebff;}#sk-container-id-16 div.sk-serial::before {content: \"\";position: absolute;border-left: 1px solid gray;box-sizing: border-box;top: 0;bottom: 0;left: 50%;z-index: 0;}#sk-container-id-16 div.sk-serial {display: flex;flex-direction: column;align-items: center;background-color: white;padding-right: 0.2em;padding-left: 0.2em;position: relative;}#sk-container-id-16 div.sk-item {position: relative;z-index: 1;}#sk-container-id-16 div.sk-parallel {display: flex;align-items: stretch;justify-content: center;background-color: white;position: relative;}#sk-container-id-16 div.sk-item::before, #sk-container-id-16 div.sk-parallel-item::before {content: \"\";position: absolute;border-left: 1px solid gray;box-sizing: border-box;top: 0;bottom: 0;left: 50%;z-index: -1;}#sk-container-id-16 div.sk-parallel-item {display: flex;flex-direction: column;z-index: 1;position: relative;background-color: white;}#sk-container-id-16 div.sk-parallel-item:first-child::after {align-self: flex-end;width: 50%;}#sk-container-id-16 div.sk-parallel-item:last-child::after {align-self: flex-start;width: 50%;}#sk-container-id-16 div.sk-parallel-item:only-child::after {width: 0;}#sk-container-id-16 div.sk-dashed-wrapped {border: 1px dashed gray;margin: 0 0.4em 0.5em 0.4em;box-sizing: border-box;padding-bottom: 0.4em;background-color: white;}#sk-container-id-16 div.sk-label label {font-family: monospace;font-weight: bold;display: inline-block;line-height: 1.2em;}#sk-container-id-16 div.sk-label-container {text-align: center;}#sk-container-id-16 div.sk-container {/* jupyter's `normalize.less` sets `[hidden] { display: none; }` but bootstrap.min.css set `[hidden] { display: none !important; }` so we also need the `!important` here to be able to override the default hidden behavior on the sphinx rendered scikit-learn.org. See: https://github.com/scikit-learn/scikit-learn/issues/21755 */display: inline-block !important;position: relative;}#sk-container-id-16 div.sk-text-repr-fallback {display: none;}</style><div id=\"sk-container-id-16\" class=\"sk-top-container\"><div class=\"sk-text-repr-fallback\"><pre>LogisticRegression(C=1.5, max_iter=5000, solver=&#x27;saga&#x27;)</pre><b>In a Jupyter environment, please rerun this cell to show the HTML representation or trust the notebook. <br />On GitHub, the HTML representation is unable to render, please try loading this page with nbviewer.org.</b></div><div class=\"sk-container\" hidden><div class=\"sk-item\"><div class=\"sk-estimator sk-toggleable\"><input class=\"sk-toggleable__control sk-hidden--visually\" id=\"sk-estimator-id-44\" type=\"checkbox\" checked><label for=\"sk-estimator-id-44\" class=\"sk-toggleable__label sk-toggleable__label-arrow\">LogisticRegression</label><div class=\"sk-toggleable__content\"><pre>LogisticRegression(C=1.5, max_iter=5000, solver=&#x27;saga&#x27;)</pre></div></div></div></div></div>"
      ],
      "text/plain": [
       "LogisticRegression(C=1.5, max_iter=5000, solver='saga')"
      ]
     },
     "execution_count": 125,
     "metadata": {},
     "output_type": "execute_result"
    }
   ],
   "source": [
    "best_model.fit(X_train, y_train)"
   ]
  },
  {
   "cell_type": "code",
   "execution_count": 126,
   "id": "42ec2ec8",
   "metadata": {},
   "outputs": [],
   "source": [
    "y_pred_train_proba = best_model.predict_proba(X_train)"
   ]
  },
  {
   "cell_type": "code",
   "execution_count": 127,
   "id": "3255de54",
   "metadata": {},
   "outputs": [
    {
     "data": {
      "text/plain": [
       "array([[3.65445690e-02, 9.63455431e-01],\n",
       "       [9.43466842e-01, 5.65331577e-02],\n",
       "       [9.85591602e-01, 1.44083982e-02],\n",
       "       [3.73518866e-03, 9.96264811e-01],\n",
       "       [4.74562807e-01, 5.25437193e-01],\n",
       "       [2.55670591e-01, 7.44329409e-01],\n",
       "       [9.99998967e-01, 1.03253761e-06],\n",
       "       [9.99998202e-01, 1.79818858e-06],\n",
       "       [9.99995768e-01, 4.23216300e-06],\n",
       "       [9.09501317e-01, 9.04986833e-02],\n",
       "       [2.59745467e-03, 9.97402545e-01],\n",
       "       [9.99999199e-01, 8.01262501e-07],\n",
       "       [9.84899957e-01, 1.51000431e-02],\n",
       "       [9.99998537e-01, 1.46342873e-06],\n",
       "       [2.46720135e-01, 7.53279865e-01],\n",
       "       [9.99998605e-01, 1.39541776e-06],\n",
       "       [1.49032224e-02, 9.85096778e-01],\n",
       "       [2.03454422e-02, 9.79654558e-01],\n",
       "       [6.90335338e-01, 3.09664662e-01],\n",
       "       [8.26704147e-01, 1.73295853e-01],\n",
       "       [9.99998537e-01, 1.46342873e-06],\n",
       "       [4.35303150e-01, 5.64696850e-01],\n",
       "       [5.92550588e-02, 9.40744941e-01],\n",
       "       [9.99999160e-01, 8.40315088e-07],\n",
       "       [8.71154991e-01, 1.28845009e-01],\n",
       "       [9.99999015e-01, 9.84551735e-07],\n",
       "       [9.99999407e-01, 5.92893086e-07],\n",
       "       [9.90260539e-01, 9.73946133e-03],\n",
       "       [9.99999199e-01, 8.01262501e-07],\n",
       "       [9.99997570e-01, 2.43015225e-06],\n",
       "       [4.59110152e-02, 9.54088985e-01],\n",
       "       [9.79700840e-01, 2.02991602e-02],\n",
       "       [9.99999199e-01, 8.01262501e-07],\n",
       "       [9.99998537e-01, 1.46342873e-06],\n",
       "       [6.80071225e-01, 3.19928775e-01],\n",
       "       [9.57544211e-01, 4.24557888e-02],\n",
       "       [8.33416242e-01, 1.66583758e-01],\n",
       "       [7.10304670e-01, 2.89695330e-01],\n",
       "       [8.02823711e-01, 1.97176289e-01],\n",
       "       [8.56088743e-02, 9.14391126e-01],\n",
       "       [7.59593208e-01, 2.40406792e-01],\n",
       "       [1.95076270e-01, 8.04923730e-01],\n",
       "       [9.13866564e-04, 9.99086133e-01],\n",
       "       [9.99998917e-01, 1.08286226e-06],\n",
       "       [4.30591802e-03, 9.95694082e-01],\n",
       "       [8.07869551e-02, 9.19213045e-01],\n",
       "       [4.19175767e-02, 9.58082423e-01],\n",
       "       [6.10610005e-02, 9.38939000e-01],\n",
       "       [9.99999199e-01, 8.01262501e-07],\n",
       "       [9.01356138e-01, 9.86438624e-02],\n",
       "       [9.25086918e-01, 7.49130820e-02],\n",
       "       [3.50711680e-03, 9.96492883e-01],\n",
       "       [9.99999407e-01, 5.92893086e-07],\n",
       "       [9.99999407e-01, 5.92893086e-07],\n",
       "       [9.99998202e-01, 1.79818858e-06],\n",
       "       [1.22161573e-01, 8.77838427e-01],\n",
       "       [8.76402816e-01, 1.23597184e-01],\n",
       "       [1.49032224e-02, 9.85096778e-01],\n",
       "       [8.02823711e-01, 1.97176289e-01],\n",
       "       [9.99999160e-01, 8.40315088e-07],\n",
       "       [9.55566908e-01, 4.44330925e-02],\n",
       "       [9.99999160e-01, 8.40315088e-07],\n",
       "       [9.99994002e-01, 5.99829060e-06],\n",
       "       [9.99999236e-01, 7.64024833e-07],\n",
       "       [9.99028797e-01, 9.71202984e-04],\n",
       "       [9.21721548e-01, 7.82784515e-02],\n",
       "       [9.98141389e-01, 1.85861086e-03],\n",
       "       [7.41786341e-01, 2.58213659e-01],\n",
       "       [5.58268913e-02, 9.44173109e-01],\n",
       "       [3.63218712e-01, 6.36781288e-01],\n",
       "       [1.35685510e-02, 9.86431449e-01],\n",
       "       [9.99999199e-01, 8.01262501e-07],\n",
       "       [9.68234187e-01, 3.17658126e-02],\n",
       "       [9.99999407e-01, 5.92893086e-07],\n",
       "       [9.99999378e-01, 6.21790000e-07],\n",
       "       [9.99999748e-01, 2.51911692e-07],\n",
       "       [9.99999561e-01, 4.38710400e-07],\n",
       "       [1.60394102e-01, 8.39605898e-01],\n",
       "       [9.99999236e-01, 7.64024833e-07],\n",
       "       [9.99998967e-01, 1.03253761e-06],\n",
       "       [7.83646393e-03, 9.92163536e-01],\n",
       "       [9.99998967e-01, 1.03253761e-06],\n",
       "       [2.45068687e-02, 9.75493131e-01],\n",
       "       [7.50796017e-01, 2.49203983e-01],\n",
       "       [9.99998202e-01, 1.79818858e-06],\n",
       "       [9.99998537e-01, 1.46342873e-06],\n",
       "       [1.17846337e-02, 9.88215366e-01],\n",
       "       [8.02823711e-01, 1.97176289e-01],\n",
       "       [7.41786341e-01, 2.58213659e-01],\n",
       "       [8.61222084e-03, 9.91387779e-01],\n",
       "       [2.02657242e-01, 7.97342758e-01],\n",
       "       [9.96610630e-01, 3.38936990e-03],\n",
       "       [8.76402816e-01, 1.23597184e-01],\n",
       "       [9.57544211e-01, 4.24557888e-02],\n",
       "       [9.99998917e-01, 1.08286226e-06],\n",
       "       [9.99996388e-01, 3.61215362e-06],\n",
       "       [1.59044360e-03, 9.98409556e-01],\n",
       "       [9.75172676e-01, 2.48273243e-02],\n",
       "       [9.93826929e-01, 6.17307081e-03],\n",
       "       [8.02823711e-01, 1.97176289e-01],\n",
       "       [9.99998917e-01, 1.08286226e-06],\n",
       "       [3.43822835e-02, 9.65617716e-01],\n",
       "       [9.99998022e-01, 1.97774309e-06],\n",
       "       [8.02823711e-01, 1.97176289e-01],\n",
       "       [9.96610630e-01, 3.38936990e-03],\n",
       "       [9.99997451e-01, 2.54859479e-06],\n",
       "       [9.25086918e-01, 7.49130820e-02],\n",
       "       [3.63218712e-01, 6.36781288e-01],\n",
       "       [9.99998917e-01, 1.08286226e-06],\n",
       "       [6.33694925e-01, 3.66305075e-01],\n",
       "       [9.99999760e-01, 2.40204407e-07],\n",
       "       [1.17149356e-01, 8.82850644e-01],\n",
       "       [8.56088743e-02, 9.14391126e-01],\n",
       "       [1.29461328e-02, 9.87053867e-01],\n",
       "       [4.00589030e-01, 5.99410970e-01],\n",
       "       [9.81509679e-01, 1.84903213e-02],\n",
       "       [6.47885244e-02, 9.35211476e-01],\n",
       "       [5.49670146e-01, 4.50329854e-01],\n",
       "       [9.98141389e-01, 1.85861086e-03],\n",
       "       [2.33945867e-02, 9.76605413e-01]])"
      ]
     },
     "execution_count": 127,
     "metadata": {},
     "output_type": "execute_result"
    }
   ],
   "source": [
    "y_pred_train_proba"
   ]
  },
  {
   "cell_type": "code",
   "execution_count": 129,
   "id": "6303961d",
   "metadata": {},
   "outputs": [],
   "source": [
    "y_pred_train = best_model.predict(X_train)"
   ]
  },
  {
   "cell_type": "code",
   "execution_count": 130,
   "id": "8543b2c7",
   "metadata": {},
   "outputs": [
    {
     "data": {
      "text/plain": [
       "array([1, 0, 0, 1, 1, 1, 0, 0, 0, 0, 1, 0, 0, 0, 1, 0, 1, 1, 0, 0, 0, 1,\n",
       "       1, 0, 0, 0, 0, 0, 0, 0, 1, 0, 0, 0, 0, 0, 0, 0, 0, 1, 0, 1, 1, 0,\n",
       "       1, 1, 1, 1, 0, 0, 0, 1, 0, 0, 0, 1, 0, 1, 0, 0, 0, 0, 0, 0, 0, 0,\n",
       "       0, 0, 1, 1, 1, 0, 0, 0, 0, 0, 0, 1, 0, 0, 1, 0, 1, 0, 0, 0, 1, 0,\n",
       "       0, 1, 1, 0, 0, 0, 0, 0, 1, 0, 0, 0, 0, 1, 0, 0, 0, 0, 0, 1, 0, 0,\n",
       "       0, 1, 1, 1, 1, 0, 1, 0, 0, 1])"
      ]
     },
     "execution_count": 130,
     "metadata": {},
     "output_type": "execute_result"
    }
   ],
   "source": [
    "y_pred_train"
   ]
  },
  {
   "cell_type": "code",
   "execution_count": 131,
   "id": "6c5efb0d",
   "metadata": {
    "scrolled": true
   },
   "outputs": [
    {
     "data": {
      "text/plain": [
       "0.9916666666666667"
      ]
     },
     "execution_count": 131,
     "metadata": {},
     "output_type": "execute_result"
    }
   ],
   "source": [
    "acc_train = accuracy_score(y_train, y_pred_train)\n",
    "acc_train"
   ]
  },
  {
   "cell_type": "code",
   "execution_count": 137,
   "id": "207c3704",
   "metadata": {},
   "outputs": [
    {
     "name": "stdout",
     "output_type": "stream",
     "text": [
      "              precision    recall  f1-score   support\n",
      "\n",
      "           0       0.99      1.00      0.99        80\n",
      "           1       1.00      0.97      0.99        40\n",
      "\n",
      "    accuracy                           0.99       120\n",
      "   macro avg       0.99      0.99      0.99       120\n",
      "weighted avg       0.99      0.99      0.99       120\n",
      "\n"
     ]
    }
   ],
   "source": [
    "print(classification_report(y_train, y_pred_train))"
   ]
  },
  {
   "cell_type": "code",
   "execution_count": 132,
   "id": "026a8b10",
   "metadata": {},
   "outputs": [],
   "source": [
    "y_pred_test = best_model.predict(X_test)"
   ]
  },
  {
   "cell_type": "code",
   "execution_count": 133,
   "id": "c19059d7",
   "metadata": {},
   "outputs": [
    {
     "data": {
      "text/plain": [
       "array([0, 0, 0, 1, 0, 0, 0, 1, 1, 0, 1, 1, 1, 0, 0, 1, 1, 1, 0, 1, 0, 0,\n",
       "       1, 1, 0, 0, 0, 0, 1, 0])"
      ]
     },
     "execution_count": 133,
     "metadata": {},
     "output_type": "execute_result"
    }
   ],
   "source": [
    "y_pred_test"
   ]
  },
  {
   "cell_type": "code",
   "execution_count": 134,
   "id": "dc8cd51b",
   "metadata": {
    "scrolled": true
   },
   "outputs": [
    {
     "data": {
      "text/plain": [
       "0.9"
      ]
     },
     "execution_count": 134,
     "metadata": {},
     "output_type": "execute_result"
    }
   ],
   "source": [
    "acc_test = accuracy_score(y_test, y_pred_test)\n",
    "acc_test"
   ]
  },
  {
   "cell_type": "code",
   "execution_count": 135,
   "id": "b68ff493",
   "metadata": {},
   "outputs": [
    {
     "name": "stdout",
     "output_type": "stream",
     "text": [
      "Logistic Regression training accuracy 0.9916666666666667\n",
      "Logistic Regression test accuracy 0.9\n"
     ]
    }
   ],
   "source": [
    "print(f\"Logistic Regression training accuracy {acc_train}\")\n",
    "print(f\"Logistic Regression test accuracy {acc_test}\")"
   ]
  },
  {
   "cell_type": "code",
   "execution_count": 136,
   "id": "6a8e09fd",
   "metadata": {},
   "outputs": [
    {
     "name": "stdout",
     "output_type": "stream",
     "text": [
      "              precision    recall  f1-score   support\n",
      "\n",
      "           0       1.00      0.85      0.92        20\n",
      "           1       0.77      1.00      0.87        10\n",
      "\n",
      "    accuracy                           0.90        30\n",
      "   macro avg       0.88      0.93      0.89        30\n",
      "weighted avg       0.92      0.90      0.90        30\n",
      "\n"
     ]
    }
   ],
   "source": [
    "print(classification_report(y_test, y_pred_test))"
   ]
  },
  {
   "cell_type": "code",
   "execution_count": 140,
   "id": "8c4bf5a0",
   "metadata": {},
   "outputs": [
    {
     "data": {
      "text/plain": [
       "(array([[3.01174729, 2.53586374]]), array([-18.76069538]))"
      ]
     },
     "execution_count": 140,
     "metadata": {},
     "output_type": "execute_result"
    }
   ],
   "source": [
    "best_model.coef_, best_model.intercept_"
   ]
  },
  {
   "cell_type": "code",
   "execution_count": 141,
   "id": "5fe0a4eb",
   "metadata": {},
   "outputs": [
    {
     "name": "stdout",
     "output_type": "stream",
     "text": [
      "intercept  -16.9284877604466\n",
      "classes [0 1]\n"
     ]
    },
    {
     "data": {
      "text/html": [
       "<div>\n",
       "<style scoped>\n",
       "    .dataframe tbody tr th:only-of-type {\n",
       "        vertical-align: middle;\n",
       "    }\n",
       "\n",
       "    .dataframe tbody tr th {\n",
       "        vertical-align: top;\n",
       "    }\n",
       "\n",
       "    .dataframe thead th {\n",
       "        text-align: right;\n",
       "    }\n",
       "</style>\n",
       "<table border=\"1\" class=\"dataframe\">\n",
       "  <thead>\n",
       "    <tr style=\"text-align: right;\">\n",
       "      <th></th>\n",
       "      <th>coeff</th>\n",
       "    </tr>\n",
       "  </thead>\n",
       "  <tbody>\n",
       "    <tr>\n",
       "      <th>PetalLengthCm</th>\n",
       "      <td>2.763098</td>\n",
       "    </tr>\n",
       "    <tr>\n",
       "      <th>PetalWidthCm</th>\n",
       "      <td>2.138196</td>\n",
       "    </tr>\n",
       "  </tbody>\n",
       "</table>\n",
       "</div>"
      ],
      "text/plain": [
       "                  coeff\n",
       "PetalLengthCm  2.763098\n",
       "PetalWidthCm   2.138196"
      ]
     },
     "execution_count": 141,
     "metadata": {},
     "output_type": "execute_result"
    }
   ],
   "source": [
    "print('intercept ', logreg.intercept_[0])\n",
    "print('classes', logreg.classes_)\n",
    "pd.DataFrame({'coeff': logreg.coef_[0]}, \n",
    "             index=X.columns)"
   ]
  },
  {
   "cell_type": "code",
   "execution_count": 142,
   "id": "f5722667",
   "metadata": {},
   "outputs": [
    {
     "data": {
      "image/png": "[encoded data removed]",
      "text/plain": [
       "<Figure size 1200x900 with 1 Axes>"
      ]
     },
     "metadata": {},
     "output_type": "display_data"
    }
   ],
   "source": [
    "plt.figure(figsize=(12, 9))\n",
    "sns.scatterplot(data=data,\n",
    "                x=\"PetalLengthCm\",\n",
    "                y=\"PetalWidthCm\",\n",
    "                hue=\"Species\")\n",
    "\n",
    "plt.show()"
   ]
  },
  {
   "cell_type": "code",
   "execution_count": 143,
   "id": "3451e0e7",
   "metadata": {},
   "outputs": [],
   "source": [
    "coef_1, coef_2 = best_model.coef_[0]"
   ]
  },
  {
   "cell_type": "code",
   "execution_count": 144,
   "id": "facc4a6e",
   "metadata": {},
   "outputs": [],
   "source": [
    "itc = best_model.intercept_[0]"
   ]
  },
  {
   "cell_type": "code",
   "execution_count": 145,
   "id": "6ba65726",
   "metadata": {},
   "outputs": [
    {
     "data": {
      "text/plain": [
       "-1.1876613239771705"
      ]
     },
     "execution_count": 145,
     "metadata": {},
     "output_type": "execute_result"
    }
   ],
   "source": [
    "m_boundary = -coef_1 / coef_2\n",
    "m_boundary"
   ]
  },
  {
   "cell_type": "code",
   "execution_count": 146,
   "id": "91978e74",
   "metadata": {},
   "outputs": [
    {
     "data": {
      "text/plain": [
       "7.398148039202125"
      ]
     },
     "execution_count": 146,
     "metadata": {},
     "output_type": "execute_result"
    }
   ],
   "source": [
    "c_boundary = -itc / coef_2\n",
    "c_boundary"
   ]
  },
  {
   "cell_type": "code",
   "execution_count": 147,
   "id": "6c139cbe",
   "metadata": {},
   "outputs": [
    {
     "name": "stdout",
     "output_type": "stream",
     "text": [
      "-1.1876613239771705 7.398148039202125\n"
     ]
    }
   ],
   "source": [
    "print(m_boundary, c_boundary)"
   ]
  },
  {
   "cell_type": "code",
   "execution_count": 148,
   "id": "e0eba0fa",
   "metadata": {},
   "outputs": [
    {
     "data": {
      "image/png": "[encoded data removed]",
      "text/plain": [
       "<Figure size 1200x900 with 1 Axes>"
      ]
     },
     "metadata": {},
     "output_type": "display_data"
    }
   ],
   "source": [
    "plt.figure(figsize=(12, 9))\n",
    "\n",
    "data = X_train.copy()\n",
    "data[\"Species\"] = y_train\n",
    "\n",
    "sns.scatterplot(data=data,\n",
    "                x=\"PetalLengthCm\",\n",
    "                y=\"PetalWidthCm\",\n",
    "                hue=\"Species\")\n",
    "\n",
    "\n",
    "x_support = np.linspace(data[\"PetalLengthCm\"].min(), \n",
    "                        data[\"PetalLengthCm\"].max(), 101)\n",
    "y_support = m_boundary*x_support + c_boundary\n",
    "\n",
    "plt.plot(x_support, y_support, \"--r\")\n",
    "# plt.set_ylim(-6, 6)\n",
    "\n",
    "plt.show()"
   ]
  },
  {
   "cell_type": "code",
   "execution_count": 149,
   "id": "15101617",
   "metadata": {},
   "outputs": [
    {
     "data": {
      "image/png": "[encoded data removed]",
      "text/plain": [
       "<Figure size 1200x900 with 1 Axes>"
      ]
     },
     "metadata": {},
     "output_type": "display_data"
    }
   ],
   "source": [
    "plt.figure(figsize=(12, 9))\n",
    "\n",
    "data = X_test.copy()\n",
    "data[\"Species\"] = y_test\n",
    "\n",
    "sns.scatterplot(data=data,\n",
    "                x=\"PetalLengthCm\",\n",
    "                y=\"PetalWidthCm\",\n",
    "                hue=\"Species\")\n",
    "\n",
    "\n",
    "x_support = np.linspace(data[\"PetalLengthCm\"].min(), \n",
    "                        data[\"PetalLengthCm\"].max(), 101)\n",
    "y_support = m_boundary*x_support + c_boundary\n",
    "\n",
    "plt.plot(x_support, y_support, \"--r\")\n",
    "# plt.set_ylim(-6, 6)\n",
    "\n",
    "plt.show()"
   ]
  }
 ],
 "metadata": {
  "kernelspec": {
   "display_name": "Python 3 (ipykernel)",
   "language": "python",
   "name": "python3"
  },
  "language_info": {
   "codemirror_mode": {
    "name": "ipython",
    "version": 3
   },
   "file_extension": ".py",
   "mimetype": "text/x-python",
   "name": "python",
   "nbconvert_exporter": "python",
   "pygments_lexer": "ipython3",
   "version": "3.10.8"
  }
 },
 "nbformat": 4,
 "nbformat_minor": 5
}
