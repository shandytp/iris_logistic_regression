{
 "cells": [
  {
   "cell_type": "code",
   "execution_count": 15,
   "id": "4d119205",
   "metadata": {},
   "outputs": [],
   "source": [
    "import pandas as pd\n",
    "import numpy as np\n",
    "import matplotlib.pyplot as plt\n",
    "import seaborn as sns"
   ]
  },
  {
   "cell_type": "markdown",
   "id": "2d9a851e",
   "metadata": {},
   "source": [
    "### Read Data"
   ]
  },
  {
   "cell_type": "code",
   "execution_count": 84,
   "id": "c64f62f8",
   "metadata": {},
   "outputs": [],
   "source": [
    "data = pd.read_csv('Iris.csv')"
   ]
  },
  {
   "cell_type": "code",
   "execution_count": 85,
   "id": "48d2c58f",
   "metadata": {},
   "outputs": [
    {
     "data": {
      "text/html": [
       "<div>\n",
       "<style scoped>\n",
       "    .dataframe tbody tr th:only-of-type {\n",
       "        vertical-align: middle;\n",
       "    }\n",
       "\n",
       "    .dataframe tbody tr th {\n",
       "        vertical-align: top;\n",
       "    }\n",
       "\n",
       "    .dataframe thead th {\n",
       "        text-align: right;\n",
       "    }\n",
       "</style>\n",
       "<table border=\"1\" class=\"dataframe\">\n",
       "  <thead>\n",
       "    <tr style=\"text-align: right;\">\n",
       "      <th></th>\n",
       "      <th>Id</th>\n",
       "      <th>SepalLengthCm</th>\n",
       "      <th>SepalWidthCm</th>\n",
       "      <th>PetalLengthCm</th>\n",
       "      <th>PetalWidthCm</th>\n",
       "      <th>Species</th>\n",
       "    </tr>\n",
       "  </thead>\n",
       "  <tbody>\n",
       "    <tr>\n",
       "      <th>0</th>\n",
       "      <td>1</td>\n",
       "      <td>5.1</td>\n",
       "      <td>3.5</td>\n",
       "      <td>1.4</td>\n",
       "      <td>0.2</td>\n",
       "      <td>Iris-setosa</td>\n",
       "    </tr>\n",
       "    <tr>\n",
       "      <th>1</th>\n",
       "      <td>2</td>\n",
       "      <td>4.9</td>\n",
       "      <td>3.0</td>\n",
       "      <td>1.4</td>\n",
       "      <td>0.2</td>\n",
       "      <td>Iris-setosa</td>\n",
       "    </tr>\n",
       "    <tr>\n",
       "      <th>2</th>\n",
       "      <td>3</td>\n",
       "      <td>4.7</td>\n",
       "      <td>3.2</td>\n",
       "      <td>1.3</td>\n",
       "      <td>0.2</td>\n",
       "      <td>Iris-setosa</td>\n",
       "    </tr>\n",
       "    <tr>\n",
       "      <th>3</th>\n",
       "      <td>4</td>\n",
       "      <td>4.6</td>\n",
       "      <td>3.1</td>\n",
       "      <td>1.5</td>\n",
       "      <td>0.2</td>\n",
       "      <td>Iris-setosa</td>\n",
       "    </tr>\n",
       "    <tr>\n",
       "      <th>4</th>\n",
       "      <td>5</td>\n",
       "      <td>5.0</td>\n",
       "      <td>3.6</td>\n",
       "      <td>1.4</td>\n",
       "      <td>0.2</td>\n",
       "      <td>Iris-setosa</td>\n",
       "    </tr>\n",
       "  </tbody>\n",
       "</table>\n",
       "</div>"
      ],
      "text/plain": [
       "   Id  SepalLengthCm  SepalWidthCm  PetalLengthCm  PetalWidthCm      Species\n",
       "0   1            5.1           3.5            1.4           0.2  Iris-setosa\n",
       "1   2            4.9           3.0            1.4           0.2  Iris-setosa\n",
       "2   3            4.7           3.2            1.3           0.2  Iris-setosa\n",
       "3   4            4.6           3.1            1.5           0.2  Iris-setosa\n",
       "4   5            5.0           3.6            1.4           0.2  Iris-setosa"
      ]
     },
     "execution_count": 85,
     "metadata": {},
     "output_type": "execute_result"
    }
   ],
   "source": [
    "data.head()"
   ]
  },
  {
   "cell_type": "code",
   "execution_count": 86,
   "id": "0004c361",
   "metadata": {},
   "outputs": [
    {
     "data": {
      "text/html": [
       "<div>\n",
       "<style scoped>\n",
       "    .dataframe tbody tr th:only-of-type {\n",
       "        vertical-align: middle;\n",
       "    }\n",
       "\n",
       "    .dataframe tbody tr th {\n",
       "        vertical-align: top;\n",
       "    }\n",
       "\n",
       "    .dataframe thead th {\n",
       "        text-align: right;\n",
       "    }\n",
       "</style>\n",
       "<table border=\"1\" class=\"dataframe\">\n",
       "  <thead>\n",
       "    <tr style=\"text-align: right;\">\n",
       "      <th></th>\n",
       "      <th>Id</th>\n",
       "      <th>SepalLengthCm</th>\n",
       "      <th>SepalWidthCm</th>\n",
       "      <th>PetalLengthCm</th>\n",
       "      <th>PetalWidthCm</th>\n",
       "    </tr>\n",
       "  </thead>\n",
       "  <tbody>\n",
       "    <tr>\n",
       "      <th>Id</th>\n",
       "      <td>1.000000</td>\n",
       "      <td>0.716676</td>\n",
       "      <td>-0.397729</td>\n",
       "      <td>0.882747</td>\n",
       "      <td>0.899759</td>\n",
       "    </tr>\n",
       "    <tr>\n",
       "      <th>SepalLengthCm</th>\n",
       "      <td>0.716676</td>\n",
       "      <td>1.000000</td>\n",
       "      <td>-0.109369</td>\n",
       "      <td>0.871754</td>\n",
       "      <td>0.817954</td>\n",
       "    </tr>\n",
       "    <tr>\n",
       "      <th>SepalWidthCm</th>\n",
       "      <td>-0.397729</td>\n",
       "      <td>-0.109369</td>\n",
       "      <td>1.000000</td>\n",
       "      <td>-0.420516</td>\n",
       "      <td>-0.356544</td>\n",
       "    </tr>\n",
       "    <tr>\n",
       "      <th>PetalLengthCm</th>\n",
       "      <td>0.882747</td>\n",
       "      <td>0.871754</td>\n",
       "      <td>-0.420516</td>\n",
       "      <td>1.000000</td>\n",
       "      <td>0.962757</td>\n",
       "    </tr>\n",
       "    <tr>\n",
       "      <th>PetalWidthCm</th>\n",
       "      <td>0.899759</td>\n",
       "      <td>0.817954</td>\n",
       "      <td>-0.356544</td>\n",
       "      <td>0.962757</td>\n",
       "      <td>1.000000</td>\n",
       "    </tr>\n",
       "  </tbody>\n",
       "</table>\n",
       "</div>"
      ],
      "text/plain": [
       "                     Id  SepalLengthCm  SepalWidthCm  PetalLengthCm  \\\n",
       "Id             1.000000       0.716676     -0.397729       0.882747   \n",
       "SepalLengthCm  0.716676       1.000000     -0.109369       0.871754   \n",
       "SepalWidthCm  -0.397729      -0.109369      1.000000      -0.420516   \n",
       "PetalLengthCm  0.882747       0.871754     -0.420516       1.000000   \n",
       "PetalWidthCm   0.899759       0.817954     -0.356544       0.962757   \n",
       "\n",
       "               PetalWidthCm  \n",
       "Id                 0.899759  \n",
       "SepalLengthCm      0.817954  \n",
       "SepalWidthCm      -0.356544  \n",
       "PetalLengthCm      0.962757  \n",
       "PetalWidthCm       1.000000  "
      ]
     },
     "execution_count": 86,
     "metadata": {},
     "output_type": "execute_result"
    }
   ],
   "source": [
    "data.corr()"
   ]
  },
  {
   "cell_type": "markdown",
   "id": "f79d8e73",
   "metadata": {},
   "source": [
    "### Only using 2 variables\n",
    "\n",
    "Drop `SepalLengthCm` and `SepalWidthCm` cols"
   ]
  },
  {
   "cell_type": "code",
   "execution_count": 87,
   "id": "62529161",
   "metadata": {},
   "outputs": [],
   "source": [
    "DROP_COLS = [\"Id\", \"SepalLengthCm\", \"SepalWidthCm\"]"
   ]
  },
  {
   "cell_type": "code",
   "execution_count": 88,
   "id": "1e3041b6",
   "metadata": {},
   "outputs": [],
   "source": [
    "def drop_columns(cols_name):\n",
    "    data.drop(cols_name, axis=1, inplace=True)"
   ]
  },
  {
   "cell_type": "code",
   "execution_count": 89,
   "id": "00149e71",
   "metadata": {},
   "outputs": [],
   "source": [
    "drop_columns(DROP_COLS)"
   ]
  },
  {
   "cell_type": "code",
   "execution_count": 90,
   "id": "e9fc75d2",
   "metadata": {},
   "outputs": [
    {
     "data": {
      "text/html": [
       "<div>\n",
       "<style scoped>\n",
       "    .dataframe tbody tr th:only-of-type {\n",
       "        vertical-align: middle;\n",
       "    }\n",
       "\n",
       "    .dataframe tbody tr th {\n",
       "        vertical-align: top;\n",
       "    }\n",
       "\n",
       "    .dataframe thead th {\n",
       "        text-align: right;\n",
       "    }\n",
       "</style>\n",
       "<table border=\"1\" class=\"dataframe\">\n",
       "  <thead>\n",
       "    <tr style=\"text-align: right;\">\n",
       "      <th></th>\n",
       "      <th>PetalLengthCm</th>\n",
       "      <th>PetalWidthCm</th>\n",
       "      <th>Species</th>\n",
       "    </tr>\n",
       "  </thead>\n",
       "  <tbody>\n",
       "    <tr>\n",
       "      <th>0</th>\n",
       "      <td>1.4</td>\n",
       "      <td>0.2</td>\n",
       "      <td>Iris-setosa</td>\n",
       "    </tr>\n",
       "    <tr>\n",
       "      <th>1</th>\n",
       "      <td>1.4</td>\n",
       "      <td>0.2</td>\n",
       "      <td>Iris-setosa</td>\n",
       "    </tr>\n",
       "    <tr>\n",
       "      <th>2</th>\n",
       "      <td>1.3</td>\n",
       "      <td>0.2</td>\n",
       "      <td>Iris-setosa</td>\n",
       "    </tr>\n",
       "    <tr>\n",
       "      <th>3</th>\n",
       "      <td>1.5</td>\n",
       "      <td>0.2</td>\n",
       "      <td>Iris-setosa</td>\n",
       "    </tr>\n",
       "    <tr>\n",
       "      <th>4</th>\n",
       "      <td>1.4</td>\n",
       "      <td>0.2</td>\n",
       "      <td>Iris-setosa</td>\n",
       "    </tr>\n",
       "  </tbody>\n",
       "</table>\n",
       "</div>"
      ],
      "text/plain": [
       "   PetalLengthCm  PetalWidthCm      Species\n",
       "0            1.4           0.2  Iris-setosa\n",
       "1            1.4           0.2  Iris-setosa\n",
       "2            1.3           0.2  Iris-setosa\n",
       "3            1.5           0.2  Iris-setosa\n",
       "4            1.4           0.2  Iris-setosa"
      ]
     },
     "execution_count": 90,
     "metadata": {},
     "output_type": "execute_result"
    }
   ],
   "source": [
    "data.head()"
   ]
  },
  {
   "cell_type": "code",
   "execution_count": 91,
   "id": "424ac6e7",
   "metadata": {},
   "outputs": [
    {
     "data": {
      "text/plain": [
       "Iris-setosa        50\n",
       "Iris-versicolor    50\n",
       "Iris-virginica     50\n",
       "Name: Species, dtype: int64"
      ]
     },
     "execution_count": 91,
     "metadata": {},
     "output_type": "execute_result"
    }
   ],
   "source": [
    "data['Species'].value_counts()"
   ]
  },
  {
   "cell_type": "markdown",
   "id": "fe54a296",
   "metadata": {},
   "source": [
    "### Only Pick Versicolor\n",
    "\n",
    "Nanti sisa nya akan di convert jadi Non-Versicolor"
   ]
  },
  {
   "cell_type": "code",
   "execution_count": 92,
   "id": "af27162b",
   "metadata": {},
   "outputs": [
    {
     "name": "stderr",
     "output_type": "stream",
     "text": [
      "/tmp/ipykernel_230/2584635057.py:1: SettingWithCopyWarning: \n",
      "A value is trying to be set on a copy of a slice from a DataFrame\n",
      "\n",
      "See the caveats in the documentation: https://pandas.pydata.org/pandas-docs/stable/user_guide/indexing.html#returning-a-view-versus-a-copy\n",
      "  data[\"Species\"][data[\"Species\"] != \"Iris-versicolor\"] = \"Non-versicolor\"\n"
     ]
    }
   ],
   "source": [
    "data[\"Species\"][data[\"Species\"] != \"Iris-versicolor\"] = \"Non-versicolor\""
   ]
  },
  {
   "cell_type": "code",
   "execution_count": 93,
   "id": "ed0fcd7c",
   "metadata": {},
   "outputs": [
    {
     "data": {
      "text/html": [
       "<div>\n",
       "<style scoped>\n",
       "    .dataframe tbody tr th:only-of-type {\n",
       "        vertical-align: middle;\n",
       "    }\n",
       "\n",
       "    .dataframe tbody tr th {\n",
       "        vertical-align: top;\n",
       "    }\n",
       "\n",
       "    .dataframe thead th {\n",
       "        text-align: right;\n",
       "    }\n",
       "</style>\n",
       "<table border=\"1\" class=\"dataframe\">\n",
       "  <thead>\n",
       "    <tr style=\"text-align: right;\">\n",
       "      <th></th>\n",
       "      <th>PetalLengthCm</th>\n",
       "      <th>PetalWidthCm</th>\n",
       "      <th>Species</th>\n",
       "    </tr>\n",
       "  </thead>\n",
       "  <tbody>\n",
       "    <tr>\n",
       "      <th>0</th>\n",
       "      <td>1.4</td>\n",
       "      <td>0.2</td>\n",
       "      <td>Non-versicolor</td>\n",
       "    </tr>\n",
       "    <tr>\n",
       "      <th>1</th>\n",
       "      <td>1.4</td>\n",
       "      <td>0.2</td>\n",
       "      <td>Non-versicolor</td>\n",
       "    </tr>\n",
       "    <tr>\n",
       "      <th>2</th>\n",
       "      <td>1.3</td>\n",
       "      <td>0.2</td>\n",
       "      <td>Non-versicolor</td>\n",
       "    </tr>\n",
       "    <tr>\n",
       "      <th>3</th>\n",
       "      <td>1.5</td>\n",
       "      <td>0.2</td>\n",
       "      <td>Non-versicolor</td>\n",
       "    </tr>\n",
       "    <tr>\n",
       "      <th>4</th>\n",
       "      <td>1.4</td>\n",
       "      <td>0.2</td>\n",
       "      <td>Non-versicolor</td>\n",
       "    </tr>\n",
       "    <tr>\n",
       "      <th>...</th>\n",
       "      <td>...</td>\n",
       "      <td>...</td>\n",
       "      <td>...</td>\n",
       "    </tr>\n",
       "    <tr>\n",
       "      <th>145</th>\n",
       "      <td>5.2</td>\n",
       "      <td>2.3</td>\n",
       "      <td>Non-versicolor</td>\n",
       "    </tr>\n",
       "    <tr>\n",
       "      <th>146</th>\n",
       "      <td>5.0</td>\n",
       "      <td>1.9</td>\n",
       "      <td>Non-versicolor</td>\n",
       "    </tr>\n",
       "    <tr>\n",
       "      <th>147</th>\n",
       "      <td>5.2</td>\n",
       "      <td>2.0</td>\n",
       "      <td>Non-versicolor</td>\n",
       "    </tr>\n",
       "    <tr>\n",
       "      <th>148</th>\n",
       "      <td>5.4</td>\n",
       "      <td>2.3</td>\n",
       "      <td>Non-versicolor</td>\n",
       "    </tr>\n",
       "    <tr>\n",
       "      <th>149</th>\n",
       "      <td>5.1</td>\n",
       "      <td>1.8</td>\n",
       "      <td>Non-versicolor</td>\n",
       "    </tr>\n",
       "  </tbody>\n",
       "</table>\n",
       "<p>150 rows × 3 columns</p>\n",
       "</div>"
      ],
      "text/plain": [
       "     PetalLengthCm  PetalWidthCm         Species\n",
       "0              1.4           0.2  Non-versicolor\n",
       "1              1.4           0.2  Non-versicolor\n",
       "2              1.3           0.2  Non-versicolor\n",
       "3              1.5           0.2  Non-versicolor\n",
       "4              1.4           0.2  Non-versicolor\n",
       "..             ...           ...             ...\n",
       "145            5.2           2.3  Non-versicolor\n",
       "146            5.0           1.9  Non-versicolor\n",
       "147            5.2           2.0  Non-versicolor\n",
       "148            5.4           2.3  Non-versicolor\n",
       "149            5.1           1.8  Non-versicolor\n",
       "\n",
       "[150 rows x 3 columns]"
      ]
     },
     "execution_count": 93,
     "metadata": {},
     "output_type": "execute_result"
    }
   ],
   "source": [
    "data"
   ]
  },
  {
   "cell_type": "code",
   "execution_count": 94,
   "id": "13b2bb27",
   "metadata": {},
   "outputs": [
    {
     "data": {
      "text/plain": [
       "Non-versicolor     100\n",
       "Iris-versicolor     50\n",
       "Name: Species, dtype: int64"
      ]
     },
     "execution_count": 94,
     "metadata": {},
     "output_type": "execute_result"
    }
   ],
   "source": [
    "data[\"Species\"].value_counts()"
   ]
  },
  {
   "cell_type": "markdown",
   "id": "ec006c9f",
   "metadata": {},
   "source": [
    "### Create Visualization"
   ]
  },
  {
   "cell_type": "code",
   "execution_count": 95,
   "id": "d574285e",
   "metadata": {},
   "outputs": [
    {
     "data": {
      "image/png": "[encoded data removed]",
      "text/plain": [
       "<Figure size 864x648 with 1 Axes>"
      ]
     },
     "metadata": {
      "needs_background": "light"
     },
     "output_type": "display_data"
    }
   ],
   "source": [
    "plt.figure(figsize=(12, 9))\n",
    "sns.scatterplot(data=data,\n",
    "                x=\"PetalLengthCm\",\n",
    "                y=\"PetalWidthCm\",\n",
    "                hue=\"Species\")\n",
    "\n",
    "plt.show()"
   ]
  },
  {
   "cell_type": "markdown",
   "id": "28835024",
   "metadata": {},
   "source": [
    "### Split Input Output "
   ]
  },
  {
   "cell_type": "code",
   "execution_count": 96,
   "id": "93901f14",
   "metadata": {},
   "outputs": [],
   "source": [
    "def split_input_output(data, output_col):\n",
    "    X = data.drop(columns=output_col)\n",
    "    y = data[output_col]\n",
    "    \n",
    "    return X, y"
   ]
  },
  {
   "cell_type": "code",
   "execution_count": 97,
   "id": "224495af",
   "metadata": {},
   "outputs": [],
   "source": [
    "X, y = split_input_output(data=data,\n",
    "                          output_col=\"Species\")"
   ]
  },
  {
   "cell_type": "code",
   "execution_count": 98,
   "id": "0b6c7f18",
   "metadata": {},
   "outputs": [
    {
     "data": {
      "text/html": [
       "<div>\n",
       "<style scoped>\n",
       "    .dataframe tbody tr th:only-of-type {\n",
       "        vertical-align: middle;\n",
       "    }\n",
       "\n",
       "    .dataframe tbody tr th {\n",
       "        vertical-align: top;\n",
       "    }\n",
       "\n",
       "    .dataframe thead th {\n",
       "        text-align: right;\n",
       "    }\n",
       "</style>\n",
       "<table border=\"1\" class=\"dataframe\">\n",
       "  <thead>\n",
       "    <tr style=\"text-align: right;\">\n",
       "      <th></th>\n",
       "      <th>PetalLengthCm</th>\n",
       "      <th>PetalWidthCm</th>\n",
       "    </tr>\n",
       "  </thead>\n",
       "  <tbody>\n",
       "    <tr>\n",
       "      <th>0</th>\n",
       "      <td>1.4</td>\n",
       "      <td>0.2</td>\n",
       "    </tr>\n",
       "    <tr>\n",
       "      <th>1</th>\n",
       "      <td>1.4</td>\n",
       "      <td>0.2</td>\n",
       "    </tr>\n",
       "    <tr>\n",
       "      <th>2</th>\n",
       "      <td>1.3</td>\n",
       "      <td>0.2</td>\n",
       "    </tr>\n",
       "    <tr>\n",
       "      <th>3</th>\n",
       "      <td>1.5</td>\n",
       "      <td>0.2</td>\n",
       "    </tr>\n",
       "    <tr>\n",
       "      <th>4</th>\n",
       "      <td>1.4</td>\n",
       "      <td>0.2</td>\n",
       "    </tr>\n",
       "  </tbody>\n",
       "</table>\n",
       "</div>"
      ],
      "text/plain": [
       "   PetalLengthCm  PetalWidthCm\n",
       "0            1.4           0.2\n",
       "1            1.4           0.2\n",
       "2            1.3           0.2\n",
       "3            1.5           0.2\n",
       "4            1.4           0.2"
      ]
     },
     "execution_count": 98,
     "metadata": {},
     "output_type": "execute_result"
    }
   ],
   "source": [
    "X.head()"
   ]
  },
  {
   "cell_type": "code",
   "execution_count": 99,
   "id": "64224b9d",
   "metadata": {},
   "outputs": [
    {
     "data": {
      "text/plain": [
       "(150, 2)"
      ]
     },
     "execution_count": 99,
     "metadata": {},
     "output_type": "execute_result"
    }
   ],
   "source": [
    "X.shape"
   ]
  },
  {
   "cell_type": "code",
   "execution_count": 100,
   "id": "a8770b02",
   "metadata": {},
   "outputs": [
    {
     "data": {
      "text/plain": [
       "0    Non-versicolor\n",
       "1    Non-versicolor\n",
       "2    Non-versicolor\n",
       "3    Non-versicolor\n",
       "4    Non-versicolor\n",
       "Name: Species, dtype: object"
      ]
     },
     "execution_count": 100,
     "metadata": {},
     "output_type": "execute_result"
    }
   ],
   "source": [
    "y.head()"
   ]
  },
  {
   "cell_type": "code",
   "execution_count": 102,
   "id": "dd387bf3",
   "metadata": {},
   "outputs": [
    {
     "data": {
      "text/plain": [
       "(150,)"
      ]
     },
     "execution_count": 102,
     "metadata": {},
     "output_type": "execute_result"
    }
   ],
   "source": [
    "y.shape"
   ]
  },
  {
   "cell_type": "code",
   "execution_count": 103,
   "id": "dda74e24",
   "metadata": {},
   "outputs": [
    {
     "data": {
      "text/plain": [
       "Non-versicolor     100\n",
       "Iris-versicolor     50\n",
       "Name: Species, dtype: int64"
      ]
     },
     "execution_count": 103,
     "metadata": {},
     "output_type": "execute_result"
    }
   ],
   "source": [
    "y.value_counts()"
   ]
  },
  {
   "cell_type": "markdown",
   "id": "7c586d10",
   "metadata": {},
   "source": [
    "### Train Test Split "
   ]
  },
  {
   "cell_type": "code",
   "execution_count": 104,
   "id": "f898ed01",
   "metadata": {},
   "outputs": [],
   "source": [
    "from sklearn.model_selection import train_test_split"
   ]
  },
  {
   "cell_type": "code",
   "execution_count": 129,
   "id": "4c46ebc1",
   "metadata": {},
   "outputs": [],
   "source": [
    "X_train, X_test, y_train, y_test = train_test_split(X,\n",
    "                                                    y,\n",
    "                                                    test_size=0.2,\n",
    "                                                    random_state=42)"
   ]
  },
  {
   "cell_type": "code",
   "execution_count": 130,
   "id": "776a0f48",
   "metadata": {},
   "outputs": [
    {
     "name": "stdout",
     "output_type": "stream",
     "text": [
      "Train Data Shape: ((120, 2), (120,))\n",
      "Test Data Shape: ((30, 2), (30,))\n"
     ]
    }
   ],
   "source": [
    "print(f\"Train Data Shape: {X_train.shape, y_train.shape}\")\n",
    "print(f\"Test Data Shape: {X_test.shape, y_test.shape}\")"
   ]
  },
  {
   "cell_type": "code",
   "execution_count": 131,
   "id": "9f8852ae",
   "metadata": {},
   "outputs": [
    {
     "data": {
      "text/plain": [
       "Non-versicolor     79\n",
       "Iris-versicolor    41\n",
       "Name: Species, dtype: int64"
      ]
     },
     "execution_count": 131,
     "metadata": {},
     "output_type": "execute_result"
    }
   ],
   "source": [
    "y_train.value_counts()"
   ]
  },
  {
   "cell_type": "code",
   "execution_count": 132,
   "id": "48582b9c",
   "metadata": {},
   "outputs": [
    {
     "data": {
      "text/plain": [
       "Non-versicolor     21\n",
       "Iris-versicolor     9\n",
       "Name: Species, dtype: int64"
      ]
     },
     "execution_count": 132,
     "metadata": {},
     "output_type": "execute_result"
    }
   ],
   "source": [
    "y_test.value_counts()"
   ]
  },
  {
   "cell_type": "markdown",
   "id": "2915ca4e",
   "metadata": {},
   "source": [
    "### Preprocessing"
   ]
  },
  {
   "cell_type": "code",
   "execution_count": 124,
   "id": "9ccd2c40",
   "metadata": {
    "scrolled": true
   },
   "outputs": [
    {
     "data": {
      "text/plain": [
       "1.5    11\n",
       "1.4    10\n",
       "1.3     6\n",
       "5.1     6\n",
       "4.5     5\n",
       "4.0     5\n",
       "4.9     4\n",
       "4.4     4\n",
       "1.6     4\n",
       "5.0     4\n",
       "5.6     4\n",
       "4.2     4\n",
       "1.7     3\n",
       "5.7     3\n",
       "4.8     3\n",
       "4.1     3\n",
       "4.6     3\n",
       "4.7     3\n",
       "6.1     3\n",
       "5.5     3\n",
       "1.9     2\n",
       "1.2     2\n",
       "5.3     2\n",
       "3.3     2\n",
       "6.0     2\n",
       "4.3     2\n",
       "6.7     2\n",
       "3.5     2\n",
       "5.4     2\n",
       "6.3     1\n",
       "3.9     1\n",
       "5.2     1\n",
       "5.8     1\n",
       "1.0     1\n",
       "1.1     1\n",
       "3.0     1\n",
       "3.8     1\n",
       "6.6     1\n",
       "3.7     1\n",
       "5.9     1\n",
       "Name: PetalLengthCm, dtype: int64"
      ]
     },
     "execution_count": 124,
     "metadata": {},
     "output_type": "execute_result"
    }
   ],
   "source": [
    "X_train[\"PetalLengthCm\"].value_counts()"
   ]
  },
  {
   "cell_type": "markdown",
   "id": "1a815202",
   "metadata": {},
   "source": [
    "Apakah kita bisa Convert nya pake LabelEncoder?"
   ]
  },
  {
   "cell_type": "code",
   "execution_count": 133,
   "id": "19f96a66",
   "metadata": {},
   "outputs": [
    {
     "data": {
      "text/plain": [
       "Non-versicolor     79\n",
       "Iris-versicolor    41\n",
       "Name: Species, dtype: int64"
      ]
     },
     "execution_count": 133,
     "metadata": {},
     "output_type": "execute_result"
    }
   ],
   "source": [
    "y_train.value_counts()"
   ]
  },
  {
   "cell_type": "code",
   "execution_count": 143,
   "id": "14a056d2",
   "metadata": {},
   "outputs": [],
   "source": [
    "y_train = y_train.apply(lambda x: 1 if x == \"Iris-versicolor\" else 0)\n",
    "y_test = y_test.apply(lambda x: 1 if x == \"Iris-versicolor\" else 0)"
   ]
  },
  {
   "cell_type": "code",
   "execution_count": 144,
   "id": "ca0c270a",
   "metadata": {},
   "outputs": [
    {
     "data": {
      "text/plain": [
       "0    79\n",
       "1    41\n",
       "Name: Species, dtype: int64"
      ]
     },
     "execution_count": 144,
     "metadata": {},
     "output_type": "execute_result"
    }
   ],
   "source": [
    "y_train.value_counts()"
   ]
  },
  {
   "cell_type": "code",
   "execution_count": 146,
   "id": "1b1dc0c3",
   "metadata": {},
   "outputs": [
    {
     "data": {
      "text/plain": [
       "0    21\n",
       "1     9\n",
       "Name: Species, dtype: int64"
      ]
     },
     "execution_count": 146,
     "metadata": {},
     "output_type": "execute_result"
    }
   ],
   "source": [
    "y_test.value_counts()"
   ]
  },
  {
   "cell_type": "code",
   "execution_count": 147,
   "id": "db7fda15",
   "metadata": {},
   "outputs": [],
   "source": [
    "from sklearn.preprocessing import StandardScaler\n",
    "\n",
    "scaler = StandardScaler()"
   ]
  },
  {
   "cell_type": "code",
   "execution_count": 148,
   "id": "ad756912",
   "metadata": {},
   "outputs": [],
   "source": [
    "X_train_scaled = scaler.fit_transform(X_train)\n",
    "X_test_scaled = scaler.transform(X_test)"
   ]
  },
  {
   "cell_type": "code",
   "execution_count": 149,
   "id": "227c8094",
   "metadata": {},
   "outputs": [],
   "source": [
    "X_train_scaled = pd.DataFrame(data = X_train_scaled, columns = X_train.columns, index = X_train.index)"
   ]
  },
  {
   "cell_type": "code",
   "execution_count": 150,
   "id": "d1dddcf5",
   "metadata": {},
   "outputs": [
    {
     "data": {
      "text/html": [
       "<div>\n",
       "<style scoped>\n",
       "    .dataframe tbody tr th:only-of-type {\n",
       "        vertical-align: middle;\n",
       "    }\n",
       "\n",
       "    .dataframe tbody tr th {\n",
       "        vertical-align: top;\n",
       "    }\n",
       "\n",
       "    .dataframe thead th {\n",
       "        text-align: right;\n",
       "    }\n",
       "</style>\n",
       "<table border=\"1\" class=\"dataframe\">\n",
       "  <thead>\n",
       "    <tr style=\"text-align: right;\">\n",
       "      <th></th>\n",
       "      <th>PetalLengthCm</th>\n",
       "      <th>PetalWidthCm</th>\n",
       "    </tr>\n",
       "  </thead>\n",
       "  <tbody>\n",
       "    <tr>\n",
       "      <th>22</th>\n",
       "      <td>-1.563987</td>\n",
       "      <td>-1.309484</td>\n",
       "    </tr>\n",
       "    <tr>\n",
       "      <th>15</th>\n",
       "      <td>-1.277280</td>\n",
       "      <td>-1.042922</td>\n",
       "    </tr>\n",
       "    <tr>\n",
       "      <th>65</th>\n",
       "      <td>0.385621</td>\n",
       "      <td>0.289886</td>\n",
       "    </tr>\n",
       "    <tr>\n",
       "      <th>11</th>\n",
       "      <td>-1.219939</td>\n",
       "      <td>-1.309484</td>\n",
       "    </tr>\n",
       "    <tr>\n",
       "      <th>42</th>\n",
       "      <td>-1.391963</td>\n",
       "      <td>-1.309484</td>\n",
       "    </tr>\n",
       "    <tr>\n",
       "      <th>...</th>\n",
       "      <td>...</td>\n",
       "      <td>...</td>\n",
       "    </tr>\n",
       "    <tr>\n",
       "      <th>71</th>\n",
       "      <td>0.156255</td>\n",
       "      <td>0.156605</td>\n",
       "    </tr>\n",
       "    <tr>\n",
       "      <th>106</th>\n",
       "      <td>0.442962</td>\n",
       "      <td>0.689728</td>\n",
       "    </tr>\n",
       "    <tr>\n",
       "      <th>14</th>\n",
       "      <td>-1.449304</td>\n",
       "      <td>-1.309484</td>\n",
       "    </tr>\n",
       "    <tr>\n",
       "      <th>92</th>\n",
       "      <td>0.156255</td>\n",
       "      <td>0.023324</td>\n",
       "    </tr>\n",
       "    <tr>\n",
       "      <th>102</th>\n",
       "      <td>1.245742</td>\n",
       "      <td>1.222851</td>\n",
       "    </tr>\n",
       "  </tbody>\n",
       "</table>\n",
       "<p>120 rows × 2 columns</p>\n",
       "</div>"
      ],
      "text/plain": [
       "     PetalLengthCm  PetalWidthCm\n",
       "22       -1.563987     -1.309484\n",
       "15       -1.277280     -1.042922\n",
       "65        0.385621      0.289886\n",
       "11       -1.219939     -1.309484\n",
       "42       -1.391963     -1.309484\n",
       "..             ...           ...\n",
       "71        0.156255      0.156605\n",
       "106       0.442962      0.689728\n",
       "14       -1.449304     -1.309484\n",
       "92        0.156255      0.023324\n",
       "102       1.245742      1.222851\n",
       "\n",
       "[120 rows x 2 columns]"
      ]
     },
     "execution_count": 150,
     "metadata": {},
     "output_type": "execute_result"
    }
   ],
   "source": [
    "X_train_scaled"
   ]
  },
  {
   "cell_type": "code",
   "execution_count": 151,
   "id": "cb7c8cc5",
   "metadata": {},
   "outputs": [],
   "source": [
    "X_test_scaled = pd.DataFrame(data = X_test_scaled, columns = X_test.columns, index = X_test.index)"
   ]
  },
  {
   "cell_type": "code",
   "execution_count": 153,
   "id": "1a251954",
   "metadata": {},
   "outputs": [
    {
     "data": {
      "text/html": [
       "<div>\n",
       "<style scoped>\n",
       "    .dataframe tbody tr th:only-of-type {\n",
       "        vertical-align: middle;\n",
       "    }\n",
       "\n",
       "    .dataframe tbody tr th {\n",
       "        vertical-align: top;\n",
       "    }\n",
       "\n",
       "    .dataframe thead th {\n",
       "        text-align: right;\n",
       "    }\n",
       "</style>\n",
       "<table border=\"1\" class=\"dataframe\">\n",
       "  <thead>\n",
       "    <tr style=\"text-align: right;\">\n",
       "      <th></th>\n",
       "      <th>PetalLengthCm</th>\n",
       "      <th>PetalWidthCm</th>\n",
       "    </tr>\n",
       "  </thead>\n",
       "  <tbody>\n",
       "    <tr>\n",
       "      <th>73</th>\n",
       "      <td>0.557645</td>\n",
       "      <td>0.023324</td>\n",
       "    </tr>\n",
       "    <tr>\n",
       "      <th>18</th>\n",
       "      <td>-1.162597</td>\n",
       "      <td>-1.176203</td>\n",
       "    </tr>\n",
       "    <tr>\n",
       "      <th>118</th>\n",
       "      <td>1.819157</td>\n",
       "      <td>1.489413</td>\n",
       "    </tr>\n",
       "    <tr>\n",
       "      <th>78</th>\n",
       "      <td>0.442962</td>\n",
       "      <td>0.423166</td>\n",
       "    </tr>\n",
       "    <tr>\n",
       "      <th>76</th>\n",
       "      <td>0.614987</td>\n",
       "      <td>0.289886</td>\n",
       "    </tr>\n",
       "    <tr>\n",
       "      <th>31</th>\n",
       "      <td>-1.277280</td>\n",
       "      <td>-1.042922</td>\n",
       "    </tr>\n",
       "    <tr>\n",
       "      <th>64</th>\n",
       "      <td>-0.073110</td>\n",
       "      <td>0.156605</td>\n",
       "    </tr>\n",
       "    <tr>\n",
       "      <th>141</th>\n",
       "      <td>0.787011</td>\n",
       "      <td>1.489413</td>\n",
       "    </tr>\n",
       "    <tr>\n",
       "      <th>68</th>\n",
       "      <td>0.442962</td>\n",
       "      <td>0.423166</td>\n",
       "    </tr>\n",
       "    <tr>\n",
       "      <th>82</th>\n",
       "      <td>0.098914</td>\n",
       "      <td>0.023324</td>\n",
       "    </tr>\n",
       "    <tr>\n",
       "      <th>110</th>\n",
       "      <td>0.787011</td>\n",
       "      <td>1.089570</td>\n",
       "    </tr>\n",
       "    <tr>\n",
       "      <th>12</th>\n",
       "      <td>-1.334622</td>\n",
       "      <td>-1.442764</td>\n",
       "    </tr>\n",
       "    <tr>\n",
       "      <th>36</th>\n",
       "      <td>-1.391963</td>\n",
       "      <td>-1.309484</td>\n",
       "    </tr>\n",
       "    <tr>\n",
       "      <th>9</th>\n",
       "      <td>-1.277280</td>\n",
       "      <td>-1.442764</td>\n",
       "    </tr>\n",
       "    <tr>\n",
       "      <th>19</th>\n",
       "      <td>-1.277280</td>\n",
       "      <td>-1.176203</td>\n",
       "    </tr>\n",
       "    <tr>\n",
       "      <th>56</th>\n",
       "      <td>0.557645</td>\n",
       "      <td>0.556447</td>\n",
       "    </tr>\n",
       "    <tr>\n",
       "      <th>104</th>\n",
       "      <td>1.188401</td>\n",
       "      <td>1.356132</td>\n",
       "    </tr>\n",
       "    <tr>\n",
       "      <th>69</th>\n",
       "      <td>0.098914</td>\n",
       "      <td>-0.109957</td>\n",
       "    </tr>\n",
       "    <tr>\n",
       "      <th>55</th>\n",
       "      <td>0.442962</td>\n",
       "      <td>0.156605</td>\n",
       "    </tr>\n",
       "    <tr>\n",
       "      <th>132</th>\n",
       "      <td>1.073718</td>\n",
       "      <td>1.356132</td>\n",
       "    </tr>\n",
       "    <tr>\n",
       "      <th>29</th>\n",
       "      <td>-1.219939</td>\n",
       "      <td>-1.309484</td>\n",
       "    </tr>\n",
       "    <tr>\n",
       "      <th>127</th>\n",
       "      <td>0.672328</td>\n",
       "      <td>0.823009</td>\n",
       "    </tr>\n",
       "    <tr>\n",
       "      <th>26</th>\n",
       "      <td>-1.219939</td>\n",
       "      <td>-1.042922</td>\n",
       "    </tr>\n",
       "    <tr>\n",
       "      <th>128</th>\n",
       "      <td>1.073718</td>\n",
       "      <td>1.222851</td>\n",
       "    </tr>\n",
       "    <tr>\n",
       "      <th>131</th>\n",
       "      <td>1.532449</td>\n",
       "      <td>1.089570</td>\n",
       "    </tr>\n",
       "    <tr>\n",
       "      <th>145</th>\n",
       "      <td>0.844352</td>\n",
       "      <td>1.489413</td>\n",
       "    </tr>\n",
       "    <tr>\n",
       "      <th>108</th>\n",
       "      <td>1.188401</td>\n",
       "      <td>0.823009</td>\n",
       "    </tr>\n",
       "    <tr>\n",
       "      <th>143</th>\n",
       "      <td>1.245742</td>\n",
       "      <td>1.489413</td>\n",
       "    </tr>\n",
       "    <tr>\n",
       "      <th>45</th>\n",
       "      <td>-1.334622</td>\n",
       "      <td>-1.176203</td>\n",
       "    </tr>\n",
       "    <tr>\n",
       "      <th>30</th>\n",
       "      <td>-1.219939</td>\n",
       "      <td>-1.309484</td>\n",
       "    </tr>\n",
       "  </tbody>\n",
       "</table>\n",
       "</div>"
      ],
      "text/plain": [
       "     PetalLengthCm  PetalWidthCm\n",
       "73        0.557645      0.023324\n",
       "18       -1.162597     -1.176203\n",
       "118       1.819157      1.489413\n",
       "78        0.442962      0.423166\n",
       "76        0.614987      0.289886\n",
       "31       -1.277280     -1.042922\n",
       "64       -0.073110      0.156605\n",
       "141       0.787011      1.489413\n",
       "68        0.442962      0.423166\n",
       "82        0.098914      0.023324\n",
       "110       0.787011      1.089570\n",
       "12       -1.334622     -1.442764\n",
       "36       -1.391963     -1.309484\n",
       "9        -1.277280     -1.442764\n",
       "19       -1.277280     -1.176203\n",
       "56        0.557645      0.556447\n",
       "104       1.188401      1.356132\n",
       "69        0.098914     -0.109957\n",
       "55        0.442962      0.156605\n",
       "132       1.073718      1.356132\n",
       "29       -1.219939     -1.309484\n",
       "127       0.672328      0.823009\n",
       "26       -1.219939     -1.042922\n",
       "128       1.073718      1.222851\n",
       "131       1.532449      1.089570\n",
       "145       0.844352      1.489413\n",
       "108       1.188401      0.823009\n",
       "143       1.245742      1.489413\n",
       "45       -1.334622     -1.176203\n",
       "30       -1.219939     -1.309484"
      ]
     },
     "execution_count": 153,
     "metadata": {},
     "output_type": "execute_result"
    }
   ],
   "source": [
    "X_test_scaled"
   ]
  },
  {
   "cell_type": "markdown",
   "id": "ac60a8db",
   "metadata": {},
   "source": [
    "### Modelling with Logistic Regression "
   ]
  },
  {
   "cell_type": "code",
   "execution_count": 154,
   "id": "0d1bf098",
   "metadata": {},
   "outputs": [],
   "source": [
    "from sklearn.linear_model import LogisticRegression"
   ]
  },
  {
   "cell_type": "code",
   "execution_count": 155,
   "id": "a3b7ba56",
   "metadata": {},
   "outputs": [],
   "source": [
    "logreg = LogisticRegression()"
   ]
  },
  {
   "cell_type": "code",
   "execution_count": 156,
   "id": "49c339f5",
   "metadata": {},
   "outputs": [
    {
     "data": {
      "text/plain": [
       "LogisticRegression()"
      ]
     },
     "execution_count": 156,
     "metadata": {},
     "output_type": "execute_result"
    }
   ],
   "source": [
    "logreg.fit(X_train_scaled, y_train)"
   ]
  },
  {
   "cell_type": "code",
   "execution_count": 157,
   "id": "6e8f30a0",
   "metadata": {},
   "outputs": [],
   "source": [
    "y_pred_train_proba = logreg.predict_proba(X_train_scaled)"
   ]
  },
  {
   "cell_type": "code",
   "execution_count": 160,
   "id": "c8b9f4a6",
   "metadata": {},
   "outputs": [
    {
     "data": {
      "text/plain": [
       "array([[0.82084662, 0.17915338],\n",
       "       [0.80119307, 0.19880693],\n",
       "       [0.61185661, 0.38814339],\n",
       "       [0.74584503, 0.25415497],\n",
       "       [0.78572285, 0.21427715],\n",
       "       [0.64952561, 0.35047439],\n",
       "       [0.62300911, 0.37699089],\n",
       "       [0.75966195, 0.24033805],\n",
       "       [0.77295638, 0.22704362],\n",
       "       [0.73679116, 0.26320884],\n",
       "       [0.63244057, 0.36755943],\n",
       "       [0.65108469, 0.34891531],\n",
       "       [0.58754684, 0.41245316],\n",
       "       [0.82379514, 0.17620486],\n",
       "       [0.75966195, 0.24033805],\n",
       "       [0.61987446, 0.38012554],\n",
       "       [0.51420113, 0.48579887],\n",
       "       [0.53101446, 0.46898554],\n",
       "       [0.61185661, 0.38814339],\n",
       "       [0.62924741, 0.37075259],\n",
       "       [0.61825769, 0.38174231],\n",
       "       [0.41868867, 0.58131133],\n",
       "       [0.62300911, 0.37699089],\n",
       "       [0.77295638, 0.22704362],\n",
       "       [0.3719448 , 0.6280552 ],\n",
       "       [0.54785354, 0.45214646],\n",
       "       [0.77295638, 0.22704362],\n",
       "       [0.80546446, 0.19453554],\n",
       "       [0.74965145, 0.25034855],\n",
       "       [0.65419313, 0.34580687],\n",
       "       [0.63870264, 0.36129736],\n",
       "       [0.7013665 , 0.2986335 ],\n",
       "       [0.74584503, 0.25415497],\n",
       "       [0.79685154, 0.20314846],\n",
       "       [0.61825769, 0.38174231],\n",
       "       [0.75966195, 0.24033805],\n",
       "       [0.58920726, 0.41079274],\n",
       "       [0.43022287, 0.56977713],\n",
       "       [0.77295638, 0.22704362],\n",
       "       [0.60058571, 0.39941429],\n",
       "       [0.67665135, 0.32334865],\n",
       "       [0.77295638, 0.22704362],\n",
       "       [0.65565508, 0.34434492],\n",
       "       [0.63244057, 0.36755943],\n",
       "       [0.56617334, 0.43382666],\n",
       "       [0.62300911, 0.37699089],\n",
       "       [0.6912186 , 0.3087814 ],\n",
       "       [0.65264054, 0.34735946],\n",
       "       [0.77647844, 0.22352156],\n",
       "       [0.68697804, 0.31302196],\n",
       "       [0.59729202, 0.40270798],\n",
       "       [0.77295638, 0.22704362],\n",
       "       [0.7979591 , 0.2020409 ],\n",
       "       [0.63093554, 0.36906446],\n",
       "       [0.59242852, 0.40757148],\n",
       "       [0.73679116, 0.26320884],\n",
       "       [0.75952061, 0.24047939],\n",
       "       [0.75966195, 0.24033805],\n",
       "       [0.82670536, 0.17329464],\n",
       "       [0.65565508, 0.34434492],\n",
       "       [0.75588678, 0.24411322],\n",
       "       [0.64177175, 0.35822825],\n",
       "       [0.54445484, 0.45554516],\n",
       "       [0.39271417, 0.60728583],\n",
       "       [0.57102854, 0.42897146],\n",
       "       [0.65264054, 0.34735946],\n",
       "       [0.77295638, 0.22704362],\n",
       "       [0.7902396 , 0.2097604 ],\n",
       "       [0.53272146, 0.46727854],\n",
       "       [0.43854982, 0.56145018],\n",
       "       [0.75966195, 0.24033805],\n",
       "       [0.79356515, 0.20643485],\n",
       "       [0.78572285, 0.21427715],\n",
       "       [0.55115206, 0.44884794],\n",
       "       [0.68541844, 0.31458156],\n",
       "       [0.79356515, 0.20643485],\n",
       "       [0.61978327, 0.38021673],\n",
       "       [0.64639789, 0.35360211],\n",
       "       [0.78572285, 0.21427715],\n",
       "       [0.55783077, 0.44216923],\n",
       "       [0.6054167 , 0.3945833 ],\n",
       "       [0.65565508, 0.34434492],\n",
       "       [0.55783077, 0.44216923],\n",
       "       [0.70683795, 0.29316205],\n",
       "       [0.74584503, 0.25415497],\n",
       "       [0.63711907, 0.36288093],\n",
       "       [0.67372914, 0.32627086],\n",
       "       [0.64334638, 0.35665362],\n",
       "       [0.65419313, 0.34580687],\n",
       "       [0.69559109, 0.30440891],\n",
       "       [0.57605914, 0.42394086],\n",
       "       [0.80546446, 0.19453554],\n",
       "       [0.54615473, 0.45384527],\n",
       "       [0.55284748, 0.44715252],\n",
       "       [0.75966195, 0.24033805],\n",
       "       [0.63562216, 0.36437784],\n",
       "       [0.38466126, 0.61533874],\n",
       "       [0.58422007, 0.41577993],\n",
       "       [0.80119307, 0.19880693],\n",
       "       [0.68697804, 0.31302196],\n",
       "       [0.69550914, 0.30449086],\n",
       "       [0.41544914, 0.58455086],\n",
       "       [0.73679116, 0.26320884],\n",
       "       [0.68541844, 0.31458156],\n",
       "       [0.77295638, 0.22704362],\n",
       "       [0.55115206, 0.44884794],\n",
       "       [0.45020743, 0.54979257],\n",
       "       [0.51248838, 0.48751162],\n",
       "       [0.63562216, 0.36437784],\n",
       "       [0.53101446, 0.46898554],\n",
       "       [0.58264789, 0.41735211],\n",
       "       [0.60058571, 0.39941429],\n",
       "       [0.69267996, 0.30732004],\n",
       "       [0.60377775, 0.39622225],\n",
       "       [0.73151453, 0.26848547],\n",
       "       [0.65264054, 0.34735946],\n",
       "       [0.67814955, 0.32185045],\n",
       "       [0.7979591 , 0.2020409 ],\n",
       "       [0.62461797, 0.37538203],\n",
       "       [0.54775768, 0.45224232]])"
      ]
     },
     "execution_count": 160,
     "metadata": {},
     "output_type": "execute_result"
    }
   ],
   "source": [
    "y_pred_train_proba"
   ]
  },
  {
   "cell_type": "code",
   "execution_count": 164,
   "id": "e111648b",
   "metadata": {},
   "outputs": [],
   "source": [
    "y_pred_train = logreg.predict(X_train_scaled)"
   ]
  },
  {
   "cell_type": "code",
   "execution_count": 165,
   "id": "de5da4df",
   "metadata": {},
   "outputs": [
    {
     "data": {
      "text/plain": [
       "array([0, 0, 0, 0, 0, 0, 0, 0, 0, 0, 0, 0, 0, 0, 0, 0, 0, 0, 0, 0, 0, 1,\n",
       "       0, 0, 1, 0, 0, 0, 0, 0, 0, 0, 0, 0, 0, 0, 0, 1, 0, 0, 0, 0, 0, 0,\n",
       "       0, 0, 0, 0, 0, 0, 0, 0, 0, 0, 0, 0, 0, 0, 0, 0, 0, 0, 0, 1, 0, 0,\n",
       "       0, 0, 0, 1, 0, 0, 0, 0, 0, 0, 0, 0, 0, 0, 0, 0, 0, 0, 0, 0, 0, 0,\n",
       "       0, 0, 0, 0, 0, 0, 0, 0, 1, 0, 0, 0, 0, 1, 0, 0, 0, 0, 1, 0, 0, 0,\n",
       "       0, 0, 0, 0, 0, 0, 0, 0, 0, 0])"
      ]
     },
     "execution_count": 165,
     "metadata": {},
     "output_type": "execute_result"
    }
   ],
   "source": [
    "y_pred_train"
   ]
  },
  {
   "cell_type": "code",
   "execution_count": 161,
   "id": "518c1712",
   "metadata": {},
   "outputs": [],
   "source": [
    "from sklearn.metrics import accuracy_score\n",
    "from sklearn.metrics import confusion_matrix\n",
    "from sklearn.metrics import classification_report"
   ]
  },
  {
   "cell_type": "code",
   "execution_count": 166,
   "id": "1be1e503",
   "metadata": {},
   "outputs": [
    {
     "data": {
      "text/plain": [
       "0.5916666666666667"
      ]
     },
     "execution_count": 166,
     "metadata": {},
     "output_type": "execute_result"
    }
   ],
   "source": [
    "acc_train = accuracy_score(y_train, y_pred_train)\n",
    "acc_train"
   ]
  },
  {
   "cell_type": "code",
   "execution_count": 167,
   "id": "1c317503",
   "metadata": {},
   "outputs": [
    {
     "name": "stdout",
     "output_type": "stream",
     "text": [
      "              precision    recall  f1-score   support\n",
      "\n",
      "           0       0.63      0.90      0.74        79\n",
      "           1       0.00      0.00      0.00        41\n",
      "\n",
      "    accuracy                           0.59       120\n",
      "   macro avg       0.32      0.45      0.37       120\n",
      "weighted avg       0.42      0.59      0.49       120\n",
      "\n"
     ]
    }
   ],
   "source": [
    "print(classification_report(y_train, y_pred_train))"
   ]
  },
  {
   "cell_type": "markdown",
   "id": "e2a9f899",
   "metadata": {},
   "source": [
    "Overfit? Karena gk balance class nya"
   ]
  },
  {
   "cell_type": "code",
   "execution_count": 168,
   "id": "c57f7d61",
   "metadata": {},
   "outputs": [],
   "source": [
    "y_pred_test_proba = logreg.predict_proba(X_test_scaled)"
   ]
  },
  {
   "cell_type": "code",
   "execution_count": 171,
   "id": "f8c6059c",
   "metadata": {},
   "outputs": [
    {
     "data": {
      "text/plain": [
       "array([[0.49735559, 0.50264441],\n",
       "       [0.75469116, 0.24530884],\n",
       "       [0.42360829, 0.57639171],\n",
       "       [0.62300911, 0.37699089],\n",
       "       [0.53944526, 0.46055474],\n",
       "       [0.80119307, 0.19880693],\n",
       "       [0.71660435, 0.28339565],\n",
       "       [0.73664103, 0.26335897],\n",
       "       [0.62300911, 0.37699089],\n",
       "       [0.64186072, 0.35813928],\n",
       "       [0.66019686, 0.33980314],\n",
       "       [0.75093591, 0.24906409],\n",
       "       [0.78572285, 0.21427715],\n",
       "       [0.73679116, 0.26320884],\n",
       "       [0.78113577, 0.21886423],\n",
       "       [0.6166383 , 0.3833617 ],\n",
       "       [0.59564186, 0.40435814],\n",
       "       [0.61348354, 0.38651646],\n",
       "       [0.56448864, 0.43551136],\n",
       "       [0.63084542, 0.36915458],\n",
       "       [0.74584503, 0.25415497],\n",
       "       [0.63870264, 0.36129736],\n",
       "       [0.7891009 , 0.2108991 ],\n",
       "       [0.60213646, 0.39786354],\n",
       "       [0.42528311, 0.57471689],\n",
       "       [0.721985  , 0.278015  ],\n",
       "       [0.4753842 , 0.5246158 ],\n",
       "       [0.60696097, 0.39303903],\n",
       "       [0.79356515, 0.20643485],\n",
       "       [0.74584503, 0.25415497]])"
      ]
     },
     "execution_count": 171,
     "metadata": {},
     "output_type": "execute_result"
    }
   ],
   "source": [
    "y_pred_test_proba"
   ]
  },
  {
   "cell_type": "code",
   "execution_count": 169,
   "id": "5428e5c5",
   "metadata": {},
   "outputs": [],
   "source": [
    "y_pred_test = logreg.predict(X_test_scaled)"
   ]
  },
  {
   "cell_type": "code",
   "execution_count": 172,
   "id": "9d7e9a8d",
   "metadata": {},
   "outputs": [
    {
     "data": {
      "text/plain": [
       "array([1, 0, 1, 0, 0, 0, 0, 0, 0, 0, 0, 0, 0, 0, 0, 0, 0, 0, 0, 0, 0, 0,\n",
       "       0, 0, 1, 0, 1, 0, 0, 0])"
      ]
     },
     "execution_count": 172,
     "metadata": {},
     "output_type": "execute_result"
    }
   ],
   "source": [
    "y_pred_test"
   ]
  },
  {
   "cell_type": "code",
   "execution_count": 173,
   "id": "c32b7408",
   "metadata": {},
   "outputs": [
    {
     "data": {
      "text/plain": [
       "0.6333333333333333"
      ]
     },
     "execution_count": 173,
     "metadata": {},
     "output_type": "execute_result"
    }
   ],
   "source": [
    "acc_test = accuracy_score(y_test, y_pred_test)\n",
    "acc_test"
   ]
  },
  {
   "cell_type": "code",
   "execution_count": 174,
   "id": "2ab2effd",
   "metadata": {},
   "outputs": [
    {
     "name": "stdout",
     "output_type": "stream",
     "text": [
      "              precision    recall  f1-score   support\n",
      "\n",
      "           0       0.69      0.86      0.77        21\n",
      "           1       0.25      0.11      0.15         9\n",
      "\n",
      "    accuracy                           0.63        30\n",
      "   macro avg       0.47      0.48      0.46        30\n",
      "weighted avg       0.56      0.63      0.58        30\n",
      "\n"
     ]
    }
   ],
   "source": [
    "print(classification_report(y_test, y_pred_test))"
   ]
  },
  {
   "cell_type": "markdown",
   "id": "c4fd59bf",
   "metadata": {},
   "source": [
    "### Get Coefficient and Intercept"
   ]
  },
  {
   "cell_type": "code",
   "execution_count": 175,
   "id": "8de4bcb6",
   "metadata": {},
   "outputs": [
    {
     "data": {
      "text/plain": [
       "array([[ 1.29493463, -0.91138701]])"
      ]
     },
     "execution_count": 175,
     "metadata": {},
     "output_type": "execute_result"
    }
   ],
   "source": [
    "logreg.coef_"
   ]
  },
  {
   "cell_type": "code",
   "execution_count": 176,
   "id": "1ef2335b",
   "metadata": {},
   "outputs": [
    {
     "data": {
      "text/plain": [
       "array([-0.69027914])"
      ]
     },
     "execution_count": 176,
     "metadata": {},
     "output_type": "execute_result"
    }
   ],
   "source": [
    "logreg.intercept_"
   ]
  },
  {
   "cell_type": "code",
   "execution_count": 177,
   "id": "1912c26d",
   "metadata": {},
   "outputs": [
    {
     "name": "stdout",
     "output_type": "stream",
     "text": [
      "intercept  -0.6902791392926567\n",
      "classes [0 1]\n"
     ]
    },
    {
     "data": {
      "text/html": [
       "<div>\n",
       "<style scoped>\n",
       "    .dataframe tbody tr th:only-of-type {\n",
       "        vertical-align: middle;\n",
       "    }\n",
       "\n",
       "    .dataframe tbody tr th {\n",
       "        vertical-align: top;\n",
       "    }\n",
       "\n",
       "    .dataframe thead th {\n",
       "        text-align: right;\n",
       "    }\n",
       "</style>\n",
       "<table border=\"1\" class=\"dataframe\">\n",
       "  <thead>\n",
       "    <tr style=\"text-align: right;\">\n",
       "      <th></th>\n",
       "      <th>coeff</th>\n",
       "    </tr>\n",
       "  </thead>\n",
       "  <tbody>\n",
       "    <tr>\n",
       "      <th>PetalLengthCm</th>\n",
       "      <td>1.294935</td>\n",
       "    </tr>\n",
       "    <tr>\n",
       "      <th>PetalWidthCm</th>\n",
       "      <td>-0.911387</td>\n",
       "    </tr>\n",
       "  </tbody>\n",
       "</table>\n",
       "</div>"
      ],
      "text/plain": [
       "                  coeff\n",
       "PetalLengthCm  1.294935\n",
       "PetalWidthCm  -0.911387"
      ]
     },
     "execution_count": 177,
     "metadata": {},
     "output_type": "execute_result"
    }
   ],
   "source": [
    "print('intercept ', logreg.intercept_[0])\n",
    "print('classes', logreg.classes_)\n",
    "pd.DataFrame({'coeff': logreg.coef_[0]}, \n",
    "             index=X.columns)"
   ]
  },
  {
   "cell_type": "code",
   "execution_count": 178,
   "id": "a8d25117",
   "metadata": {},
   "outputs": [
    {
     "data": {
      "text/plain": [
       "3.650758667115514"
      ]
     },
     "execution_count": 178,
     "metadata": {},
     "output_type": "execute_result"
    }
   ],
   "source": [
    "np.exp(1.294935)"
   ]
  },
  {
   "cell_type": "code",
   "execution_count": 179,
   "id": "c587f248",
   "metadata": {},
   "outputs": [
    {
     "data": {
      "text/plain": [
       "0.40196630993776833"
      ]
     },
     "execution_count": 179,
     "metadata": {},
     "output_type": "execute_result"
    }
   ],
   "source": [
    "np.exp(-0.911387)"
   ]
  },
  {
   "cell_type": "markdown",
   "id": "cea97443",
   "metadata": {},
   "source": [
    "Masih bingung untuk gimana cara menghitung / buat Decision Boundary nya. Butuh cari referensi lain"
   ]
  },
  {
   "cell_type": "code",
   "execution_count": 187,
   "id": "e79e879c",
   "metadata": {},
   "outputs": [
    {
     "name": "stdout",
     "output_type": "stream",
     "text": [
      "1.4208394586579616 -0.7573940940203358\n"
     ]
    }
   ],
   "source": [
    "w_1_lr, w_2_lr = logreg.coef_[0]\n",
    "w_0_lr = logreg.intercept_[0]\n",
    "\n",
    "m_lr = -w_1_lr / w_2_lr\n",
    "c_lr = -w_0_lr / w_2_lr\n",
    "\n",
    "print(m_lr, c_lr)"
   ]
  },
  {
   "cell_type": "code",
   "execution_count": 194,
   "id": "a2a3bfa1",
   "metadata": {},
   "outputs": [
    {
     "data": {
      "image/png": "[encoded data removed]",
      "text/plain": [
       "<Figure size 864x648 with 1 Axes>"
      ]
     },
     "metadata": {
      "needs_background": "light"
     },
     "output_type": "display_data"
    }
   ],
   "source": [
    "plt.figure(figsize=(12, 9))\n",
    "\n",
    "data_scaled = X_train_scaled.copy()\n",
    "data_scaled[\"Species\"] = y_train\n",
    "\n",
    "sns.scatterplot(data=data_scaled,\n",
    "                x=\"PetalLengthCm\",\n",
    "                y=\"PetalWidthCm\",\n",
    "                hue=\"Species\")\n",
    "\n",
    "\n",
    "x_support = np.linspace(data_scaled[\"PetalLengthCm\"].min(), \n",
    "                        data_scaled[\"PetalLengthCm\"].max(), 101)\n",
    "y_support = m_lr*x_support + c_lr\n",
    "\n",
    "plt.plot(x_support, y_support, \"--r\")\n",
    "# plt.set_ylim(-6, 6)\n",
    "\n",
    "plt.show()"
   ]
  },
  {
   "cell_type": "code",
   "execution_count": 195,
   "id": "704d47c1",
   "metadata": {},
   "outputs": [
    {
     "data": {
      "image/png": "[encoded data removed]",
      "text/plain": [
       "<Figure size 864x648 with 1 Axes>"
      ]
     },
     "metadata": {
      "needs_background": "light"
     },
     "output_type": "display_data"
    }
   ],
   "source": [
    "plt.figure(figsize=(12, 9))\n",
    "\n",
    "data_scaled = X_test_scaled.copy()\n",
    "data_scaled[\"Species\"] = y_test\n",
    "\n",
    "sns.scatterplot(data=data_scaled,\n",
    "                x=\"PetalLengthCm\",\n",
    "                y=\"PetalWidthCm\",\n",
    "                hue=\"Species\")\n",
    "\n",
    "\n",
    "x_support = np.linspace(data_scaled[\"PetalLengthCm\"].min(), \n",
    "                        data_scaled[\"PetalLengthCm\"].max(), 101)\n",
    "y_support = m_lr*x_support + c_lr\n",
    "\n",
    "plt.plot(x_support, y_support, \"--r\")\n",
    "# plt.set_ylim(-6, 6)\n",
    "\n",
    "plt.show()"
   ]
  }
 ],
 "metadata": {
  "kernelspec": {
   "display_name": "Python 3 (ipykernel)",
   "language": "python",
   "name": "python3"
  },
  "language_info": {
   "codemirror_mode": {
    "name": "ipython",
    "version": 3
   },
   "file_extension": ".py",
   "mimetype": "text/x-python",
   "name": "python",
   "nbconvert_exporter": "python",
   "pygments_lexer": "ipython3",
   "version": "3.9.12"
  }
 },
 "nbformat": 4,
 "nbformat_minor": 5
}
