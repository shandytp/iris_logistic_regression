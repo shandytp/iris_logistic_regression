{
 "cells": [
  {
   "cell_type": "code",
   "execution_count": 91,
   "id": "4d119205",
   "metadata": {},
   "outputs": [],
   "source": [
    "import pandas as pd\n",
    "import numpy as np\n",
    "import matplotlib.pyplot as plt\n",
    "import seaborn as sns"
   ]
  },
  {
   "cell_type": "markdown",
   "id": "2d9a851e",
   "metadata": {},
   "source": [
    "### Read Data"
   ]
  },
  {
   "cell_type": "code",
   "execution_count": 201,
   "id": "c64f62f8",
   "metadata": {},
   "outputs": [],
   "source": [
    "data = pd.read_csv('Iris.csv')"
   ]
  },
  {
   "cell_type": "code",
   "execution_count": 202,
   "id": "48d2c58f",
   "metadata": {},
   "outputs": [
    {
     "data": {
      "text/html": [
       "<div>\n",
       "<style scoped>\n",
       "    .dataframe tbody tr th:only-of-type {\n",
       "        vertical-align: middle;\n",
       "    }\n",
       "\n",
       "    .dataframe tbody tr th {\n",
       "        vertical-align: top;\n",
       "    }\n",
       "\n",
       "    .dataframe thead th {\n",
       "        text-align: right;\n",
       "    }\n",
       "</style>\n",
       "<table border=\"1\" class=\"dataframe\">\n",
       "  <thead>\n",
       "    <tr style=\"text-align: right;\">\n",
       "      <th></th>\n",
       "      <th>Id</th>\n",
       "      <th>SepalLengthCm</th>\n",
       "      <th>SepalWidthCm</th>\n",
       "      <th>PetalLengthCm</th>\n",
       "      <th>PetalWidthCm</th>\n",
       "      <th>Species</th>\n",
       "    </tr>\n",
       "  </thead>\n",
       "  <tbody>\n",
       "    <tr>\n",
       "      <th>0</th>\n",
       "      <td>1</td>\n",
       "      <td>5.1</td>\n",
       "      <td>3.5</td>\n",
       "      <td>1.4</td>\n",
       "      <td>0.2</td>\n",
       "      <td>Iris-setosa</td>\n",
       "    </tr>\n",
       "    <tr>\n",
       "      <th>1</th>\n",
       "      <td>2</td>\n",
       "      <td>4.9</td>\n",
       "      <td>3.0</td>\n",
       "      <td>1.4</td>\n",
       "      <td>0.2</td>\n",
       "      <td>Iris-setosa</td>\n",
       "    </tr>\n",
       "    <tr>\n",
       "      <th>2</th>\n",
       "      <td>3</td>\n",
       "      <td>4.7</td>\n",
       "      <td>3.2</td>\n",
       "      <td>1.3</td>\n",
       "      <td>0.2</td>\n",
       "      <td>Iris-setosa</td>\n",
       "    </tr>\n",
       "    <tr>\n",
       "      <th>3</th>\n",
       "      <td>4</td>\n",
       "      <td>4.6</td>\n",
       "      <td>3.1</td>\n",
       "      <td>1.5</td>\n",
       "      <td>0.2</td>\n",
       "      <td>Iris-setosa</td>\n",
       "    </tr>\n",
       "    <tr>\n",
       "      <th>4</th>\n",
       "      <td>5</td>\n",
       "      <td>5.0</td>\n",
       "      <td>3.6</td>\n",
       "      <td>1.4</td>\n",
       "      <td>0.2</td>\n",
       "      <td>Iris-setosa</td>\n",
       "    </tr>\n",
       "  </tbody>\n",
       "</table>\n",
       "</div>"
      ],
      "text/plain": [
       "   Id  SepalLengthCm  SepalWidthCm  PetalLengthCm  PetalWidthCm      Species\n",
       "0   1            5.1           3.5            1.4           0.2  Iris-setosa\n",
       "1   2            4.9           3.0            1.4           0.2  Iris-setosa\n",
       "2   3            4.7           3.2            1.3           0.2  Iris-setosa\n",
       "3   4            4.6           3.1            1.5           0.2  Iris-setosa\n",
       "4   5            5.0           3.6            1.4           0.2  Iris-setosa"
      ]
     },
     "execution_count": 202,
     "metadata": {},
     "output_type": "execute_result"
    }
   ],
   "source": [
    "data.head()"
   ]
  },
  {
   "cell_type": "code",
   "execution_count": 203,
   "id": "0004c361",
   "metadata": {},
   "outputs": [
    {
     "data": {
      "text/html": [
       "<div>\n",
       "<style scoped>\n",
       "    .dataframe tbody tr th:only-of-type {\n",
       "        vertical-align: middle;\n",
       "    }\n",
       "\n",
       "    .dataframe tbody tr th {\n",
       "        vertical-align: top;\n",
       "    }\n",
       "\n",
       "    .dataframe thead th {\n",
       "        text-align: right;\n",
       "    }\n",
       "</style>\n",
       "<table border=\"1\" class=\"dataframe\">\n",
       "  <thead>\n",
       "    <tr style=\"text-align: right;\">\n",
       "      <th></th>\n",
       "      <th>Id</th>\n",
       "      <th>SepalLengthCm</th>\n",
       "      <th>SepalWidthCm</th>\n",
       "      <th>PetalLengthCm</th>\n",
       "      <th>PetalWidthCm</th>\n",
       "    </tr>\n",
       "  </thead>\n",
       "  <tbody>\n",
       "    <tr>\n",
       "      <th>Id</th>\n",
       "      <td>1.000000</td>\n",
       "      <td>0.716676</td>\n",
       "      <td>-0.397729</td>\n",
       "      <td>0.882747</td>\n",
       "      <td>0.899759</td>\n",
       "    </tr>\n",
       "    <tr>\n",
       "      <th>SepalLengthCm</th>\n",
       "      <td>0.716676</td>\n",
       "      <td>1.000000</td>\n",
       "      <td>-0.109369</td>\n",
       "      <td>0.871754</td>\n",
       "      <td>0.817954</td>\n",
       "    </tr>\n",
       "    <tr>\n",
       "      <th>SepalWidthCm</th>\n",
       "      <td>-0.397729</td>\n",
       "      <td>-0.109369</td>\n",
       "      <td>1.000000</td>\n",
       "      <td>-0.420516</td>\n",
       "      <td>-0.356544</td>\n",
       "    </tr>\n",
       "    <tr>\n",
       "      <th>PetalLengthCm</th>\n",
       "      <td>0.882747</td>\n",
       "      <td>0.871754</td>\n",
       "      <td>-0.420516</td>\n",
       "      <td>1.000000</td>\n",
       "      <td>0.962757</td>\n",
       "    </tr>\n",
       "    <tr>\n",
       "      <th>PetalWidthCm</th>\n",
       "      <td>0.899759</td>\n",
       "      <td>0.817954</td>\n",
       "      <td>-0.356544</td>\n",
       "      <td>0.962757</td>\n",
       "      <td>1.000000</td>\n",
       "    </tr>\n",
       "  </tbody>\n",
       "</table>\n",
       "</div>"
      ],
      "text/plain": [
       "                     Id  SepalLengthCm  SepalWidthCm  PetalLengthCm  \\\n",
       "Id             1.000000       0.716676     -0.397729       0.882747   \n",
       "SepalLengthCm  0.716676       1.000000     -0.109369       0.871754   \n",
       "SepalWidthCm  -0.397729      -0.109369      1.000000      -0.420516   \n",
       "PetalLengthCm  0.882747       0.871754     -0.420516       1.000000   \n",
       "PetalWidthCm   0.899759       0.817954     -0.356544       0.962757   \n",
       "\n",
       "               PetalWidthCm  \n",
       "Id                 0.899759  \n",
       "SepalLengthCm      0.817954  \n",
       "SepalWidthCm      -0.356544  \n",
       "PetalLengthCm      0.962757  \n",
       "PetalWidthCm       1.000000  "
      ]
     },
     "execution_count": 203,
     "metadata": {},
     "output_type": "execute_result"
    }
   ],
   "source": [
    "data.corr()"
   ]
  },
  {
   "cell_type": "markdown",
   "id": "f79d8e73",
   "metadata": {},
   "source": [
    "### Only using 2 variables\n",
    "\n",
    "Drop `SepalLengthCm` and `SepalWidthCm` cols"
   ]
  },
  {
   "cell_type": "code",
   "execution_count": 204,
   "id": "62529161",
   "metadata": {},
   "outputs": [],
   "source": [
    "DROP_COLS = [\"Id\", \"SepalLengthCm\", \"SepalWidthCm\"]"
   ]
  },
  {
   "cell_type": "code",
   "execution_count": 205,
   "id": "1e3041b6",
   "metadata": {},
   "outputs": [],
   "source": [
    "def drop_columns(cols_name):\n",
    "    data.drop(cols_name, axis=1, inplace=True)"
   ]
  },
  {
   "cell_type": "code",
   "execution_count": 206,
   "id": "00149e71",
   "metadata": {},
   "outputs": [],
   "source": [
    "drop_columns(DROP_COLS)"
   ]
  },
  {
   "cell_type": "code",
   "execution_count": 207,
   "id": "e9fc75d2",
   "metadata": {},
   "outputs": [
    {
     "data": {
      "text/html": [
       "<div>\n",
       "<style scoped>\n",
       "    .dataframe tbody tr th:only-of-type {\n",
       "        vertical-align: middle;\n",
       "    }\n",
       "\n",
       "    .dataframe tbody tr th {\n",
       "        vertical-align: top;\n",
       "    }\n",
       "\n",
       "    .dataframe thead th {\n",
       "        text-align: right;\n",
       "    }\n",
       "</style>\n",
       "<table border=\"1\" class=\"dataframe\">\n",
       "  <thead>\n",
       "    <tr style=\"text-align: right;\">\n",
       "      <th></th>\n",
       "      <th>PetalLengthCm</th>\n",
       "      <th>PetalWidthCm</th>\n",
       "      <th>Species</th>\n",
       "    </tr>\n",
       "  </thead>\n",
       "  <tbody>\n",
       "    <tr>\n",
       "      <th>0</th>\n",
       "      <td>1.4</td>\n",
       "      <td>0.2</td>\n",
       "      <td>Iris-setosa</td>\n",
       "    </tr>\n",
       "    <tr>\n",
       "      <th>1</th>\n",
       "      <td>1.4</td>\n",
       "      <td>0.2</td>\n",
       "      <td>Iris-setosa</td>\n",
       "    </tr>\n",
       "    <tr>\n",
       "      <th>2</th>\n",
       "      <td>1.3</td>\n",
       "      <td>0.2</td>\n",
       "      <td>Iris-setosa</td>\n",
       "    </tr>\n",
       "    <tr>\n",
       "      <th>3</th>\n",
       "      <td>1.5</td>\n",
       "      <td>0.2</td>\n",
       "      <td>Iris-setosa</td>\n",
       "    </tr>\n",
       "    <tr>\n",
       "      <th>4</th>\n",
       "      <td>1.4</td>\n",
       "      <td>0.2</td>\n",
       "      <td>Iris-setosa</td>\n",
       "    </tr>\n",
       "  </tbody>\n",
       "</table>\n",
       "</div>"
      ],
      "text/plain": [
       "   PetalLengthCm  PetalWidthCm      Species\n",
       "0            1.4           0.2  Iris-setosa\n",
       "1            1.4           0.2  Iris-setosa\n",
       "2            1.3           0.2  Iris-setosa\n",
       "3            1.5           0.2  Iris-setosa\n",
       "4            1.4           0.2  Iris-setosa"
      ]
     },
     "execution_count": 207,
     "metadata": {},
     "output_type": "execute_result"
    }
   ],
   "source": [
    "data.head()"
   ]
  },
  {
   "cell_type": "code",
   "execution_count": 208,
   "id": "424ac6e7",
   "metadata": {},
   "outputs": [
    {
     "data": {
      "text/plain": [
       "Iris-setosa        50\n",
       "Iris-versicolor    50\n",
       "Iris-virginica     50\n",
       "Name: Species, dtype: int64"
      ]
     },
     "execution_count": 208,
     "metadata": {},
     "output_type": "execute_result"
    }
   ],
   "source": [
    "data['Species'].value_counts()"
   ]
  },
  {
   "cell_type": "markdown",
   "id": "fe54a296",
   "metadata": {},
   "source": [
    "### Only Pick Virginica\n",
    "\n",
    "Nanti sisa nya akan di convert jadi Non-Virginica"
   ]
  },
  {
   "cell_type": "code",
   "execution_count": 209,
   "id": "af27162b",
   "metadata": {},
   "outputs": [
    {
     "name": "stderr",
     "output_type": "stream",
     "text": [
      "/tmp/ipykernel_195/4184929900.py:1: SettingWithCopyWarning: \n",
      "A value is trying to be set on a copy of a slice from a DataFrame\n",
      "\n",
      "See the caveats in the documentation: https://pandas.pydata.org/pandas-docs/stable/user_guide/indexing.html#returning-a-view-versus-a-copy\n",
      "  data[\"Species\"][data[\"Species\"] != \"Iris-virginica\"] = \"Non-virginica\"\n"
     ]
    }
   ],
   "source": [
    "data[\"Species\"][data[\"Species\"] != \"Iris-virginica\"] = \"Non-virginica\""
   ]
  },
  {
   "cell_type": "code",
   "execution_count": 210,
   "id": "ed0fcd7c",
   "metadata": {},
   "outputs": [
    {
     "data": {
      "text/html": [
       "<div>\n",
       "<style scoped>\n",
       "    .dataframe tbody tr th:only-of-type {\n",
       "        vertical-align: middle;\n",
       "    }\n",
       "\n",
       "    .dataframe tbody tr th {\n",
       "        vertical-align: top;\n",
       "    }\n",
       "\n",
       "    .dataframe thead th {\n",
       "        text-align: right;\n",
       "    }\n",
       "</style>\n",
       "<table border=\"1\" class=\"dataframe\">\n",
       "  <thead>\n",
       "    <tr style=\"text-align: right;\">\n",
       "      <th></th>\n",
       "      <th>PetalLengthCm</th>\n",
       "      <th>PetalWidthCm</th>\n",
       "      <th>Species</th>\n",
       "    </tr>\n",
       "  </thead>\n",
       "  <tbody>\n",
       "    <tr>\n",
       "      <th>0</th>\n",
       "      <td>1.4</td>\n",
       "      <td>0.2</td>\n",
       "      <td>Non-virginica</td>\n",
       "    </tr>\n",
       "    <tr>\n",
       "      <th>1</th>\n",
       "      <td>1.4</td>\n",
       "      <td>0.2</td>\n",
       "      <td>Non-virginica</td>\n",
       "    </tr>\n",
       "    <tr>\n",
       "      <th>2</th>\n",
       "      <td>1.3</td>\n",
       "      <td>0.2</td>\n",
       "      <td>Non-virginica</td>\n",
       "    </tr>\n",
       "    <tr>\n",
       "      <th>3</th>\n",
       "      <td>1.5</td>\n",
       "      <td>0.2</td>\n",
       "      <td>Non-virginica</td>\n",
       "    </tr>\n",
       "    <tr>\n",
       "      <th>4</th>\n",
       "      <td>1.4</td>\n",
       "      <td>0.2</td>\n",
       "      <td>Non-virginica</td>\n",
       "    </tr>\n",
       "    <tr>\n",
       "      <th>...</th>\n",
       "      <td>...</td>\n",
       "      <td>...</td>\n",
       "      <td>...</td>\n",
       "    </tr>\n",
       "    <tr>\n",
       "      <th>145</th>\n",
       "      <td>5.2</td>\n",
       "      <td>2.3</td>\n",
       "      <td>Iris-virginica</td>\n",
       "    </tr>\n",
       "    <tr>\n",
       "      <th>146</th>\n",
       "      <td>5.0</td>\n",
       "      <td>1.9</td>\n",
       "      <td>Iris-virginica</td>\n",
       "    </tr>\n",
       "    <tr>\n",
       "      <th>147</th>\n",
       "      <td>5.2</td>\n",
       "      <td>2.0</td>\n",
       "      <td>Iris-virginica</td>\n",
       "    </tr>\n",
       "    <tr>\n",
       "      <th>148</th>\n",
       "      <td>5.4</td>\n",
       "      <td>2.3</td>\n",
       "      <td>Iris-virginica</td>\n",
       "    </tr>\n",
       "    <tr>\n",
       "      <th>149</th>\n",
       "      <td>5.1</td>\n",
       "      <td>1.8</td>\n",
       "      <td>Iris-virginica</td>\n",
       "    </tr>\n",
       "  </tbody>\n",
       "</table>\n",
       "<p>150 rows × 3 columns</p>\n",
       "</div>"
      ],
      "text/plain": [
       "     PetalLengthCm  PetalWidthCm         Species\n",
       "0              1.4           0.2   Non-virginica\n",
       "1              1.4           0.2   Non-virginica\n",
       "2              1.3           0.2   Non-virginica\n",
       "3              1.5           0.2   Non-virginica\n",
       "4              1.4           0.2   Non-virginica\n",
       "..             ...           ...             ...\n",
       "145            5.2           2.3  Iris-virginica\n",
       "146            5.0           1.9  Iris-virginica\n",
       "147            5.2           2.0  Iris-virginica\n",
       "148            5.4           2.3  Iris-virginica\n",
       "149            5.1           1.8  Iris-virginica\n",
       "\n",
       "[150 rows x 3 columns]"
      ]
     },
     "execution_count": 210,
     "metadata": {},
     "output_type": "execute_result"
    }
   ],
   "source": [
    "data"
   ]
  },
  {
   "cell_type": "code",
   "execution_count": 211,
   "id": "13b2bb27",
   "metadata": {
    "scrolled": true
   },
   "outputs": [
    {
     "data": {
      "text/plain": [
       "Non-virginica     100\n",
       "Iris-virginica     50\n",
       "Name: Species, dtype: int64"
      ]
     },
     "execution_count": 211,
     "metadata": {},
     "output_type": "execute_result"
    }
   ],
   "source": [
    "data[\"Species\"].value_counts()"
   ]
  },
  {
   "cell_type": "markdown",
   "id": "ec006c9f",
   "metadata": {},
   "source": [
    "### Create Visualization"
   ]
  },
  {
   "cell_type": "code",
   "execution_count": 212,
   "id": "d574285e",
   "metadata": {},
   "outputs": [
    {
     "data": {
      "image/png": "[encoded data removed]",
      "text/plain": [
       "<Figure size 864x648 with 1 Axes>"
      ]
     },
     "metadata": {
      "needs_background": "light"
     },
     "output_type": "display_data"
    }
   ],
   "source": [
    "plt.figure(figsize=(12, 9))\n",
    "sns.scatterplot(data=data,\n",
    "                x=\"PetalLengthCm\",\n",
    "                y=\"PetalWidthCm\",\n",
    "                hue=\"Species\")\n",
    "\n",
    "plt.show()"
   ]
  },
  {
   "cell_type": "markdown",
   "id": "28835024",
   "metadata": {},
   "source": [
    "### Split Input Output "
   ]
  },
  {
   "cell_type": "code",
   "execution_count": 213,
   "id": "93901f14",
   "metadata": {},
   "outputs": [],
   "source": [
    "def split_input_output(data, output_col):\n",
    "    X = data.drop(columns=output_col)\n",
    "    y = data[output_col]\n",
    "    \n",
    "    return X, y"
   ]
  },
  {
   "cell_type": "code",
   "execution_count": 214,
   "id": "224495af",
   "metadata": {},
   "outputs": [],
   "source": [
    "X, y = split_input_output(data=data,\n",
    "                          output_col=\"Species\")"
   ]
  },
  {
   "cell_type": "code",
   "execution_count": 215,
   "id": "0b6c7f18",
   "metadata": {},
   "outputs": [
    {
     "data": {
      "text/html": [
       "<div>\n",
       "<style scoped>\n",
       "    .dataframe tbody tr th:only-of-type {\n",
       "        vertical-align: middle;\n",
       "    }\n",
       "\n",
       "    .dataframe tbody tr th {\n",
       "        vertical-align: top;\n",
       "    }\n",
       "\n",
       "    .dataframe thead th {\n",
       "        text-align: right;\n",
       "    }\n",
       "</style>\n",
       "<table border=\"1\" class=\"dataframe\">\n",
       "  <thead>\n",
       "    <tr style=\"text-align: right;\">\n",
       "      <th></th>\n",
       "      <th>PetalLengthCm</th>\n",
       "      <th>PetalWidthCm</th>\n",
       "    </tr>\n",
       "  </thead>\n",
       "  <tbody>\n",
       "    <tr>\n",
       "      <th>0</th>\n",
       "      <td>1.4</td>\n",
       "      <td>0.2</td>\n",
       "    </tr>\n",
       "    <tr>\n",
       "      <th>1</th>\n",
       "      <td>1.4</td>\n",
       "      <td>0.2</td>\n",
       "    </tr>\n",
       "    <tr>\n",
       "      <th>2</th>\n",
       "      <td>1.3</td>\n",
       "      <td>0.2</td>\n",
       "    </tr>\n",
       "    <tr>\n",
       "      <th>3</th>\n",
       "      <td>1.5</td>\n",
       "      <td>0.2</td>\n",
       "    </tr>\n",
       "    <tr>\n",
       "      <th>4</th>\n",
       "      <td>1.4</td>\n",
       "      <td>0.2</td>\n",
       "    </tr>\n",
       "  </tbody>\n",
       "</table>\n",
       "</div>"
      ],
      "text/plain": [
       "   PetalLengthCm  PetalWidthCm\n",
       "0            1.4           0.2\n",
       "1            1.4           0.2\n",
       "2            1.3           0.2\n",
       "3            1.5           0.2\n",
       "4            1.4           0.2"
      ]
     },
     "execution_count": 215,
     "metadata": {},
     "output_type": "execute_result"
    }
   ],
   "source": [
    "X.head()"
   ]
  },
  {
   "cell_type": "code",
   "execution_count": 216,
   "id": "64224b9d",
   "metadata": {},
   "outputs": [
    {
     "data": {
      "text/plain": [
       "(150, 2)"
      ]
     },
     "execution_count": 216,
     "metadata": {},
     "output_type": "execute_result"
    }
   ],
   "source": [
    "X.shape"
   ]
  },
  {
   "cell_type": "code",
   "execution_count": 217,
   "id": "a8770b02",
   "metadata": {},
   "outputs": [
    {
     "data": {
      "text/plain": [
       "0    Non-virginica\n",
       "1    Non-virginica\n",
       "2    Non-virginica\n",
       "3    Non-virginica\n",
       "4    Non-virginica\n",
       "Name: Species, dtype: object"
      ]
     },
     "execution_count": 217,
     "metadata": {},
     "output_type": "execute_result"
    }
   ],
   "source": [
    "y.head()"
   ]
  },
  {
   "cell_type": "code",
   "execution_count": 218,
   "id": "dd387bf3",
   "metadata": {},
   "outputs": [
    {
     "data": {
      "text/plain": [
       "(150,)"
      ]
     },
     "execution_count": 218,
     "metadata": {},
     "output_type": "execute_result"
    }
   ],
   "source": [
    "y.shape"
   ]
  },
  {
   "cell_type": "code",
   "execution_count": 219,
   "id": "dda74e24",
   "metadata": {},
   "outputs": [
    {
     "data": {
      "text/plain": [
       "Non-virginica     100\n",
       "Iris-virginica     50\n",
       "Name: Species, dtype: int64"
      ]
     },
     "execution_count": 219,
     "metadata": {},
     "output_type": "execute_result"
    }
   ],
   "source": [
    "y.value_counts()"
   ]
  },
  {
   "cell_type": "markdown",
   "id": "7c586d10",
   "metadata": {},
   "source": [
    "### Train Test Split "
   ]
  },
  {
   "cell_type": "code",
   "execution_count": 220,
   "id": "f898ed01",
   "metadata": {},
   "outputs": [],
   "source": [
    "from sklearn.model_selection import train_test_split"
   ]
  },
  {
   "cell_type": "code",
   "execution_count": 221,
   "id": "4c46ebc1",
   "metadata": {},
   "outputs": [],
   "source": [
    "X_train, X_test, y_train, y_test = train_test_split(X,\n",
    "                                                    y,\n",
    "                                                    test_size=0.2,\n",
    "                                                    stratify=y,\n",
    "                                                    random_state=42)"
   ]
  },
  {
   "cell_type": "code",
   "execution_count": 222,
   "id": "776a0f48",
   "metadata": {},
   "outputs": [
    {
     "name": "stdout",
     "output_type": "stream",
     "text": [
      "Train Data Shape: ((120, 2), (120,))\n",
      "Test Data Shape: ((30, 2), (30,))\n"
     ]
    }
   ],
   "source": [
    "print(f\"Train Data Shape: {X_train.shape, y_train.shape}\")\n",
    "print(f\"Test Data Shape: {X_test.shape, y_test.shape}\")"
   ]
  },
  {
   "cell_type": "code",
   "execution_count": 223,
   "id": "9f8852ae",
   "metadata": {},
   "outputs": [
    {
     "data": {
      "text/plain": [
       "Non-virginica     80\n",
       "Iris-virginica    40\n",
       "Name: Species, dtype: int64"
      ]
     },
     "execution_count": 223,
     "metadata": {},
     "output_type": "execute_result"
    }
   ],
   "source": [
    "y_train.value_counts()"
   ]
  },
  {
   "cell_type": "code",
   "execution_count": 224,
   "id": "48582b9c",
   "metadata": {},
   "outputs": [
    {
     "data": {
      "text/plain": [
       "Non-virginica     20\n",
       "Iris-virginica    10\n",
       "Name: Species, dtype: int64"
      ]
     },
     "execution_count": 224,
     "metadata": {},
     "output_type": "execute_result"
    }
   ],
   "source": [
    "y_test.value_counts()"
   ]
  },
  {
   "cell_type": "markdown",
   "id": "2915ca4e",
   "metadata": {},
   "source": [
    "### Preprocessing"
   ]
  },
  {
   "cell_type": "markdown",
   "id": "1a815202",
   "metadata": {},
   "source": [
    "Apakah kita bisa Convert nya pake LabelEncoder?\n",
    "\n",
    "Kalo binary gpp pake LabelEncoder, karena kalo gk kelas 1 ya hasilnya kelas lainnya \n",
    "\n",
    "Kalo multiclass pake OHE, karena kalo pake LabelEncoder nilai nya bisa bikin bias (karena ada urutannya)\n",
    "Ex:\n",
    "  - Prancis (0)\n",
    "  - Indo (1)\n",
    "  - Jepang (2)\n",
    "ada yg nge prediksi kalo Indo > Jepang. Padahal semua nya setara"
   ]
  },
  {
   "cell_type": "code",
   "execution_count": 227,
   "id": "19f96a66",
   "metadata": {},
   "outputs": [
    {
     "data": {
      "text/plain": [
       "Non-virginica     80\n",
       "Iris-virginica    40\n",
       "Name: Species, dtype: int64"
      ]
     },
     "execution_count": 227,
     "metadata": {},
     "output_type": "execute_result"
    }
   ],
   "source": [
    "y_train.value_counts()"
   ]
  },
  {
   "cell_type": "code",
   "execution_count": 228,
   "id": "fc91feea",
   "metadata": {},
   "outputs": [],
   "source": [
    "def convert_class(y_train, y_test, class_name):\n",
    "    y_train = y_train.apply(lambda x: 1 if x == class_name else 0)\n",
    "    y_test = y_test.apply(lambda x: 1 if x == class_name else 0)\n",
    "    \n",
    "    return y_train, y_test"
   ]
  },
  {
   "cell_type": "code",
   "execution_count": 229,
   "id": "c9a3ac72",
   "metadata": {},
   "outputs": [],
   "source": [
    "y_train, y_test = convert_class(y_train=y_train,\n",
    "                                y_test=y_test,\n",
    "                                class_name=\"Iris-virginica\")"
   ]
  },
  {
   "cell_type": "code",
   "execution_count": 233,
   "id": "e4a13d6d",
   "metadata": {},
   "outputs": [
    {
     "data": {
      "text/plain": [
       "0    80\n",
       "1    40\n",
       "Name: Species, dtype: int64"
      ]
     },
     "execution_count": 233,
     "metadata": {},
     "output_type": "execute_result"
    }
   ],
   "source": [
    "y_train.value_counts()"
   ]
  },
  {
   "cell_type": "code",
   "execution_count": 234,
   "id": "ca0c270a",
   "metadata": {},
   "outputs": [
    {
     "data": {
      "text/plain": [
       "0    80\n",
       "1    40\n",
       "Name: Species, dtype: int64"
      ]
     },
     "execution_count": 234,
     "metadata": {},
     "output_type": "execute_result"
    }
   ],
   "source": [
    "y_train.value_counts()"
   ]
  },
  {
   "cell_type": "code",
   "execution_count": 235,
   "id": "1b1dc0c3",
   "metadata": {},
   "outputs": [
    {
     "data": {
      "text/plain": [
       "0    20\n",
       "1    10\n",
       "Name: Species, dtype: int64"
      ]
     },
     "execution_count": 235,
     "metadata": {},
     "output_type": "execute_result"
    }
   ],
   "source": [
    "y_test.value_counts()"
   ]
  },
  {
   "attachments": {
    "image.png": {
     "image/png": "[encoded data removed]"
    }
   },
   "cell_type": "markdown",
   "id": "23da76b2",
   "metadata": {},
   "source": [
    "Coba bandingkan model yang pake di Scaling dan tanpa di Scaling\n",
    "\n",
    "![image.png](attachment:image.png)\n",
    "\n",
    "Setelah melakukan eksperimen menggunakan scaling dan tidak menggunakan scaling didapatkan hasil:\n",
    "- Secara overall, bentuk dari Decision Boundary nya masih sama, cuma beda scale atau range data nya aja\n",
    "- Apakah karena range data nya tidak begitu jauh sehingga tidak begitu berpengaruh\n",
    "- Tetapi menariknya adalah hasil metrics accuracy tanpa di scaling jauh lebih bagus daripada yang menggunakan scaling "
   ]
  },
  {
   "cell_type": "code",
   "execution_count": 122,
   "id": "db7fda15",
   "metadata": {},
   "outputs": [],
   "source": [
    "from sklearn.preprocessing import StandardScaler\n",
    "\n",
    "scaler = StandardScaler()"
   ]
  },
  {
   "cell_type": "code",
   "execution_count": 123,
   "id": "ad756912",
   "metadata": {},
   "outputs": [],
   "source": [
    "X_train_scaled = scaler.fit_transform(X_train)\n",
    "X_test_scaled = scaler.transform(X_test)"
   ]
  },
  {
   "cell_type": "code",
   "execution_count": 124,
   "id": "227c8094",
   "metadata": {},
   "outputs": [],
   "source": [
    "X_train_scaled = pd.DataFrame(data = X_train_scaled, columns = X_train.columns, index = X_train.index)"
   ]
  },
  {
   "cell_type": "code",
   "execution_count": 125,
   "id": "d1dddcf5",
   "metadata": {},
   "outputs": [
    {
     "data": {
      "text/html": [
       "<div>\n",
       "<style scoped>\n",
       "    .dataframe tbody tr th:only-of-type {\n",
       "        vertical-align: middle;\n",
       "    }\n",
       "\n",
       "    .dataframe tbody tr th {\n",
       "        vertical-align: top;\n",
       "    }\n",
       "\n",
       "    .dataframe thead th {\n",
       "        text-align: right;\n",
       "    }\n",
       "</style>\n",
       "<table border=\"1\" class=\"dataframe\">\n",
       "  <thead>\n",
       "    <tr style=\"text-align: right;\">\n",
       "      <th></th>\n",
       "      <th>PetalLengthCm</th>\n",
       "      <th>PetalWidthCm</th>\n",
       "    </tr>\n",
       "  </thead>\n",
       "  <tbody>\n",
       "    <tr>\n",
       "      <th>108</th>\n",
       "      <td>1.184342</td>\n",
       "      <td>0.807441</td>\n",
       "    </tr>\n",
       "    <tr>\n",
       "      <th>94</th>\n",
       "      <td>0.266322</td>\n",
       "      <td>0.148306</td>\n",
       "    </tr>\n",
       "    <tr>\n",
       "      <th>69</th>\n",
       "      <td>0.094193</td>\n",
       "      <td>-0.115349</td>\n",
       "    </tr>\n",
       "    <tr>\n",
       "      <th>131</th>\n",
       "      <td>1.528600</td>\n",
       "      <td>1.071096</td>\n",
       "    </tr>\n",
       "    <tr>\n",
       "      <th>119</th>\n",
       "      <td>0.725332</td>\n",
       "      <td>0.411960</td>\n",
       "    </tr>\n",
       "    <tr>\n",
       "      <th>...</th>\n",
       "      <td>...</td>\n",
       "      <td>...</td>\n",
       "    </tr>\n",
       "    <tr>\n",
       "      <th>82</th>\n",
       "      <td>0.094193</td>\n",
       "      <td>0.016478</td>\n",
       "    </tr>\n",
       "    <tr>\n",
       "      <th>103</th>\n",
       "      <td>1.069589</td>\n",
       "      <td>0.807441</td>\n",
       "    </tr>\n",
       "    <tr>\n",
       "      <th>72</th>\n",
       "      <td>0.667956</td>\n",
       "      <td>0.411960</td>\n",
       "    </tr>\n",
       "    <tr>\n",
       "      <th>93</th>\n",
       "      <td>-0.250065</td>\n",
       "      <td>-0.247176</td>\n",
       "    </tr>\n",
       "    <tr>\n",
       "      <th>124</th>\n",
       "      <td>1.126966</td>\n",
       "      <td>1.202923</td>\n",
       "    </tr>\n",
       "  </tbody>\n",
       "</table>\n",
       "<p>120 rows × 2 columns</p>\n",
       "</div>"
      ],
      "text/plain": [
       "     PetalLengthCm  PetalWidthCm\n",
       "108       1.184342      0.807441\n",
       "94        0.266322      0.148306\n",
       "69        0.094193     -0.115349\n",
       "131       1.528600      1.071096\n",
       "119       0.725332      0.411960\n",
       "..             ...           ...\n",
       "82        0.094193      0.016478\n",
       "103       1.069589      0.807441\n",
       "72        0.667956      0.411960\n",
       "93       -0.250065     -0.247176\n",
       "124       1.126966      1.202923\n",
       "\n",
       "[120 rows x 2 columns]"
      ]
     },
     "execution_count": 125,
     "metadata": {},
     "output_type": "execute_result"
    }
   ],
   "source": [
    "X_train_scaled"
   ]
  },
  {
   "cell_type": "code",
   "execution_count": 126,
   "id": "cb7c8cc5",
   "metadata": {},
   "outputs": [],
   "source": [
    "X_test_scaled = pd.DataFrame(data = X_test_scaled, columns = X_test.columns, index = X_test.index)"
   ]
  },
  {
   "cell_type": "code",
   "execution_count": 127,
   "id": "1a251954",
   "metadata": {},
   "outputs": [
    {
     "data": {
      "text/html": [
       "<div>\n",
       "<style scoped>\n",
       "    .dataframe tbody tr th:only-of-type {\n",
       "        vertical-align: middle;\n",
       "    }\n",
       "\n",
       "    .dataframe tbody tr th {\n",
       "        vertical-align: top;\n",
       "    }\n",
       "\n",
       "    .dataframe thead th {\n",
       "        text-align: right;\n",
       "    }\n",
       "</style>\n",
       "<table border=\"1\" class=\"dataframe\">\n",
       "  <thead>\n",
       "    <tr style=\"text-align: right;\">\n",
       "      <th></th>\n",
       "      <th>PetalLengthCm</th>\n",
       "      <th>PetalWidthCm</th>\n",
       "    </tr>\n",
       "  </thead>\n",
       "  <tbody>\n",
       "    <tr>\n",
       "      <th>34</th>\n",
       "      <td>-1.282838</td>\n",
       "      <td>-1.433620</td>\n",
       "    </tr>\n",
       "    <tr>\n",
       "      <th>53</th>\n",
       "      <td>0.151569</td>\n",
       "      <td>0.148306</td>\n",
       "    </tr>\n",
       "    <tr>\n",
       "      <th>59</th>\n",
       "      <td>0.094193</td>\n",
       "      <td>0.280133</td>\n",
       "    </tr>\n",
       "    <tr>\n",
       "      <th>142</th>\n",
       "      <td>0.782708</td>\n",
       "      <td>0.939268</td>\n",
       "    </tr>\n",
       "    <tr>\n",
       "      <th>1</th>\n",
       "      <td>-1.340214</td>\n",
       "      <td>-1.301793</td>\n",
       "    </tr>\n",
       "    <tr>\n",
       "      <th>3</th>\n",
       "      <td>-1.282838</td>\n",
       "      <td>-1.301793</td>\n",
       "    </tr>\n",
       "    <tr>\n",
       "      <th>96</th>\n",
       "      <td>0.266322</td>\n",
       "      <td>0.148306</td>\n",
       "    </tr>\n",
       "    <tr>\n",
       "      <th>138</th>\n",
       "      <td>0.610579</td>\n",
       "      <td>0.807441</td>\n",
       "    </tr>\n",
       "    <tr>\n",
       "      <th>70</th>\n",
       "      <td>0.610579</td>\n",
       "      <td>0.807441</td>\n",
       "    </tr>\n",
       "    <tr>\n",
       "      <th>7</th>\n",
       "      <td>-1.282838</td>\n",
       "      <td>-1.301793</td>\n",
       "    </tr>\n",
       "    <tr>\n",
       "      <th>107</th>\n",
       "      <td>1.471223</td>\n",
       "      <td>0.807441</td>\n",
       "    </tr>\n",
       "    <tr>\n",
       "      <th>114</th>\n",
       "      <td>0.782708</td>\n",
       "      <td>1.598404</td>\n",
       "    </tr>\n",
       "    <tr>\n",
       "      <th>149</th>\n",
       "      <td>0.782708</td>\n",
       "      <td>0.807441</td>\n",
       "    </tr>\n",
       "    <tr>\n",
       "      <th>49</th>\n",
       "      <td>-1.340214</td>\n",
       "      <td>-1.301793</td>\n",
       "    </tr>\n",
       "    <tr>\n",
       "      <th>43</th>\n",
       "      <td>-1.225462</td>\n",
       "      <td>-0.774484</td>\n",
       "    </tr>\n",
       "    <tr>\n",
       "      <th>118</th>\n",
       "      <td>1.815481</td>\n",
       "      <td>1.466577</td>\n",
       "    </tr>\n",
       "    <tr>\n",
       "      <th>77</th>\n",
       "      <td>0.725332</td>\n",
       "      <td>0.675614</td>\n",
       "    </tr>\n",
       "    <tr>\n",
       "      <th>128</th>\n",
       "      <td>1.069589</td>\n",
       "      <td>1.202923</td>\n",
       "    </tr>\n",
       "    <tr>\n",
       "      <th>89</th>\n",
       "      <td>0.151569</td>\n",
       "      <td>0.148306</td>\n",
       "    </tr>\n",
       "    <tr>\n",
       "      <th>120</th>\n",
       "      <td>1.126966</td>\n",
       "      <td>1.466577</td>\n",
       "    </tr>\n",
       "    <tr>\n",
       "      <th>5</th>\n",
       "      <td>-1.168085</td>\n",
       "      <td>-1.038139</td>\n",
       "    </tr>\n",
       "    <tr>\n",
       "      <th>52</th>\n",
       "      <td>0.667956</td>\n",
       "      <td>0.411960</td>\n",
       "    </tr>\n",
       "    <tr>\n",
       "      <th>110</th>\n",
       "      <td>0.782708</td>\n",
       "      <td>1.071096</td>\n",
       "    </tr>\n",
       "    <tr>\n",
       "      <th>122</th>\n",
       "      <td>1.700729</td>\n",
       "      <td>1.071096</td>\n",
       "    </tr>\n",
       "    <tr>\n",
       "      <th>80</th>\n",
       "      <td>0.036816</td>\n",
       "      <td>-0.115349</td>\n",
       "    </tr>\n",
       "    <tr>\n",
       "      <th>46</th>\n",
       "      <td>-1.225462</td>\n",
       "      <td>-1.301793</td>\n",
       "    </tr>\n",
       "    <tr>\n",
       "      <th>91</th>\n",
       "      <td>0.495827</td>\n",
       "      <td>0.280133</td>\n",
       "    </tr>\n",
       "    <tr>\n",
       "      <th>8</th>\n",
       "      <td>-1.340214</td>\n",
       "      <td>-1.301793</td>\n",
       "    </tr>\n",
       "    <tr>\n",
       "      <th>83</th>\n",
       "      <td>0.782708</td>\n",
       "      <td>0.543787</td>\n",
       "    </tr>\n",
       "    <tr>\n",
       "      <th>35</th>\n",
       "      <td>-1.454967</td>\n",
       "      <td>-1.301793</td>\n",
       "    </tr>\n",
       "  </tbody>\n",
       "</table>\n",
       "</div>"
      ],
      "text/plain": [
       "     PetalLengthCm  PetalWidthCm\n",
       "34       -1.282838     -1.433620\n",
       "53        0.151569      0.148306\n",
       "59        0.094193      0.280133\n",
       "142       0.782708      0.939268\n",
       "1        -1.340214     -1.301793\n",
       "3        -1.282838     -1.301793\n",
       "96        0.266322      0.148306\n",
       "138       0.610579      0.807441\n",
       "70        0.610579      0.807441\n",
       "7        -1.282838     -1.301793\n",
       "107       1.471223      0.807441\n",
       "114       0.782708      1.598404\n",
       "149       0.782708      0.807441\n",
       "49       -1.340214     -1.301793\n",
       "43       -1.225462     -0.774484\n",
       "118       1.815481      1.466577\n",
       "77        0.725332      0.675614\n",
       "128       1.069589      1.202923\n",
       "89        0.151569      0.148306\n",
       "120       1.126966      1.466577\n",
       "5        -1.168085     -1.038139\n",
       "52        0.667956      0.411960\n",
       "110       0.782708      1.071096\n",
       "122       1.700729      1.071096\n",
       "80        0.036816     -0.115349\n",
       "46       -1.225462     -1.301793\n",
       "91        0.495827      0.280133\n",
       "8        -1.340214     -1.301793\n",
       "83        0.782708      0.543787\n",
       "35       -1.454967     -1.301793"
      ]
     },
     "execution_count": 127,
     "metadata": {},
     "output_type": "execute_result"
    }
   ],
   "source": [
    "X_test_scaled"
   ]
  },
  {
   "cell_type": "markdown",
   "id": "ac60a8db",
   "metadata": {},
   "source": [
    "### Modelling with Logistic Regression "
   ]
  },
  {
   "cell_type": "code",
   "execution_count": 128,
   "id": "0d1bf098",
   "metadata": {},
   "outputs": [],
   "source": [
    "from sklearn.linear_model import LogisticRegression"
   ]
  },
  {
   "cell_type": "code",
   "execution_count": 129,
   "id": "a3b7ba56",
   "metadata": {},
   "outputs": [],
   "source": [
    "logreg = LogisticRegression()"
   ]
  },
  {
   "cell_type": "code",
   "execution_count": 130,
   "id": "49c339f5",
   "metadata": {},
   "outputs": [
    {
     "data": {
      "text/plain": [
       "LogisticRegression()"
      ]
     },
     "execution_count": 130,
     "metadata": {},
     "output_type": "execute_result"
    }
   ],
   "source": [
    "logreg.fit(X_train_scaled, y_train)"
   ]
  },
  {
   "cell_type": "code",
   "execution_count": 131,
   "id": "6e8f30a0",
   "metadata": {},
   "outputs": [],
   "source": [
    "y_pred_train_proba = logreg.predict_proba(X_train_scaled)"
   ]
  },
  {
   "cell_type": "markdown",
   "id": "732bd3c6",
   "metadata": {},
   "source": [
    "Fungsi logistic di kasus ini cuma nge prediksi / nge hitung kelas 1 aja. Karena untuk dapetin kelas 0 tinggal 1 - proba_kelas_1"
   ]
  },
  {
   "cell_type": "code",
   "execution_count": 132,
   "id": "c8b9f4a6",
   "metadata": {},
   "outputs": [
    {
     "data": {
      "text/plain": [
       "array([[1.30211492e-01, 8.69788508e-01],\n",
       "       [8.96964741e-01, 1.03035259e-01],\n",
       "       [9.65031127e-01, 3.49688733e-02],\n",
       "       [3.02119889e-02, 9.69788011e-01],\n",
       "       [5.78560971e-01, 4.21439029e-01],\n",
       "       [1.99586712e-01, 8.00413288e-01],\n",
       "       [9.99940849e-01, 5.91508592e-05],\n",
       "       [9.99901742e-01, 9.82581691e-05],\n",
       "       [9.99812511e-01, 1.87488871e-04],\n",
       "       [8.06305484e-01, 1.93694516e-01],\n",
       "       [7.41167890e-03, 9.92588321e-01],\n",
       "       [9.99959096e-01, 4.09039619e-05],\n",
       "       [9.72020927e-01, 2.79790725e-02],\n",
       "       [9.99946024e-01, 5.39761215e-05],\n",
       "       [2.38910686e-01, 7.61089314e-01],\n",
       "       [9.99932052e-01, 6.79482420e-05],\n",
       "       [2.11434111e-02, 9.78856589e-01],\n",
       "       [1.01888239e-01, 8.98111761e-01],\n",
       "       [6.75432713e-01, 3.24567287e-01],\n",
       "       [8.62890507e-01, 1.37109493e-01],\n",
       "       [9.99946024e-01, 5.39761215e-05],\n",
       "       [3.74619226e-01, 6.25380774e-01],\n",
       "       [2.38426569e-01, 7.61573431e-01],\n",
       "       [9.99967507e-01, 3.24927456e-05],\n",
       "       [8.51694486e-01, 1.48305514e-01],\n",
       "       [9.99925538e-01, 7.44623993e-05],\n",
       "       [9.99964392e-01, 3.56079267e-05],\n",
       "       [9.52389874e-01, 4.76101265e-02],\n",
       "       [9.99959096e-01, 4.09039619e-05],\n",
       "       [9.99887129e-01, 1.12871243e-04],\n",
       "       [4.52095937e-02, 9.54790406e-01],\n",
       "       [9.67992577e-01, 3.20074233e-02],\n",
       "       [9.99959096e-01, 4.09039619e-05],\n",
       "       [9.99946024e-01, 5.39761215e-05],\n",
       "       [7.23737880e-01, 2.76262120e-01],\n",
       "       [9.09092906e-01, 9.09070945e-02],\n",
       "       [8.33312719e-01, 1.66687281e-01],\n",
       "       [5.67687822e-01, 4.32312178e-01],\n",
       "       [7.33057052e-01, 2.66942948e-01],\n",
       "       [1.84959904e-01, 8.15040096e-01],\n",
       "       [6.55048655e-01, 3.44951345e-01],\n",
       "       [2.14615579e-01, 7.85384421e-01],\n",
       "       [9.73162211e-03, 9.90268378e-01],\n",
       "       [9.99953012e-01, 4.69876496e-05],\n",
       "       [1.53753620e-02, 9.84624638e-01],\n",
       "       [5.88088096e-02, 9.41191190e-01],\n",
       "       [6.98013018e-02, 9.30198698e-01],\n",
       "       [5.15870870e-02, 9.48412913e-01],\n",
       "       [9.99959096e-01, 4.09039619e-05],\n",
       "       [8.68369367e-01, 1.31630633e-01],\n",
       "       [8.83426009e-01, 1.16573991e-01],\n",
       "       [8.50470165e-03, 9.91495298e-01],\n",
       "       [9.99964392e-01, 3.56079267e-05],\n",
       "       [9.99964392e-01, 3.56079267e-05],\n",
       "       [9.99901742e-01, 9.82581691e-05],\n",
       "       [1.41259123e-01, 8.58740877e-01],\n",
       "       [8.20204700e-01, 1.79795300e-01],\n",
       "       [2.11434111e-02, 9.78856589e-01],\n",
       "       [7.33057052e-01, 2.66942948e-01],\n",
       "       [9.99967507e-01, 3.24927456e-05],\n",
       "       [9.26411362e-01, 7.35886377e-02],\n",
       "       [9.99967507e-01, 3.24927456e-05],\n",
       "       [9.99828911e-01, 1.71088567e-04],\n",
       "       [9.99948508e-01, 5.14924309e-05],\n",
       "       [9.89704277e-01, 1.02957234e-02],\n",
       "       [9.05123885e-01, 9.48761150e-02],\n",
       "       [9.89213002e-01, 1.07869979e-02],\n",
       "       [7.50586569e-01, 2.49413431e-01],\n",
       "       [7.93594893e-02, 9.20640511e-01],\n",
       "       [3.42738422e-01, 6.57261578e-01],\n",
       "       [3.30981422e-02, 9.66901858e-01],\n",
       "       [9.99959096e-01, 4.09039619e-05],\n",
       "       [9.19920930e-01, 8.00790699e-02],\n",
       "       [9.99964392e-01, 3.56079267e-05],\n",
       "       [9.99971714e-01, 2.82857207e-05],\n",
       "       [9.99981340e-01, 1.86598635e-05],\n",
       "       [9.99969002e-01, 3.09975736e-05],\n",
       "       [4.63506896e-01, 5.36493104e-01],\n",
       "       [9.99948508e-01, 5.14924309e-05],\n",
       "       [9.99940849e-01, 5.91508592e-05],\n",
       "       [2.01900991e-02, 9.79809901e-01],\n",
       "       [9.99940849e-01, 5.91508592e-05],\n",
       "       [4.32190979e-02, 9.56780902e-01],\n",
       "       [7.05062841e-01, 2.94937159e-01],\n",
       "       [9.99901742e-01, 9.82581691e-05],\n",
       "       [9.99946024e-01, 5.39761215e-05],\n",
       "       [6.39262384e-02, 9.36073762e-01],\n",
       "       [7.33057052e-01, 2.66942948e-01],\n",
       "       [7.50586569e-01, 2.49413431e-01],\n",
       "       [1.28357371e-02, 9.87164263e-01],\n",
       "       [1.78353405e-01, 8.21646595e-01],\n",
       "       [9.85814393e-01, 1.41856066e-02],\n",
       "       [8.20204700e-01, 1.79795300e-01],\n",
       "       [9.09092906e-01, 9.09070945e-02],\n",
       "       [9.99953012e-01, 4.69876496e-05],\n",
       "       [9.99918181e-01, 8.18186949e-05],\n",
       "       [1.60629110e-02, 9.83937089e-01],\n",
       "       [9.43222155e-01, 5.67778452e-02],\n",
       "       [9.81365173e-01, 1.86348274e-02],\n",
       "       [7.33057052e-01, 2.66942948e-01],\n",
       "       [9.99953012e-01, 4.69876496e-05],\n",
       "       [3.95876135e-02, 9.60412386e-01],\n",
       "       [9.99937996e-01, 6.20039242e-05],\n",
       "       [7.33057052e-01, 2.66942948e-01],\n",
       "       [9.85814393e-01, 1.41856066e-02],\n",
       "       [9.99910338e-01, 8.96624849e-05],\n",
       "       [8.83426009e-01, 1.16573991e-01],\n",
       "       [3.42738422e-01, 6.57261578e-01],\n",
       "       [9.99953012e-01, 4.69876496e-05],\n",
       "       [5.90003110e-01, 4.09996890e-01],\n",
       "       [9.99976510e-01, 2.34903227e-05],\n",
       "       [1.71554112e-01, 8.28445888e-01],\n",
       "       [1.84959904e-01, 8.15040096e-01],\n",
       "       [4.13124479e-02, 9.58687552e-01],\n",
       "       [5.44433690e-01, 4.55566310e-01],\n",
       "       [9.50207669e-01, 4.97923307e-02],\n",
       "       [1.64961985e-01, 8.35038015e-01],\n",
       "       [6.11953892e-01, 3.88046108e-01],\n",
       "       [9.89213002e-01, 1.07869979e-02],\n",
       "       [5.38054491e-02, 9.46194551e-01]])"
      ]
     },
     "execution_count": 132,
     "metadata": {},
     "output_type": "execute_result"
    }
   ],
   "source": [
    "y_pred_train_proba"
   ]
  },
  {
   "cell_type": "code",
   "execution_count": 133,
   "id": "e111648b",
   "metadata": {},
   "outputs": [],
   "source": [
    "y_pred_train = logreg.predict(X_train_scaled)"
   ]
  },
  {
   "cell_type": "code",
   "execution_count": 134,
   "id": "de5da4df",
   "metadata": {},
   "outputs": [
    {
     "data": {
      "text/plain": [
       "array([1, 0, 0, 1, 0, 1, 0, 0, 0, 0, 1, 0, 0, 0, 1, 0, 1, 1, 0, 0, 0, 1,\n",
       "       1, 0, 0, 0, 0, 0, 0, 0, 1, 0, 0, 0, 0, 0, 0, 0, 0, 1, 0, 1, 1, 0,\n",
       "       1, 1, 1, 1, 0, 0, 0, 1, 0, 0, 0, 1, 0, 1, 0, 0, 0, 0, 0, 0, 0, 0,\n",
       "       0, 0, 1, 1, 1, 0, 0, 0, 0, 0, 0, 1, 0, 0, 1, 0, 1, 0, 0, 0, 1, 0,\n",
       "       0, 1, 1, 0, 0, 0, 0, 0, 1, 0, 0, 0, 0, 1, 0, 0, 0, 0, 0, 1, 0, 0,\n",
       "       0, 1, 1, 1, 0, 0, 1, 0, 0, 1])"
      ]
     },
     "execution_count": 134,
     "metadata": {},
     "output_type": "execute_result"
    }
   ],
   "source": [
    "y_pred_train"
   ]
  },
  {
   "cell_type": "code",
   "execution_count": 135,
   "id": "518c1712",
   "metadata": {},
   "outputs": [],
   "source": [
    "from sklearn.metrics import accuracy_score\n",
    "from sklearn.metrics import confusion_matrix\n",
    "from sklearn.metrics import classification_report"
   ]
  },
  {
   "cell_type": "code",
   "execution_count": 136,
   "id": "1be1e503",
   "metadata": {},
   "outputs": [
    {
     "data": {
      "text/plain": [
       "0.975"
      ]
     },
     "execution_count": 136,
     "metadata": {},
     "output_type": "execute_result"
    }
   ],
   "source": [
    "acc_train = accuracy_score(y_train, y_pred_train)\n",
    "acc_train"
   ]
  },
  {
   "cell_type": "markdown",
   "id": "260e076d",
   "metadata": {},
   "source": [
    "Precision Recall, dll pelajari lagi"
   ]
  },
  {
   "cell_type": "code",
   "execution_count": 137,
   "id": "1c317503",
   "metadata": {},
   "outputs": [
    {
     "name": "stdout",
     "output_type": "stream",
     "text": [
      "              precision    recall  f1-score   support\n",
      "\n",
      "           0       0.96      1.00      0.98        80\n",
      "           1       1.00      0.93      0.96        40\n",
      "\n",
      "    accuracy                           0.97       120\n",
      "   macro avg       0.98      0.96      0.97       120\n",
      "weighted avg       0.98      0.97      0.97       120\n",
      "\n"
     ]
    }
   ],
   "source": [
    "print(classification_report(y_train, y_pred_train))"
   ]
  },
  {
   "cell_type": "code",
   "execution_count": 138,
   "id": "c57f7d61",
   "metadata": {},
   "outputs": [],
   "source": [
    "y_pred_test_proba = logreg.predict_proba(X_test_scaled)"
   ]
  },
  {
   "cell_type": "code",
   "execution_count": 139,
   "id": "f8c6059c",
   "metadata": {},
   "outputs": [
    {
     "data": {
      "text/plain": [
       "array([[9.99967507e-01, 3.24927456e-05],\n",
       "       [9.19920930e-01, 8.00790699e-02],\n",
       "       [9.01237845e-01, 9.87621553e-02],\n",
       "       [2.14615579e-01, 7.85384421e-01],\n",
       "       [9.99959096e-01, 4.09039619e-05],\n",
       "       [9.99953012e-01, 4.69876496e-05],\n",
       "       [8.96964741e-01, 1.03035259e-01],\n",
       "       [3.74619226e-01, 6.25380774e-01],\n",
       "       [3.74619226e-01, 6.25380774e-01],\n",
       "       [9.99953012e-01, 4.69876496e-05],\n",
       "       [6.96285100e-02, 9.30371490e-01],\n",
       "       [4.14180981e-02, 9.58581902e-01],\n",
       "       [2.83240816e-01, 7.16759184e-01],\n",
       "       [9.99959096e-01, 4.09039619e-05],\n",
       "       [9.99763986e-01, 2.36013602e-04],\n",
       "       [5.12337293e-03, 9.94876627e-01],\n",
       "       [3.96302352e-01, 6.03697648e-01],\n",
       "       [6.13176442e-02, 9.38682356e-01],\n",
       "       [9.19920930e-01, 8.00790699e-02],\n",
       "       [2.64720176e-02, 9.73527982e-01],\n",
       "       [9.99870343e-01, 1.29657310e-04],\n",
       "       [6.11953892e-01, 3.88046108e-01],\n",
       "       [1.58930497e-01, 8.41069503e-01],\n",
       "       [2.01374602e-02, 9.79862540e-01],\n",
       "       [9.69420422e-01, 3.05795784e-02],\n",
       "       [9.99946024e-01, 5.39761215e-05],\n",
       "       [7.75634861e-01, 2.24365139e-01],\n",
       "       [9.99959096e-01, 4.09039619e-05],\n",
       "       [4.52474515e-01, 5.47525485e-01],\n",
       "       [9.99969002e-01, 3.09975736e-05]])"
      ]
     },
     "execution_count": 139,
     "metadata": {},
     "output_type": "execute_result"
    }
   ],
   "source": [
    "y_pred_test_proba"
   ]
  },
  {
   "cell_type": "code",
   "execution_count": 140,
   "id": "5428e5c5",
   "metadata": {},
   "outputs": [],
   "source": [
    "y_pred_test = logreg.predict(X_test_scaled)"
   ]
  },
  {
   "cell_type": "code",
   "execution_count": 141,
   "id": "9d7e9a8d",
   "metadata": {},
   "outputs": [
    {
     "data": {
      "text/plain": [
       "array([0, 0, 0, 1, 0, 0, 0, 1, 1, 0, 1, 1, 1, 0, 0, 1, 1, 1, 0, 1, 0, 0,\n",
       "       1, 1, 0, 0, 0, 0, 1, 0])"
      ]
     },
     "execution_count": 141,
     "metadata": {},
     "output_type": "execute_result"
    }
   ],
   "source": [
    "y_pred_test"
   ]
  },
  {
   "cell_type": "code",
   "execution_count": 142,
   "id": "c32b7408",
   "metadata": {},
   "outputs": [
    {
     "data": {
      "text/plain": [
       "0.9"
      ]
     },
     "execution_count": 142,
     "metadata": {},
     "output_type": "execute_result"
    }
   ],
   "source": [
    "acc_test = accuracy_score(y_test, y_pred_test)\n",
    "acc_test"
   ]
  },
  {
   "cell_type": "code",
   "execution_count": 143,
   "id": "2ab2effd",
   "metadata": {},
   "outputs": [
    {
     "name": "stdout",
     "output_type": "stream",
     "text": [
      "              precision    recall  f1-score   support\n",
      "\n",
      "           0       1.00      0.85      0.92        20\n",
      "           1       0.77      1.00      0.87        10\n",
      "\n",
      "    accuracy                           0.90        30\n",
      "   macro avg       0.88      0.93      0.89        30\n",
      "weighted avg       0.92      0.90      0.90        30\n",
      "\n"
     ]
    }
   ],
   "source": [
    "print(classification_report(y_test, y_pred_test))"
   ]
  },
  {
   "cell_type": "markdown",
   "id": "c4fd59bf",
   "metadata": {},
   "source": [
    "### Get Coefficient and Intercept"
   ]
  },
  {
   "attachments": {
    "image.png": {
     "image/png": "[encoded data removed]"
    }
   },
   "cell_type": "markdown",
   "id": "501ee1d3",
   "metadata": {},
   "source": [
    "![image.png](attachment:image.png)"
   ]
  },
  {
   "cell_type": "code",
   "execution_count": 144,
   "id": "8de4bcb6",
   "metadata": {},
   "outputs": [
    {
     "data": {
      "text/plain": [
       "array([[2.41674703, 2.7982282 ]])"
      ]
     },
     "execution_count": 144,
     "metadata": {},
     "output_type": "execute_result"
    }
   ],
   "source": [
    "logreg.coef_"
   ]
  },
  {
   "cell_type": "code",
   "execution_count": 145,
   "id": "1ef2335b",
   "metadata": {},
   "outputs": [
    {
     "data": {
      "text/plain": [
       "array([-3.22256988])"
      ]
     },
     "execution_count": 145,
     "metadata": {},
     "output_type": "execute_result"
    }
   ],
   "source": [
    "logreg.intercept_"
   ]
  },
  {
   "cell_type": "code",
   "execution_count": 146,
   "id": "1912c26d",
   "metadata": {},
   "outputs": [
    {
     "name": "stdout",
     "output_type": "stream",
     "text": [
      "intercept  -3.222569878915929\n",
      "classes [0 1]\n"
     ]
    },
    {
     "data": {
      "text/html": [
       "<div>\n",
       "<style scoped>\n",
       "    .dataframe tbody tr th:only-of-type {\n",
       "        vertical-align: middle;\n",
       "    }\n",
       "\n",
       "    .dataframe tbody tr th {\n",
       "        vertical-align: top;\n",
       "    }\n",
       "\n",
       "    .dataframe thead th {\n",
       "        text-align: right;\n",
       "    }\n",
       "</style>\n",
       "<table border=\"1\" class=\"dataframe\">\n",
       "  <thead>\n",
       "    <tr style=\"text-align: right;\">\n",
       "      <th></th>\n",
       "      <th>coeff</th>\n",
       "    </tr>\n",
       "  </thead>\n",
       "  <tbody>\n",
       "    <tr>\n",
       "      <th>PetalLengthCm</th>\n",
       "      <td>2.416747</td>\n",
       "    </tr>\n",
       "    <tr>\n",
       "      <th>PetalWidthCm</th>\n",
       "      <td>2.798228</td>\n",
       "    </tr>\n",
       "  </tbody>\n",
       "</table>\n",
       "</div>"
      ],
      "text/plain": [
       "                  coeff\n",
       "PetalLengthCm  2.416747\n",
       "PetalWidthCm   2.798228"
      ]
     },
     "execution_count": 146,
     "metadata": {},
     "output_type": "execute_result"
    }
   ],
   "source": [
    "print('intercept ', logreg.intercept_[0])\n",
    "print('classes', logreg.classes_)\n",
    "pd.DataFrame({'coeff': logreg.coef_[0]}, \n",
    "             index=X.columns)"
   ]
  },
  {
   "cell_type": "code",
   "execution_count": 147,
   "id": "89642d29",
   "metadata": {},
   "outputs": [
    {
     "data": {
      "image/png": "[encoded data removed]",
      "text/plain": [
       "<Figure size 864x648 with 1 Axes>"
      ]
     },
     "metadata": {
      "needs_background": "light"
     },
     "output_type": "display_data"
    }
   ],
   "source": [
    "plt.figure(figsize=(12, 9))\n",
    "sns.scatterplot(data=data,\n",
    "                x=\"PetalLengthCm\",\n",
    "                y=\"PetalWidthCm\",\n",
    "                hue=\"Species\")\n",
    "\n",
    "plt.show()"
   ]
  },
  {
   "cell_type": "markdown",
   "id": "cea97443",
   "metadata": {},
   "source": [
    "Masih bingung untuk gimana cara menghitung / buat Decision Boundary nya. Butuh cari referensi lain"
   ]
  },
  {
   "attachments": {
    "image.png": {
     "image/png": "[encoded data removed]"
    }
   },
   "cell_type": "markdown",
   "id": "37193a07",
   "metadata": {},
   "source": [
    "![image.png](attachment:image.png)"
   ]
  },
  {
   "cell_type": "code",
   "execution_count": 148,
   "id": "9ef970dc",
   "metadata": {},
   "outputs": [
    {
     "data": {
      "text/plain": [
       "array([2.41674703, 2.7982282 ])"
      ]
     },
     "execution_count": 148,
     "metadata": {},
     "output_type": "execute_result"
    }
   ],
   "source": [
    "logreg.coef_[0]"
   ]
  },
  {
   "cell_type": "code",
   "execution_count": 149,
   "id": "cac3c67a",
   "metadata": {},
   "outputs": [
    {
     "data": {
      "text/plain": [
       "array([-3.22256988])"
      ]
     },
     "execution_count": 149,
     "metadata": {},
     "output_type": "execute_result"
    }
   ],
   "source": [
    "logreg.intercept_"
   ]
  },
  {
   "cell_type": "code",
   "execution_count": 150,
   "id": "78c6a0ab",
   "metadata": {},
   "outputs": [],
   "source": [
    "coef_1, coef_2 = logreg.coef_[0]"
   ]
  },
  {
   "cell_type": "code",
   "execution_count": 151,
   "id": "e64e8803",
   "metadata": {},
   "outputs": [],
   "source": [
    "itc = logreg.intercept_[0]"
   ]
  },
  {
   "cell_type": "code",
   "execution_count": 152,
   "id": "6ac44793",
   "metadata": {},
   "outputs": [],
   "source": [
    "m_boundary = -coef_1 / coef_2"
   ]
  },
  {
   "cell_type": "code",
   "execution_count": 153,
   "id": "71aaa563",
   "metadata": {},
   "outputs": [
    {
     "data": {
      "text/plain": [
       "-0.8636704600904437"
      ]
     },
     "execution_count": 153,
     "metadata": {},
     "output_type": "execute_result"
    }
   ],
   "source": [
    "m_boundary"
   ]
  },
  {
   "cell_type": "code",
   "execution_count": 154,
   "id": "4c55f201",
   "metadata": {},
   "outputs": [],
   "source": [
    "c_boundary = -itc / coef_2"
   ]
  },
  {
   "cell_type": "code",
   "execution_count": 155,
   "id": "cd0571ad",
   "metadata": {},
   "outputs": [
    {
     "data": {
      "text/plain": [
       "1.1516465608988882"
      ]
     },
     "execution_count": 155,
     "metadata": {},
     "output_type": "execute_result"
    }
   ],
   "source": [
    "c_boundary"
   ]
  },
  {
   "cell_type": "code",
   "execution_count": 156,
   "id": "d4e7d358",
   "metadata": {},
   "outputs": [
    {
     "name": "stdout",
     "output_type": "stream",
     "text": [
      "-0.8636704600904437 1.1516465608988882\n"
     ]
    }
   ],
   "source": [
    "print(m_boundary, c_boundary)"
   ]
  },
  {
   "cell_type": "code",
   "execution_count": 158,
   "id": "a2a3bfa1",
   "metadata": {},
   "outputs": [
    {
     "data": {
      "image/png": "[encoded data removed]",
      "text/plain": [
       "<Figure size 864x648 with 1 Axes>"
      ]
     },
     "metadata": {
      "needs_background": "light"
     },
     "output_type": "display_data"
    }
   ],
   "source": [
    "plt.figure(figsize=(12, 9))\n",
    "\n",
    "data_scaled = X_train_scaled.copy()\n",
    "data_scaled[\"Species\"] = y_train\n",
    "\n",
    "sns.scatterplot(data=data_scaled,\n",
    "                x=\"PetalLengthCm\",\n",
    "                y=\"PetalWidthCm\",\n",
    "                hue=\"Species\")\n",
    "\n",
    "\n",
    "x_support = np.linspace(data_scaled[\"PetalLengthCm\"].min(), \n",
    "                        data_scaled[\"PetalLengthCm\"].max(), 101)\n",
    "y_support = m_boundary*x_support + c_boundary\n",
    "\n",
    "plt.plot(x_support, y_support, \"--r\")\n",
    "# plt.set_ylim(-6, 6)\n",
    "\n",
    "plt.show()"
   ]
  },
  {
   "cell_type": "code",
   "execution_count": 159,
   "id": "704d47c1",
   "metadata": {
    "scrolled": false
   },
   "outputs": [
    {
     "data": {
      "image/png": "[encoded data removed]",
      "text/plain": [
       "<Figure size 864x648 with 1 Axes>"
      ]
     },
     "metadata": {
      "needs_background": "light"
     },
     "output_type": "display_data"
    }
   ],
   "source": [
    "plt.figure(figsize=(12, 9))\n",
    "\n",
    "data_scaled = X_test_scaled.copy()\n",
    "data_scaled[\"Species\"] = y_test\n",
    "\n",
    "sns.scatterplot(data=data_scaled,\n",
    "                x=\"PetalLengthCm\",\n",
    "                y=\"PetalWidthCm\",\n",
    "                hue=\"Species\")\n",
    "\n",
    "\n",
    "x_support = np.linspace(data_scaled[\"PetalLengthCm\"].min(), \n",
    "                        data_scaled[\"PetalLengthCm\"].max(), 101)\n",
    "y_support = m_boundary*x_support + c_boundary\n",
    "\n",
    "plt.plot(x_support, y_support, \"--r\")\n",
    "# plt.set_ylim(-6, 6)\n",
    "\n",
    "plt.show()"
   ]
  },
  {
   "cell_type": "markdown",
   "id": "adee4343",
   "metadata": {},
   "source": [
    "### Without Scaling"
   ]
  },
  {
   "cell_type": "code",
   "execution_count": 161,
   "id": "ae9c8152",
   "metadata": {},
   "outputs": [],
   "source": [
    "X, y = split_input_output(data=data,\n",
    "                          output_col=\"Species\")"
   ]
  },
  {
   "cell_type": "markdown",
   "id": "7e63b10d",
   "metadata": {},
   "source": [
    "### Train Test Split "
   ]
  },
  {
   "cell_type": "code",
   "execution_count": 162,
   "id": "bd78b543",
   "metadata": {},
   "outputs": [],
   "source": [
    "from sklearn.model_selection import train_test_split"
   ]
  },
  {
   "cell_type": "code",
   "execution_count": 163,
   "id": "7a17588f",
   "metadata": {},
   "outputs": [],
   "source": [
    "X_train, X_test, y_train, y_test = train_test_split(X,\n",
    "                                                    y,\n",
    "                                                    test_size=0.2,\n",
    "                                                    stratify=y,\n",
    "                                                    random_state=42)"
   ]
  },
  {
   "cell_type": "code",
   "execution_count": 164,
   "id": "ce30aac6",
   "metadata": {},
   "outputs": [
    {
     "name": "stdout",
     "output_type": "stream",
     "text": [
      "Train Data Shape: ((120, 2), (120,))\n",
      "Test Data Shape: ((30, 2), (30,))\n"
     ]
    }
   ],
   "source": [
    "print(f\"Train Data Shape: {X_train.shape, y_train.shape}\")\n",
    "print(f\"Test Data Shape: {X_test.shape, y_test.shape}\")"
   ]
  },
  {
   "cell_type": "code",
   "execution_count": 165,
   "id": "fa91a295",
   "metadata": {},
   "outputs": [
    {
     "data": {
      "text/plain": [
       "Non-virginica     80\n",
       "Iris-virginica    40\n",
       "Name: Species, dtype: int64"
      ]
     },
     "execution_count": 165,
     "metadata": {},
     "output_type": "execute_result"
    }
   ],
   "source": [
    "y_train.value_counts()"
   ]
  },
  {
   "cell_type": "code",
   "execution_count": 166,
   "id": "9ded20c5",
   "metadata": {},
   "outputs": [
    {
     "data": {
      "text/plain": [
       "Non-virginica     20\n",
       "Iris-virginica    10\n",
       "Name: Species, dtype: int64"
      ]
     },
     "execution_count": 166,
     "metadata": {},
     "output_type": "execute_result"
    }
   ],
   "source": [
    "y_test.value_counts()"
   ]
  },
  {
   "cell_type": "markdown",
   "id": "97bdec06",
   "metadata": {},
   "source": [
    "### Preprocessing"
   ]
  },
  {
   "cell_type": "code",
   "execution_count": 167,
   "id": "759e245c",
   "metadata": {},
   "outputs": [],
   "source": [
    "y_train = y_train.apply(lambda x: 1 if x == \"Iris-virginica\" else 0)\n",
    "y_test = y_test.apply(lambda x: 1 if x == \"Iris-virginica\" else 0)"
   ]
  },
  {
   "cell_type": "code",
   "execution_count": 168,
   "id": "7eeaf9ab",
   "metadata": {},
   "outputs": [
    {
     "data": {
      "text/plain": [
       "0    80\n",
       "1    40\n",
       "Name: Species, dtype: int64"
      ]
     },
     "execution_count": 168,
     "metadata": {},
     "output_type": "execute_result"
    }
   ],
   "source": [
    "y_train.value_counts()"
   ]
  },
  {
   "cell_type": "code",
   "execution_count": 169,
   "id": "1dedc6f0",
   "metadata": {},
   "outputs": [
    {
     "data": {
      "text/plain": [
       "0    20\n",
       "1    10\n",
       "Name: Species, dtype: int64"
      ]
     },
     "execution_count": 169,
     "metadata": {},
     "output_type": "execute_result"
    }
   ],
   "source": [
    "y_test.value_counts()"
   ]
  },
  {
   "cell_type": "markdown",
   "id": "738be466",
   "metadata": {},
   "source": [
    "### Modeling "
   ]
  },
  {
   "cell_type": "code",
   "execution_count": 170,
   "id": "a1e2d3e8",
   "metadata": {},
   "outputs": [],
   "source": [
    "logreg2 = LogisticRegression()"
   ]
  },
  {
   "cell_type": "code",
   "execution_count": 171,
   "id": "06359565",
   "metadata": {},
   "outputs": [
    {
     "data": {
      "text/plain": [
       "LogisticRegression()"
      ]
     },
     "execution_count": 171,
     "metadata": {},
     "output_type": "execute_result"
    }
   ],
   "source": [
    "logreg2.fit(X_train, y_train)"
   ]
  },
  {
   "cell_type": "code",
   "execution_count": 172,
   "id": "a4020bf2",
   "metadata": {},
   "outputs": [],
   "source": [
    "y_pred_train_proba = logreg2.predict_proba(X_train)"
   ]
  },
  {
   "cell_type": "code",
   "execution_count": 173,
   "id": "d90ebb8f",
   "metadata": {},
   "outputs": [
    {
     "data": {
      "text/plain": [
       "array([[4.99149131e-02, 9.50085087e-01],\n",
       "       [9.27157414e-01, 7.28425863e-02],\n",
       "       [9.78127099e-01, 2.18729013e-02],\n",
       "       [6.48517904e-03, 9.93514821e-01],\n",
       "       [4.76443763e-01, 5.23556237e-01],\n",
       "       [2.91712141e-01, 7.08287859e-01],\n",
       "       [9.99995958e-01, 4.04230193e-06],\n",
       "       [9.99993401e-01, 6.59915191e-06],\n",
       "       [9.99985798e-01, 1.42018564e-05],\n",
       "       [8.92466194e-01, 1.07533806e-01],\n",
       "       [5.10763352e-03, 9.94892366e-01],\n",
       "       [9.99996736e-01, 3.26413720e-06],\n",
       "       [9.76749441e-01, 2.32505589e-02],\n",
       "       [9.99994328e-01, 5.67240160e-06],\n",
       "       [2.78970655e-01, 7.21029345e-01],\n",
       "       [9.99994671e-01, 5.32878252e-06],\n",
       "       [2.46858378e-02, 9.75314162e-01],\n",
       "       [2.93449337e-02, 9.70655066e-01],\n",
       "       [6.75821465e-01, 3.24178535e-01],\n",
       "       [7.98362850e-01, 2.01637150e-01],\n",
       "       [9.99994328e-01, 5.67240160e-06],\n",
       "       [4.54344008e-01, 5.45655992e-01],\n",
       "       [7.45650126e-02, 9.25434987e-01],\n",
       "       [9.99996525e-01, 3.47462098e-06],\n",
       "       [8.47469892e-01, 1.52530108e-01],\n",
       "       [9.99996203e-01, 3.79742960e-06],\n",
       "       [9.99997524e-01, 2.47610434e-06],\n",
       "       [9.85250419e-01, 1.47495807e-02],\n",
       "       [9.99996736e-01, 3.26413720e-06],\n",
       "       [9.99991301e-01, 8.69935431e-06],\n",
       "       [6.69957223e-02, 9.33004278e-01],\n",
       "       [9.69574942e-01, 3.04250580e-02],\n",
       "       [9.99996736e-01, 3.26413720e-06],\n",
       "       [9.99994328e-01, 5.67240160e-06],\n",
       "       [6.61983159e-01, 3.38016841e-01],\n",
       "       [9.43754093e-01, 5.62459070e-02],\n",
       "       [8.08235209e-01, 1.91764791e-01],\n",
       "       [7.02580174e-01, 2.97419826e-01],\n",
       "       [7.83682049e-01, 2.16317951e-01],\n",
       "       [1.07426455e-01, 8.92573545e-01],\n",
       "       [7.45249503e-01, 2.54750497e-01],\n",
       "       [2.26902809e-01, 7.73097191e-01],\n",
       "       [1.85447381e-03, 9.98145526e-01],\n",
       "       [9.99995697e-01, 4.30296447e-06],\n",
       "       [7.81194161e-03, 9.92188058e-01],\n",
       "       [1.10941354e-01, 8.89058646e-01],\n",
       "       [5.95937478e-02, 9.40406252e-01],\n",
       "       [8.64737469e-02, 9.13526253e-01],\n",
       "       [9.99996736e-01, 3.26413720e-06],\n",
       "       [8.79870359e-01, 1.20129641e-01],\n",
       "       [9.06150488e-01, 9.38495115e-02],\n",
       "       [6.72224205e-03, 9.93277758e-01],\n",
       "       [9.99997524e-01, 2.47610434e-06],\n",
       "       [9.99997524e-01, 2.47610434e-06],\n",
       "       [9.99993401e-01, 6.59915191e-06],\n",
       "       [1.52385507e-01, 8.47614493e-01],\n",
       "       [8.55373474e-01, 1.44626526e-01],\n",
       "       [2.46858378e-02, 9.75314162e-01],\n",
       "       [7.83682049e-01, 2.16317951e-01],\n",
       "       [9.99996525e-01, 3.47462098e-06],\n",
       "       [9.40343506e-01, 5.96564945e-02],\n",
       "       [9.99996525e-01, 3.47462098e-06],\n",
       "       [9.99980071e-01, 1.99288189e-05],\n",
       "       [9.99996934e-01, 3.06640396e-06],\n",
       "       [9.98143454e-01, 1.85654642e-03],\n",
       "       [9.00699645e-01, 9.93003555e-02],\n",
       "       [9.96571060e-01, 3.42893977e-03],\n",
       "       [7.20804191e-01, 2.79195809e-01],\n",
       "       [7.70975857e-02, 9.22902414e-01],\n",
       "       [3.87117766e-01, 6.12882234e-01],\n",
       "       [2.18489720e-02, 9.78151028e-01],\n",
       "       [9.99996736e-01, 3.26413720e-06],\n",
       "       [9.56745748e-01, 4.32542525e-02],\n",
       "       [9.99997524e-01, 2.47610434e-06],\n",
       "       [9.99997364e-01, 2.63577295e-06],\n",
       "       [9.99998849e-01, 1.15055987e-06],\n",
       "       [9.99998122e-01, 1.87831919e-06],\n",
       "       [1.76777634e-01, 8.23222366e-01],\n",
       "       [9.99996934e-01, 3.06640396e-06],\n",
       "       [9.99995958e-01, 4.04230193e-06],\n",
       "       [1.34977900e-02, 9.86502210e-01],\n",
       "       [9.99995958e-01, 4.04230193e-06],\n",
       "       [3.73667695e-02, 9.62633231e-01],\n",
       "       [7.33204910e-01, 2.66795090e-01],\n",
       "       [9.99993401e-01, 6.59915191e-06],\n",
       "       [9.99994328e-01, 5.67240160e-06],\n",
       "       [1.81818790e-02, 9.81818121e-01],\n",
       "       [7.83682049e-01, 2.16317951e-01],\n",
       "       [7.20804191e-01, 2.79195809e-01],\n",
       "       [1.52672645e-02, 9.84732736e-01],\n",
       "       [2.38051332e-01, 7.61948668e-01],\n",
       "       [9.94056228e-01, 5.94377208e-03],\n",
       "       [8.55373474e-01, 1.44626526e-01],\n",
       "       [9.43754093e-01, 5.62459070e-02],\n",
       "       [9.99995697e-01, 4.30296447e-06],\n",
       "       [9.99987005e-01, 1.29946088e-05],\n",
       "       [3.02393227e-03, 9.96976068e-01],\n",
       "       [9.64779176e-01, 3.52208238e-02],\n",
       "       [9.89716016e-01, 1.02839843e-02],\n",
       "       [7.83682049e-01, 2.16317951e-01],\n",
       "       [9.99995697e-01, 4.30296447e-06],\n",
       "       [5.16569882e-02, 9.48343012e-01],\n",
       "       [9.99992522e-01, 7.47766479e-06],\n",
       "       [7.83682049e-01, 2.16317951e-01],\n",
       "       [9.94056228e-01, 5.94377208e-03],\n",
       "       [9.99990740e-01, 9.26031799e-06],\n",
       "       [9.06150488e-01, 9.38495115e-02],\n",
       "       [3.87117766e-01, 6.12882234e-01],\n",
       "       [9.99995697e-01, 4.30296447e-06],\n",
       "       [6.27338301e-01, 3.72661699e-01],\n",
       "       [9.99998919e-01, 1.08086171e-06],\n",
       "       [1.44488140e-01, 8.55511860e-01],\n",
       "       [1.07426455e-01, 8.92573545e-01],\n",
       "       [2.05526146e-02, 9.79447385e-01],\n",
       "       [4.08394957e-01, 5.91605043e-01],\n",
       "       [9.73053129e-01, 2.69468706e-02],\n",
       "       [8.36610969e-02, 9.16338903e-01],\n",
       "       [5.45378541e-01, 4.54621459e-01],\n",
       "       [9.96571060e-01, 3.42893977e-03],\n",
       "       [3.51828169e-02, 9.64817183e-01]])"
      ]
     },
     "execution_count": 173,
     "metadata": {},
     "output_type": "execute_result"
    }
   ],
   "source": [
    "y_pred_train_proba"
   ]
  },
  {
   "cell_type": "code",
   "execution_count": 174,
   "id": "7daa253a",
   "metadata": {},
   "outputs": [],
   "source": [
    "y_pred_train = logreg2.predict(X_train)"
   ]
  },
  {
   "cell_type": "code",
   "execution_count": 175,
   "id": "04919d00",
   "metadata": {},
   "outputs": [
    {
     "data": {
      "text/plain": [
       "array([1, 0, 0, 1, 1, 1, 0, 0, 0, 0, 1, 0, 0, 0, 1, 0, 1, 1, 0, 0, 0, 1,\n",
       "       1, 0, 0, 0, 0, 0, 0, 0, 1, 0, 0, 0, 0, 0, 0, 0, 0, 1, 0, 1, 1, 0,\n",
       "       1, 1, 1, 1, 0, 0, 0, 1, 0, 0, 0, 1, 0, 1, 0, 0, 0, 0, 0, 0, 0, 0,\n",
       "       0, 0, 1, 1, 1, 0, 0, 0, 0, 0, 0, 1, 0, 0, 1, 0, 1, 0, 0, 0, 1, 0,\n",
       "       0, 1, 1, 0, 0, 0, 0, 0, 1, 0, 0, 0, 0, 1, 0, 0, 0, 0, 0, 1, 0, 0,\n",
       "       0, 1, 1, 1, 1, 0, 1, 0, 0, 1])"
      ]
     },
     "execution_count": 175,
     "metadata": {},
     "output_type": "execute_result"
    }
   ],
   "source": [
    "y_pred_train"
   ]
  },
  {
   "cell_type": "code",
   "execution_count": 176,
   "id": "e4d49429",
   "metadata": {},
   "outputs": [],
   "source": [
    "from sklearn.metrics import accuracy_score\n",
    "from sklearn.metrics import confusion_matrix\n",
    "from sklearn.metrics import classification_report"
   ]
  },
  {
   "cell_type": "code",
   "execution_count": 177,
   "id": "2321e739",
   "metadata": {},
   "outputs": [
    {
     "data": {
      "text/plain": [
       "0.9916666666666667"
      ]
     },
     "execution_count": 177,
     "metadata": {},
     "output_type": "execute_result"
    }
   ],
   "source": [
    "acc_train = accuracy_score(y_train, y_pred_train)\n",
    "acc_train"
   ]
  },
  {
   "cell_type": "markdown",
   "id": "f50dced6",
   "metadata": {},
   "source": [
    "Precision Recall, dll pelajari lagi"
   ]
  },
  {
   "cell_type": "code",
   "execution_count": 178,
   "id": "1b3b8589",
   "metadata": {},
   "outputs": [
    {
     "name": "stdout",
     "output_type": "stream",
     "text": [
      "              precision    recall  f1-score   support\n",
      "\n",
      "           0       0.99      1.00      0.99        80\n",
      "           1       1.00      0.97      0.99        40\n",
      "\n",
      "    accuracy                           0.99       120\n",
      "   macro avg       0.99      0.99      0.99       120\n",
      "weighted avg       0.99      0.99      0.99       120\n",
      "\n"
     ]
    }
   ],
   "source": [
    "print(classification_report(y_train, y_pred_train))"
   ]
  },
  {
   "cell_type": "code",
   "execution_count": 179,
   "id": "4e9e3d84",
   "metadata": {},
   "outputs": [],
   "source": [
    "y_pred_test_proba = logreg2.predict_proba(X_test)"
   ]
  },
  {
   "cell_type": "code",
   "execution_count": 180,
   "id": "b194aaf8",
   "metadata": {},
   "outputs": [
    {
     "data": {
      "text/plain": [
       "array([[9.99996525e-01, 3.47462098e-06],\n",
       "       [9.56745748e-01, 4.32542525e-02],\n",
       "       [9.59259239e-01, 4.07407610e-02],\n",
       "       [2.26902809e-01, 7.73097191e-01],\n",
       "       [9.99996736e-01, 3.26413720e-06],\n",
       "       [9.99995697e-01, 4.30296447e-06],\n",
       "       [9.27157414e-01, 7.28425863e-02],\n",
       "       [4.54344008e-01, 5.45655992e-01],\n",
       "       [4.54344008e-01, 5.45655992e-01],\n",
       "       [9.99995697e-01, 4.30296447e-06],\n",
       "       [1.30249174e-02, 9.86975083e-01],\n",
       "       [9.15394774e-02, 9.08460523e-01],\n",
       "       [2.66576238e-01, 7.33423762e-01],\n",
       "       [9.99996736e-01, 3.26413720e-06],\n",
       "       [9.99986658e-01, 1.33415524e-05],\n",
       "       [8.62564892e-04, 9.99137435e-01],\n",
       "       [3.72400112e-01, 6.27599888e-01],\n",
       "       [4.58663920e-02, 9.54133608e-01],\n",
       "       [9.56745748e-01, 4.32542525e-02],\n",
       "       [2.32251582e-02, 9.76774842e-01],\n",
       "       [9.99988532e-01, 1.14679456e-05],\n",
       "       [5.45378541e-01, 4.54621459e-01],\n",
       "       [1.91591403e-01, 8.08408597e-01],\n",
       "       [2.84126995e-03, 9.97158730e-01],\n",
       "       [9.83319618e-01, 1.66803823e-02],\n",
       "       [9.99994328e-01, 5.67240160e-06],\n",
       "       [7.72900825e-01, 2.27099175e-01],\n",
       "       [9.99996736e-01, 3.26413720e-06],\n",
       "       [3.57915236e-01, 6.42084764e-01],\n",
       "       [9.99998122e-01, 1.87831919e-06]])"
      ]
     },
     "execution_count": 180,
     "metadata": {},
     "output_type": "execute_result"
    }
   ],
   "source": [
    "y_pred_test_proba"
   ]
  },
  {
   "cell_type": "code",
   "execution_count": 181,
   "id": "83d67304",
   "metadata": {},
   "outputs": [],
   "source": [
    "y_pred_test = logreg2.predict(X_test)"
   ]
  },
  {
   "cell_type": "code",
   "execution_count": 182,
   "id": "53cf60ce",
   "metadata": {},
   "outputs": [
    {
     "data": {
      "text/plain": [
       "array([0, 0, 0, 1, 0, 0, 0, 1, 1, 0, 1, 1, 1, 0, 0, 1, 1, 1, 0, 1, 0, 0,\n",
       "       1, 1, 0, 0, 0, 0, 1, 0])"
      ]
     },
     "execution_count": 182,
     "metadata": {},
     "output_type": "execute_result"
    }
   ],
   "source": [
    "y_pred_test"
   ]
  },
  {
   "cell_type": "code",
   "execution_count": 183,
   "id": "af85b846",
   "metadata": {},
   "outputs": [
    {
     "data": {
      "text/plain": [
       "0.9"
      ]
     },
     "execution_count": 183,
     "metadata": {},
     "output_type": "execute_result"
    }
   ],
   "source": [
    "acc_test = accuracy_score(y_test, y_pred_test)\n",
    "acc_test"
   ]
  },
  {
   "cell_type": "code",
   "execution_count": 185,
   "id": "5fa2b3f5",
   "metadata": {},
   "outputs": [
    {
     "name": "stdout",
     "output_type": "stream",
     "text": [
      "              precision    recall  f1-score   support\n",
      "\n",
      "           0       1.00      0.85      0.92        20\n",
      "           1       0.77      1.00      0.87        10\n",
      "\n",
      "    accuracy                           0.90        30\n",
      "   macro avg       0.88      0.93      0.89        30\n",
      "weighted avg       0.92      0.90      0.90        30\n",
      "\n"
     ]
    }
   ],
   "source": [
    "print(classification_report(y_test, y_pred_test))"
   ]
  },
  {
   "cell_type": "markdown",
   "id": "a5f00063",
   "metadata": {},
   "source": [
    "### Get Coefficient and Intercept"
   ]
  },
  {
   "cell_type": "code",
   "execution_count": 186,
   "id": "f48594ca",
   "metadata": {},
   "outputs": [
    {
     "data": {
      "text/plain": [
       "array([[2.76309764, 2.13819621]])"
      ]
     },
     "execution_count": 186,
     "metadata": {},
     "output_type": "execute_result"
    }
   ],
   "source": [
    "logreg2.coef_"
   ]
  },
  {
   "cell_type": "code",
   "execution_count": 187,
   "id": "2a8ad13f",
   "metadata": {},
   "outputs": [
    {
     "data": {
      "text/plain": [
       "array([-16.92848776])"
      ]
     },
     "execution_count": 187,
     "metadata": {},
     "output_type": "execute_result"
    }
   ],
   "source": [
    "logreg2.intercept_"
   ]
  },
  {
   "cell_type": "code",
   "execution_count": 188,
   "id": "958d56ab",
   "metadata": {},
   "outputs": [
    {
     "name": "stdout",
     "output_type": "stream",
     "text": [
      "intercept  -16.928487760446615\n",
      "classes [0 1]\n"
     ]
    },
    {
     "data": {
      "text/html": [
       "<div>\n",
       "<style scoped>\n",
       "    .dataframe tbody tr th:only-of-type {\n",
       "        vertical-align: middle;\n",
       "    }\n",
       "\n",
       "    .dataframe tbody tr th {\n",
       "        vertical-align: top;\n",
       "    }\n",
       "\n",
       "    .dataframe thead th {\n",
       "        text-align: right;\n",
       "    }\n",
       "</style>\n",
       "<table border=\"1\" class=\"dataframe\">\n",
       "  <thead>\n",
       "    <tr style=\"text-align: right;\">\n",
       "      <th></th>\n",
       "      <th>coeff</th>\n",
       "    </tr>\n",
       "  </thead>\n",
       "  <tbody>\n",
       "    <tr>\n",
       "      <th>PetalLengthCm</th>\n",
       "      <td>2.763098</td>\n",
       "    </tr>\n",
       "    <tr>\n",
       "      <th>PetalWidthCm</th>\n",
       "      <td>2.138196</td>\n",
       "    </tr>\n",
       "  </tbody>\n",
       "</table>\n",
       "</div>"
      ],
      "text/plain": [
       "                  coeff\n",
       "PetalLengthCm  2.763098\n",
       "PetalWidthCm   2.138196"
      ]
     },
     "execution_count": 188,
     "metadata": {},
     "output_type": "execute_result"
    }
   ],
   "source": [
    "print('intercept ', logreg2.intercept_[0])\n",
    "print('classes', logreg2.classes_)\n",
    "pd.DataFrame({'coeff': logreg2.coef_[0]}, \n",
    "             index=X.columns)"
   ]
  },
  {
   "cell_type": "code",
   "execution_count": 189,
   "id": "35f79a23",
   "metadata": {},
   "outputs": [
    {
     "data": {
      "text/plain": [
       "array([2.76309764, 2.13819621])"
      ]
     },
     "execution_count": 189,
     "metadata": {},
     "output_type": "execute_result"
    }
   ],
   "source": [
    "logreg2.coef_[0]"
   ]
  },
  {
   "cell_type": "code",
   "execution_count": 190,
   "id": "be05e269",
   "metadata": {},
   "outputs": [
    {
     "data": {
      "text/plain": [
       "array([-16.92848776])"
      ]
     },
     "execution_count": 190,
     "metadata": {},
     "output_type": "execute_result"
    }
   ],
   "source": [
    "logreg2.intercept_"
   ]
  },
  {
   "cell_type": "code",
   "execution_count": 191,
   "id": "2374bdef",
   "metadata": {},
   "outputs": [],
   "source": [
    "coef_1, coef_2 = logreg2.coef_[0]"
   ]
  },
  {
   "cell_type": "code",
   "execution_count": 192,
   "id": "6df7a3b5",
   "metadata": {},
   "outputs": [],
   "source": [
    "itc = logreg2.intercept_[0]"
   ]
  },
  {
   "cell_type": "code",
   "execution_count": 193,
   "id": "627c60f3",
   "metadata": {},
   "outputs": [],
   "source": [
    "m_boundary = -coef_1 / coef_2"
   ]
  },
  {
   "cell_type": "code",
   "execution_count": 194,
   "id": "1dc89af8",
   "metadata": {},
   "outputs": [
    {
     "data": {
      "text/plain": [
       "-1.292256354401336"
      ]
     },
     "execution_count": 194,
     "metadata": {},
     "output_type": "execute_result"
    }
   ],
   "source": [
    "m_boundary"
   ]
  },
  {
   "cell_type": "code",
   "execution_count": 195,
   "id": "061988bd",
   "metadata": {},
   "outputs": [],
   "source": [
    "c_boundary = -itc / coef_2"
   ]
  },
  {
   "cell_type": "code",
   "execution_count": 196,
   "id": "6f37259a",
   "metadata": {},
   "outputs": [
    {
     "data": {
      "text/plain": [
       "7.917181631264572"
      ]
     },
     "execution_count": 196,
     "metadata": {},
     "output_type": "execute_result"
    }
   ],
   "source": [
    "c_boundary"
   ]
  },
  {
   "cell_type": "code",
   "execution_count": 197,
   "id": "dd51b518",
   "metadata": {},
   "outputs": [
    {
     "name": "stdout",
     "output_type": "stream",
     "text": [
      "-1.292256354401336 7.917181631264572\n"
     ]
    }
   ],
   "source": [
    "print(m_boundary, c_boundary)"
   ]
  },
  {
   "cell_type": "code",
   "execution_count": 198,
   "id": "2b9befc2",
   "metadata": {},
   "outputs": [
    {
     "data": {
      "image/png": "[encoded data removed]",
      "text/plain": [
       "<Figure size 864x648 with 1 Axes>"
      ]
     },
     "metadata": {
      "needs_background": "light"
     },
     "output_type": "display_data"
    }
   ],
   "source": [
    "plt.figure(figsize=(12, 9))\n",
    "\n",
    "data_scaled = X_train.copy()\n",
    "data_scaled[\"Species\"] = y_train\n",
    "\n",
    "sns.scatterplot(data=data_scaled,\n",
    "                x=\"PetalLengthCm\",\n",
    "                y=\"PetalWidthCm\",\n",
    "                hue=\"Species\")\n",
    "\n",
    "\n",
    "x_support = np.linspace(data_scaled[\"PetalLengthCm\"].min(), \n",
    "                        data_scaled[\"PetalLengthCm\"].max(), 101)\n",
    "y_support = m_boundary*x_support + c_boundary\n",
    "\n",
    "plt.plot(x_support, y_support, \"--r\")\n",
    "# plt.set_ylim(-6, 6)\n",
    "\n",
    "plt.show()"
   ]
  },
  {
   "cell_type": "code",
   "execution_count": 199,
   "id": "99a381fc",
   "metadata": {
    "scrolled": false
   },
   "outputs": [
    {
     "data": {
      "image/png": "[encoded data removed]",
      "text/plain": [
       "<Figure size 864x648 with 1 Axes>"
      ]
     },
     "metadata": {
      "needs_background": "light"
     },
     "output_type": "display_data"
    }
   ],
   "source": [
    "plt.figure(figsize=(12, 9))\n",
    "\n",
    "data_scaled = X_test.copy()\n",
    "data_scaled[\"Species\"] = y_test\n",
    "\n",
    "sns.scatterplot(data=data_scaled,\n",
    "                x=\"PetalLengthCm\",\n",
    "                y=\"PetalWidthCm\",\n",
    "                hue=\"Species\")\n",
    "\n",
    "\n",
    "x_support = np.linspace(data_scaled[\"PetalLengthCm\"].min(), \n",
    "                        data_scaled[\"PetalLengthCm\"].max(), 101)\n",
    "y_support = m_boundary*x_support + c_boundary\n",
    "\n",
    "plt.plot(x_support, y_support, \"--r\")\n",
    "# plt.set_ylim(-6, 6)\n",
    "\n",
    "plt.show()"
   ]
  }
 ],
 "metadata": {
  "kernelspec": {
   "display_name": "Python 3 (ipykernel)",
   "language": "python",
   "name": "python3"
  },
  "language_info": {
   "codemirror_mode": {
    "name": "ipython",
    "version": 3
   },
   "file_extension": ".py",
   "mimetype": "text/x-python",
   "name": "python",
   "nbconvert_exporter": "python",
   "pygments_lexer": "ipython3",
   "version": "3.9.12"
  }
 },
 "nbformat": 4,
 "nbformat_minor": 5
}
